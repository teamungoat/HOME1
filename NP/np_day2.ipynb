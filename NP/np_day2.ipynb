{
 "cells": [
  {
   "cell_type": "code",
   "execution_count": null,
   "id": "6c2195bb-0c17-4c0b-b464-f03be51e22a5",
   "metadata": {},
   "outputs": [],
   "source": [
    "import numpy as np"
   ]
  },
  {
   "cell_type": "code",
   "execution_count": null,
   "id": "c887453c-c1c1-4bcd-9a79-65ffa20754fd",
   "metadata": {},
   "outputs": [],
   "source": [
    "arr=np.array([1,2,3,4])"
   ]
  },
  {
   "cell_type": "code",
   "execution_count": null,
   "id": "5adbc5b6-812c-4e83-9239-95d65147464b",
   "metadata": {},
   "outputs": [],
   "source": [
    "arr.dtype"
   ]
  },
  {
   "cell_type": "code",
   "execution_count": null,
   "id": "e7961ddf-822d-43ae-ac18-00e29ae0373c",
   "metadata": {},
   "outputs": [],
   "source": [
    "type(arr[0])"
   ]
  },
  {
   "cell_type": "code",
   "execution_count": null,
   "id": "421ca4ec-f4f0-45ad-bb3c-09426aa3d483",
   "metadata": {},
   "outputs": [],
   "source": [
    "type(arr)"
   ]
  },
  {
   "cell_type": "code",
   "execution_count": null,
   "id": "f6dbb177-fc2d-4621-86e7-241c9aab3dd1",
   "metadata": {},
   "outputs": [],
   "source": [
    "arr=np.array(['APPLE', 'CHERRY', 'BANANA'])\n",
    "arr.dtype"
   ]
  },
  {
   "cell_type": "code",
   "execution_count": null,
   "id": "fdd7fe1d-e15e-4d99-92f9-df352ae4666c",
   "metadata": {},
   "outputs": [],
   "source": [
    "arr=np.array([1,2,3], dtype=np.float16)\n",
    "arr.dtype"
   ]
  },
  {
   "cell_type": "code",
   "execution_count": null,
   "id": "ad0461d5-948a-4224-8f62-c386a1e6d620",
   "metadata": {},
   "outputs": [],
   "source": [
    "arr=np.array([1,2,3], dtype=np.float32)\n",
    "arr.dtype"
   ]
  },
  {
   "cell_type": "code",
   "execution_count": null,
   "id": "1c6939fd-4c19-44c4-9cf4-5b71f370e379",
   "metadata": {},
   "outputs": [],
   "source": [
    "arr=np.array([1,2,3], dtype=np.int8)\n",
    "arr.dtype"
   ]
  },
  {
   "cell_type": "code",
   "execution_count": null,
   "id": "1c5c8b49-892e-4e4d-8ed0-245877a70d50",
   "metadata": {},
   "outputs": [],
   "source": [
    "arr=np.array([1,2,3], dtype='i2')\n",
    "arr"
   ]
  },
  {
   "cell_type": "code",
   "execution_count": null,
   "id": "6b938969-4d24-449a-9828-6ea2f5c4638f",
   "metadata": {},
   "outputs": [],
   "source": [
    "arr=np.array([1,2,3])\n",
    "arr\n",
    "arr.dtype"
   ]
  },
  {
   "cell_type": "code",
   "execution_count": null,
   "id": "5d3e9eab-1245-494b-8236-8ca76fa1a876",
   "metadata": {},
   "outputs": [],
   "source": [
    "farr=arr.astype(np.float32)\n",
    "farr"
   ]
  },
  {
   "cell_type": "code",
   "execution_count": null,
   "id": "6232d2c7-96a5-4d95-8f23-f32648ab446d",
   "metadata": {},
   "outputs": [],
   "source": [
    "myList=[1,2,'3']\n",
    "myList"
   ]
  },
  {
   "cell_type": "code",
   "execution_count": null,
   "id": "b3a80a9b-079d-4338-aae7-52df11796149",
   "metadata": {},
   "outputs": [],
   "source": [
    "type(myList)\n",
    "type(myList[0])\n"
   ]
  },
  {
   "cell_type": "code",
   "execution_count": null,
   "id": "1822c20e-dc65-4d11-bcd2-0d4d4ee2b436",
   "metadata": {},
   "outputs": [],
   "source": [
    "imyList=[1,2,3]\n",
    "cmyList=[1,2,'3']"
   ]
  },
  {
   "cell_type": "code",
   "execution_count": null,
   "id": "36c53ae5-1407-4fc7-947e-4339b283492b",
   "metadata": {},
   "outputs": [],
   "source": [
    "np.array(imyList)"
   ]
  },
  {
   "cell_type": "code",
   "execution_count": null,
   "id": "49c5bae7-598a-40e1-8b7f-1ac90eb67e40",
   "metadata": {},
   "outputs": [],
   "source": [
    "np.array(cmyList)"
   ]
  },
  {
   "cell_type": "code",
   "execution_count": null,
   "id": "7cab6fe9-1a2c-4170-b4e1-6cfe4f385851",
   "metadata": {},
   "outputs": [],
   "source": [
    "arr1=np.array(list(range(10,14))).reshape(2,2)\n",
    "arr2=np.array(list(range(10,14))).reshape(2,2)"
   ]
  },
  {
   "cell_type": "code",
   "execution_count": null,
   "id": "c9b0d01c-f2bc-47d6-8f3a-1afc2cf46e02",
   "metadata": {},
   "outputs": [],
   "source": [
    "arr1=np.array(list(range(10,14))).reshape(2,2)\n",
    "arr1"
   ]
  },
  {
   "cell_type": "code",
   "execution_count": null,
   "id": "5d07c110-469c-4eb2-a30d-12504dd9edcd",
   "metadata": {},
   "outputs": [],
   "source": [
    "arr2=np.array(list(range(13,17))).reshape(2,2)\n",
    "arr2"
   ]
  },
  {
   "cell_type": "code",
   "execution_count": null,
   "id": "d71b3586-4aa5-43d5-8af2-d0b7ab2236a8",
   "metadata": {},
   "outputs": [],
   "source": [
    "arr1>arr2"
   ]
  },
  {
   "cell_type": "code",
   "execution_count": null,
   "id": "cbfc4ea3-4591-4dc0-8be1-9f08bb80807a",
   "metadata": {},
   "outputs": [],
   "source": [
    "~(arr1==arr2) #~는 not 연산자"
   ]
  },
  {
   "cell_type": "code",
   "execution_count": null,
   "id": "33d92db6-564c-4115-a117-f5eabac3be20",
   "metadata": {},
   "outputs": [],
   "source": [
    "arr1!=arr2"
   ]
  },
  {
   "cell_type": "code",
   "execution_count": null,
   "id": "d7a081ac-5835-41e3-ac19-08e5b22c815f",
   "metadata": {},
   "outputs": [],
   "source": [
    "(~(arr1==arr2)) | (~(arr1!=arr2)) # 요소간 or 연산"
   ]
  },
  {
   "cell_type": "code",
   "execution_count": null,
   "id": "bb884489-38a2-4f8b-83aa-dcc234ecfb42",
   "metadata": {},
   "outputs": [],
   "source": [
    "np.arange(8)"
   ]
  },
  {
   "cell_type": "code",
   "execution_count": null,
   "id": "16405358-4171-460f-9b69-a9dda73b5fdd",
   "metadata": {},
   "outputs": [],
   "source": [
    "np.arange(8).reshape(2,2,2)"
   ]
  },
  {
   "cell_type": "code",
   "execution_count": null,
   "id": "c4bdbb3f-b6bb-488d-bced-b068c9cd44fa",
   "metadata": {},
   "outputs": [],
   "source": [
    "np.array(list(range(1,25))).reshape(2,3,4)"
   ]
  },
  {
   "cell_type": "code",
   "execution_count": null,
   "id": "41eed9ee-4700-42d6-8d44-d54f1703b36b",
   "metadata": {},
   "outputs": [],
   "source": [
    "np.arange(1,25).reshape(2,3,4)"
   ]
  },
  {
   "cell_type": "code",
   "execution_count": null,
   "id": "9c53591d-e215-472a-a3ad-7326e997a24f",
   "metadata": {},
   "outputs": [],
   "source": [
    "data=np.arange(200)\n",
    "data\n",
    "data2=data.reshape(4,-1)\n",
    "data2.shape"
   ]
  },
  {
   "cell_type": "code",
   "execution_count": null,
   "id": "61d06ac6-cc01-4fa7-9915-9ac0ca040b5b",
   "metadata": {},
   "outputs": [],
   "source": [
    "data.reshape(-1,5,10)"
   ]
  },
  {
   "cell_type": "code",
   "execution_count": null,
   "id": "93f58a90-3ad5-46aa-b4c7-860116014365",
   "metadata": {},
   "outputs": [],
   "source": [
    "np.arange(10,34,2).reshape(3,4)"
   ]
  },
  {
   "cell_type": "code",
   "execution_count": null,
   "id": "30b59498-7225-4d4b-9b59-f69810298c8a",
   "metadata": {},
   "outputs": [],
   "source": [
    "arr=np.array([1,2,3,4])\n",
    "idx=np.array([True,False,False,True])"
   ]
  },
  {
   "cell_type": "code",
   "execution_count": null,
   "id": "5938b953-507c-45e0-83ff-bf258cb10933",
   "metadata": {},
   "outputs": [],
   "source": [
    "arr[idx]"
   ]
  },
  {
   "cell_type": "code",
   "execution_count": null,
   "id": "f9a8ab95-52ef-4e6f-85ff-edba7cb8abbe",
   "metadata": {},
   "outputs": [],
   "source": [
    "arr==1"
   ]
  },
  {
   "cell_type": "code",
   "execution_count": null,
   "id": "9d61ba76-9b3c-4d7c-b10c-546385e96a2d",
   "metadata": {},
   "outputs": [],
   "source": [
    "np.min(arr)\n",
    "np.max(arr)"
   ]
  },
  {
   "cell_type": "code",
   "execution_count": null,
   "id": "c2354b02-afd6-4a83-ab7e-c4037eef3507",
   "metadata": {},
   "outputs": [],
   "source": [
    "arr[np.array([True, False, False, True])]"
   ]
  },
  {
   "cell_type": "code",
   "execution_count": null,
   "id": "9bdb116d-83cf-4557-b68e-a33dec0c0923",
   "metadata": {},
   "outputs": [],
   "source": [
    "arr[(arr==np.min(arr)) | (arr==np.max(arr))]"
   ]
  },
  {
   "cell_type": "code",
   "execution_count": null,
   "id": "af827bc6-177e-4d00-b204-f7d7bf036343",
   "metadata": {},
   "outputs": [],
   "source": [
    "arr=np.arange(11,21)"
   ]
  },
  {
   "cell_type": "code",
   "execution_count": 163,
   "id": "46c26fc9-183c-4166-9544-3917e870a63b",
   "metadata": {},
   "outputs": [],
   "source": [
    "arr=np.array(list(range(11,21)))"
   ]
  },
  {
   "cell_type": "code",
   "execution_count": 164,
   "id": "5de0eeb5-b96e-4dd0-b2cc-7a0329cb4e9e",
   "metadata": {},
   "outputs": [
    {
     "data": {
      "text/plain": [
       "array([1, 0, 1, 0, 1, 0, 1, 0, 1, 0], dtype=int32)"
      ]
     },
     "execution_count": 164,
     "metadata": {},
     "output_type": "execute_result"
    }
   ],
   "source": [
    "arr %2"
   ]
  },
  {
   "cell_type": "code",
   "execution_count": 165,
   "id": "8f01111a-6862-42c2-994d-361aa50b0e5d",
   "metadata": {},
   "outputs": [
    {
     "data": {
      "text/plain": [
       "array([False,  True, False,  True, False,  True, False,  True, False,\n",
       "        True])"
      ]
     },
     "execution_count": 165,
     "metadata": {},
     "output_type": "execute_result"
    }
   ],
   "source": [
    "arr % 2==0"
   ]
  },
  {
   "cell_type": "code",
   "execution_count": 166,
   "id": "c6098689-ef5e-45ed-8a96-d3394ab375fb",
   "metadata": {},
   "outputs": [
    {
     "data": {
      "text/plain": [
       "array([12, 14, 16, 18, 20])"
      ]
     },
     "execution_count": 166,
     "metadata": {},
     "output_type": "execute_result"
    }
   ],
   "source": [
    "arr[arr %2 ==0]"
   ]
  },
  {
   "cell_type": "code",
   "execution_count": 167,
   "id": "51217f34-dc02-4d53-a4c9-5653dc774918",
   "metadata": {},
   "outputs": [
    {
     "data": {
      "text/plain": [
       "array([12, 14])"
      ]
     },
     "execution_count": 167,
     "metadata": {},
     "output_type": "execute_result"
    }
   ],
   "source": [
    "arr[np.array([1,3])]"
   ]
  },
  {
   "cell_type": "code",
   "execution_count": 168,
   "id": "9ee0f3e6-5975-4629-8836-18f28aed132b",
   "metadata": {},
   "outputs": [],
   "source": [
    "idx=np.array([0,0,0,1,1,1,3,3,3])"
   ]
  },
  {
   "cell_type": "code",
   "execution_count": 169,
   "id": "5ee08b26-3b8b-4030-8ad3-5b0a7e8b1964",
   "metadata": {},
   "outputs": [
    {
     "data": {
      "text/plain": [
       "array([11, 11, 11, 12, 12, 12, 14, 14, 14])"
      ]
     },
     "execution_count": 169,
     "metadata": {},
     "output_type": "execute_result"
    }
   ],
   "source": [
    "arr[idx]"
   ]
  },
  {
   "cell_type": "code",
   "execution_count": null,
   "id": "896f8e90-676c-4198-b01c-c52b361f82cb",
   "metadata": {},
   "outputs": [],
   "source": [
    "arr=np.arange(10,40).reshape(5,-1)\n",
    "arr"
   ]
  },
  {
   "cell_type": "code",
   "execution_count": null,
   "id": "5010ad29-0b66-48bb-81d2-92bfea584b53",
   "metadata": {},
   "outputs": [],
   "source": [
    "arr[:]\n",
    "arr[:,:]\n",
    "arr[:,[True,True,True,False,False,False]]"
   ]
  },
  {
   "cell_type": "code",
   "execution_count": null,
   "id": "c319c7ac-d430-4bc8-8fb3-b99742dc891e",
   "metadata": {},
   "outputs": [],
   "source": [
    "arr[:,[True,False,True,False,True,False]]"
   ]
  },
  {
   "cell_type": "code",
   "execution_count": null,
   "id": "30920d1c-0628-486d-a20e-aa4f4021cc6f",
   "metadata": {},
   "outputs": [],
   "source": [
    "arr[:, idx]\n",
    "arr[:, [0, 2, 4]]\n",
    "arr[:, np.array([0, 2, 4])]\n",
    "arr[:, np.arange(0, 5, 2)]"
   ]
  },
  {
   "cell_type": "code",
   "execution_count": null,
   "id": "e866cbac-e69d-47fe-b3f1-ae14c7f3414d",
   "metadata": {},
   "outputs": [],
   "source": [
    "arr[[2,1,3]]"
   ]
  },
  {
   "cell_type": "code",
   "execution_count": null,
   "id": "652ecac1-971b-4cae-8b08-8af0b88e5efb",
   "metadata": {},
   "outputs": [],
   "source": [
    "np.arange(2,31,2).reshape(-1,3)"
   ]
  },
  {
   "cell_type": "code",
   "execution_count": null,
   "id": "524992ec-7a50-4dc6-b0ba-2bb45a022752",
   "metadata": {},
   "outputs": [],
   "source": [
    "np.linspace(0,10,5)"
   ]
  },
  {
   "cell_type": "code",
   "execution_count": null,
   "id": "abb66dac-f8c9-4a61-b0f3-90c7920c2bf8",
   "metadata": {},
   "outputs": [],
   "source": [
    "arr=np.arange(1,7).reshape(2,3)"
   ]
  },
  {
   "cell_type": "code",
   "execution_count": null,
   "id": "576cf989-a795-4f02-890a-730a14650c76",
   "metadata": {},
   "outputs": [],
   "source": [
    "arr.transpose()\n",
    "arr.T.T"
   ]
  },
  {
   "cell_type": "code",
   "execution_count": null,
   "id": "e0c49c60-7ef2-435c-a5f8-a9856702d6ef",
   "metadata": {},
   "outputs": [],
   "source": [
    "data=np.array([[1,5,0],\n",
    "              [5,3,2],\n",
    "              [1,2,0]])\n",
    "price=np.array([[1000],\n",
    "               [5000],\n",
    "               [8000]])"
   ]
  },
  {
   "cell_type": "code",
   "execution_count": null,
   "id": "5f62a0a3-6bb3-4b07-9ed1-3fb51a00d0f3",
   "metadata": {},
   "outputs": [],
   "source": [
    "data.dot(price)"
   ]
  },
  {
   "cell_type": "code",
   "execution_count": null,
   "id": "7deecf41-6c8d-47fc-b8ef-095216ab6024",
   "metadata": {},
   "outputs": [],
   "source": [
    "data@price"
   ]
  },
  {
   "cell_type": "code",
   "execution_count": null,
   "id": "aa004c23-3fd2-45f8-a47e-36813f8c8b0f",
   "metadata": {},
   "outputs": [],
   "source": []
  },
  {
   "cell_type": "code",
   "execution_count": null,
   "id": "6c14dcf8-69bc-4053-bf94-36224069efb9",
   "metadata": {},
   "outputs": [],
   "source": [
    "#1\n",
    "arr=np.arange(10,15)\n",
    "arr3=arr.copy()\n",
    "arr3"
   ]
  },
  {
   "cell_type": "code",
   "execution_count": null,
   "id": "4b2e5935-1d92-457f-a023-2da68fbbe6ae",
   "metadata": {},
   "outputs": [],
   "source": [
    "#2\n",
    "arr = np.array(list(range(0,30,2)))\n",
    "arr = np.arange(0,30,2)\n",
    "arr"
   ]
  },
  {
   "cell_type": "code",
   "execution_count": null,
   "id": "12990c5a-2f84-4c10-a2cd-bebf74a9a8f2",
   "metadata": {},
   "outputs": [],
   "source": [
    "#3\n",
    "arr = np.arange(10,90,10).reshape(2,4)\n",
    "arr"
   ]
  },
  {
   "cell_type": "code",
   "execution_count": null,
   "id": "90f3896c-f667-427e-8ed6-8168568d4c7e",
   "metadata": {},
   "outputs": [],
   "source": [
    "#4\n",
    "arr = np.arange(1,25).reshape(-1,3)\n",
    "arr"
   ]
  },
  {
   "cell_type": "code",
   "execution_count": null,
   "id": "09abfb01-b365-4e32-bd5e-5648d793dab9",
   "metadata": {},
   "outputs": [],
   "source": [
    "#5\n",
    "vector = np.array(range(0, 30, 2))\n",
    "vector[[12,3]]"
   ]
  },
  {
   "cell_type": "code",
   "execution_count": null,
   "id": "8422ca02-b1ba-4769-a114-2795130a8e80",
   "metadata": {},
   "outputs": [],
   "source": [
    "#6\n",
    "matrix = np.array([\n",
    "[1, 2, 3, 4],\n",
    "[5, 6, 7, 8],\n",
    "[9, 10, 11, 12],\n",
    "[13, 14, 15, 16]\n",
    "])\n",
    "matrix[1,3]\n",
    "matrix[0,1]\n",
    "matrix[2,0]\n",
    "matrix[3,2]"
   ]
  },
  {
   "cell_type": "code",
   "execution_count": null,
   "id": "0028c655-95c6-4782-b7aa-aaa9669f7b08",
   "metadata": {},
   "outputs": [],
   "source": [
    "#7\n",
    "arr= np.arange(-1,-6,-1)\n",
    "arr"
   ]
  },
  {
   "cell_type": "code",
   "execution_count": null,
   "id": "11460346-2475-4d9c-af87-685396d576a3",
   "metadata": {},
   "outputs": [],
   "source": [
    "#8\n",
    "x = np.array([1, 2, 3, 4, 5, 6, 7, 8, 9, 10,\n",
    "             11, 12, 13, 14, 15, 16, 17, 18, 19, 20])\n",
    "x[x%3==0]\n",
    "x[x%4==1]\n",
    "idx = x[(x%4==1) & (x% 3==0)]\n",
    "x[idx]"
   ]
  },
  {
   "cell_type": "code",
   "execution_count": 179,
   "id": "97ed8e60-1c55-4664-b640-8cea80fd0e98",
   "metadata": {},
   "outputs": [
    {
     "data": {
      "text/plain": [
       "array([[1, 3],\n",
       "       [4, 6],\n",
       "       [7, 9]])"
      ]
     },
     "execution_count": 179,
     "metadata": {},
     "output_type": "execute_result"
    }
   ],
   "source": [
    "#9\n",
    "arr2d = np.array([[1, 2, 3], [4, 5, 6], [7, 8, 9]])\n",
    "idx1 = np.array([1])\n",
    "arr2d[idx1]\n",
    "idx2= np.array([True, False, False])\n",
    "arr2d[idx2]\n",
    "arr2d[:,[True,False,True]]"
   ]
  },
  {
   "cell_type": "code",
   "execution_count": null,
   "id": "434f9ee1-f1d5-4645-be61-a708b7d484e9",
   "metadata": {},
   "outputs": [],
   "source": []
  },
  {
   "cell_type": "code",
   "execution_count": null,
   "id": "8618b819-be37-4e94-bfe2-70997dcae12e",
   "metadata": {},
   "outputs": [],
   "source": []
  }
 ],
 "metadata": {
  "kernelspec": {
   "display_name": "Python 3 (ipykernel)",
   "language": "python",
   "name": "python3"
  },
  "language_info": {
   "codemirror_mode": {
    "name": "ipython",
    "version": 3
   },
   "file_extension": ".py",
   "mimetype": "text/x-python",
   "name": "python",
   "nbconvert_exporter": "python",
   "pygments_lexer": "ipython3",
   "version": "3.11.7"
  }
 },
 "nbformat": 4,
 "nbformat_minor": 5
}
