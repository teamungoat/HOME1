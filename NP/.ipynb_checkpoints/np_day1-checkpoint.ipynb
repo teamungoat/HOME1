{
 "cells": [
  {
   "cell_type": "code",
   "execution_count": null,
   "id": "1e5b563c-75bc-445a-bb19-9ddd53d8dfd2",
   "metadata": {},
   "outputs": [],
   "source": [
    "pip list\n"
   ]
  },
  {
   "cell_type": "code",
   "execution_count": null,
   "id": "74e3286e-4b00-4315-adaf-3dd8c0c3c601",
   "metadata": {},
   "outputs": [],
   "source": [
    "import numpy as np"
   ]
  },
  {
   "cell_type": "code",
   "execution_count": null,
   "id": "4526d2d7-afc6-4034-9976-4659648efed2",
   "metadata": {},
   "outputs": [],
   "source": [
    "x=[10,20,30]"
   ]
  },
  {
   "cell_type": "code",
   "execution_count": null,
   "id": "1598e23f-879c-4500-ae9e-505dc601b3f8",
   "metadata": {},
   "outputs": [],
   "source": [
    "array_x=np.array(x)\n",
    "array_x"
   ]
  },
  {
   "cell_type": "code",
   "execution_count": null,
   "id": "52573d7e-80ae-4aea-a07f-fcc6b1e83c93",
   "metadata": {},
   "outputs": [],
   "source": [
    "import time\n",
    "s=time.time()\n",
    "data=list(range(1,10000000))\n",
    "ans=[]\n",
    "for d in data:\n",
    "    ans.append(d*2)\n",
    "e=time.time()\n",
    "print(e-s)"
   ]
  },
  {
   "cell_type": "code",
   "execution_count": null,
   "id": "625d94f0-d367-45b9-a0b7-3472cdab65bc",
   "metadata": {},
   "outputs": [],
   "source": [
    "arr_data=np.array(data)\n",
    "arr_data"
   ]
  },
  {
   "cell_type": "code",
   "execution_count": null,
   "id": "071fa2bb-b257-47b4-b9d8-47fa7a9830bd",
   "metadata": {},
   "outputs": [],
   "source": [
    "s=time.time()\n",
    "ans2=2*arr_data\n",
    "e=time.time()\n",
    "print(e-s)"
   ]
  },
  {
   "cell_type": "code",
   "execution_count": null,
   "id": "34bf8d33-82f7-4247-b927-603d9fea6035",
   "metadata": {},
   "outputs": [],
   "source": [
    "ans2"
   ]
  },
  {
   "cell_type": "code",
   "execution_count": null,
   "id": "50670a15-ea57-4ad7-90c8-06a23a8869d4",
   "metadata": {},
   "outputs": [],
   "source": [
    "even_num=[]\n",
    "odd_num=[]\n",
    "for i in range(1,101):\n",
    "    if i % 2==0:\n",
    "        even_num.append(i)\n",
    "    elif i % 2==1:\n",
    "        odd_num.append(i)\n"
   ]
  },
  {
   "cell_type": "code",
   "execution_count": null,
   "id": "9d3dea45-524f-4d32-93b2-fd8b4ea3aaa7",
   "metadata": {},
   "outputs": [],
   "source": [
    "for i in range(len(even_num)):\n",
    "    if even_num[i] > odd_num[i]:\n",
    "        print(even_num[i])\n",
    "    else:\n",
    "        print(odd_num[i])"
   ]
  },
  {
   "cell_type": "code",
   "execution_count": null,
   "id": "4968e223-8418-4dd6-8d3a-b72352905926",
   "metadata": {},
   "outputs": [],
   "source": [
    "a_even=np.array(even_num)\n",
    "a_odd=np.array(odd_num)"
   ]
  },
  {
   "cell_type": "code",
   "execution_count": null,
   "id": "b477400d-cc66-45b7-a6f9-86ba3b3b7335",
   "metadata": {},
   "outputs": [],
   "source": [
    "a_even+a_odd\n",
    "a_even>50\n",
    "a_even==10 \n",
    "(a_even>30) & (a_even%5==0)\n",
    "a_even #2,4...,100\n",
    "a_odd #1,3,...,99\n",
    "a_even[a_even>a_odd]"
   ]
  },
  {
   "cell_type": "code",
   "execution_count": null,
   "id": "761b04b7-32d6-4f33-9194-ff425db7c92d",
   "metadata": {},
   "outputs": [],
   "source": [
    "#0차원\n",
    "arr=np.array(10)\n",
    "arr"
   ]
  },
  {
   "cell_type": "code",
   "execution_count": null,
   "id": "e6971799-1f68-4d0e-b8b3-547e4ecaf981",
   "metadata": {},
   "outputs": [],
   "source": [
    "#1차원\n",
    "arr=np.array([10,20,30])"
   ]
  },
  {
   "cell_type": "code",
   "execution_count": null,
   "id": "386952d1-5407-42ac-8767-ea6a8c8e61d6",
   "metadata": {},
   "outputs": [],
   "source": [
    "#2차원\n",
    "arr=np.array([[10,20,30],[40,50,60]])\n",
    "arr\n",
    "len(arr)\n",
    "len(arr[0])"
   ]
  },
  {
   "cell_type": "code",
   "execution_count": 48,
   "id": "641cae1d-5d1f-4bc2-84e4-be6402a1acde",
   "metadata": {},
   "outputs": [
    {
     "data": {
      "text/plain": [
       "3"
      ]
     },
     "execution_count": 48,
     "metadata": {},
     "output_type": "execute_result"
    }
   ],
   "source": [
    "#3 차원 배열= 2차원 배열을 요소로 갖는 배열\n",
    "arr = np.array([[[1, 2, 3], [4, 5, 6]], [[1, 2, 3], [4, 5, 6]]])\n",
    "arr\n",
    "arr.ndim\n",
    "len(arr[0][0])"
   ]
  },
  {
   "cell_type": "code",
   "execution_count": 49,
   "id": "7ca2f584-4f23-4fa6-85c9-c5a36a81ed3d",
   "metadata": {},
   "outputs": [
    {
     "data": {
      "text/plain": [
       "array([[[ 1,  2,  3],\n",
       "        [ 4,  5,  6],\n",
       "        [ 7,  8,  9],\n",
       "        [10, 11, 12]],\n",
       "\n",
       "       [[13, 14, 15],\n",
       "        [16, 17, 18],\n",
       "        [19, 20, 21],\n",
       "        [22, 23, 24]]])"
      ]
     },
     "execution_count": 49,
     "metadata": {},
     "output_type": "execute_result"
    }
   ],
   "source": [
    "np.array([[[1,2,3],[4,5,6],[7,8,9],[10,11,12]],\n",
    "[[13,14,15],[16,17,18],[19,20,21],[22,23,24]]])"
   ]
  },
  {
   "cell_type": "code",
   "execution_count": 50,
   "id": "499c8997-4b08-40bb-ab3d-8b2c05210794",
   "metadata": {},
   "outputs": [
    {
     "data": {
      "text/plain": [
       "[[[1, 2, 3, 4], [5, 6, 7, 8], [9, 10, 11, 12]],\n",
       " [[13, 14, 15, 16], [17, 18, 19, 20], [21, 22, 23, 24]]]"
      ]
     },
     "execution_count": 50,
     "metadata": {},
     "output_type": "execute_result"
    }
   ],
   "source": [
    "lst = list(range(1,25))\n",
    "res = []\n",
    "for i in range(1,3):\n",
    "    arr1 = []\n",
    "    for j in range(1,4):\n",
    "        arr2 = []\n",
    "        for k in range(1,5):\n",
    "            arr2.append(lst[0])\n",
    "            del lst[0]\n",
    "        arr1.append(arr2)\n",
    "    res.append(arr1)\n",
    "res"
   ]
  },
  {
   "cell_type": "code",
   "execution_count": 51,
   "id": "62a3387c-841d-470c-a50e-c97156cc9bf2",
   "metadata": {},
   "outputs": [
    {
     "data": {
      "text/plain": [
       "array([[[ 1,  2,  3,  4],\n",
       "        [ 5,  6,  7,  8],\n",
       "        [ 9, 10, 11, 12]],\n",
       "\n",
       "       [[13, 14, 15, 16],\n",
       "        [17, 18, 19, 20],\n",
       "        [21, 22, 23, 24]]])"
      ]
     },
     "execution_count": 51,
     "metadata": {},
     "output_type": "execute_result"
    }
   ],
   "source": [
    "arr = np.array([ [ [n for n in range(1, 5)], [n for n in range(5, 9)], [n for n in range(9, 13)] ], [ [n for n in range(13, 17)], [n for n in range(17, 21)], [n for n in range(21, 25)] ] ])\n",
    "arr"
   ]
  },
  {
   "cell_type": "code",
   "execution_count": 55,
   "id": "1ba9db11-7a94-43ac-b0a9-3905fc07bf9e",
   "metadata": {},
   "outputs": [
    {
     "data": {
      "text/plain": [
       "array([ 1,  2,  3,  4,  5,  6,  7,  8,  9, 10, 11, 12, 13, 14, 15, 16, 17,\n",
       "       18, 19, 20, 21, 22, 23, 24])"
      ]
     },
     "execution_count": 55,
     "metadata": {},
     "output_type": "execute_result"
    }
   ],
   "source": [
    "arr=np.array(list(range(1,25)))\n",
    "arr"
   ]
  },
  {
   "cell_type": "code",
   "execution_count": 57,
   "id": "9cc082bb-d47a-4c10-a10e-b03a48fd0027",
   "metadata": {},
   "outputs": [
    {
     "data": {
      "text/plain": [
       "array([[[ 1,  2,  3,  4],\n",
       "        [ 5,  6,  7,  8],\n",
       "        [ 9, 10, 11, 12]],\n",
       "\n",
       "       [[13, 14, 15, 16],\n",
       "        [17, 18, 19, 20],\n",
       "        [21, 22, 23, 24]]])"
      ]
     },
     "execution_count": 57,
     "metadata": {},
     "output_type": "execute_result"
    }
   ],
   "source": [
    "arr_re=arr.reshape(2,3,4)\n",
    "arr_re"
   ]
  },
  {
   "cell_type": "raw",
   "id": "eeb9b861-c37c-4d9d-a2a6-9b7251f56198",
   "metadata": {},
   "source": []
  },
  {
   "cell_type": "code",
   "execution_count": 58,
   "id": "53bd6d9e-d879-4325-8bc4-d618b361ae11",
   "metadata": {},
   "outputs": [
    {
     "data": {
      "text/plain": [
       "1"
      ]
     },
     "execution_count": 58,
     "metadata": {},
     "output_type": "execute_result"
    }
   ],
   "source": [
    "arr.ndim"
   ]
  },
  {
   "cell_type": "code",
   "execution_count": 60,
   "id": "80c525ad-2b4d-4f24-b484-dc195ab0cf0c",
   "metadata": {},
   "outputs": [
    {
     "data": {
      "text/plain": [
       "(2, 3, 4)"
      ]
     },
     "execution_count": 60,
     "metadata": {},
     "output_type": "execute_result"
    }
   ],
   "source": [
    "arr_re.shape"
   ]
  },
  {
   "cell_type": "code",
   "execution_count": 62,
   "id": "9bc18d0a-3dd0-4cad-8cf8-d014b7d8dc47",
   "metadata": {},
   "outputs": [
    {
     "data": {
      "text/plain": [
       "array([1, 2, 3, 4])"
      ]
     },
     "execution_count": 62,
     "metadata": {},
     "output_type": "execute_result"
    }
   ],
   "source": [
    "arr=np.array([1,2,3,4,])\n",
    "arr"
   ]
  },
  {
   "cell_type": "code",
   "execution_count": 63,
   "id": "739a0b45-dd42-4316-afd3-b2509b3ad864",
   "metadata": {},
   "outputs": [
    {
     "data": {
      "text/plain": [
       "7"
      ]
     },
     "execution_count": 63,
     "metadata": {},
     "output_type": "execute_result"
    }
   ],
   "source": [
    "arr[2]+arr[3]"
   ]
  },
  {
   "cell_type": "code",
   "execution_count": 64,
   "id": "65489065-4480-45d2-9fa4-073677adaf41",
   "metadata": {},
   "outputs": [
    {
     "data": {
      "text/plain": [
       "4"
      ]
     },
     "execution_count": 64,
     "metadata": {},
     "output_type": "execute_result"
    }
   ],
   "source": [
    "arr[-1]"
   ]
  },
  {
   "cell_type": "code",
   "execution_count": 65,
   "id": "3768aa0e-0bfe-461f-a531-bdb5d5d33964",
   "metadata": {},
   "outputs": [
    {
     "data": {
      "text/plain": [
       "array([[11, 12, 13, 14, 15],\n",
       "       [16, 17, 18, 19, 20]])"
      ]
     },
     "execution_count": 65,
     "metadata": {},
     "output_type": "execute_result"
    }
   ],
   "source": [
    "arr=np.array(list(range(11,21)))\n",
    "arr_re=arr.reshape(2,5)\n",
    "arr_re"
   ]
  },
  {
   "cell_type": "code",
   "execution_count": 66,
   "id": "1e57920d-12f0-49a0-ad7d-0e5be08c4664",
   "metadata": {},
   "outputs": [],
   "source": [
    "arr = np.array([list(range(11,16)), list(range(16,21))])"
   ]
  },
  {
   "cell_type": "code",
   "execution_count": 67,
   "id": "3f35dc77-2fab-4c96-805c-e950073cbcc1",
   "metadata": {},
   "outputs": [
    {
     "data": {
      "text/plain": [
       "array([[11, 12, 13, 14, 15],\n",
       "       [16, 17, 18, 19, 20]])"
      ]
     },
     "execution_count": 67,
     "metadata": {},
     "output_type": "execute_result"
    }
   ],
   "source": [
    "arr=np.array(list(range(11,21))).reshape(2,5)\n",
    "arr"
   ]
  },
  {
   "cell_type": "code",
   "execution_count": 68,
   "id": "3c83bfca-0203-4392-8e51-584cab71b2ed",
   "metadata": {},
   "outputs": [
    {
     "data": {
      "text/plain": [
       "array([16, 17, 18, 19, 20])"
      ]
     },
     "execution_count": 68,
     "metadata": {},
     "output_type": "execute_result"
    }
   ],
   "source": [
    "arr[1]"
   ]
  },
  {
   "cell_type": "code",
   "execution_count": 69,
   "id": "3852b983-222a-4622-b6f3-4500e870b156",
   "metadata": {},
   "outputs": [
    {
     "data": {
      "text/plain": [
       "19"
      ]
     },
     "execution_count": 69,
     "metadata": {},
     "output_type": "execute_result"
    }
   ],
   "source": [
    "arr[1,3]"
   ]
  },
  {
   "cell_type": "code",
   "execution_count": 70,
   "id": "3fd2e5fb-f4a7-45b9-93cb-53a2db2af74f",
   "metadata": {},
   "outputs": [
    {
     "data": {
      "text/plain": [
       "array([16, 17, 18, 19, 20])"
      ]
     },
     "execution_count": 70,
     "metadata": {},
     "output_type": "execute_result"
    }
   ],
   "source": [
    "arr[-1]"
   ]
  },
  {
   "cell_type": "code",
   "execution_count": 78,
   "id": "67ba1001-6cad-42da-a63e-95fa821dcd75",
   "metadata": {},
   "outputs": [
    {
     "data": {
      "text/plain": [
       "array([[[ 1,  2,  3],\n",
       "        [ 4,  5,  6]],\n",
       "\n",
       "       [[ 7,  8,  9],\n",
       "        [10, 11, 12]]])"
      ]
     },
     "execution_count": 78,
     "metadata": {},
     "output_type": "execute_result"
    }
   ],
   "source": [
    "arr=np.array(list(range(1,13))).reshape(2,2,3)\n",
    "arr"
   ]
  },
  {
   "cell_type": "code",
   "execution_count": 82,
   "id": "dbdb2075-75c4-4eca-b3b5-53b747acf0ff",
   "metadata": {},
   "outputs": [
    {
     "data": {
      "text/plain": [
       "6"
      ]
     },
     "execution_count": 82,
     "metadata": {},
     "output_type": "execute_result"
    }
   ],
   "source": [
    "arr[0,1,2]"
   ]
  },
  {
   "cell_type": "code",
   "execution_count": 83,
   "id": "d280dd8b-483e-433a-822e-4ecccf8e783b",
   "metadata": {},
   "outputs": [],
   "source": [
    "arr=np.array(list(range(1,8)))"
   ]
  },
  {
   "cell_type": "code",
   "execution_count": 84,
   "id": "7d5d47a4-31c5-4f10-a4fd-770d0411896b",
   "metadata": {},
   "outputs": [
    {
     "data": {
      "text/plain": [
       "array([1, 2, 3, 4, 5, 6, 7])"
      ]
     },
     "execution_count": 84,
     "metadata": {},
     "output_type": "execute_result"
    }
   ],
   "source": [
    "arr"
   ]
  },
  {
   "cell_type": "code",
   "execution_count": 85,
   "id": "bb64fa61-7c99-47d9-a6a0-8537e0add5db",
   "metadata": {},
   "outputs": [
    {
     "data": {
      "text/plain": [
       "array([2, 3, 4, 5])"
      ]
     },
     "execution_count": 85,
     "metadata": {},
     "output_type": "execute_result"
    }
   ],
   "source": [
    "arr[1:5]"
   ]
  },
  {
   "cell_type": "code",
   "execution_count": 86,
   "id": "940c227b-a94f-4ef0-b413-72e8c7da460e",
   "metadata": {},
   "outputs": [
    {
     "data": {
      "text/plain": [
       "array([4, 5, 6, 7])"
      ]
     },
     "execution_count": 86,
     "metadata": {},
     "output_type": "execute_result"
    }
   ],
   "source": [
    "arr[3:]"
   ]
  },
  {
   "cell_type": "code",
   "execution_count": 89,
   "id": "8ac64e1c-25ce-4da3-bbdf-df01f9d5ada5",
   "metadata": {},
   "outputs": [
    {
     "data": {
      "text/plain": [
       "array([1, 2, 3])"
      ]
     },
     "execution_count": 89,
     "metadata": {},
     "output_type": "execute_result"
    }
   ],
   "source": [
    "arr[:3]"
   ]
  },
  {
   "cell_type": "code",
   "execution_count": 90,
   "id": "0ed93e34-f018-4d83-8b08-9457f8f258e4",
   "metadata": {},
   "outputs": [
    {
     "data": {
      "text/plain": [
       "array([5, 6, 7])"
      ]
     },
     "execution_count": 90,
     "metadata": {},
     "output_type": "execute_result"
    }
   ],
   "source": [
    "arr[-3:]"
   ]
  },
  {
   "cell_type": "code",
   "execution_count": 92,
   "id": "5a10de3e-b4b9-4e23-87d3-cf83a7688e7b",
   "metadata": {},
   "outputs": [
    {
     "data": {
      "text/plain": [
       "array([3, 4, 5])"
      ]
     },
     "execution_count": 92,
     "metadata": {},
     "output_type": "execute_result"
    }
   ],
   "source": [
    "arr[-5:-2]"
   ]
  },
  {
   "cell_type": "code",
   "execution_count": 94,
   "id": "34f64346-d636-457b-8b0f-c3f6d6b4427e",
   "metadata": {},
   "outputs": [
    {
     "data": {
      "text/plain": [
       "array([1, 2, 3, 4, 5, 6, 7])"
      ]
     },
     "execution_count": 94,
     "metadata": {},
     "output_type": "execute_result"
    }
   ],
   "source": [
    "arr[:]\n",
    "arr[::]\n",
    "arr[::1]"
   ]
  },
  {
   "cell_type": "code",
   "execution_count": 95,
   "id": "4e98aef8-a472-4a7d-927f-a32b3f8a913f",
   "metadata": {},
   "outputs": [
    {
     "data": {
      "text/plain": [
       "array([[ 1,  2,  3,  4,  5],\n",
       "       [ 6,  7,  8,  9, 10]])"
      ]
     },
     "execution_count": 95,
     "metadata": {},
     "output_type": "execute_result"
    }
   ],
   "source": [
    "arr=np.array(list(range(1,11))).reshape(2,5)\n",
    "arr"
   ]
  },
  {
   "cell_type": "code",
   "execution_count": 98,
   "id": "bc2d9299-b4ae-48bb-b487-b1c19cad37b3",
   "metadata": {},
   "outputs": [
    {
     "data": {
      "text/plain": [
       "array([7, 8, 9])"
      ]
     },
     "execution_count": 98,
     "metadata": {},
     "output_type": "execute_result"
    }
   ],
   "source": [
    "arr[1][1:4]"
   ]
  },
  {
   "cell_type": "code",
   "execution_count": 99,
   "id": "5392d897-bb91-4410-88d0-ffac5a952ac7",
   "metadata": {},
   "outputs": [
    {
     "data": {
      "text/plain": [
       "array([[11, 12, 13, 14, 15],\n",
       "       [16, 17, 18, 19, 20],\n",
       "       [21, 22, 23, 24, 25],\n",
       "       [26, 27, 28, 29, 30],\n",
       "       [31, 32, 33, 34, 35],\n",
       "       [36, 37, 38, 39, 40]])"
      ]
     },
     "execution_count": 99,
     "metadata": {},
     "output_type": "execute_result"
    }
   ],
   "source": [
    "arr=np.array(list(range(11,41))).reshape(6,5)\n",
    "arr"
   ]
  },
  {
   "cell_type": "code",
   "execution_count": 101,
   "id": "fd7851e0-5ad1-4897-8e61-0ad6edba3bc3",
   "metadata": {},
   "outputs": [
    {
     "data": {
      "text/plain": [
       "array([21, 22, 23])"
      ]
     },
     "execution_count": 101,
     "metadata": {},
     "output_type": "execute_result"
    }
   ],
   "source": [
    "arr[4,3]\n",
    "arr[2][:3]"
   ]
  },
  {
   "cell_type": "code",
   "execution_count": 104,
   "id": "cca38d67-5d0a-4302-a7e8-d1f103ab53d2",
   "metadata": {},
   "outputs": [
    {
     "data": {
      "text/plain": [
       "array([[17, 18, 19],\n",
       "       [22, 23, 24]])"
      ]
     },
     "execution_count": 104,
     "metadata": {},
     "output_type": "execute_result"
    }
   ],
   "source": [
    "arr[1:3,1:4]"
   ]
  },
  {
   "cell_type": "code",
   "execution_count": 107,
   "id": "1fcda5e0-2692-46da-87e2-8eed0dc0ce06",
   "metadata": {},
   "outputs": [
    {
     "name": "stdout",
     "output_type": "stream",
     "text": [
      "Collecting finance-datareader\n",
      "  Downloading finance_datareader-0.9.90-py3-none-any.whl.metadata (466 bytes)\n",
      "Requirement already satisfied: pandas>=0.19.2 in c:\\users\\oh\\anaconda3\\lib\\site-packages (from finance-datareader) (2.1.4)\n",
      "Requirement already satisfied: requests>=2.3.0 in c:\\users\\oh\\anaconda3\\lib\\site-packages (from finance-datareader) (2.31.0)\n",
      "Requirement already satisfied: requests-file in c:\\users\\oh\\anaconda3\\lib\\site-packages (from finance-datareader) (1.5.1)\n",
      "Requirement already satisfied: lxml in c:\\users\\oh\\anaconda3\\lib\\site-packages (from finance-datareader) (4.9.3)\n",
      "Requirement already satisfied: tqdm in c:\\users\\oh\\anaconda3\\lib\\site-packages (from finance-datareader) (4.65.0)\n",
      "Requirement already satisfied: numpy<2,>=1.23.2 in c:\\users\\oh\\anaconda3\\lib\\site-packages (from pandas>=0.19.2->finance-datareader) (1.26.4)\n",
      "Requirement already satisfied: python-dateutil>=2.8.2 in c:\\users\\oh\\anaconda3\\lib\\site-packages (from pandas>=0.19.2->finance-datareader) (2.8.2)\n",
      "Requirement already satisfied: pytz>=2020.1 in c:\\users\\oh\\anaconda3\\lib\\site-packages (from pandas>=0.19.2->finance-datareader) (2023.3.post1)\n",
      "Requirement already satisfied: tzdata>=2022.1 in c:\\users\\oh\\anaconda3\\lib\\site-packages (from pandas>=0.19.2->finance-datareader) (2023.3)\n",
      "Requirement already satisfied: charset-normalizer<4,>=2 in c:\\users\\oh\\anaconda3\\lib\\site-packages (from requests>=2.3.0->finance-datareader) (2.0.4)\n",
      "Requirement already satisfied: idna<4,>=2.5 in c:\\users\\oh\\anaconda3\\lib\\site-packages (from requests>=2.3.0->finance-datareader) (3.4)\n",
      "Requirement already satisfied: urllib3<3,>=1.21.1 in c:\\users\\oh\\anaconda3\\lib\\site-packages (from requests>=2.3.0->finance-datareader) (2.0.7)\n",
      "Requirement already satisfied: certifi>=2017.4.17 in c:\\users\\oh\\anaconda3\\lib\\site-packages (from requests>=2.3.0->finance-datareader) (2024.2.2)\n",
      "Requirement already satisfied: six in c:\\users\\oh\\anaconda3\\lib\\site-packages (from requests-file->finance-datareader) (1.16.0)\n",
      "Requirement already satisfied: colorama in c:\\users\\oh\\anaconda3\\lib\\site-packages (from tqdm->finance-datareader) (0.4.6)\n",
      "Downloading finance_datareader-0.9.90-py3-none-any.whl (46 kB)\n",
      "   ---------------------------------------- 0.0/46.6 kB ? eta -:--:--\n",
      "   -------- ------------------------------- 10.2/46.6 kB ? eta -:--:--\n",
      "   -------------------------- ------------- 30.7/46.6 kB 435.7 kB/s eta 0:00:01\n",
      "   ----------------------------------- ---- 41.0/46.6 kB 487.6 kB/s eta 0:00:01\n",
      "   ----------------------------------- ---- 41.0/46.6 kB 487.6 kB/s eta 0:00:01\n",
      "   ----------------------------------- ---- 41.0/46.6 kB 487.6 kB/s eta 0:00:01\n",
      "   ----------------------------------- ---- 41.0/46.6 kB 487.6 kB/s eta 0:00:01\n",
      "   ---------------------------------------- 46.6/46.6 kB 136.8 kB/s eta 0:00:00\n",
      "Installing collected packages: finance-datareader\n",
      "Successfully installed finance-datareader-0.9.90\n",
      "Note: you may need to restart the kernel to use updated packages.\n"
     ]
    }
   ],
   "source": [
    "pip install -U finance-datareader"
   ]
  },
  {
   "cell_type": "code",
   "execution_count": 116,
   "id": "6b827210-e02b-45c5-ad8d-95992eef03f5",
   "metadata": {
    "scrolled": true
   },
   "outputs": [],
   "source": [
    "kakao_arr=np.loadtxt(\"kakao.csv\",skiprows=1,dtype=np.float32,delimiter=\",\")"
   ]
  },
  {
   "cell_type": "code",
   "execution_count": 117,
   "id": "fc554f11-628c-4a9b-acf7-29a63385229a",
   "metadata": {},
   "outputs": [
    {
     "data": {
      "text/plain": [
       "array([[  58000.   ,   58900.   ,   57800.   ,   58300.   ,   58237.387,\n",
       "        1047114.   ],\n",
       "       [  57200.   ,   57500.   ,   56000.   ,   57200.   ,   57138.57 ,\n",
       "        2288474.   ],\n",
       "       [  57500.   ,   58200.   ,   57100.   ,   57700.   ,   57638.03 ,\n",
       "        1821528.   ],\n",
       "       [  57800.   ,   58700.   ,   57300.   ,   57500.   ,   57438.246,\n",
       "        1412568.   ],\n",
       "       [  57100.   ,   57300.   ,   56300.   ,   56500.   ,   56439.32 ,\n",
       "        1364811.   ]], dtype=float32)"
      ]
     },
     "execution_count": 117,
     "metadata": {},
     "output_type": "execute_result"
    }
   ],
   "source": [
    "kakao_arr[:5]"
   ]
  },
  {
   "cell_type": "code",
   "execution_count": null,
   "id": "73be7fbe-41fc-46e3-8556-2fc07b23fa9f",
   "metadata": {},
   "outputs": [],
   "source": []
  }
 ],
 "metadata": {
  "kernelspec": {
   "display_name": "Python 3 (ipykernel)",
   "language": "python",
   "name": "python3"
  },
  "language_info": {
   "codemirror_mode": {
    "name": "ipython",
    "version": 3
   },
   "file_extension": ".py",
   "mimetype": "text/x-python",
   "name": "python",
   "nbconvert_exporter": "python",
   "pygments_lexer": "ipython3",
   "version": "3.11.7"
  }
 },
 "nbformat": 4,
 "nbformat_minor": 5
}
