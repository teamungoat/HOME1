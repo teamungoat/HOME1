{
 "cells": [
  {
   "cell_type": "code",
   "execution_count": 1,
   "id": "a0d95dec-ecd9-4242-9f99-3811ef2daebd",
   "metadata": {},
   "outputs": [],
   "source": [
    "import numpy as np"
   ]
  },
  {
   "cell_type": "code",
   "execution_count": 2,
   "id": "0b96e6ca-f42c-47c8-be57-ccdf5713a34b",
   "metadata": {},
   "outputs": [
    {
     "data": {
      "text/plain": [
       "0.8786419209105084"
      ]
     },
     "execution_count": 2,
     "metadata": {},
     "output_type": "execute_result"
    }
   ],
   "source": [
    "np.random.rand()"
   ]
  },
  {
   "cell_type": "code",
   "execution_count": 5,
   "id": "3a06e274-9752-4c60-9f44-748154fff9cb",
   "metadata": {},
   "outputs": [],
   "source": [
    "np.random.seed(20240510)"
   ]
  },
  {
   "cell_type": "code",
   "execution_count": 7,
   "id": "9c69f5c1-17d4-42cf-bf11-72f6ae364e69",
   "metadata": {},
   "outputs": [
    {
     "data": {
      "text/plain": [
       "array([0.63551756, 0.67221731, 0.8370985 , 0.3230404 , 0.66728613,\n",
       "       0.99852928, 0.95145872, 0.36059922, 0.68687786, 0.21542222])"
      ]
     },
     "execution_count": 7,
     "metadata": {},
     "output_type": "execute_result"
    }
   ],
   "source": [
    "np.random.rand(10)"
   ]
  },
  {
   "cell_type": "code",
   "execution_count": 13,
   "id": "5345338e-38f3-41ab-b469-986bbd7dd8ce",
   "metadata": {},
   "outputs": [],
   "source": [
    "x=np.arange(11,15)"
   ]
  },
  {
   "cell_type": "code",
   "execution_count": 9,
   "id": "2ddf6ff5-b9b9-449a-872f-3e79e5234155",
   "metadata": {},
   "outputs": [],
   "source": [
    "np.random.shuffle(x)"
   ]
  },
  {
   "cell_type": "code",
   "execution_count": 10,
   "id": "8c3ad7f5-eade-4838-ba0d-ca1bbb4a649c",
   "metadata": {},
   "outputs": [
    {
     "data": {
      "text/plain": [
       "array([9, 3, 4, 6, 5, 0, 7, 1, 2, 8])"
      ]
     },
     "execution_count": 10,
     "metadata": {},
     "output_type": "execute_result"
    }
   ],
   "source": [
    "x"
   ]
  },
  {
   "cell_type": "code",
   "execution_count": 21,
   "id": "2617a6a5-2a2d-460a-878b-136eff9de2a7",
   "metadata": {},
   "outputs": [
    {
     "data": {
      "text/plain": [
       "array([0, 1, 4])"
      ]
     },
     "execution_count": 21,
     "metadata": {},
     "output_type": "execute_result"
    }
   ],
   "source": [
    "np.random.choice(5,3,False)"
   ]
  },
  {
   "cell_type": "code",
   "execution_count": 14,
   "id": "ee6c08bb-6ed8-4ddf-a7c9-9cc5f04e2450",
   "metadata": {},
   "outputs": [
    {
     "data": {
      "text/plain": [
       "11"
      ]
     },
     "execution_count": 14,
     "metadata": {},
     "output_type": "execute_result"
    }
   ],
   "source": [
    "np.random.choice(x)"
   ]
  },
  {
   "cell_type": "code",
   "execution_count": 25,
   "id": "4f1f1c4a-fdf7-45ae-9f94-902b49fa5a7a",
   "metadata": {},
   "outputs": [
    {
     "data": {
      "text/plain": [
       "array([2, 2, 3, 2])"
      ]
     },
     "execution_count": 25,
     "metadata": {},
     "output_type": "execute_result"
    }
   ],
   "source": [
    "np.random.choice(5,4, p=[0.1, 0, 0.3, 0.6, 0])"
   ]
  },
  {
   "cell_type": "code",
   "execution_count": 26,
   "id": "a14f5c21-90b6-4531-9e77-2babf3e92ead",
   "metadata": {},
   "outputs": [
    {
     "data": {
      "text/plain": [
       "0.5201259014354611"
      ]
     },
     "execution_count": 26,
     "metadata": {},
     "output_type": "execute_result"
    }
   ],
   "source": [
    "np.random.rand()"
   ]
  },
  {
   "cell_type": "code",
   "execution_count": 28,
   "id": "97078d5a-2e91-468f-9a7b-e670fe8ba519",
   "metadata": {},
   "outputs": [
    {
     "data": {
      "text/plain": [
       "0.03377173721967498"
      ]
     },
     "execution_count": 28,
     "metadata": {},
     "output_type": "execute_result"
    }
   ],
   "source": [
    "np.random.randn()"
   ]
  },
  {
   "cell_type": "code",
   "execution_count": 30,
   "id": "51f4a5a6-c269-4ffa-a70c-2e35cdfc0afc",
   "metadata": {},
   "outputs": [
    {
     "data": {
      "text/plain": [
       "0"
      ]
     },
     "execution_count": 30,
     "metadata": {},
     "output_type": "execute_result"
    }
   ],
   "source": [
    "np.random.randint(5)"
   ]
  },
  {
   "cell_type": "code",
   "execution_count": 31,
   "id": "22c108f9-6846-4f04-944e-ad7c6582d162",
   "metadata": {},
   "outputs": [],
   "source": [
    "data=np.random.randint(5,11,size=10)"
   ]
  },
  {
   "cell_type": "code",
   "execution_count": 32,
   "id": "66b7cdb2-385c-48b6-8dfe-38c0940137ad",
   "metadata": {},
   "outputs": [
    {
     "data": {
      "text/plain": [
       "array([ 5, 10,  6, 10,  5,  6,  9,  9, 10,  5])"
      ]
     },
     "execution_count": 32,
     "metadata": {},
     "output_type": "execute_result"
    }
   ],
   "source": [
    "data"
   ]
  },
  {
   "cell_type": "code",
   "execution_count": 33,
   "id": "bfd5b420-674f-498b-9004-945c54d0fd34",
   "metadata": {},
   "outputs": [
    {
     "data": {
      "text/plain": [
       "array([ 5,  6,  9, 10])"
      ]
     },
     "execution_count": 33,
     "metadata": {},
     "output_type": "execute_result"
    }
   ],
   "source": [
    "np.unique(data)"
   ]
  },
  {
   "cell_type": "code",
   "execution_count": 34,
   "id": "532b576e-d94e-4955-8897-f8596d1df88e",
   "metadata": {},
   "outputs": [
    {
     "data": {
      "text/plain": [
       "(array([ 5,  6,  9, 10]), array([3, 2, 2, 3], dtype=int64))"
      ]
     },
     "execution_count": 34,
     "metadata": {},
     "output_type": "execute_result"
    }
   ],
   "source": [
    "np.unique(data, return_counts=True)"
   ]
  },
  {
   "cell_type": "code",
   "execution_count": 37,
   "id": "bce7315b-57e7-4db5-b34a-c030f4b02f25",
   "metadata": {},
   "outputs": [
    {
     "data": {
      "text/plain": [
       "array([0, 0, 0, 0, 0, 3, 2, 0, 0, 2, 3], dtype=int64)"
      ]
     },
     "execution_count": 37,
     "metadata": {},
     "output_type": "execute_result"
    }
   ],
   "source": [
    "np.bincount(data,minlength=11)"
   ]
  },
  {
   "cell_type": "code",
   "execution_count": 41,
   "id": "de7a08e1-bd6a-45fd-9989-b0ffba6c957a",
   "metadata": {},
   "outputs": [
    {
     "name": "stdout",
     "output_type": "stream",
     "text": [
      "[[40, 42, 5, 37, 41, 35], [14, 44, 25, 35, 40, 6], [16, 32, 25, 4, 41, 31], [29, 38, 15, 39, 7, 42], [9, 35, 3, 41, 1, 36], [25, 2, 18, 9, 32, 34]]\n"
     ]
    }
   ],
   "source": [
    "five_lotto_num=[]\n",
    "for _ in range(6):\n",
    "    lotto_num=[]\n",
    "    while len(lotto_num)<6:\n",
    "        nums=np.random.randint(1,45)\n",
    "        if nums not in lotto_num:\n",
    "            lotto_num.append(nums)\n",
    "    five_lotto_num.append(lotto_num)\n",
    "print(five_lotto_num)\n",
    "    "
   ]
  },
  {
   "cell_type": "code",
   "execution_count": 43,
   "id": "ce272bb2-d678-49c8-bc9e-ac56deba35d1",
   "metadata": {},
   "outputs": [
    {
     "name": "stdout",
     "output_type": "stream",
     "text": [
      "3.514851485148515\n"
     ]
    }
   ],
   "source": [
    "res=[]\n",
    "for _ in range(101):\n",
    "    num=np.random.randint(1,7)\n",
    "    res.append(num)\n",
    "print(np.mean(res))\n",
    "    "
   ]
  },
  {
   "cell_type": "code",
   "execution_count": 44,
   "id": "8807958f-ef00-4785-abae-b65384b99f4b",
   "metadata": {},
   "outputs": [
    {
     "name": "stdout",
     "output_type": "stream",
     "text": [
      "[0 0 0 1 1 0 0 1 1 1]\n"
     ]
    }
   ],
   "source": [
    "# 동전\n",
    "arr = np.array([0, 1])\n",
    "print(np.random.choice(arr, 10))\n"
   ]
  },
  {
   "cell_type": "code",
   "execution_count": 45,
   "id": "d31d26f8-7e86-443a-b407-cc144a073ec9",
   "metadata": {},
   "outputs": [
    {
     "name": "stdout",
     "output_type": "stream",
     "text": [
      "3\n"
     ]
    }
   ],
   "source": [
    "# 주사위\n",
    "arr = np.arange(1, 7)\n",
    "arr2 = np.random.choice(arr, 100)\n",
    "print(int(np.mean(arr2)))"
   ]
  },
  {
   "cell_type": "code",
   "execution_count": 46,
   "id": "545da83d-10ff-409d-9ca4-6e19643e7356",
   "metadata": {},
   "outputs": [
    {
     "name": "stdout",
     "output_type": "stream",
     "text": [
      "[26 43  3  1  7 31]\n",
      "[23 31 27 36 26 17]\n",
      "[28 45 21 43  5 29]\n",
      "[43 10 25 18 35 44]\n",
      "[35  7  4 35 43 27]\n",
      "[0 0 0 1 0 1 0 0 1 0]\n",
      "3.31\n"
     ]
    }
   ],
   "source": [
    "# 로또 수 5개 출력\n",
    "num = np.arange(1,46)\n",
    "for i in range(5):\n",
    "    print(np.random.choice(num, 6))\n",
    "# 동전 10번 던져 앞뒷면 가상 실험\n",
    "print(np.random.randint(2, size=10))\n",
    "# 주사위 109번 던져 나온 숫자 평균\n",
    "print(np.mean(np.random.randint(1,7, 100)))"
   ]
  },
  {
   "cell_type": "code",
   "execution_count": 47,
   "id": "1b8194b0-40e1-46e2-a4a8-fde9071fb5ec",
   "metadata": {},
   "outputs": [
    {
     "name": "stdout",
     "output_type": "stream",
     "text": [
      "[ 7 33 16  9 43  3]\n",
      "[38  1 36 41 35 25]\n",
      "[ 8 31 44 22 14 43]\n",
      "[32  4  2 44 43  9]\n",
      "[37  3 29  1 28 13]\n"
     ]
    },
    {
     "data": {
      "text/plain": [
       "3.62"
      ]
     },
     "execution_count": 47,
     "metadata": {},
     "output_type": "execute_result"
    }
   ],
   "source": [
    "# 로또 수 5개 출력\n",
    "def generate_lotto_nums():\n",
    "    return np.random.choice(np.arange(1, 46), size=6, replace=False)\n",
    "\n",
    "for _ in range(5):\n",
    "    print(generate_lotto_nums())\n",
    "    \n",
    "generate_lotto_nums()\n",
    "\n",
    "# 동전을 10번 던져 앞면(숫자1)과 뒷면(숫자0)이 나오는 가상 실험을 파이썬으로 작성\n",
    "np.random.choice(2, 10, p=[0.5, 0.5])\n",
    "\n",
    "# 주사위를 100번 던져서 나오는 숫자의 평균을 구하라\n",
    "random_num = np.random.randint(1, high=7, size=100)\n",
    "np.mean(random_num)"
   ]
  },
  {
   "cell_type": "code",
   "execution_count": 48,
   "id": "aea5d01b-e53d-4ac9-b0c8-2026f476bf93",
   "metadata": {},
   "outputs": [
    {
     "data": {
      "text/plain": [
       "array([1, 0, 1, 1, 0, 0, 1, 0, 1, 0])"
      ]
     },
     "execution_count": 48,
     "metadata": {},
     "output_type": "execute_result"
    }
   ],
   "source": [
    "np.random.choice(2, 10, p=[0.5, 0.5])"
   ]
  },
  {
   "cell_type": "code",
   "execution_count": 49,
   "id": "8007489b-2496-425c-b167-713bae533ef2",
   "metadata": {},
   "outputs": [
    {
     "name": "stdout",
     "output_type": "stream",
     "text": [
      "뒷면\n",
      "앞면\n",
      "앞면\n",
      "앞면\n",
      "앞면\n",
      "뒷면\n",
      "앞면\n",
      "앞면\n",
      "뒷면\n",
      "뒷면\n"
     ]
    },
    {
     "data": {
      "text/plain": [
       "3.51"
      ]
     },
     "execution_count": 49,
     "metadata": {},
     "output_type": "execute_result"
    }
   ],
   "source": [
    "#1번\n",
    "a=np.arange(1,46)\n",
    "res=[]\n",
    "for x in range(5):\n",
    "    res.append(np.random.choice(a,size=(1,6),replace=False))\n",
    "res\n",
    "#2번\n",
    "a=np.array([0,1])\n",
    "x=np.random.choice(a,size=10)\n",
    "for res in x:\n",
    "    if res==0:\n",
    "        print(\"앞면\")\n",
    "    else:\n",
    "        print(\"뒷면\")\n",
    "#3번\n",
    "a=np.arange(1,7)\n",
    "np.mean(np.random.choice(a,size=100))"
   ]
  },
  {
   "cell_type": "code",
   "execution_count": null,
   "id": "54b207d0-86b2-4610-b333-505fe6960dae",
   "metadata": {},
   "outputs": [],
   "source": [
    "# 주사위\n",
    "arr = np.arange(1, 7)\n",
    "sample_arr = np.random.choice(arr, size=100)\n",
    "counts = np.bincount(sample_arr)\n",
    "max_count_index = np.argmax(counts) - 1\n",
    "res = arr[max_count_index]\n",
    "print(sample_arr)\n",
    "print(counts)\n",
    "print(max_count_index)\n",
    "print(res)"
   ]
  }
 ],
 "metadata": {
  "kernelspec": {
   "display_name": "Python 3 (ipykernel)",
   "language": "python",
   "name": "python3"
  },
  "language_info": {
   "codemirror_mode": {
    "name": "ipython",
    "version": 3
   },
   "file_extension": ".py",
   "mimetype": "text/x-python",
   "name": "python",
   "nbconvert_exporter": "python",
   "pygments_lexer": "ipython3",
   "version": "3.11.7"
  }
 },
 "nbformat": 4,
 "nbformat_minor": 5
}
