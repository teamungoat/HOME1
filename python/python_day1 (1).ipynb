{
  "nbformat": 4,
  "nbformat_minor": 0,
  "metadata": {
    "colab": {
      "private_outputs": true,
      "provenance": []
    },
    "kernelspec": {
      "name": "python3",
      "display_name": "Python 3"
    },
    "language_info": {
      "name": "python"
    }
  },
  "cells": [
    {
      "cell_type": "code",
      "execution_count": null,
      "metadata": {
        "id": "97XhlTxuoKrl"
      },
      "outputs": [],
      "source": [
        "print(\"안녕하세요?\")"
      ]
    },
    {
      "cell_type": "code",
      "source": [
        "#if 3 in [1,2,3,4]:\n",
        "\n",
        "파이썬 자료형 : 문자형, 숫자형, set, tuple, dict, list, ...\n",
        "저장소 : 메모리\n",
        "일의 유형 : 수치형, 문자형, 날짜형, ...\n",
        "프로그램:특정 작업을 수행하는 코드(명령어) 집합\n",
        "프로그램 작성 목적?인간의 일(구매)을 대신\n",
        "프로그래밍언어:java, python,...\n",
        "자료형"
      ],
      "metadata": {
        "id": "4wTkiVc6qTmh"
      },
      "execution_count": null,
      "outputs": []
    },
    {
      "cell_type": "code",
      "source": [
        "x=100"
      ],
      "metadata": {
        "id": "S5e-wpX43Coy"
      },
      "execution_count": null,
      "outputs": []
    },
    {
      "cell_type": "code",
      "source": [
        "x"
      ],
      "metadata": {
        "id": "MUGGyZ8X3WwB"
      },
      "execution_count": null,
      "outputs": []
    },
    {
      "cell_type": "code",
      "source": [
        "x=3.14"
      ],
      "metadata": {
        "id": "mAFwstWZ3YOu"
      },
      "execution_count": null,
      "outputs": []
    },
    {
      "cell_type": "code",
      "source": [
        "x"
      ],
      "metadata": {
        "id": "hbMi8VV23imt"
      },
      "execution_count": null,
      "outputs": []
    },
    {
      "cell_type": "code",
      "source": [
        "x=1.23e10 #1.23 * 10^10"
      ],
      "metadata": {
        "id": "c7S98ZBJ3jC9"
      },
      "execution_count": null,
      "outputs": []
    },
    {
      "cell_type": "code",
      "source": [
        "x"
      ],
      "metadata": {
        "id": "26NYHdgG33sA"
      },
      "execution_count": null,
      "outputs": []
    },
    {
      "cell_type": "code",
      "source": [
        "#1.23 * 10^10\n",
        "1.23 * 10**10"
      ],
      "metadata": {
        "id": "rqtHIRWP34EP"
      },
      "execution_count": null,
      "outputs": []
    },
    {
      "cell_type": "code",
      "source": [
        "x=0o123"
      ],
      "metadata": {
        "id": "BSFfMT1f4Cm9"
      },
      "execution_count": null,
      "outputs": []
    },
    {
      "cell_type": "code",
      "source": [
        "x #8**2+2*8+3"
      ],
      "metadata": {
        "id": "9d7HMiYA4lDb"
      },
      "execution_count": null,
      "outputs": []
    },
    {
      "cell_type": "code",
      "source": [
        "x=0xabc"
      ],
      "metadata": {
        "id": "UFzMJORM4ll_"
      },
      "execution_count": null,
      "outputs": []
    },
    {
      "cell_type": "code",
      "source": [
        "x"
      ],
      "metadata": {
        "id": "hQXoOIAJ5ACl"
      },
      "execution_count": null,
      "outputs": []
    },
    {
      "cell_type": "code",
      "source": [
        "x=2\n",
        "y=3"
      ],
      "metadata": {
        "id": "PbjSBNxg5AeA"
      },
      "execution_count": null,
      "outputs": []
    },
    {
      "cell_type": "code",
      "source": [
        "print(x+y)\n",
        "print(x-y)\n",
        "print(x*y)\n",
        "print(x/y)\n",
        "print(x**y)"
      ],
      "metadata": {
        "id": "Xo20bIRB5YD2"
      },
      "execution_count": null,
      "outputs": []
    },
    {
      "cell_type": "code",
      "source": [
        "5 % 3 #나머지\n",
        "5 / 3\n",
        "5 // 3 #"
      ],
      "metadata": {
        "id": "2TlhqWLW5QA5"
      },
      "execution_count": null,
      "outputs": []
    },
    {
      "cell_type": "code",
      "source": [
        "print(\"hi, hello\")"
      ],
      "metadata": {
        "id": "lnAgDqXL6CGB"
      },
      "execution_count": null,
      "outputs": []
    },
    {
      "cell_type": "code",
      "source": [
        "print('hi')\n",
        "print('hello')"
      ],
      "metadata": {
        "id": "ErLx-lWn6nas"
      },
      "execution_count": null,
      "outputs": []
    },
    {
      "cell_type": "code",
      "source": [
        "print('hi');print('hello')"
      ],
      "metadata": {
        "id": "A8O0dOym6rwe"
      },
      "execution_count": null,
      "outputs": []
    },
    {
      "cell_type": "code",
      "source": [
        "print('hi')\n",
        "print('hello')"
      ],
      "metadata": {
        "id": "GuDpBwC36u_c"
      },
      "execution_count": null,
      "outputs": []
    },
    {
      "cell_type": "code",
      "source": [
        "x=10"
      ],
      "metadata": {
        "id": "W8y2PTU49Kjx"
      },
      "execution_count": null,
      "outputs": []
    },
    {
      "cell_type": "code",
      "source": [
        "#들여쓰기\n",
        "if x==1:\n",
        "    print(\"1입니다\")\n",
        "    print(\"1이 맞습니다\")\n",
        "print(\"끝\")"
      ],
      "metadata": {
        "id": "UZX0RjDf7LX2"
      },
      "execution_count": null,
      "outputs": []
    },
    {
      "cell_type": "code",
      "source": [
        "5/2"
      ],
      "metadata": {
        "id": "BGYggpWO9SvD"
      },
      "execution_count": null,
      "outputs": []
    },
    {
      "cell_type": "code",
      "source": [
        "int(3.14)"
      ],
      "metadata": {
        "id": "N6NDoTvN8QUQ"
      },
      "execution_count": null,
      "outputs": []
    },
    {
      "cell_type": "code",
      "source": [
        "int(5/2)"
      ],
      "metadata": {
        "id": "9jnXDRddDMsI"
      },
      "execution_count": null,
      "outputs": []
    },
    {
      "cell_type": "code",
      "source": [
        "#123+10\n",
        "#'123'+10\n",
        "'123'+'10'"
      ],
      "metadata": {
        "id": "qx613ygDDXZZ"
      },
      "execution_count": null,
      "outputs": []
    },
    {
      "cell_type": "code",
      "source": [
        "type(3.14) #float:실수형\n",
        "type(10)"
      ],
      "metadata": {
        "id": "q2xh7xB5DgPI"
      },
      "execution_count": null,
      "outputs": []
    },
    {
      "cell_type": "code",
      "source": [
        "divmod(7,3)"
      ],
      "metadata": {
        "id": "M3f9YLavEOuJ"
      },
      "execution_count": null,
      "outputs": []
    },
    {
      "cell_type": "code",
      "source": [
        "1.2+2.3"
      ],
      "metadata": {
        "id": "qdsmVK0SEtDI"
      },
      "execution_count": null,
      "outputs": []
    },
    {
      "cell_type": "code",
      "source": [
        "1.2+3 #실수 + 정수 => 실수"
      ],
      "metadata": {
        "id": "SBab0fSiFLww"
      },
      "execution_count": null,
      "outputs": []
    },
    {
      "cell_type": "code",
      "source": [
        "2+3"
      ],
      "metadata": {
        "id": "-gu2meEMFaOK"
      },
      "execution_count": null,
      "outputs": []
    },
    {
      "cell_type": "code",
      "source": [
        "float(2)"
      ],
      "metadata": {
        "id": "G8-kPShaFwmu"
      },
      "execution_count": null,
      "outputs": []
    },
    {
      "cell_type": "code",
      "source": [
        "float(2)+3"
      ],
      "metadata": {
        "id": "hbmleip8F1R-"
      },
      "execution_count": null,
      "outputs": []
    },
    {
      "cell_type": "code",
      "source": [
        "type(3.14)"
      ],
      "metadata": {
        "id": "PfEhXvUBGBsK"
      },
      "execution_count": null,
      "outputs": []
    },
    {
      "cell_type": "code",
      "source": [
        "1+(2*3)"
      ],
      "metadata": {
        "id": "wnMnVjHKGWu5"
      },
      "execution_count": null,
      "outputs": []
    },
    {
      "cell_type": "code",
      "source": [
        "x=3\n",
        "#대소문자, 숫자\n",
        "#특수문자x"
      ],
      "metadata": {
        "id": "HYSCPHFzGzDN"
      },
      "execution_count": null,
      "outputs": []
    },
    {
      "cell_type": "code",
      "source": [
        "x=10\n",
        "y=20\n",
        "z=30"
      ],
      "metadata": {
        "id": "2kwfTWUDHfZl"
      },
      "execution_count": null,
      "outputs": []
    },
    {
      "cell_type": "code",
      "source": [
        "x,y,z=10,20,30"
      ],
      "metadata": {
        "id": "f2801kghHlI3"
      },
      "execution_count": null,
      "outputs": []
    },
    {
      "cell_type": "code",
      "source": [
        "a=1\n",
        "b=1\n",
        "c=1"
      ],
      "metadata": {
        "id": "HCj6xy4OHr_O"
      },
      "execution_count": null,
      "outputs": []
    },
    {
      "cell_type": "code",
      "source": [
        "a=b=c=1"
      ],
      "metadata": {
        "id": "8a620uNAH6Yl"
      },
      "execution_count": null,
      "outputs": []
    },
    {
      "cell_type": "code",
      "source": [
        "1+2-3"
      ],
      "metadata": {
        "id": "rW3GBZRgH8fw"
      },
      "execution_count": null,
      "outputs": []
    },
    {
      "cell_type": "code",
      "source": [
        "x=10\n",
        "x"
      ],
      "metadata": {
        "id": "N66LqqW3J5Ut"
      },
      "execution_count": null,
      "outputs": []
    },
    {
      "cell_type": "code",
      "source": [
        "del x\n",
        "x"
      ],
      "metadata": {
        "id": "tpjKvrmUJ78l"
      },
      "execution_count": null,
      "outputs": []
    },
    {
      "cell_type": "code",
      "source": [
        "y=None # 아무것도 없는 상태(null)"
      ],
      "metadata": {
        "id": "6itgwS89KD4d"
      },
      "execution_count": null,
      "outputs": []
    },
    {
      "cell_type": "code",
      "source": [
        "y"
      ],
      "metadata": {
        "id": "YE00VLo3K7xD"
      },
      "execution_count": null,
      "outputs": []
    },
    {
      "cell_type": "code",
      "source": [
        "print(y)"
      ],
      "metadata": {
        "id": "4gDUkukRLRvT"
      },
      "execution_count": null,
      "outputs": []
    },
    {
      "cell_type": "code",
      "source": [
        "a=1"
      ],
      "metadata": {
        "id": "HeRzcjClLUEr"
      },
      "execution_count": null,
      "outputs": []
    },
    {
      "cell_type": "code",
      "source": [
        "a=a+2"
      ],
      "metadata": {
        "id": "pPIzneEUPCuY"
      },
      "execution_count": null,
      "outputs": []
    },
    {
      "cell_type": "code",
      "source": [
        "a"
      ],
      "metadata": {
        "id": "dFVllJIoPFMR"
      },
      "execution_count": null,
      "outputs": []
    },
    {
      "cell_type": "code",
      "source": [
        "input()"
      ],
      "metadata": {
        "id": "xgx_gixPPGNR"
      },
      "execution_count": null,
      "outputs": []
    },
    {
      "cell_type": "code",
      "source": [
        "a=input()\n",
        "print(a)"
      ],
      "metadata": {
        "id": "ADPHdtWBPcE5"
      },
      "execution_count": null,
      "outputs": []
    },
    {
      "cell_type": "code",
      "source": [
        "age=int(input(\"당신의 나이를 입력하세요 : \"))\n",
        "print(\"내년에는 당신의 나이가 \", str(age+1))"
      ],
      "metadata": {
        "id": "hk7ZJElBPsuC"
      },
      "execution_count": null,
      "outputs": []
    },
    {
      "cell_type": "code",
      "source": [
        "\"\"\"\n",
        "두 수를 입력받아 합계를 출력\n",
        "형식)\n",
        "첫번째 수를 입력 : 3\n",
        "두번째 수를 입력 : 5\n",
        "두 수의 합은 8\n",
        "\"\"\""
      ],
      "metadata": {
        "id": "-lKni0-BP8cw"
      },
      "execution_count": null,
      "outputs": []
    },
    {
      "cell_type": "code",
      "source": [
        "a,b=input(\"두 수를 입력 : \").split() #공백문자로 분리, 3 5 => 3,5"
      ],
      "metadata": {
        "id": "9jJj1XtZSay1"
      },
      "execution_count": null,
      "outputs": []
    },
    {
      "cell_type": "code",
      "source": [
        "int(a)+100"
      ],
      "metadata": {
        "id": "guJ7dze1SifI"
      },
      "execution_count": null,
      "outputs": []
    },
    {
      "cell_type": "code",
      "source": [
        "int(b)+100"
      ],
      "metadata": {
        "id": "VKhgqD2fSnQI"
      },
      "execution_count": null,
      "outputs": []
    },
    {
      "cell_type": "code",
      "source": [
        "a='3.14'"
      ],
      "metadata": {
        "id": "QGxnCme5TCTK"
      },
      "execution_count": null,
      "outputs": []
    },
    {
      "cell_type": "code",
      "source": [
        "float(a)+100"
      ],
      "metadata": {
        "id": "2eo7DSNXTmSw"
      },
      "execution_count": null,
      "outputs": []
    },
    {
      "cell_type": "code",
      "source": [],
      "metadata": {
        "id": "T7BkdGq9VA40"
      },
      "execution_count": null,
      "outputs": []
    },
    {
      "cell_type": "code",
      "source": [
        "a,b=int(input(\"두 수를 입력 : \").split())\n",
        "#            '3 5'         => '3', '5' => a='3', b='5' => int함수"
      ],
      "metadata": {
        "id": "5qdGUFFfTneH"
      },
      "execution_count": null,
      "outputs": []
    },
    {
      "cell_type": "code",
      "source": [
        "a,b=map(int, input(\"두 수를 입력 : \").split())"
      ],
      "metadata": {
        "id": "QM1Vq0lIVPOv"
      },
      "execution_count": null,
      "outputs": []
    },
    {
      "cell_type": "code",
      "source": [
        "a+100"
      ],
      "metadata": {
        "id": "khaWJIyRVYtA"
      },
      "execution_count": null,
      "outputs": []
    },
    {
      "cell_type": "code",
      "source": [
        "b+100"
      ],
      "metadata": {
        "id": "MGNAU2KDVbA5"
      },
      "execution_count": null,
      "outputs": []
    },
    {
      "cell_type": "code",
      "source": [
        "a,b=map(int, input(\"두 수를 입력 : \").split(\"?\"))\n",
        "\n",
        "#\"3,5\".split()"
      ],
      "metadata": {
        "id": "5DO_UBMnVckY"
      },
      "execution_count": null,
      "outputs": []
    },
    {
      "cell_type": "code",
      "source": [
        "a"
      ],
      "metadata": {
        "id": "5H_IJTb5V2iu"
      },
      "execution_count": null,
      "outputs": []
    },
    {
      "cell_type": "code",
      "source": [
        "b"
      ],
      "metadata": {
        "id": "pn2W36yIWdPX"
      },
      "execution_count": null,
      "outputs": []
    },
    {
      "cell_type": "code",
      "source": [
        "a,b,c=\"1,2,3\".split(\",\")"
      ],
      "metadata": {
        "id": "2dOq5iODWdhf"
      },
      "execution_count": null,
      "outputs": []
    },
    {
      "cell_type": "code",
      "source": [
        "a"
      ],
      "metadata": {
        "id": "_D-nXidCXByY"
      },
      "execution_count": null,
      "outputs": []
    },
    {
      "cell_type": "code",
      "source": [
        "b"
      ],
      "metadata": {
        "id": "dn2c2hoyXCle"
      },
      "execution_count": null,
      "outputs": []
    },
    {
      "cell_type": "code",
      "source": [
        "c"
      ],
      "metadata": {
        "id": "3w1WJwINXDIF"
      },
      "execution_count": null,
      "outputs": []
    },
    {
      "cell_type": "code",
      "source": [
        "print(1,2,3)"
      ],
      "metadata": {
        "id": "9qWg2xZpXDzU"
      },
      "execution_count": null,
      "outputs": []
    },
    {
      "cell_type": "code",
      "source": [
        "print('a','b','c')"
      ],
      "metadata": {
        "id": "YQ4A4hwFXWiY"
      },
      "execution_count": null,
      "outputs": []
    },
    {
      "cell_type": "code",
      "source": [
        "print(1,2,3, sep=\"#\")"
      ],
      "metadata": {
        "id": "-E_Zx0EgXYV1"
      },
      "execution_count": null,
      "outputs": []
    },
    {
      "cell_type": "code",
      "source": [
        "\"1#2#3\".split(\"#\")"
      ],
      "metadata": {
        "id": "7gkxhbcBXnrV"
      },
      "execution_count": null,
      "outputs": []
    },
    {
      "cell_type": "code",
      "source": [
        "print(10,20)"
      ],
      "metadata": {
        "id": "zWsp1JdJX4gH"
      },
      "execution_count": null,
      "outputs": []
    },
    {
      "cell_type": "code",
      "source": [
        "print(10,20,sep='\\n')"
      ],
      "metadata": {
        "id": "fHBRc48aYGpH"
      },
      "execution_count": null,
      "outputs": []
    },
    {
      "cell_type": "code",
      "source": [
        "print(10,20,sep=\"&\")"
      ],
      "metadata": {
        "id": "j4EBVsY7YLIm"
      },
      "execution_count": null,
      "outputs": []
    },
    {
      "cell_type": "code",
      "source": [
        "print(10)\n",
        "print(20)\n",
        "print(30)"
      ],
      "metadata": {
        "id": "w7lG2rQpYcVW"
      },
      "execution_count": null,
      "outputs": []
    },
    {
      "cell_type": "code",
      "source": [
        "print(10, end=\" \")\n",
        "print(20, end=\" \")\n",
        "print(30)"
      ],
      "metadata": {
        "id": "HUjI0MlKYkld"
      },
      "execution_count": null,
      "outputs": []
    },
    {
      "cell_type": "code",
      "source": [
        "001\n",
        "화면에 Hello World 문자열을 출력하라.\n",
        "\n",
        "002\n",
        "다음 코드의 실행 결과를 예상하라.\n",
        "print(2 + 2 * 3)\n",
        "\n",
        "003\n",
        "LG전자 주식의 금일 종가가 1234원이다. 17주 보유하고 있을 경우의 총 평가 금액을 화면에 출력하라.\n",
        "\n",
        "004\n",
        "LG 전자 34주를 87720원에 매수했다. 평균 매입 금액을 출력하라.\n",
        "\n",
        "005\n",
        "변수에 저장된 문자열을 숫자로 변환하라.\n",
        "string = \"720\"\n",
        "\n",
        "006\n",
        "변수에 저장된 된 숫자를 문자열로 변환하라.\n",
        "integer = 720\n"
      ],
      "metadata": {
        "id": "756HyvLQYx7t"
      },
      "execution_count": null,
      "outputs": []
    },
    {
      "cell_type": "code",
      "source": [],
      "metadata": {
        "id": "hmAbQUHj7qsl"
      },
      "execution_count": null,
      "outputs": []
    },
    {
      "cell_type": "code",
      "source": [
        "print(1,2,3,sep='\\n')"
      ],
      "metadata": {
        "id": "TF6ELZPL7qnt"
      },
      "execution_count": null,
      "outputs": []
    },
    {
      "cell_type": "code",
      "source": [
        "print('1\\n2\\n3')"
      ],
      "metadata": {
        "id": "jEz2ppl47qiL"
      },
      "execution_count": null,
      "outputs": []
    },
    {
      "cell_type": "code",
      "source": [
        "print('1\\\\')"
      ],
      "metadata": {
        "id": "PmorU4Jc7qa_"
      },
      "execution_count": null,
      "outputs": []
    },
    {
      "cell_type": "code",
      "source": [
        "print(1)\n",
        "print(2)"
      ],
      "metadata": {
        "id": "Ia4Ao0JE7qUq"
      },
      "execution_count": null,
      "outputs": []
    },
    {
      "cell_type": "code",
      "source": [
        "print(1, end='\\n')\n",
        "print(2, end='\\n')"
      ],
      "metadata": {
        "id": "oleInxTw7qC6"
      },
      "execution_count": null,
      "outputs": []
    },
    {
      "cell_type": "code",
      "source": [
        "print(1, end='???')\n",
        "print(2, end='???')"
      ],
      "metadata": {
        "id": "FR2P5gYk9eLQ"
      },
      "execution_count": null,
      "outputs": []
    },
    {
      "cell_type": "code",
      "source": [
        "print(1, end=\" \")\n",
        "print(2)"
      ],
      "metadata": {
        "id": "rsRD3TY-9q0n"
      },
      "execution_count": null,
      "outputs": []
    },
    {
      "cell_type": "code",
      "source": [
        "5>1"
      ],
      "metadata": {
        "id": "TJ5SDm_x9xMX"
      },
      "execution_count": null,
      "outputs": []
    },
    {
      "cell_type": "code",
      "source": [
        "True\n",
        "False\n",
        "1==2"
      ],
      "metadata": {
        "id": "Rv9Kkxc2-bOg"
      },
      "execution_count": null,
      "outputs": []
    },
    {
      "cell_type": "code",
      "source": [
        "1!=2"
      ],
      "metadata": {
        "id": "1chpqwdW-tIQ"
      },
      "execution_count": null,
      "outputs": []
    },
    {
      "cell_type": "code",
      "source": [
        "'test'=='test'"
      ],
      "metadata": {
        "id": "ImwVvBsZ_BZY"
      },
      "execution_count": null,
      "outputs": []
    },
    {
      "cell_type": "code",
      "source": [
        "'test'!='test'"
      ],
      "metadata": {
        "id": "1TZZIhXS_K3v"
      },
      "execution_count": null,
      "outputs": []
    },
    {
      "cell_type": "code",
      "source": [
        "'test'=='Test'"
      ],
      "metadata": {
        "id": "n0AJdQwP_O_h"
      },
      "execution_count": null,
      "outputs": []
    },
    {
      "cell_type": "code",
      "source": [
        "1>2\n",
        "1<2\n",
        "1>=2\n",
        "1<=2"
      ],
      "metadata": {
        "id": "fhW54lH8_XcI"
      },
      "execution_count": null,
      "outputs": []
    },
    {
      "cell_type": "code",
      "source": [
        "#논리연산자 : and(그리고, 이면서, 모두 참->참), or(또는, 이거나, 하나 이상 참 -> 참), not\n",
        "1>3 and 1<3\n",
        "1>3 or 1<3"
      ],
      "metadata": {
        "id": "pzYLsFlO_g-H"
      },
      "execution_count": null,
      "outputs": []
    },
    {
      "cell_type": "code",
      "source": [
        "not True"
      ],
      "metadata": {
        "id": "Cgb2z_suAEZf"
      },
      "execution_count": null,
      "outputs": []
    },
    {
      "cell_type": "code",
      "source": [
        "not True and False\n",
        "#논리 연산자의 우선순위 not, and, or"
      ],
      "metadata": {
        "id": "zaMX50BOAtqm"
      },
      "execution_count": null,
      "outputs": []
    },
    {
      "cell_type": "markdown",
      "source": [],
      "metadata": {
        "id": "6V4JEISeBVI5"
      }
    },
    {
      "cell_type": "code",
      "source": [
        "not True and False or not False\n",
        "\n",
        "# False and False or True\n",
        "# False or True"
      ],
      "metadata": {
        "id": "AwJzskCZA-5o"
      },
      "execution_count": null,
      "outputs": []
    },
    {
      "cell_type": "code",
      "source": [
        "(not True) and (False or (not False))"
      ],
      "metadata": {
        "id": "gohhYVLOBmM2"
      },
      "execution_count": null,
      "outputs": []
    },
    {
      "cell_type": "code",
      "source": [
        "1==1 and 1!=2"
      ],
      "metadata": {
        "id": "4h2Sm5wsB3VP"
      },
      "execution_count": null,
      "outputs": []
    },
    {
      "cell_type": "code",
      "source": [
        "1>0 or 1<3"
      ],
      "metadata": {
        "id": "GDn3EjD4B9gw"
      },
      "execution_count": null,
      "outputs": []
    },
    {
      "cell_type": "code",
      "source": [
        "not 1>5\n",
        "\n",
        "1>0 or 1<0"
      ],
      "metadata": {
        "id": "dE1gq-MUCCen"
      },
      "execution_count": null,
      "outputs": []
    },
    {
      "cell_type": "code",
      "source": [
        "bool(0)"
      ],
      "metadata": {
        "id": "TMUgvg0LCMrn"
      },
      "execution_count": null,
      "outputs": []
    },
    {
      "cell_type": "code",
      "source": [
        "bool(0.1)"
      ],
      "metadata": {
        "id": "Bf15bHNmF15k"
      },
      "execution_count": null,
      "outputs": []
    },
    {
      "cell_type": "code",
      "source": [
        "bool(100)"
      ],
      "metadata": {
        "id": "PV1L13mkF6mF"
      },
      "execution_count": null,
      "outputs": []
    },
    {
      "cell_type": "code",
      "source": [
        "bool('test')"
      ],
      "metadata": {
        "id": "ViUcx-KGF-Yk"
      },
      "execution_count": null,
      "outputs": []
    },
    {
      "cell_type": "code",
      "source": [
        "bool('')"
      ],
      "metadata": {
        "id": "GaQpgM-mGDcU"
      },
      "execution_count": null,
      "outputs": []
    },
    {
      "cell_type": "code",
      "source": [
        "True and True"
      ],
      "metadata": {
        "id": "EbyBMDPmGLtM"
      },
      "execution_count": null,
      "outputs": []
    },
    {
      "cell_type": "code",
      "source": [
        "True and 3>1"
      ],
      "metadata": {
        "id": "kgQ4bxY0GaVl"
      },
      "execution_count": null,
      "outputs": []
    },
    {
      "cell_type": "code",
      "source": [
        "True and 'test'"
      ],
      "metadata": {
        "id": "A6tAkAFrGdTF"
      },
      "execution_count": null,
      "outputs": []
    },
    {
      "cell_type": "code",
      "source": [
        "0 and 'test'"
      ],
      "metadata": {
        "id": "fX5L7H_cGjyT"
      },
      "execution_count": null,
      "outputs": []
    },
    {
      "cell_type": "code",
      "source": [
        "True or 'test'"
      ],
      "metadata": {
        "id": "-tjD5sqoHL6F"
      },
      "execution_count": null,
      "outputs": []
    },
    {
      "cell_type": "code",
      "source": [
        "x='hi, hello'"
      ],
      "metadata": {
        "id": "VgYahgfEHbsb"
      },
      "execution_count": null,
      "outputs": []
    },
    {
      "cell_type": "code",
      "source": [
        "x"
      ],
      "metadata": {
        "id": "zif_xH92Ht0y"
      },
      "execution_count": null,
      "outputs": []
    },
    {
      "cell_type": "code",
      "source": [
        "x=\"hi, hello\"\n",
        "x"
      ],
      "metadata": {
        "id": "k3f-v68kHxQK"
      },
      "execution_count": null,
      "outputs": []
    },
    {
      "cell_type": "code",
      "source": [
        "x='''hi, hello'''\n",
        "x"
      ],
      "metadata": {
        "id": "-LqIM1OTH0eC"
      },
      "execution_count": null,
      "outputs": []
    },
    {
      "cell_type": "code",
      "source": [
        "x='''\n",
        "hi\n",
        "hello'''"
      ],
      "metadata": {
        "id": "mEv9SxX2H9SF"
      },
      "execution_count": null,
      "outputs": []
    },
    {
      "cell_type": "code",
      "source": [
        "x"
      ],
      "metadata": {
        "id": "EYSsRemKIMq0"
      },
      "execution_count": null,
      "outputs": []
    },
    {
      "cell_type": "code",
      "source": [
        "print(x)"
      ],
      "metadata": {
        "id": "Q6TC_6XYIPxw"
      },
      "execution_count": null,
      "outputs": []
    },
    {
      "cell_type": "code",
      "source": [
        "x=\"Python isn't difficult\""
      ],
      "metadata": {
        "id": "gfbRNf2NIS-D"
      },
      "execution_count": null,
      "outputs": []
    },
    {
      "cell_type": "code",
      "source": [
        "x"
      ],
      "metadata": {
        "id": "f3f6Ey0cI5al"
      },
      "execution_count": null,
      "outputs": []
    },
    {
      "cell_type": "code",
      "source": [
        "x='He said \"Python is easy\"'\n",
        "x"
      ],
      "metadata": {
        "id": "_efMyexnJNVC"
      },
      "execution_count": null,
      "outputs": []
    },
    {
      "cell_type": "code",
      "source": [
        "x='''\n",
        "He said \"Python is easy\"\n",
        "'''\n",
        "x"
      ],
      "metadata": {
        "id": "HSQW96UFJfDK"
      },
      "execution_count": null,
      "outputs": []
    },
    {
      "cell_type": "code",
      "source": [
        "print(x)"
      ],
      "metadata": {
        "id": "g6NxXSsbJumr"
      },
      "execution_count": null,
      "outputs": []
    },
    {
      "cell_type": "code",
      "source": [
        "x='Python isn\\'t difficult'"
      ],
      "metadata": {
        "id": "BtqGxF3hJxiT"
      },
      "execution_count": null,
      "outputs": []
    },
    {
      "cell_type": "code",
      "source": [
        "x"
      ],
      "metadata": {
        "id": "Z5LBlLeuKJU7"
      },
      "execution_count": null,
      "outputs": []
    },
    {
      "cell_type": "code",
      "source": [
        "x=\"He said \\\"Python is easy\\\"\""
      ],
      "metadata": {
        "id": "GNs-uYhDKJ6q"
      },
      "execution_count": null,
      "outputs": []
    },
    {
      "cell_type": "code",
      "source": [
        "x"
      ],
      "metadata": {
        "id": "7dyWoyR8KZc6"
      },
      "execution_count": null,
      "outputs": []
    },
    {
      "cell_type": "code",
      "source": [
        "x=\"hi\"\n",
        "y=\"hello\""
      ],
      "metadata": {
        "id": "7bw3uoOAKaIO"
      },
      "execution_count": null,
      "outputs": []
    },
    {
      "cell_type": "code",
      "source": [
        "x+y"
      ],
      "metadata": {
        "id": "D9shyzyrKzIE"
      },
      "execution_count": null,
      "outputs": []
    },
    {
      "cell_type": "code",
      "source": [
        "x=\"hi\"*50\n",
        "x"
      ],
      "metadata": {
        "id": "hxY92MNyK0RJ"
      },
      "execution_count": null,
      "outputs": []
    },
    {
      "cell_type": "code",
      "source": [
        "\"ㅋ\"*50"
      ],
      "metadata": {
        "id": "zzhnKOMHK_u4"
      },
      "execution_count": null,
      "outputs": []
    },
    {
      "cell_type": "code",
      "source": [
        "\"ㅎ\"*50"
      ],
      "metadata": {
        "id": "ajp2QEcmLMAY"
      },
      "execution_count": null,
      "outputs": []
    },
    {
      "cell_type": "code",
      "source": [
        "print(1)\n",
        "print(\"=\"*50)\n",
        "print(2)"
      ],
      "metadata": {
        "id": "CXhKFG4oLNSE"
      },
      "execution_count": null,
      "outputs": []
    },
    {
      "cell_type": "code",
      "source": [
        "x=\"hi\"*50\n",
        "x"
      ],
      "metadata": {
        "id": "NFy4BUdTLRCJ"
      },
      "execution_count": null,
      "outputs": []
    },
    {
      "cell_type": "code",
      "source": [
        "len(x)"
      ],
      "metadata": {
        "id": "VDZ1oraDLgQh"
      },
      "execution_count": null,
      "outputs": []
    },
    {
      "cell_type": "code",
      "source": [
        "x=\"Life is too short, You need Python\""
      ],
      "metadata": {
        "id": "arVQXOrGLmPJ"
      },
      "execution_count": null,
      "outputs": []
    },
    {
      "cell_type": "code",
      "source": [
        "x\n",
        "len(x)\n",
        "\n",
        "x[34-1]\n",
        "x[len(x)-1]"
      ],
      "metadata": {
        "id": "GoTg3O8fL6NZ"
      },
      "execution_count": null,
      "outputs": []
    },
    {
      "cell_type": "code",
      "source": [
        "x[0]"
      ],
      "metadata": {
        "id": "5QzH53zJL8SA"
      },
      "execution_count": null,
      "outputs": []
    },
    {
      "cell_type": "code",
      "source": [
        "x[-1]\n",
        "x[-2]"
      ],
      "metadata": {
        "id": "knQlzMtDMhFK"
      },
      "execution_count": null,
      "outputs": []
    },
    {
      "cell_type": "code",
      "source": [
        "x[-0]"
      ],
      "metadata": {
        "id": "YwacE-fBNI0z"
      },
      "execution_count": null,
      "outputs": []
    },
    {
      "cell_type": "code",
      "source": [
        "x=\"Life is too short, You need Python\""
      ],
      "metadata": {
        "id": "AMZ8MTSGNItq"
      },
      "execution_count": null,
      "outputs": []
    },
    {
      "cell_type": "code",
      "source": [
        "x[0]+x[1]+x[2]+x[3]"
      ],
      "metadata": {
        "id": "1zv4123xNIlL"
      },
      "execution_count": null,
      "outputs": []
    },
    {
      "cell_type": "code",
      "source": [
        "x[0:4]"
      ],
      "metadata": {
        "id": "jCQECBuWNIYx"
      },
      "execution_count": null,
      "outputs": []
    },
    {
      "cell_type": "code",
      "source": [
        "x=\"20240227Sunny\"\n",
        "x"
      ],
      "metadata": {
        "id": "ylAH1DKSN_RZ"
      },
      "execution_count": null,
      "outputs": []
    },
    {
      "cell_type": "code",
      "source": [
        "#x에서 연도, 월, 일, 날씨를 각각 추출하시오."
      ],
      "metadata": {
        "id": "PYN3TdX1OCAw"
      },
      "execution_count": null,
      "outputs": []
    },
    {
      "cell_type": "code",
      "source": [
        "x = '20240227Sunny'\n",
        "#x에서 연도, 월, 일 날씨를 각각 추출하시오\n",
        "year = x[:4]\n",
        "month= x[4:6]\n",
        "day = x[6:8]\n",
        "weather = x[8:]\n",
        "print(year,month,day,weather)"
      ],
      "metadata": {
        "id": "LILfr7l2O_gf"
      },
      "execution_count": null,
      "outputs": []
    },
    {
      "cell_type": "code",
      "source": [
        "x=\"healo\""
      ],
      "metadata": {
        "id": "CnwLSe_xPSej"
      },
      "execution_count": null,
      "outputs": []
    },
    {
      "cell_type": "code",
      "source": [
        "#x[2]='l'"
      ],
      "metadata": {
        "id": "FRQ4d8K4Phuf"
      },
      "execution_count": null,
      "outputs": []
    },
    {
      "cell_type": "code",
      "source": [
        "x[:2]+'l'+x[3:]"
      ],
      "metadata": {
        "id": "YG1VzDWwPiP2"
      },
      "execution_count": null,
      "outputs": []
    },
    {
      "cell_type": "code",
      "source": [
        "x=\"I eat 2 apples\"\n",
        "x"
      ],
      "metadata": {
        "id": "JkEi15eePwXa"
      },
      "execution_count": null,
      "outputs": []
    },
    {
      "cell_type": "code",
      "source": [
        "\"I eat %d apples\" % 5"
      ],
      "metadata": {
        "id": "lg79TznES-kU"
      },
      "execution_count": null,
      "outputs": []
    },
    {
      "cell_type": "code",
      "source": [
        "\"I eat %s apples\" % \"two\""
      ],
      "metadata": {
        "id": "7G_e9gU5TOHV"
      },
      "execution_count": null,
      "outputs": []
    },
    {
      "cell_type": "code",
      "source": [
        "\"I eat %s apples %d\" % (\"two\",3)"
      ],
      "metadata": {
        "id": "77pVCC10Tb01"
      },
      "execution_count": null,
      "outputs": []
    },
    {
      "cell_type": "code",
      "source": [
        "\"I eat %s apples %d%%\" % (\"two\",3)"
      ],
      "metadata": {
        "id": "lOs_3FGdTlyP"
      },
      "execution_count": null,
      "outputs": []
    },
    {
      "cell_type": "code",
      "source": [
        "print(\"hi\")\n",
        "print(\"hello\")"
      ],
      "metadata": {
        "id": "ZL6eP7DvT4CN"
      },
      "execution_count": null,
      "outputs": []
    },
    {
      "cell_type": "code",
      "source": [
        "\"%10s\" % \"hi\""
      ],
      "metadata": {
        "id": "_h83gECjUHfO"
      },
      "execution_count": null,
      "outputs": []
    },
    {
      "cell_type": "code",
      "source": [
        "\"%10s\" % \"hello\""
      ],
      "metadata": {
        "id": "AqLqkmaeURnm"
      },
      "execution_count": null,
      "outputs": []
    },
    {
      "cell_type": "code",
      "source": [
        "\"%-10s\" % \"hi\""
      ],
      "metadata": {
        "id": "rT3CTMoGUUnz"
      },
      "execution_count": null,
      "outputs": []
    },
    {
      "cell_type": "code",
      "source": [
        "\"I eat 2 apples\""
      ],
      "metadata": {
        "id": "Wjh1_rbKUcvd"
      },
      "execution_count": null,
      "outputs": []
    },
    {
      "cell_type": "code",
      "source": [
        "\"I eat %d apples\" % 2"
      ],
      "metadata": {
        "id": "H2LTybJEUrfG"
      },
      "execution_count": null,
      "outputs": []
    },
    {
      "cell_type": "code",
      "source": [
        "\"I eat {0} apples\".format(2)"
      ],
      "metadata": {
        "id": "mRISIu9nUuFG"
      },
      "execution_count": null,
      "outputs": []
    },
    {
      "cell_type": "code",
      "source": [
        "\"I {1} eat {0} apples\".format(2, 5)"
      ],
      "metadata": {
        "id": "kzKFdQykU0ZN"
      },
      "execution_count": null,
      "outputs": []
    },
    {
      "cell_type": "code",
      "source": [
        "\"I {num} eat {su} apples\".format(su=2, num=5)"
      ],
      "metadata": {
        "id": "JesPu19vVDGh"
      },
      "execution_count": null,
      "outputs": []
    },
    {
      "cell_type": "code",
      "source": [
        "\"%10s\" % \"hi\""
      ],
      "metadata": {
        "id": "37HetLDFVSsk"
      },
      "execution_count": null,
      "outputs": []
    },
    {
      "cell_type": "code",
      "source": [
        "\"{0:>10}\".format(\"hi\")"
      ],
      "metadata": {
        "id": "LVuBgOtiVn9O"
      },
      "execution_count": null,
      "outputs": []
    },
    {
      "cell_type": "code",
      "source": [
        "\"{0:<10}\".format(\"hi\")"
      ],
      "metadata": {
        "id": "Kat_A0syVs57"
      },
      "execution_count": null,
      "outputs": []
    },
    {
      "cell_type": "code",
      "source": [
        "\"{0:^10}\".format(\"hi\")"
      ],
      "metadata": {
        "id": "uZocV_fHV6Sj"
      },
      "execution_count": null,
      "outputs": []
    },
    {
      "cell_type": "code",
      "source": [
        "\"{0:=^10}\".format(\"hi\")"
      ],
      "metadata": {
        "id": "t-6Njiw_WACs"
      },
      "execution_count": null,
      "outputs": []
    },
    {
      "cell_type": "code",
      "source": [
        "x=3.141592"
      ],
      "metadata": {
        "id": "M5t-XqQOWJt3"
      },
      "execution_count": null,
      "outputs": []
    },
    {
      "cell_type": "code",
      "source": [
        "\"{0:0.3f}\".format(x)"
      ],
      "metadata": {
        "id": "PGnkke8yWUms"
      },
      "execution_count": null,
      "outputs": []
    },
    {
      "cell_type": "code",
      "source": [
        "\"나의 이름은 {name}이며, 나이는 {age}\".format(name=\"홍길동\", age=5)"
      ],
      "metadata": {
        "id": "eBJWitbZWdjb"
      },
      "execution_count": null,
      "outputs": []
    },
    {
      "cell_type": "code",
      "source": [
        "name=\"홍길동\"\n",
        "age=5"
      ],
      "metadata": {
        "id": "wRq18zcHXCey"
      },
      "execution_count": null,
      "outputs": []
    },
    {
      "cell_type": "code",
      "source": [
        "f\"나의 이름은 {name}이며, 나이는 {age}\"\n",
        "f\"나의 이름은 {name}이며, 나이는 {age+10}\""
      ],
      "metadata": {
        "id": "HU8JErzyXKbL"
      },
      "execution_count": null,
      "outputs": []
    },
    {
      "cell_type": "code",
      "source": [
        "dc={'name':'홍길동','age':25}\n",
        "dc"
      ],
      "metadata": {
        "id": "3AETTJFIXOGS"
      },
      "execution_count": null,
      "outputs": []
    },
    {
      "cell_type": "code",
      "source": [
        "f'이름은 {dc[\"name\"]} 나이는 {dc[\"age\"]}'"
      ],
      "metadata": {
        "id": "8y8IND7oX3Va"
      },
      "execution_count": null,
      "outputs": []
    },
    {
      "cell_type": "code",
      "source": [
        "x=\"hellohello\""
      ],
      "metadata": {
        "id": "phpkwkBrYHyD"
      },
      "execution_count": null,
      "outputs": []
    },
    {
      "cell_type": "code",
      "source": [
        "x.count('k')\n",
        "x.count('l')"
      ],
      "metadata": {
        "id": "AYnbkeCaYcm6"
      },
      "execution_count": null,
      "outputs": []
    },
    {
      "cell_type": "code",
      "source": [
        "x.count('he')"
      ],
      "metadata": {
        "id": "Ap0-Sx7TYh6d"
      },
      "execution_count": null,
      "outputs": []
    },
    {
      "cell_type": "code",
      "source": [
        "x.find('o')\n",
        "x.find('a')"
      ],
      "metadata": {
        "id": "8S-pLjwHYr5A"
      },
      "execution_count": null,
      "outputs": []
    },
    {
      "cell_type": "code",
      "source": [
        "x.index('o')"
      ],
      "metadata": {
        "id": "i4yIzN1ZZCsb"
      },
      "execution_count": null,
      "outputs": []
    },
    {
      "cell_type": "code",
      "source": [
        "#x.index('a')"
      ],
      "metadata": {
        "id": "HCMgWo2GZhGK"
      },
      "execution_count": null,
      "outputs": []
    },
    {
      "cell_type": "code",
      "source": [
        "\",\".join(\"hello\")"
      ],
      "metadata": {
        "id": "a6aY35NdZjuL"
      },
      "execution_count": null,
      "outputs": []
    },
    {
      "cell_type": "code",
      "source": [
        "x=\",\".join(\"hello\")\n",
        "x"
      ],
      "metadata": {
        "id": "-Czfbl4VaLNx"
      },
      "execution_count": null,
      "outputs": []
    },
    {
      "cell_type": "code",
      "source": [
        "x.split(\",\")"
      ],
      "metadata": {
        "id": "tAQcUGhHaUXy"
      },
      "execution_count": null,
      "outputs": []
    },
    {
      "cell_type": "code",
      "source": [
        "x=\"hi\"\n",
        "x.upper()"
      ],
      "metadata": {
        "id": "cnk5dNr6aeiz"
      },
      "execution_count": null,
      "outputs": []
    },
    {
      "cell_type": "code",
      "source": [
        "x=\"HI\"\n",
        "x.lower()"
      ],
      "metadata": {
        "id": "5rcld2K0aq1g"
      },
      "execution_count": null,
      "outputs": []
    },
    {
      "cell_type": "code",
      "source": [
        "x=\"  hello  \""
      ],
      "metadata": {
        "id": "magNiF08ayAh"
      },
      "execution_count": null,
      "outputs": []
    },
    {
      "cell_type": "code",
      "source": [
        "x.strip()"
      ],
      "metadata": {
        "id": "BWyyrHBua-k5"
      },
      "execution_count": null,
      "outputs": []
    },
    {
      "cell_type": "code",
      "source": [
        "x.rstrip()"
      ],
      "metadata": {
        "id": "3jgRMIRTbWAp"
      },
      "execution_count": null,
      "outputs": []
    },
    {
      "cell_type": "code",
      "source": [
        "x.lstrip()"
      ],
      "metadata": {
        "id": "kaR6lndJbanZ"
      },
      "execution_count": null,
      "outputs": []
    },
    {
      "cell_type": "code",
      "source": [
        "x=\"multicampus ai\""
      ],
      "metadata": {
        "id": "LTDfLc_ibcar"
      },
      "execution_count": null,
      "outputs": []
    },
    {
      "cell_type": "code",
      "source": [
        "x.replace(\"ai\",\"ds\")"
      ],
      "metadata": {
        "id": "KZ-6Ar5dbsNw"
      },
      "execution_count": null,
      "outputs": []
    },
    {
      "cell_type": "code",
      "source": [
        "x"
      ],
      "metadata": {
        "id": "KxyJhNNFbvF4"
      },
      "execution_count": null,
      "outputs": []
    },
    {
      "cell_type": "code",
      "source": [
        "x=x.replace(\"ai\",\"ds\")"
      ],
      "metadata": {
        "id": "D1a7054KbyPp"
      },
      "execution_count": null,
      "outputs": []
    },
    {
      "cell_type": "code",
      "source": [
        "x"
      ],
      "metadata": {
        "id": "qWImfB5Cb71n"
      },
      "execution_count": null,
      "outputs": []
    },
    {
      "cell_type": "code",
      "source": [
        "x=\"abc def ghi:jkl:mno\""
      ],
      "metadata": {
        "id": "Pn-K2z_tb8Qr"
      },
      "execution_count": null,
      "outputs": []
    },
    {
      "cell_type": "code",
      "source": [
        "x"
      ],
      "metadata": {
        "id": "nMJpFZbmcYd2"
      },
      "execution_count": null,
      "outputs": []
    },
    {
      "cell_type": "code",
      "source": [
        "x.split(\"$\")"
      ],
      "metadata": {
        "id": "Uww7jmPRdnQC"
      },
      "execution_count": null,
      "outputs": []
    },
    {
      "cell_type": "code",
      "source": [
        "x.split(\" \")\n",
        "x.split(\":\")\n",
        "x.split(\": \")"
      ],
      "metadata": {
        "id": "NEOPupRYcZP9"
      },
      "execution_count": null,
      "outputs": []
    },
    {
      "cell_type": "code",
      "source": [
        "x.split() #기본적으로 공백문자로 구분되도록 함수가 설계되어 있음."
      ],
      "metadata": {
        "id": "RsE_NV3bcinI"
      },
      "execution_count": null,
      "outputs": []
    },
    {
      "cell_type": "code",
      "source": [
        "x.split(\"  \")"
      ],
      "metadata": {
        "id": "dJYTDQjoc43Z"
      },
      "execution_count": null,
      "outputs": []
    },
    {
      "cell_type": "code",
      "source": [
        "x=\"대한민국 코리아 한국\""
      ],
      "metadata": {
        "id": "ruyKmpvkdHsA"
      },
      "execution_count": null,
      "outputs": []
    },
    {
      "cell_type": "code",
      "source": [
        "len(x)"
      ],
      "metadata": {
        "id": "1wMc8nTSeEab"
      },
      "execution_count": null,
      "outputs": []
    },
    {
      "cell_type": "code",
      "source": [
        "각각 추\n",
        "대한민국\n",
        "코리아\n",
        "한국\n"
      ],
      "metadata": {
        "id": "YuD_J1YoeGep"
      },
      "execution_count": null,
      "outputs": []
    },
    {
      "cell_type": "code",
      "source": [
        "x.find(\"코리아\")"
      ],
      "metadata": {
        "id": "OcrxwJEPe8Z7"
      },
      "execution_count": null,
      "outputs": []
    },
    {
      "cell_type": "code",
      "source": [
        "x.index(\"코리아\")"
      ],
      "metadata": {
        "id": "zGVqy4uNe-Sc"
      },
      "execution_count": null,
      "outputs": []
    },
    {
      "cell_type": "code",
      "source": [
        "#x.index(\"고려\")\n",
        "x.find(\"고려\")"
      ],
      "metadata": {
        "id": "fa1-npW5fATy"
      },
      "execution_count": null,
      "outputs": []
    },
    {
      "cell_type": "code",
      "source": [
        "자료구조 : 데이터(자료)를 저장 및 관리하는 방법\n",
        "파이썬 자료구조 : 리스트, 튜플, 딕셔너리, 집합(셋)"
      ],
      "metadata": {
        "id": "FtIUptcvfFZa"
      },
      "execution_count": null,
      "outputs": []
    },
    {
      "cell_type": "code",
      "source": [
        "x1=1\n",
        "x2=2\n",
        "..."
      ],
      "metadata": {
        "id": "V15_OhVvxC2A"
      },
      "execution_count": null,
      "outputs": []
    },
    {
      "cell_type": "code",
      "source": [
        "x=[1,2,3,4,5]"
      ],
      "metadata": {
        "id": "5MMJ7ShMxPPy"
      },
      "execution_count": null,
      "outputs": []
    },
    {
      "cell_type": "code",
      "source": [
        "x"
      ],
      "metadata": {
        "id": "vM7A1kSExsF_"
      },
      "execution_count": null,
      "outputs": []
    },
    {
      "cell_type": "code",
      "source": [
        "x=[1,1.2,'test',True]"
      ],
      "metadata": {
        "id": "wJivmvMOxszM"
      },
      "execution_count": null,
      "outputs": []
    },
    {
      "cell_type": "code",
      "source": [
        "x"
      ],
      "metadata": {
        "id": "uf-6u-AWx9VF"
      },
      "execution_count": null,
      "outputs": []
    },
    {
      "cell_type": "code",
      "source": [
        "x[0]"
      ],
      "metadata": {
        "id": "8KhVHIWkx_Pn"
      },
      "execution_count": null,
      "outputs": []
    },
    {
      "cell_type": "code",
      "source": [
        "x=[]"
      ],
      "metadata": {
        "id": "9LahGy1EyMKl"
      },
      "execution_count": null,
      "outputs": []
    },
    {
      "cell_type": "code",
      "source": [
        "x"
      ],
      "metadata": {
        "id": "I40dye_qyW2d"
      },
      "execution_count": null,
      "outputs": []
    },
    {
      "cell_type": "code",
      "source": [
        "x=list()\n",
        "x"
      ],
      "metadata": {
        "id": "VGa2a3eCyXPo"
      },
      "execution_count": null,
      "outputs": []
    },
    {
      "cell_type": "code",
      "source": [
        "list(range(5))"
      ],
      "metadata": {
        "id": "VeUa0e9HycDP"
      },
      "execution_count": null,
      "outputs": []
    },
    {
      "cell_type": "code",
      "source": [
        "list(range(5,20)) #함수명(인수1,인수2,...)"
      ],
      "metadata": {
        "id": "ZXNCJEuQyoVt"
      },
      "execution_count": null,
      "outputs": []
    },
    {
      "cell_type": "code",
      "source": [
        "list(range(5,20,3))"
      ],
      "metadata": {
        "id": "jnGe2--ty97v"
      },
      "execution_count": null,
      "outputs": []
    },
    {
      "cell_type": "code",
      "source": [
        "list(range(20,5,-3))"
      ],
      "metadata": {
        "id": "syIEoeCUzOws"
      },
      "execution_count": null,
      "outputs": []
    },
    {
      "cell_type": "code",
      "source": [
        "x=[1, 2, 'life', ['python',3,4,5],6,[7,8]]"
      ],
      "metadata": {
        "id": "_wrh73WJzc1-"
      },
      "execution_count": null,
      "outputs": []
    },
    {
      "cell_type": "code",
      "source": [
        "x\n",
        "x[3][0][2]"
      ],
      "metadata": {
        "id": "tIAEZoPczyE1"
      },
      "execution_count": null,
      "outputs": []
    },
    {
      "cell_type": "code",
      "source": [
        "x[-3][2]\n",
        "x[-3][-2]"
      ],
      "metadata": {
        "id": "bJRzqLBY0_F1"
      },
      "execution_count": null,
      "outputs": []
    },
    {
      "cell_type": "code",
      "source": [
        "len(x)\n",
        "x[3]\n",
        "x[3:]\n",
        "x[:3]\n",
        "x[0]+x[4]"
      ],
      "metadata": {
        "id": "HduxX3j6zyXD"
      },
      "execution_count": null,
      "outputs": []
    },
    {
      "cell_type": "code",
      "source": [
        "# x = list(range(0,20,3))\n",
        "# x"
      ],
      "metadata": {
        "id": "qokfsDJFz2OV"
      },
      "execution_count": null,
      "outputs": []
    },
    {
      "cell_type": "code",
      "source": [
        "x=\"hello\"\n",
        "x[1:3]"
      ],
      "metadata": {
        "id": "qGrq8KYa0JC2"
      },
      "execution_count": null,
      "outputs": []
    },
    {
      "cell_type": "code",
      "source": [
        "x=[10,20]\n",
        "y=[100,200,300]"
      ],
      "metadata": {
        "id": "SjDbsavZ2Dyk"
      },
      "execution_count": null,
      "outputs": []
    },
    {
      "cell_type": "code",
      "source": [
        "x+y"
      ],
      "metadata": {
        "id": "tV6VP7Lc2QST"
      },
      "execution_count": null,
      "outputs": []
    },
    {
      "cell_type": "code",
      "source": [
        "\"hi\"+\"hello\""
      ],
      "metadata": {
        "id": "30DxPbaT2TeM"
      },
      "execution_count": null,
      "outputs": []
    },
    {
      "cell_type": "code",
      "source": [
        "x=[10,20]"
      ],
      "metadata": {
        "id": "fv3MiIpc2azE"
      },
      "execution_count": null,
      "outputs": []
    },
    {
      "cell_type": "code",
      "source": [
        "\"=\"*10\n",
        "x*3"
      ],
      "metadata": {
        "id": "bwScQs422lWy"
      },
      "execution_count": null,
      "outputs": []
    },
    {
      "cell_type": "code",
      "source": [
        "len(x)"
      ],
      "metadata": {
        "id": "D13i1KRW2nOz"
      },
      "execution_count": null,
      "outputs": []
    },
    {
      "cell_type": "code",
      "source": [
        "len(\"hi\")"
      ],
      "metadata": {
        "id": "_1GeZDTQ25LL"
      },
      "execution_count": null,
      "outputs": []
    },
    {
      "cell_type": "code",
      "source": [
        "x"
      ],
      "metadata": {
        "id": "W0hjRm4Z3D_h"
      },
      "execution_count": null,
      "outputs": []
    },
    {
      "cell_type": "code",
      "source": [
        "#x[1]+\"hi\"\n",
        "str(x[1])+\"hi\""
      ],
      "metadata": {
        "id": "Gj_GOlUS3RLE"
      },
      "execution_count": null,
      "outputs": []
    },
    {
      "cell_type": "code",
      "source": [
        "x"
      ],
      "metadata": {
        "id": "3JLsJPtw3S2z"
      },
      "execution_count": null,
      "outputs": []
    },
    {
      "cell_type": "code",
      "source": [
        "x[1]=200"
      ],
      "metadata": {
        "id": "s6Yo8vFk3rI2"
      },
      "execution_count": null,
      "outputs": []
    },
    {
      "cell_type": "code",
      "source": [
        "x"
      ],
      "metadata": {
        "id": "EoX1hYDB3t2s"
      },
      "execution_count": null,
      "outputs": []
    },
    {
      "cell_type": "code",
      "source": [
        "x"
      ],
      "metadata": {
        "id": "tSPO0NDe3wWP"
      },
      "execution_count": null,
      "outputs": []
    },
    {
      "cell_type": "code",
      "source": [
        "del x[1]"
      ],
      "metadata": {
        "id": "YFTRhi3-37Hy"
      },
      "execution_count": null,
      "outputs": []
    },
    {
      "cell_type": "code",
      "source": [
        "x"
      ],
      "metadata": {
        "id": "wf0F0HME4CGi"
      },
      "execution_count": null,
      "outputs": []
    },
    {
      "cell_type": "code",
      "source": [
        "#x=[100,101,...,120]\n",
        "x=list(range(100,121))\n",
        "x\n",
        "del x[3]\n",
        "del x[4:]"
      ],
      "metadata": {
        "id": "JlV5xSyR4Cbe"
      },
      "execution_count": null,
      "outputs": []
    },
    {
      "cell_type": "code",
      "source": [
        "x"
      ],
      "metadata": {
        "id": "pl_nvCA14Ztd"
      },
      "execution_count": null,
      "outputs": []
    },
    {
      "cell_type": "code",
      "source": [
        "x=[10,20]"
      ],
      "metadata": {
        "id": "77FYuSRQ4jch"
      },
      "execution_count": null,
      "outputs": []
    },
    {
      "cell_type": "code",
      "source": [
        "x.append(30)"
      ],
      "metadata": {
        "id": "HKAIEY8S5OxJ"
      },
      "execution_count": null,
      "outputs": []
    },
    {
      "cell_type": "code",
      "source": [
        "x"
      ],
      "metadata": {
        "id": "aUV1BYo35Pqk"
      },
      "execution_count": null,
      "outputs": []
    },
    {
      "cell_type": "code",
      "source": [
        " x.append([40,50])"
      ],
      "metadata": {
        "id": "OcoR3fqb5P_e"
      },
      "execution_count": null,
      "outputs": []
    },
    {
      "cell_type": "code",
      "source": [
        "x"
      ],
      "metadata": {
        "id": "juFQEDeX59vp"
      },
      "execution_count": null,
      "outputs": []
    },
    {
      "cell_type": "code",
      "source": [
        "x.extend([40,50])"
      ],
      "metadata": {
        "id": "WECaLNkM5-IR"
      },
      "execution_count": null,
      "outputs": []
    },
    {
      "cell_type": "code",
      "source": [
        "x"
      ],
      "metadata": {
        "id": "1Phlvrzu6Mei"
      },
      "execution_count": null,
      "outputs": []
    },
    {
      "cell_type": "code",
      "source": [
        "x.remove(20)"
      ],
      "metadata": {
        "id": "goNgrNf66NMT"
      },
      "execution_count": null,
      "outputs": []
    },
    {
      "cell_type": "code",
      "source": [
        "x"
      ],
      "metadata": {
        "id": "3BAxlBQ66i5e"
      },
      "execution_count": null,
      "outputs": []
    },
    {
      "cell_type": "code",
      "source": [
        "x.remove(20)"
      ],
      "metadata": {
        "id": "bu6nPPmI6jqd"
      },
      "execution_count": null,
      "outputs": []
    },
    {
      "cell_type": "code",
      "source": [
        "x=[10,20,30]"
      ],
      "metadata": {
        "id": "cOzGU5Pi6uvQ"
      },
      "execution_count": null,
      "outputs": []
    },
    {
      "cell_type": "code",
      "source": [
        "x.pop()"
      ],
      "metadata": {
        "id": "hd7k6uUi-fA1"
      },
      "execution_count": null,
      "outputs": []
    },
    {
      "cell_type": "code",
      "source": [
        "x"
      ],
      "metadata": {
        "id": "qO0-Uh5h-jO_"
      },
      "execution_count": null,
      "outputs": []
    },
    {
      "cell_type": "code",
      "source": [
        "x=[10,20,30,20]"
      ],
      "metadata": {
        "id": "yPsbJUU8-qft"
      },
      "execution_count": null,
      "outputs": []
    },
    {
      "cell_type": "code",
      "source": [
        "x.count(20)"
      ],
      "metadata": {
        "id": "diXmHmOi-1fY"
      },
      "execution_count": null,
      "outputs": []
    },
    {
      "cell_type": "code",
      "source": [
        "x"
      ],
      "metadata": {
        "id": "RLROYr3s-8jH"
      },
      "execution_count": null,
      "outputs": []
    },
    {
      "cell_type": "code",
      "source": [
        "x=x+[40,50]"
      ],
      "metadata": {
        "id": "ZFcvmaJ1_D0B"
      },
      "execution_count": null,
      "outputs": []
    },
    {
      "cell_type": "code",
      "source": [
        "x"
      ],
      "metadata": {
        "id": "X6ZXHLmh_IOD"
      },
      "execution_count": null,
      "outputs": []
    },
    {
      "cell_type": "code",
      "source": [
        "x.extend([60,70])"
      ],
      "metadata": {
        "id": "-xjk2qGV_ImD"
      },
      "execution_count": null,
      "outputs": []
    },
    {
      "cell_type": "code",
      "source": [
        "x"
      ],
      "metadata": {
        "id": "J1pZnjb8_UTX"
      },
      "execution_count": null,
      "outputs": []
    },
    {
      "cell_type": "code",
      "source": [
        "#튜플 : 읽기를 주로하는 자료구조, ()로 표기"
      ],
      "metadata": {
        "id": "aYQkmc5C_Voe"
      },
      "execution_count": null,
      "outputs": []
    },
    {
      "cell_type": "code",
      "source": [
        "x=(10,20,30)\n",
        "x"
      ],
      "metadata": {
        "id": "zyDDwrpX_3RD"
      },
      "execution_count": null,
      "outputs": []
    },
    {
      "cell_type": "code",
      "source": [
        "x[1]"
      ],
      "metadata": {
        "id": "Pwi5W4BT_21y"
      },
      "execution_count": null,
      "outputs": []
    },
    {
      "cell_type": "code",
      "source": [
        "x=(10,20,'abc',True, 3.14)"
      ],
      "metadata": {
        "id": "27L4KL5ZAGVN"
      },
      "execution_count": null,
      "outputs": []
    },
    {
      "cell_type": "code",
      "source": [
        "x"
      ],
      "metadata": {
        "id": "piyeIkXcASfV"
      },
      "execution_count": null,
      "outputs": []
    },
    {
      "cell_type": "code",
      "source": [
        "x[1]"
      ],
      "metadata": {
        "id": "LlOijoXWASvL"
      },
      "execution_count": null,
      "outputs": []
    },
    {
      "cell_type": "code",
      "source": [
        "#x[1]=200"
      ],
      "metadata": {
        "id": "5gkYW6kLAZ-f"
      },
      "execution_count": null,
      "outputs": []
    },
    {
      "cell_type": "code",
      "source": [
        "x=3"
      ],
      "metadata": {
        "id": "ta3UBv1pAb2t"
      },
      "execution_count": null,
      "outputs": []
    },
    {
      "cell_type": "code",
      "source": [
        "x"
      ],
      "metadata": {
        "id": "vEZmyeLZA3f3"
      },
      "execution_count": null,
      "outputs": []
    },
    {
      "cell_type": "code",
      "source": [
        "x=3,"
      ],
      "metadata": {
        "id": "-mePuMzGA4CV"
      },
      "execution_count": null,
      "outputs": []
    },
    {
      "cell_type": "code",
      "source": [
        "x"
      ],
      "metadata": {
        "id": "WKXFGEHvA7eV"
      },
      "execution_count": null,
      "outputs": []
    },
    {
      "cell_type": "code",
      "source": [
        "x=1,2,3"
      ],
      "metadata": {
        "id": "NJpOg-moA8FK"
      },
      "execution_count": null,
      "outputs": []
    },
    {
      "cell_type": "code",
      "source": [
        "x"
      ],
      "metadata": {
        "id": "wPoyYBJQBHqg"
      },
      "execution_count": null,
      "outputs": []
    },
    {
      "cell_type": "code",
      "source": [
        "#del x[2]\n",
        "#x[2]=30"
      ],
      "metadata": {
        "id": "DY4-PXcBBH7o"
      },
      "execution_count": null,
      "outputs": []
    },
    {
      "cell_type": "code",
      "source": [
        "x=10,20,30"
      ],
      "metadata": {
        "id": "9E22HddPBLy_"
      },
      "execution_count": null,
      "outputs": []
    },
    {
      "cell_type": "code",
      "source": [
        "x"
      ],
      "metadata": {
        "id": "ItDBVRQVBcL3"
      },
      "execution_count": null,
      "outputs": []
    },
    {
      "cell_type": "code",
      "source": [
        "x2=list(x)"
      ],
      "metadata": {
        "id": "RfrOdGDQBc2-"
      },
      "execution_count": null,
      "outputs": []
    },
    {
      "cell_type": "code",
      "source": [
        "x2"
      ],
      "metadata": {
        "id": "y82Ie6iBBhZ9"
      },
      "execution_count": null,
      "outputs": []
    },
    {
      "cell_type": "code",
      "source": [],
      "metadata": {
        "id": "u9boZnYxCH7z"
      },
      "execution_count": null,
      "outputs": []
    },
    {
      "cell_type": "code",
      "source": [],
      "metadata": {
        "id": "Gi_ceGwxCIPb"
      },
      "execution_count": null,
      "outputs": []
    },
    {
      "cell_type": "code",
      "source": [
        "x2[1]=200"
      ],
      "metadata": {
        "id": "Y28xZEGqBs_w"
      },
      "execution_count": null,
      "outputs": []
    },
    {
      "cell_type": "code",
      "source": [
        "x2"
      ],
      "metadata": {
        "id": "EcOXNoz5B7mV"
      },
      "execution_count": null,
      "outputs": []
    },
    {
      "cell_type": "code",
      "source": [
        "tuple(x2)"
      ],
      "metadata": {
        "id": "ZZbHdXYQB8al"
      },
      "execution_count": null,
      "outputs": []
    },
    {
      "cell_type": "code",
      "source": [
        "list(range(5))"
      ],
      "metadata": {
        "id": "Op-ct_6xB-YF"
      },
      "execution_count": null,
      "outputs": []
    },
    {
      "cell_type": "code",
      "source": [
        "tuple(range(5))"
      ],
      "metadata": {
        "id": "huvwwo-1CX9_"
      },
      "execution_count": null,
      "outputs": []
    },
    {
      "cell_type": "code",
      "source": [
        "#10, 20, 30, 40, 50 이 저장된 튜플과 리스트를 각각 만드시오."
      ],
      "metadata": {
        "id": "nVphOFByCfBs"
      },
      "execution_count": null,
      "outputs": []
    },
    {
      "cell_type": "code",
      "source": [
        "list(range(10,51,10))\n",
        "tuple(range(10,51,10))"
      ],
      "metadata": {
        "id": "g-k9GylNCrps"
      },
      "execution_count": null,
      "outputs": []
    },
    {
      "cell_type": "code",
      "source": [
        "x=[10,20,30]\n",
        "tuple(x)"
      ],
      "metadata": {
        "id": "_AWzrEojDlUk"
      },
      "execution_count": null,
      "outputs": []
    },
    {
      "cell_type": "code",
      "source": [
        "list(tuple(x))"
      ],
      "metadata": {
        "id": "O65ZuBpnD1Mf"
      },
      "execution_count": null,
      "outputs": []
    },
    {
      "cell_type": "code",
      "source": [
        "list(\"hello\")"
      ],
      "metadata": {
        "id": "uKP7hkJjD6yr"
      },
      "execution_count": null,
      "outputs": []
    },
    {
      "cell_type": "code",
      "source": [
        "tuple(\"hello\")"
      ],
      "metadata": {
        "id": "VvvjTZrNELhL"
      },
      "execution_count": null,
      "outputs": []
    },
    {
      "cell_type": "code",
      "source": [
        "a,b=1,2"
      ],
      "metadata": {
        "id": "kQoiBq7fEPk1"
      },
      "execution_count": null,
      "outputs": []
    },
    {
      "cell_type": "code",
      "source": [
        "a"
      ],
      "metadata": {
        "id": "iu8cfQDrEfn_"
      },
      "execution_count": null,
      "outputs": []
    },
    {
      "cell_type": "code",
      "source": [
        "b"
      ],
      "metadata": {
        "id": "4ZVIsthBEgES"
      },
      "execution_count": null,
      "outputs": []
    },
    {
      "cell_type": "code",
      "source": [
        "a,b=[1,2]"
      ],
      "metadata": {
        "id": "u09ZrdN3Egai"
      },
      "execution_count": null,
      "outputs": []
    },
    {
      "cell_type": "code",
      "source": [
        "a"
      ],
      "metadata": {
        "id": "E7NQ5cHwEjWC"
      },
      "execution_count": null,
      "outputs": []
    },
    {
      "cell_type": "code",
      "source": [
        "b"
      ],
      "metadata": {
        "id": "wFf4YRL0Ej8V"
      },
      "execution_count": null,
      "outputs": []
    },
    {
      "cell_type": "code",
      "source": [
        "x=[10,20,30]"
      ],
      "metadata": {
        "id": "9naoURP0EkWN"
      },
      "execution_count": null,
      "outputs": []
    },
    {
      "cell_type": "code",
      "source": [
        "a,b,c=x"
      ],
      "metadata": {
        "id": "tQweHjvqEp-T"
      },
      "execution_count": null,
      "outputs": []
    },
    {
      "cell_type": "code",
      "source": [
        "a"
      ],
      "metadata": {
        "id": "C6ygKP16Er26"
      },
      "execution_count": null,
      "outputs": []
    },
    {
      "cell_type": "code",
      "source": [
        "x=(10,20,30)"
      ],
      "metadata": {
        "id": "W3ZA6jb3Ev3X"
      },
      "execution_count": null,
      "outputs": []
    },
    {
      "cell_type": "code",
      "source": [
        "a,b,c=x"
      ],
      "metadata": {
        "id": "g0X51kK_E5O0"
      },
      "execution_count": null,
      "outputs": []
    },
    {
      "cell_type": "code",
      "source": [
        "b"
      ],
      "metadata": {
        "id": "dUvRvXIgE6RT"
      },
      "execution_count": null,
      "outputs": []
    },
    {
      "cell_type": "code",
      "source": [
        "[1,2]+[3,4]"
      ],
      "metadata": {
        "id": "Bblua2fAE6yN"
      },
      "execution_count": null,
      "outputs": []
    },
    {
      "cell_type": "code",
      "source": [
        "(1,2)+(3,4)"
      ],
      "metadata": {
        "id": "0XR67LHwFYfM"
      },
      "execution_count": null,
      "outputs": []
    },
    {
      "cell_type": "code",
      "source": [
        "[1,2]*10"
      ],
      "metadata": {
        "id": "mRjzaSIjFc3L"
      },
      "execution_count": null,
      "outputs": []
    },
    {
      "cell_type": "code",
      "source": [
        "(1,2)*5"
      ],
      "metadata": {
        "id": "YLdSGpi4FhPd"
      },
      "execution_count": null,
      "outputs": []
    },
    {
      "cell_type": "code",
      "source": [
        "len((1,2)*5)"
      ],
      "metadata": {
        "id": "p--rhmmgFkTU"
      },
      "execution_count": null,
      "outputs": []
    },
    {
      "cell_type": "code",
      "source": [
        "x=list(range(10,50,10))"
      ],
      "metadata": {
        "id": "AzF79JDHFqSa"
      },
      "execution_count": null,
      "outputs": []
    },
    {
      "cell_type": "code",
      "source": [
        "x"
      ],
      "metadata": {
        "id": "vIxaynQLF7uV"
      },
      "execution_count": null,
      "outputs": []
    },
    {
      "cell_type": "code",
      "source": [
        "100 in x"
      ],
      "metadata": {
        "id": "270boCiHF8Ml"
      },
      "execution_count": null,
      "outputs": []
    },
    {
      "cell_type": "code",
      "source": [
        "10 in x"
      ],
      "metadata": {
        "id": "5vAtsheGGECn"
      },
      "execution_count": null,
      "outputs": []
    },
    {
      "cell_type": "code",
      "source": [
        "100 not in x"
      ],
      "metadata": {
        "id": "cEtZl0HzGI90"
      },
      "execution_count": null,
      "outputs": []
    },
    {
      "cell_type": "code",
      "source": [
        "x=(10,20,30)\n",
        "10 in x"
      ],
      "metadata": {
        "id": "Q43qsq18GPrD"
      },
      "execution_count": null,
      "outputs": []
    },
    {
      "cell_type": "code",
      "source": [
        "1 in range(5)"
      ],
      "metadata": {
        "id": "A_m0EhrQGaBa"
      },
      "execution_count": null,
      "outputs": []
    },
    {
      "cell_type": "code",
      "source": [
        "'t' in 'test'"
      ],
      "metadata": {
        "id": "QV5ejK1OGhgr"
      },
      "execution_count": null,
      "outputs": []
    },
    {
      "cell_type": "code",
      "source": [
        "'te' in 'test'"
      ],
      "metadata": {
        "id": "cpiAWoyMGuvz"
      },
      "execution_count": null,
      "outputs": []
    },
    {
      "cell_type": "code",
      "source": [
        "'test1' in 'test'"
      ],
      "metadata": {
        "id": "J_-zoS8PGxSV"
      },
      "execution_count": null,
      "outputs": []
    },
    {
      "cell_type": "code",
      "source": [
        "[1,2]+[3,4]"
      ],
      "metadata": {
        "id": "HrkZk9smGzRC"
      },
      "execution_count": null,
      "outputs": []
    },
    {
      "cell_type": "code",
      "source": [
        "range(1,3) + range(3,5)"
      ],
      "metadata": {
        "id": "9auLtlO7G_6C"
      },
      "execution_count": null,
      "outputs": []
    },
    {
      "cell_type": "code",
      "source": [
        "list(range(1,3)) + list(range(3,5))"
      ],
      "metadata": {
        "id": "JOdZ3fdGHBxD"
      },
      "execution_count": null,
      "outputs": []
    },
    {
      "cell_type": "code",
      "source": [
        "len(\"안녕하세요\")"
      ],
      "metadata": {
        "id": "9cK2A1WuHMNa"
      },
      "execution_count": null,
      "outputs": []
    },
    {
      "cell_type": "code",
      "source": [
        "len(\"안녕하세요\".encode('utf-8'))"
      ],
      "metadata": {
        "id": "5B970YiKHh8f"
      },
      "execution_count": null,
      "outputs": []
    },
    {
      "cell_type": "code",
      "source": [
        "x=list(range(0,100,10))"
      ],
      "metadata": {
        "id": "aKR74qaRHs15"
      },
      "execution_count": null,
      "outputs": []
    },
    {
      "cell_type": "code",
      "source": [
        "x"
      ],
      "metadata": {
        "id": "knyNc_a2LGuw"
      },
      "execution_count": null,
      "outputs": []
    },
    {
      "cell_type": "code",
      "source": [
        "x[0:8]"
      ],
      "metadata": {
        "id": "pfqLTT0jLHLo"
      },
      "execution_count": null,
      "outputs": []
    },
    {
      "cell_type": "code",
      "source": [
        "x[0:8:3]"
      ],
      "metadata": {
        "id": "9zeIJn_hLOa4"
      },
      "execution_count": null,
      "outputs": []
    },
    {
      "cell_type": "code",
      "source": [
        "x[:8:3]"
      ],
      "metadata": {
        "id": "3YpE5R2JLSPI"
      },
      "execution_count": null,
      "outputs": []
    },
    {
      "cell_type": "code",
      "source": [
        "x[2::3]"
      ],
      "metadata": {
        "id": "qIz_7UIxLffD"
      },
      "execution_count": null,
      "outputs": []
    },
    {
      "cell_type": "code",
      "source": [
        "x[:]"
      ],
      "metadata": {
        "id": "DPcwVsUSLmc6"
      },
      "execution_count": null,
      "outputs": []
    },
    {
      "cell_type": "code",
      "source": [
        "x[::2]"
      ],
      "metadata": {
        "id": "Uvw_koaRLtjC"
      },
      "execution_count": null,
      "outputs": []
    },
    {
      "cell_type": "code",
      "source": [
        "x[8:2:-1]"
      ],
      "metadata": {
        "id": "PP_S9InsLzmH"
      },
      "execution_count": null,
      "outputs": []
    },
    {
      "cell_type": "code",
      "source": [
        "x[8:2:-3]"
      ],
      "metadata": {
        "id": "QtGVE9ebL9t4"
      },
      "execution_count": null,
      "outputs": []
    },
    {
      "cell_type": "code",
      "source": [
        "x"
      ],
      "metadata": {
        "id": "jN-BHTwGMFp2"
      },
      "execution_count": null,
      "outputs": []
    },
    {
      "cell_type": "code",
      "source": [
        "x[0:len(x)]"
      ],
      "metadata": {
        "id": "UxBeIhyyMPbf"
      },
      "execution_count": null,
      "outputs": []
    },
    {
      "cell_type": "code",
      "source": [
        "x=\"hihello\""
      ],
      "metadata": {
        "id": "cVRZEYIOMTgA"
      },
      "execution_count": null,
      "outputs": []
    },
    {
      "cell_type": "code",
      "source": [
        "x[:]"
      ],
      "metadata": {
        "id": "S7MWCHnlMfGn"
      },
      "execution_count": null,
      "outputs": []
    },
    {
      "cell_type": "code",
      "source": [
        "x[1:5:2]"
      ],
      "metadata": {
        "id": "XUfEM_GRMgE4"
      },
      "execution_count": null,
      "outputs": []
    },
    {
      "cell_type": "code",
      "source": [
        "x"
      ],
      "metadata": {
        "id": "np_wvXPtMjFw"
      },
      "execution_count": null,
      "outputs": []
    },
    {
      "cell_type": "code",
      "source": [
        "x[2:5]"
      ],
      "metadata": {
        "id": "7sm4ndpvMxYb"
      },
      "execution_count": null,
      "outputs": []
    },
    {
      "cell_type": "code",
      "source": [
        "x=list(range(10,100,10))\n",
        "x"
      ],
      "metadata": {
        "id": "Xg3GCJaMM1PM"
      },
      "execution_count": null,
      "outputs": []
    },
    {
      "cell_type": "code",
      "source": [
        "x[2:5]=['a','b','c']"
      ],
      "metadata": {
        "id": "ZSGupOvEM6hn"
      },
      "execution_count": null,
      "outputs": []
    },
    {
      "cell_type": "code",
      "source": [
        "x"
      ],
      "metadata": {
        "id": "CSLDPTCLNJU_"
      },
      "execution_count": null,
      "outputs": []
    },
    {
      "cell_type": "code",
      "source": [
        "x"
      ],
      "metadata": {
        "id": "XkXxl4cJNJ0m"
      },
      "execution_count": null,
      "outputs": []
    },
    {
      "cell_type": "code",
      "source": [
        "x=list(range(10,100,10))\n",
        "x"
      ],
      "metadata": {
        "id": "cXep9foWNWMW"
      },
      "execution_count": null,
      "outputs": []
    },
    {
      "cell_type": "code",
      "source": [
        "x[2:5]='k'"
      ],
      "metadata": {
        "id": "ZRwUylUtNa0O"
      },
      "execution_count": null,
      "outputs": []
    },
    {
      "cell_type": "code",
      "source": [
        "x"
      ],
      "metadata": {
        "id": "3O2I6ZMpNpyv"
      },
      "execution_count": null,
      "outputs": []
    },
    {
      "cell_type": "code",
      "source": [
        "x"
      ],
      "metadata": {
        "id": "83zGoW8uNvoo"
      },
      "execution_count": null,
      "outputs": []
    },
    {
      "cell_type": "code",
      "source": [
        "del x[3:5]"
      ],
      "metadata": {
        "id": "RpGyXcnQOErq"
      },
      "execution_count": null,
      "outputs": []
    },
    {
      "cell_type": "code",
      "source": [
        "x"
      ],
      "metadata": {
        "id": "13Nn0aEyOHgf"
      },
      "execution_count": null,
      "outputs": []
    },
    {
      "cell_type": "code",
      "source": [
        "x=list(range(10,100,10))\n",
        "x"
      ],
      "metadata": {
        "id": "xXbwNSRvOH8m"
      },
      "execution_count": null,
      "outputs": []
    },
    {
      "cell_type": "code",
      "source": [
        "del x[2:8:2]"
      ],
      "metadata": {
        "id": "1zUBPBxsOTRa"
      },
      "execution_count": null,
      "outputs": []
    },
    {
      "cell_type": "code",
      "source": [
        "x"
      ],
      "metadata": {
        "id": "diSno3hWOWdS"
      },
      "execution_count": null,
      "outputs": []
    },
    {
      "cell_type": "code",
      "source": [
        "kor=57\n",
        "eng=82\n",
        "mat=90\n",
        "sci=88"
      ],
      "metadata": {
        "id": "P80W0pcEOXB4"
      },
      "execution_count": null,
      "outputs": []
    },
    {
      "cell_type": "code",
      "source": [
        "#네 과목 중 적어도 한 과목 이상이 50점 미만이면 불합격(False)출력\n",
        "#NOT, AND, OR 연산자를 활용\n",
        "kor>=50 and eng>=50 and mat>=50 and sci>=50"
      ],
      "metadata": {
        "id": "ZHd0hsefOzmZ"
      },
      "execution_count": null,
      "outputs": []
    },
    {
      "cell_type": "code",
      "source": [
        "#정수 3개를 입력받아 덧셈, 뺄셈, 곱셈의 결과를 각각 출력하시오."
      ],
      "metadata": {
        "id": "YxP_-T2cQMBK"
      },
      "execution_count": null,
      "outputs": []
    },
    {
      "cell_type": "code",
      "source": [
        "# x = int(input())\n",
        "# y = int(input())\n",
        "# z = int(input())\n",
        "a,b,c=map(int, input().split())   #\"3 2 4\".split() => ['3','2','4']"
      ],
      "metadata": {
        "id": "96RDeAAVRibD"
      },
      "execution_count": null,
      "outputs": []
    },
    {
      "cell_type": "code",
      "source": [
        "#int(a)+int(b)+int(c)\n"
      ],
      "metadata": {
        "id": "I_anv4UNSEJS"
      },
      "execution_count": null,
      "outputs": []
    },
    {
      "cell_type": "code",
      "source": [
        "a = x + y + z\n",
        "b = x - y - z\n",
        "c = x * y * z"
      ],
      "metadata": {
        "id": "BON0UXKDRmcV"
      },
      "execution_count": null,
      "outputs": []
    },
    {
      "cell_type": "code",
      "source": [
        "print(a, b, c)"
      ],
      "metadata": {
        "id": "2tsLnQKqRsjG"
      },
      "execution_count": null,
      "outputs": []
    },
    {
      "cell_type": "code",
      "source": [
        "A=\"\"\"[서울=뉴시스]이인준 기자 = 챗GPT 같은 생성형 AI를 통해 한국의 기업 생산량이 최대 620조원(4763억달러) 증가할 수 있다는 분석이 제기됐다.\n",
        "\n",
        "대한상공회의소가 28일 마이크로소프트, 영국 컨설팅그룹 엑세스파트너십과 함께 발간한 '생성형 AI가 한국경제에 미치는 영향 보고서'에 따르면 생성형 AI 적용에 따른 한국 경제의 잠재적 생산역량(productive capacity)은 지난해 국내총생산(GDP) 2150조6000억원(명목) 대비 29%에 달한다.\"\"\""
      ],
      "metadata": {
        "id": "-uPy-CBFRvS0"
      },
      "execution_count": null,
      "outputs": []
    },
    {
      "cell_type": "code",
      "source": [
        "#기자 이름\n",
        "#620 숫자 출력\n",
        "#29% 출"
      ],
      "metadata": {
        "id": "dbe0BVFiTDdq"
      },
      "execution_count": null,
      "outputs": []
    },
    {
      "cell_type": "code",
      "source": [
        "A.find('이인준')"
      ],
      "metadata": {
        "id": "Sn-hrGcaUXmf"
      },
      "execution_count": null,
      "outputs": []
    },
    {
      "cell_type": "code",
      "source": [
        "A[8:11]"
      ],
      "metadata": {
        "id": "TgB6uvn-UYl_"
      },
      "execution_count": null,
      "outputs": []
    },
    {
      "cell_type": "code",
      "source": [
        "A.find('기자')\n",
        "A[A.find('기자')-4:A.find('기자')]\n",
        "A[A.find('620'):A.find('620')+3]\n",
        "A[A.find('29%'):A.find('29%')+3]"
      ],
      "metadata": {
        "id": "ZN6P1w-6UbB1"
      },
      "execution_count": null,
      "outputs": []
    }
  ]
}