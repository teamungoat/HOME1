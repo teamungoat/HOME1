{
  "nbformat": 4,
  "nbformat_minor": 0,
  "metadata": {
    "colab": {
      "private_outputs": true,
      "provenance": []
    },
    "kernelspec": {
      "name": "python3",
      "display_name": "Python 3"
    },
    "language_info": {
      "name": "python"
    }
  },
  "cells": [
    {
      "cell_type": "code",
      "execution_count": null,
      "metadata": {
        "id": "7NKkB65e8WJ7"
      },
      "outputs": [],
      "source": [
        "def n_plus_1 (n) :\n",
        "    result = n + 1\n",
        "\n",
        "n_plus_1(3)\n",
        "print (result)\n",
        "#함수 내부에서 선언된 지역변수 이므로 에러 발생"
      ]
    },
    {
      "cell_type": "code",
      "source": [
        "text = \"아이엠어보이유알어걸\"\n",
        "\n",
        "def print_5xn(string):\n",
        "    for i, t in enumerate(string): #0,아  1,이 ... 4,보\n",
        "        if(i % 5 == 4): #5글자씩 쪼개기 위해\n",
        "            print(t) #줄바꿈\n",
        "        else:\n",
        "            print(t, end='') #이어서출력\n",
        "print_5xn(text)"
      ],
      "metadata": {
        "id": "I8as61tkCFyM"
      },
      "execution_count": null,
      "outputs": []
    },
    {
      "cell_type": "code",
      "source": [
        "def print_mxn(string, count):\n",
        "    for i, t in enumerate(string):\n",
        "        if(i % count - 2 == count - 3):\n",
        "            print(t)\n",
        "        else:\n",
        "            print(t, end='')\n",
        "\n",
        "print_mxn(\"아이엠어보이유알어걸\", 4)"
      ],
      "metadata": {
        "id": "YvgxTfrFDHSM"
      },
      "execution_count": null,
      "outputs": []
    },
    {
      "cell_type": "code",
      "source": [
        "def convert_int(data):\n",
        "    data = data.split(',')\n",
        "    res = ''\n",
        "    for i in data:\n",
        "        res += i\n",
        "    return res\n",
        "int(convert_int(\"1,234,567\"))"
      ],
      "metadata": {
        "id": "ul9IBpNSDllt"
      },
      "execution_count": null,
      "outputs": []
    },
    {
      "cell_type": "code",
      "source": [
        "my_dict = {\"10/26\" : [100, 130, 100, 100],\n",
        "           \"10/27\" : [10, 12, 10, 11]}\n",
        "def print_value_by_key(n_dict, n_key):\n",
        "    print(my_dict[n_key])\n",
        "    # for i in my_dict:\n",
        "    #     if i == n_key:\n",
        "    #         print(my_dict[n_key])\n",
        "\n",
        "print_value_by_key(my_dict, '10/26')"
      ],
      "metadata": {
        "id": "gEZNh9JQEKkH"
      },
      "execution_count": null,
      "outputs": []
    },
    {
      "cell_type": "code",
      "source": [
        "def print_5xn(s):\n",
        "    res = [s[i:i+5] for i in range(0, len(s), 5)] #range(0,10, 5) -> i=0, 5 => s[5:5+5]\n",
        "    print(res)\n",
        "    #for j in res:\n",
        "    #    print(j)\n",
        "\n",
        "print_5xn('아이엠어보이유알어걸')"
      ],
      "metadata": {
        "id": "Bgfm8Am1E1Vc"
      },
      "execution_count": null,
      "outputs": []
    },
    {
      "cell_type": "code",
      "source": [
        "def print_mxn(s, m):\n",
        "    res = [s[i:i+m] for i in range(0, len(s), m)]\n",
        "    for j in res:\n",
        "        print(j)\n",
        "\n",
        "print_mxn('아이엠어보이유알어걸', 3)"
      ],
      "metadata": {
        "id": "iSGxnNo1F8FG"
      },
      "execution_count": null,
      "outputs": []
    },
    {
      "cell_type": "code",
      "source": [
        "def print_even(num):\n",
        "    return str(num) # 반환값에 join함수를 사용하기 위해 문자열로 변환합니다.\n",
        "\n",
        "print(\"\\n\".join(list(map(print_even, filter(lambda i : i % 2 == 0, list(map(int, input(\"숫자 입력: \").split()))  )))))\n",
        "#숫자 입력: 1 3 2 10 12 11 15 => [1, 3, 2, 10, 12, 11, 15] => [2, 10, 12] => ['2', '10', '12']"
      ],
      "metadata": {
        "id": "ndbLrlh6InCd"
      },
      "execution_count": null,
      "outputs": []
    },
    {
      "cell_type": "code",
      "source": [
        "list(map(int, input(\"숫자 입력: \").split()))"
      ],
      "metadata": {
        "id": "3zg0d5NuInmr"
      },
      "execution_count": null,
      "outputs": []
    },
    {
      "cell_type": "code",
      "source": [
        "list(filter(lambda i : i % 2 == 0, [1, 3, 2, 10, 12, 11, 15]))"
      ],
      "metadata": {
        "id": "l777rm61Izug"
      },
      "execution_count": null,
      "outputs": []
    },
    {
      "cell_type": "code",
      "source": [
        "list(map(print_even,[2, 10, 12]))"
      ],
      "metadata": {
        "id": "gSPEuJPhJE2R"
      },
      "execution_count": null,
      "outputs": []
    },
    {
      "cell_type": "code",
      "source": [
        "print(\"\\n\".join(['2', '10', '12']))"
      ],
      "metadata": {
        "id": "Vi6pJgzUJQYE"
      },
      "execution_count": null,
      "outputs": []
    },
    {
      "cell_type": "code",
      "source": [
        "def print_keys(dic):\n",
        "    key_lst = list(dic.keys()) # 키 들만 빼와서 저장\n",
        "    print(\"\\n\".join(key_lst)) # 줄바꿈 문자로 이어붙여 새로운 문자열 생성\n",
        "\n",
        "input_profile = input(\"개인정보 입력: \").split(\" \")\n",
        "k_lst = input_profile[::2] # 키 저장\n",
        "v_lst = input_profile[1::2] # 밸류 저장\n",
        "print(k_lst) #['이름', '나이', '성별']\n",
        "profile = dict(zip(k_lst, v_lst)) # 인덱스 번호끼리 튜플로 묶고 딕셔너리로 변환\n",
        "print_keys(profile)"
      ],
      "metadata": {
        "id": "oLXyzqTJJX0v"
      },
      "execution_count": null,
      "outputs": []
    },
    {
      "cell_type": "code",
      "source": [
        "def print_keys(dic):\n",
        "    key_lst = list(dic..keys()) # 키 들만 빼와서 저장\n",
        "    print(\"\\n\".join(key_lst)) # 줄바꿈 문자로 이어붙여 새로운 문자열 생성\n",
        "\n",
        "input_profile = input(\"개인정보 입력: \").split(\" \")\n",
        "k_lst = input_profile[::2] # 키 저장\n",
        "v_lst = input_profile[1::2] # 밸류 저장\n",
        "profile = dict(zip(k_lst, v_lst)) # 인덱스 번호끼리 튜플로 묶고 딕셔너리로 변환\n",
        "print_keys(profile)\n",
        "\n",
        "# 질문\n",
        "dict(map(lambda k, v : ([k, v]), k_lst, v_lst)) # 오류 안남 why?\n",
        "# dict(map(lambda k, v : [(k, v)], k_lst, v_lst)) # 오류 남 why?\n",
        "# dict(map(lambda k, v : (k, v), k_lst, v_lst)) # 오류 안남 why?\n",
        "# dict(map(lambda k, v : [k, v], k_lst, v_lst)) # 오류 안남 why?"
      ],
      "metadata": {
        "id": "M8VIevoEJ0Kl"
      },
      "execution_count": null,
      "outputs": []
    },
    {
      "cell_type": "code",
      "source": [
        "dict(map(lambda k, v : ([k, v]), k_lst, v_lst))"
      ],
      "metadata": {
        "id": "UnuaCZRDL5R_"
      },
      "execution_count": null,
      "outputs": []
    },
    {
      "cell_type": "code",
      "source": [
        "#dict(map(lambda k, v : ([k, v]), k_lst, v_lst)) # 오류 안남 why?\n",
        "#dict(map(lambda k, v : [(k, v)], k_lst, v_lst)) # 오류 남 why?\n",
        "#dict(map(lambda k, v : (k, v), k_lst, v_lst)) # 오류 안남 why?\n",
        "#dict(map(lambda k, v : [k, v], k_lst, v_lst)) # 오류 안남 why?"
      ],
      "metadata": {
        "id": "m8uScj8eMOYz"
      },
      "execution_count": null,
      "outputs": []
    },
    {
      "cell_type": "code",
      "source": [
        "def convert_int(string):\n",
        "    lst = string[:]\n",
        "    convert = []\n",
        "    for i in lst:\n",
        "        try:\n",
        "            int(i) # 정수로 타입 변환 시도가 되면 convert리스트에 넣고 안되면 넣지 않습니다.\n",
        "        except:\n",
        "            continue\n",
        "        else:\n",
        "            convert.append(i)\n",
        "    return \"\".join(convert)\n",
        "\n",
        "convert_int(\"1,234,567\")"
      ],
      "metadata": {
        "id": "6zBjvsPZMgRc"
      },
      "execution_count": null,
      "outputs": []
    },
    {
      "cell_type": "code",
      "source": [
        "# [0-9]*\n",
        "# [0-9a-z]*\n",
        "# 문자?\n",
        "# [0-9]?\n",
        "# abc?d\n",
        "import re"
      ],
      "metadata": {
        "id": "dXzZcnzQMhxm"
      },
      "execution_count": null,
      "outputs": []
    },
    {
      "cell_type": "code",
      "source": [
        "re.match(\"abc?d\", \"abd\")\n",
        "re.match(\"abc?d\", \"abcd\")\n",
        "re.match(\"abc?d\", \"abccd\")\n",
        "re.match(\"ab.d\", \"ab\")\n",
        "re.match(\"ab.d\", \"ab7d\")\n",
        "\n",
        "re.match(\"ab.d\", \"ab7dsaofidhjiofjweoiruw\")"
      ],
      "metadata": {
        "id": "WbGdrBY0Mmjl"
      },
      "execution_count": null,
      "outputs": []
    },
    {
      "cell_type": "code",
      "source": [
        "re.match(\"패턴\", \"문자열\")\n",
        "#패턴이 문자열에 있으면 \"패턴매치\""
      ],
      "metadata": {
        "id": "KoTO8eeVMuLn"
      },
      "execution_count": null,
      "outputs": []
    },
    {
      "cell_type": "code",
      "source": [
        "#a{3} : a문자가 정확하게 3개\n",
        "re.match(\"a{3}\", \"aaa\")\n",
        "re.match(\"a{3}\", \"aaaa\")\n",
        "re.match(\"a{3}\", \"baaaa\")\n",
        "re.match(\"a{3}\", \"aabaa\")\n",
        "re.match(\"a{3}\", \"aabaaa\")\n",
        "\n",
        "re.match(\"abc{3}\", \"abccc\")\n",
        "re.match(\"abc{3}\", \"ccc\")\n",
        "re.match(\"abc{3}\", \"abc\")\n",
        "\n",
        "re.match(\"a{2}bc{3}\", \"aabccc\")\n",
        "re.match(\"a{2}bc{3}\", \"aabbccc\")\n",
        "re.match(\"a{2}b.c{3}\", \"aab가ccc\")\n",
        "re.match(\"a{2}b.c{3}\", \"aab#ccc\")\n"
      ],
      "metadata": {
        "id": "BE71Y1EYNIo1"
      },
      "execution_count": null,
      "outputs": []
    },
    {
      "cell_type": "code",
      "source": [
        "re.match(\"hi{3}\",\"hiii\")\n",
        "re.match(\"hi{3}\",\"hii\")\n",
        "re.match(\"hi{3}\",\"hiiiiiii\")\n",
        "re.match(\"(hi){3}\",\"hiiiiiii\") #():하나의 그룹\n",
        "re.match(\"(hi){3}\",\"hihihi\")"
      ],
      "metadata": {
        "id": "Biuv7ZX6NbV5"
      },
      "execution_count": null,
      "outputs": []
    },
    {
      "cell_type": "code",
      "source": [
        "re.match(\"[0-9]\",\"51\")\n",
        "re.match(\"[0-9]*\",\"51\")\n",
        "#re.match(\"[0-9]+\",\"51\")"
      ],
      "metadata": {
        "id": "XpxzWmcfNdMZ"
      },
      "execution_count": null,
      "outputs": []
    },
    {
      "cell_type": "code",
      "source": [
        "re.match(\"[0-9]{3}\",\"123\") #숫자가 반드시 3개\n",
        "re.match(\"[0-9]{3}\",\"1234\") #숫자가 반드시 3개\n",
        "re.match(\"[0-9]{3}\",\"12\") #숫자가 반드시 3개\n",
        "\n",
        "re.match(\"\",\"010-1234-5678\")"
      ],
      "metadata": {
        "id": "2XwCw0ONNhFy"
      },
      "execution_count": null,
      "outputs": []
    },
    {
      "cell_type": "code",
      "source": [
        "re.match(\"[0-9]{3}-[0-9]{4}-[0-9]{4}\", \"010-1234-5678\")"
      ],
      "metadata": {
        "id": "XnkfvOCPV3Dj"
      },
      "execution_count": null,
      "outputs": []
    },
    {
      "cell_type": "code",
      "source": [
        "re.match('[0-9]+-[0-9]+-[0-9]+','0-954-5678')"
      ],
      "metadata": {
        "id": "SozV1IdlWtHo"
      },
      "execution_count": null,
      "outputs": []
    },
    {
      "cell_type": "code",
      "source": [
        "re.match('[0-9]{3}.[0-9]{4}.[0-9]{4}','0103123435678')"
      ],
      "metadata": {
        "id": "CuLF9DpDWwIh"
      },
      "execution_count": null,
      "outputs": []
    },
    {
      "cell_type": "code",
      "source": [
        "re.match(\"010-[0-9]{4}-[0-9]{4}\",\"010-1234-56778\")"
      ],
      "metadata": {
        "id": "bqDjeMoJXE0d"
      },
      "execution_count": null,
      "outputs": []
    },
    {
      "cell_type": "code",
      "source": [
        "tel=\"010-1234-56778\"\n",
        "res=re.match(\"[0-9]{2,3}-[0-9]{3,4}-[0-9]{4}\",tel)"
      ],
      "metadata": {
        "id": "90bCm4lca5qO"
      },
      "execution_count": null,
      "outputs": []
    },
    {
      "cell_type": "code",
      "source": [
        "res"
      ],
      "metadata": {
        "id": "1bHX5h5zbSXD"
      },
      "execution_count": null,
      "outputs": []
    },
    {
      "cell_type": "code",
      "source": [
        "tel[res.span()[0]:res.span()[1]] #res.group()"
      ],
      "metadata": {
        "id": "Y9NX2WHVbbsW"
      },
      "execution_count": null,
      "outputs": []
    },
    {
      "cell_type": "code",
      "source": [
        "res.group()"
      ],
      "metadata": {
        "id": "Dc88Nibwbmy4"
      },
      "execution_count": null,
      "outputs": []
    },
    {
      "cell_type": "code",
      "source": [
        "re.match(\"Hello123\", \"Hello123\")\n",
        "re.match(\"[A-Za-z0-9]+\", \"Hello123\")\n",
        "re.match(\"Hello[0-9]{3}\",\"Hello123\")"
      ],
      "metadata": {
        "id": "_FX90fBecE2v"
      },
      "execution_count": null,
      "outputs": []
    },
    {
      "cell_type": "code",
      "source": [
        "re.match('[A-Z]*[a-z]+[0-9]+', 'Hello123')"
      ],
      "metadata": {
        "id": "nv8LL87ldxGf"
      },
      "execution_count": null,
      "outputs": []
    },
    {
      "cell_type": "code",
      "source": [
        "re.match('', 'Hello123')\n",
        "#반드시 대문자로 시작(1글자)\n",
        "#2번째 글자부터는 반드시 소문자로\n",
        "#문자열은 숫자로 끝나야 한다"
      ],
      "metadata": {
        "id": "DGfWeSSKePW9"
      },
      "execution_count": null,
      "outputs": []
    },
    {
      "cell_type": "code",
      "source": [
        "re.match(\"[A-Z]{1}[a-z]+[0-9]+\", \"Hello123\")\n",
        "re.match('[A-Z][a-z]+[1-9]+','Hello123')"
      ],
      "metadata": {
        "id": "RS2DKrDXfaag"
      },
      "execution_count": null,
      "outputs": []
    },
    {
      "cell_type": "code",
      "source": [
        "re.match(\"[ABCK]\",\"D\")"
      ],
      "metadata": {
        "id": "HHmiQPBbfbNo"
      },
      "execution_count": null,
      "outputs": []
    },
    {
      "cell_type": "code",
      "source": [
        "re.match(\"[A-z]+123\", \"Hello_123\") # 65~122"
      ],
      "metadata": {
        "id": "nA4eLv0Jf1s2"
      },
      "execution_count": null,
      "outputs": []
    },
    {
      "cell_type": "code",
      "source": [
        "re.match(\"[A-Za-zㄱ-ㅎ가-힣]+123\", \"Hello_123\")\n",
        "      #65~90 or 97~122\n",
        "# A:65\n",
        "# Z:90\n",
        "# a:97\n",
        "# z:122"
      ],
      "metadata": {
        "id": "biWlB3F7gLI6"
      },
      "execution_count": null,
      "outputs": []
    },
    {
      "cell_type": "code",
      "source": [
        "re.match(\"[가-힣]\", \"딥러닝\")"
      ],
      "metadata": {
        "id": "H73NL4oHgZAl"
      },
      "execution_count": null,
      "outputs": []
    },
    {
      "cell_type": "code",
      "source": [
        "re.match(\"[가-힣]+\", \"딥러닝\")"
      ],
      "metadata": {
        "id": "K70RD_ilhhaQ"
      },
      "execution_count": null,
      "outputs": []
    },
    {
      "cell_type": "code",
      "source": [
        "re.match(\"[^0-9]\",\"123\") #숫자 제외\n",
        "re.match(\"[^0-9]\",\"abc\") #숫자 제외, 1문자\n",
        "re.match(\"[^0-9]+\",\"abc\") #숫자가 아닌 문자가 1문자 이상나오면 매치\n",
        "re.match(\"[^0-9]+\",\"abc123\")\n",
        "re.match(\"[^0-9a-z]+\",\"abc123\")#숫자 또는 영문소문자가 아닌 문자가 1문자 이상나오면 매치\n",
        "re.match(\"[^0-9a-z]+\",\"오늘의 환율은 1300원입니다\")\n",
        "re.match(\"[^0-9a-zA-Z가-힣]+\",\"$300\") #[]안에 ^기호를 넣으면 NOT의 의미"
      ],
      "metadata": {
        "id": "3thvvwqKhkcH"
      },
      "execution_count": null,
      "outputs": []
    },
    {
      "cell_type": "code",
      "source": [
        "re.match(\"[A-Z]+\", 'Hi')\n",
        "re.match(\"[^A-Z]+\", 'Hi')\n",
        "re.match(\"^[A-Z]+\", 'Hi') #^를 [] 앞에 붙이면 특정 문자(범위)로 시작하는 패턴식\n",
        "#^[A-Z]+:1개 이상의 대문자로 시작하는 문자열인 경우 매치됨"
      ],
      "metadata": {
        "id": "FXq9vXkMh0Qi"
      },
      "execution_count": null,
      "outputs": []
    },
    {
      "cell_type": "code",
      "source": [
        "re.match(\"^[A-Z]+\", 'HELLOhi')"
      ],
      "metadata": {
        "id": "HXuL3EXjjXja"
      },
      "execution_count": null,
      "outputs": []
    },
    {
      "cell_type": "code",
      "source": [
        "# [범위]*$ #특정 문자(숫자) 범위로 끝나는지 확인\n",
        "# [범위]+$ #특정 문자(숫자) 범위로 끝나는지 확인"
      ],
      "metadata": {
        "id": "3LZP7LiwjygA"
      },
      "execution_count": null,
      "outputs": []
    },
    {
      "cell_type": "code",
      "source": [
        "re.match(\"[0-9]+$\",\"abc123\")\n",
        "re.search(\"[0-9]+$\",\"abc123\")"
      ],
      "metadata": {
        "id": "bHPWErIt18rI"
      },
      "execution_count": null,
      "outputs": []
    },
    {
      "cell_type": "code",
      "source": [
        "re.search(\"[0-9]+$\",\"abc123abc\")\n",
        "re.search(\"[0-9]+\",\"abc123abc\")"
      ],
      "metadata": {
        "id": "YcmFgRPa2MnU"
      },
      "execution_count": null,
      "outputs": []
    },
    {
      "cell_type": "code",
      "source": [
        "re.search(\"[0-9]+$\",\"abc123\")"
      ],
      "metadata": {
        "id": "3IhYm6uT2yzt"
      },
      "execution_count": null,
      "outputs": []
    },
    {
      "cell_type": "code",
      "source": [
        "re.search(\"[0-9]+\",\"abc123\")"
      ],
      "metadata": {
        "id": "FAOQ4FPd25aX"
      },
      "execution_count": null,
      "outputs": []
    },
    {
      "cell_type": "code",
      "source": [
        "re.search( \"\\*+\" , \"3 ** 2\") #*이 1개 이상 있는지 판단"
      ],
      "metadata": {
        "id": "JMQS3-b728eg"
      },
      "execution_count": null,
      "outputs": []
    },
    {
      "cell_type": "code",
      "source": [
        "re.search( \"[*]\" , \"3 ** 2\") #*이 1개 이상 있는지 판단\n",
        "re.search( \"[*]+\" , \"3 ** 2\") #*이 1개 이상 있는지 판단"
      ],
      "metadata": {
        "id": "9MIA0tCv4DAw"
      },
      "execution_count": null,
      "outputs": []
    },
    {
      "cell_type": "code",
      "source": [
        "re.search(\"\", \"2 ** 3 / 2\")"
      ],
      "metadata": {
        "id": "2q3zPZwL4viJ"
      },
      "execution_count": null,
      "outputs": []
    },
    {
      "cell_type": "code",
      "source": [
        "re.search(\"[1-9] [*]+ [1-9] [/] [1-9]\", \"2 ** 3 / 2\")"
      ],
      "metadata": {
        "id": "ukotRaUL6T2C"
      },
      "execution_count": null,
      "outputs": []
    },
    {
      "cell_type": "code",
      "source": [
        "re.search(\"[0-9] [*]+ [0-9] / [0-9]\", \"2 ** 3 / 2\")"
      ],
      "metadata": {
        "id": "S4UDq38H6Wc6"
      },
      "execution_count": null,
      "outputs": []
    },
    {
      "cell_type": "code",
      "source": [
        "re.search('[0-9]+[\" \"][*]+[\" \"][0-9]+[\" \"][/][\" \"]+[0-9]','2 ** 3 / 2')"
      ],
      "metadata": {
        "id": "Cb4SKPKa64uJ"
      },
      "execution_count": null,
      "outputs": []
    },
    {
      "cell_type": "code",
      "source": [
        "re.search('[0-9 ]+[*]+[0-9 ]+[/ ]+[0-9]', '2 ** 3 / 2')"
      ],
      "metadata": {
        "id": "XRstJzZc7NrM"
      },
      "execution_count": null,
      "outputs": []
    },
    {
      "cell_type": "code",
      "source": [
        "re.search('[0-9 */]+', '2 ** 3 / 2')"
      ],
      "metadata": {
        "id": "z2e2dLIG7uIR"
      },
      "execution_count": null,
      "outputs": []
    },
    {
      "cell_type": "code",
      "source": [
        "re.search(\"매치되게 패턴식 정의\",\"$(print)\")"
      ],
      "metadata": {
        "id": "YsRvx7ce70N5"
      },
      "execution_count": null,
      "outputs": []
    },
    {
      "cell_type": "code",
      "source": [
        "re.search(\"[$(print)]+\", \"$(print)\")\n",
        "re.search(\"[$(a-z})]+\", \"$(print)\")"
      ],
      "metadata": {
        "id": "95LRw9Cs81KS"
      },
      "execution_count": null,
      "outputs": []
    },
    {
      "cell_type": "code",
      "source": [
        "\"\"\"\n",
        "[0-9] == \\d\n",
        "숫자를 제외한 모든 문자== [^0-9]  == \\D\n",
        "[a-zA-Z0-9_ㄱ-ㅎ가-힣] == \\w\n",
        "[^a-zA-Z0-9_ㄱ-ㅎ가-힣] == \\W\n",
        "\"\"\""
      ],
      "metadata": {
        "id": "zQoXoON0810c"
      },
      "execution_count": null,
      "outputs": []
    },
    {
      "cell_type": "code",
      "source": [
        "re.search(\"[^0-9]+\", \"LSJFLK234SJAFLKDJSAKFL\")"
      ],
      "metadata": {
        "id": "qz0_ygAw9T8W"
      },
      "execution_count": null,
      "outputs": []
    },
    {
      "cell_type": "code",
      "source": [
        "re.match(\"\\d+\", \"123\")\n",
        "re.match(\"\\D+\", \"hihello반가워~안녕\")\n",
        "re.match(\"\\w+\", \"hello_123\")\n",
        "re.match(\"\\W+\", \"hello_123\")"
      ],
      "metadata": {
        "id": "xIeRgadG9bPp"
      },
      "execution_count": null,
      "outputs": []
    },
    {
      "cell_type": "code",
      "source": [
        "re.match(\"\\w+\", \"ㅋㅋㅋ가나다\")"
      ],
      "metadata": {
        "id": "d5XE8Fql-D09"
      },
      "execution_count": null,
      "outputs": []
    },
    {
      "cell_type": "code",
      "source": [
        "#\\s:공백, 줄바꿈, 탭\n",
        "re.search(\"\\s+\", \"hi   hello\")"
      ],
      "metadata": {
        "id": "0DLqINpi_FlP"
      },
      "execution_count": null,
      "outputs": []
    },
    {
      "cell_type": "code",
      "source": [
        "re.search(\"[$(a-z)]+\", \"$(print)\")"
      ],
      "metadata": {
        "id": "jC9xwMUE_2gy"
      },
      "execution_count": null,
      "outputs": []
    },
    {
      "cell_type": "code",
      "source": [
        "pat=re.compile(\"[0-9]+\")"
      ],
      "metadata": {
        "id": "eHYSz0hADWnm"
      },
      "execution_count": null,
      "outputs": []
    },
    {
      "cell_type": "code",
      "source": [
        "pat.match(\"123\")\n",
        "pat.match(\"456\")"
      ],
      "metadata": {
        "id": "1ljUz75QDisv"
      },
      "execution_count": null,
      "outputs": []
    },
    {
      "cell_type": "code",
      "source": [
        "re.match(\"[0-9]+\", \"123\")\n",
        "re.match(\"[0-9]+\", \"456\")"
      ],
      "metadata": {
        "id": "fOKEmVyIDkcu"
      },
      "execution_count": null,
      "outputs": []
    },
    {
      "cell_type": "code",
      "source": [
        "pat.search(\"abc123def\")"
      ],
      "metadata": {
        "id": "7INYjS8EDpmw"
      },
      "execution_count": null,
      "outputs": []
    },
    {
      "cell_type": "code",
      "source": [
        "res=re.match(\"[0-9]+\", \"가123\")"
      ],
      "metadata": {
        "id": "pmeq5OT6D7jb"
      },
      "execution_count": null,
      "outputs": []
    },
    {
      "cell_type": "code",
      "source": [
        "if res:\n",
        "    print(\"매치됐어요\",res.group())\n",
        "else:\n",
        "    print(\"매치되지 않았어요\")"
      ],
      "metadata": {
        "id": "8kR4pzBKEUYi"
      },
      "execution_count": null,
      "outputs": []
    },
    {
      "cell_type": "code",
      "source": [
        "print(res)"
      ],
      "metadata": {
        "id": "j4z0MRavEb5L"
      },
      "execution_count": null,
      "outputs": []
    },
    {
      "cell_type": "code",
      "source": [
        "re.search(\"[a-zA-Z]+\", \"Do you have some money?\")"
      ],
      "metadata": {
        "id": "eRhgsS7uEllu"
      },
      "execution_count": null,
      "outputs": []
    },
    {
      "cell_type": "code",
      "source": [
        "res=re.findall(\"[a-zA-Z]+\", \"Do you have some money?\")\n",
        "res"
      ],
      "metadata": {
        "id": "j0lFIV50FEj9"
      },
      "execution_count": null,
      "outputs": []
    },
    {
      "cell_type": "code",
      "source": [
        "for r in res:\n",
        "    print(r)"
      ],
      "metadata": {
        "id": "eZBdH5C9FMnv"
      },
      "execution_count": null,
      "outputs": []
    },
    {
      "cell_type": "code",
      "source": [
        "res=re.finditer(\"[a-zA-Z]+\", \"Do you have some money?\")\n",
        "res"
      ],
      "metadata": {
        "id": "LlF-eVGaFYRp"
      },
      "execution_count": null,
      "outputs": []
    },
    {
      "cell_type": "code",
      "source": [
        "for r in res:\n",
        "    print(r)"
      ],
      "metadata": {
        "id": "3wNaNSXJFqtW"
      },
      "execution_count": null,
      "outputs": []
    },
    {
      "cell_type": "code",
      "source": [
        "m=re.match(\"[0-9]+\", \"p 123\")\n",
        "m"
      ],
      "metadata": {
        "id": "KnPDUxkJF4YP"
      },
      "execution_count": null,
      "outputs": []
    },
    {
      "cell_type": "code",
      "source": [
        "#m.start() #0\n",
        "#m.end()\n",
        "#m.span()"
      ],
      "metadata": {
        "id": "fQoJFE5RGKDU"
      },
      "execution_count": null,
      "outputs": []
    },
    {
      "cell_type": "code",
      "source": [
        "m=re.search(\"[0-9]+\", \"p 123\")\n",
        "m"
      ],
      "metadata": {
        "id": "eRkvGtaEGRhl"
      },
      "execution_count": null,
      "outputs": []
    },
    {
      "cell_type": "code",
      "source": [
        "m.start()\n",
        "#m.end()\n",
        "#m.span()"
      ],
      "metadata": {
        "id": "SBcPVbRAGl_E"
      },
      "execution_count": null,
      "outputs": []
    },
    {
      "cell_type": "code",
      "source": [
        "#(정규식)(정규식)\n",
        "#그룹 : (정규식)\n",
        "res=re.match(\"([0-9]+) ([0-9]+)\", \"100 200 300\")\n",
        "res"
      ],
      "metadata": {
        "id": "2dFcakx1Gnjz"
      },
      "execution_count": null,
      "outputs": []
    },
    {
      "cell_type": "code",
      "source": [
        "res.group(1)"
      ],
      "metadata": {
        "id": "9Uq385pqHd_x"
      },
      "execution_count": null,
      "outputs": []
    },
    {
      "cell_type": "code",
      "source": [
        "res.group(2)"
      ],
      "metadata": {
        "id": "Y5JtqnFHH_3Q"
      },
      "execution_count": null,
      "outputs": []
    },
    {
      "cell_type": "code",
      "source": [
        "res.group()\n",
        "#res.group(0)"
      ],
      "metadata": {
        "id": "KNwSl-61IF0I"
      },
      "execution_count": null,
      "outputs": []
    },
    {
      "cell_type": "code",
      "source": [
        "res.groups() #패턴에 매치된 문자열을 튜플형식으로 리턴"
      ],
      "metadata": {
        "id": "cOMYMHYAIJGR"
      },
      "execution_count": null,
      "outputs": []
    },
    {
      "cell_type": "code",
      "source": [
        "#패턴 그룹에 대한 이름 부여\n",
        "#(?P<그룹이름>정규식)"
      ],
      "metadata": {
        "id": "Ot-v-YtnIQW8"
      },
      "execution_count": null,
      "outputs": []
    },
    {
      "cell_type": "code",
      "source": [
        "res=re.match(\"(?P<func>[a-z]+)\\((?P<arg>\\d+)\\)\", \"print(100)\")\n",
        "res"
      ],
      "metadata": {
        "id": "0cjC1uV1IwHr"
      },
      "execution_count": null,
      "outputs": []
    },
    {
      "cell_type": "code",
      "source": [
        "res.group('func')#'func' 그룹 이름에 해당되는 패턴에 매치된 문자열을 리턴"
      ],
      "metadata": {
        "id": "umjsjDYCI_c_"
      },
      "execution_count": null,
      "outputs": []
    },
    {
      "cell_type": "code",
      "source": [
        "res.group('arg')"
      ],
      "metadata": {
        "id": "Bcg7N4t1JdNG"
      },
      "execution_count": null,
      "outputs": []
    },
    {
      "cell_type": "code",
      "source": [
        "#\"10 20 sky 50 100 bird 200\" #정규식을 사용하여 문자열에서 숫자만 추출하시오.\n",
        "re.findall('[0-9]+','10 20 sky 50 100 bird 200')"
      ],
      "metadata": {
        "id": "o_eEPp9gKGEe"
      },
      "execution_count": null,
      "outputs": []
    },
    {
      "cell_type": "code",
      "source": [
        "re.findall(\"(\\d+)\", \"10 20 sky 50 100 bird 200\")"
      ],
      "metadata": {
        "id": "VKwCgYELL7lw"
      },
      "execution_count": null,
      "outputs": []
    },
    {
      "cell_type": "code",
      "source": [
        "res=re.findall('(?P<nums>\\d+)', '10 20 sky 50 100 bird 200')\n",
        "res"
      ],
      "metadata": {
        "id": "zFyRVtLsMAvK"
      },
      "execution_count": null,
      "outputs": []
    },
    {
      "cell_type": "code",
      "source": [
        "#re.sub(\"정규식\",\"바꿀문자열\", \"문자열\", \"변경횟수\" )\n",
        "#자연어처리에서 문자열 전처리시 많이 사용되는 함수\n",
        "#변경횟수는 생략시 매칭된 문자열을 모두 변경"
      ],
      "metadata": {
        "id": "Hg5OGfMQMD9a"
      },
      "execution_count": null,
      "outputs": []
    },
    {
      "cell_type": "code",
      "source": [
        "re.sub(\"orange\", \"fruit\", \"orange banana tree box apple\")\n",
        "re.sub(\"orange\", \"fruit\", \"orange banana tree box apple orange orange\")"
      ],
      "metadata": {
        "id": "QLPm-W7lMLZc"
      },
      "execution_count": null,
      "outputs": []
    },
    {
      "cell_type": "code",
      "source": [
        "re.sub(\"orange\", \"fruit\", \"orange banana tree box apple orange orange\", 2)"
      ],
      "metadata": {
        "id": "kYG9jGhHM38O"
      },
      "execution_count": null,
      "outputs": []
    },
    {
      "cell_type": "code",
      "source": [
        "re.sub(\"orange|apple\", \"fruit\", \"orange banana tree box apple orange orange\")"
      ],
      "metadata": {
        "id": "4XP_ysLONE8J"
      },
      "execution_count": null,
      "outputs": []
    },
    {
      "cell_type": "code",
      "source": [
        "re.sub(\"orange|apple|banana\", \"fruit\", \"orange banana tree box apple orange orange\")"
      ],
      "metadata": {
        "id": "DZ7WH11DNPN7"
      },
      "execution_count": null,
      "outputs": []
    },
    {
      "cell_type": "code",
      "source": [
        "\"10 20 sky 50 100 bird 200\" 문자열에서 숫자는 모두 num으로 변경하시오."
      ],
      "metadata": {
        "id": "cJoXSQAHNTzd"
      },
      "execution_count": null,
      "outputs": []
    },
    {
      "cell_type": "code",
      "source": [
        "re.sub(\"\\d\", \"num\", \"10 20 sky 50 100 bird 200\")"
      ],
      "metadata": {
        "id": "9Grn7fksN71n"
      },
      "execution_count": null,
      "outputs": []
    },
    {
      "cell_type": "code",
      "source": [
        "re.sub(\"\\d+\", \"num\", \"10 20 sky 50 100 bird 200\")"
      ],
      "metadata": {
        "id": "A8hXexlMN8Rm"
      },
      "execution_count": null,
      "outputs": []
    },
    {
      "cell_type": "code",
      "source": [
        "re.sub(\"\\d+\", \"num\", \"10 20 sky 50 100 bird 200\")\n",
        "#문자열에서 숫자는 모두 2배를 적용하시오.\n",
        "#\"20 40 sky 100 200 bird 400\""
      ],
      "metadata": {
        "id": "T_N8EvtQOIT5"
      },
      "execution_count": null,
      "outputs": []
    },
    {
      "cell_type": "code",
      "source": [
        "# 변경함수(매치된객체):\n",
        "#     변경할 수식\n",
        "#re.sub(\"패턴\", 변경함수, \"문자열\", \"변경횟수\")\n",
        "\n",
        "def func_db(res):\n",
        "#변경할 수식\n",
        "    return str(int(res.group())*2)\n",
        "\n",
        "re.sub(\"\\d+\",func_db,\"10 20 sky 50 100 bird 200\")\n"
      ],
      "metadata": {
        "id": "4G3G0bewSMxd"
      },
      "execution_count": null,
      "outputs": []
    },
    {
      "cell_type": "code",
      "source": [
        "test=\"1 2 3 abc 4 def\"\n",
        "#test 문자열 중에서 숫자를 모두 10배 하시오."
      ],
      "metadata": {
        "id": "LCJcL-XyTEyR"
      },
      "execution_count": null,
      "outputs": []
    },
    {
      "cell_type": "code",
      "source": [
        "def func_100(res):\n",
        "  return str(int(res.group())*10)\n",
        "re.sub(\"\\d+\", func_100, test)"
      ],
      "metadata": {
        "id": "nS3VeqBAUrtx"
      },
      "execution_count": null,
      "outputs": []
    },
    {
      "cell_type": "code",
      "source": [
        "re.sub(\"\\d+\", lambda x: str(int(x.group())*10), test)"
      ],
      "metadata": {
        "id": "m9fnW8M8UtWJ"
      },
      "execution_count": null,
      "outputs": []
    },
    {
      "cell_type": "code",
      "source": [
        "emails = ['python@mail.example.com', 'python+kr@example.com',            # 올바른 형식\n",
        "          'python-test@example.co.kr', 'python_10@example.info',         # 올바른 형식\n",
        "          'python.test@e-xample.com',                                    # 올바른 형식\n",
        "          '@example.com', 'python@example', 'python@example-com']        # 잘못된 형식"
      ],
      "metadata": {
        "id": "LoXV4Lk1VI22"
      },
      "execution_count": null,
      "outputs": []
    },
    {
      "cell_type": "code",
      "source": [
        "#올바른 형식은 \"올바른 형식\" 출력, 잘못된 형식은 \"잘못된 형식\" 출력\n",
        "\n",
        "#출력:올바른 형식 올바른 형식 올바른 형식 올바른 형식 올바른 형식 잘못된 형식 잘못된 형식 잘못된 형식"
      ],
      "metadata": {
        "id": "YkR08VW7WGWk"
      },
      "execution_count": null,
      "outputs": []
    }
  ]
}