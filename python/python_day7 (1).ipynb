{
  "nbformat": 4,
  "nbformat_minor": 0,
  "metadata": {
    "colab": {
      "private_outputs": true,
      "provenance": []
    },
    "kernelspec": {
      "name": "python3",
      "display_name": "Python 3"
    },
    "language_info": {
      "name": "python"
    }
  },
  "cells": [
    {
      "cell_type": "code",
      "execution_count": null,
      "metadata": {
        "id": "2mtcMqMcM_Vq"
      },
      "outputs": [],
      "source": [
        "\n",
        "# game_369( [31, 32, 33, 34] )\n",
        "# [\"짝\", \"짝\", \"짝\", \"짝\"]\n",
        "\n",
        "lst = [1, 2, 3, 4, 5, 6, 7, 8, 9, 31, 33, 313, 339]\n",
        "def game_369(lst):\n",
        "    res = []\n",
        "    for i in lst:\n",
        "        if(i == 3 or i == 6 or i == 9):\n",
        "            i = '짝'\n",
        "        elif(len(str(i)) > 1): # 31 -> '31' -> 2\n",
        "            word = ''\n",
        "            for j in list(str(i)): # 339 -> '339' -> for j in ['3','3', '9']:\n",
        "                if(j == '3' or j == '6' or j == '9'):\n",
        "                    word += '짝'\n",
        "                    break\n",
        "            if(word != ''):\n",
        "                i = word\n",
        "        res.append(i)\n",
        "    return res\n",
        "game_369(lst)"
      ]
    },
    {
      "cell_type": "code",
      "source": [
        "for :\n",
        "    for :\n",
        "        ...\n",
        "        break(안쪽 for 벗어남)\n",
        "    ...\n",
        "    break(바쪽 for 벗어남)"
      ],
      "metadata": {
        "id": "7LFcs5XDQR1v"
      },
      "execution_count": null,
      "outputs": []
    },
    {
      "cell_type": "code",
      "source": [
        "nums = input().split()"
      ],
      "metadata": {
        "id": "Uezp3wSJTDpV"
      },
      "execution_count": null,
      "outputs": []
    },
    {
      "cell_type": "code",
      "source": [
        "nums"
      ],
      "metadata": {
        "id": "6726S-EVTJNi"
      },
      "execution_count": null,
      "outputs": []
    },
    {
      "cell_type": "code",
      "source": [
        "format(1,'03')"
      ],
      "metadata": {
        "id": "eqrmuGTYTjwi"
      },
      "execution_count": null,
      "outputs": []
    },
    {
      "cell_type": "code",
      "source": [
        "res = []\n",
        "filenames = list(map(lambda x: format(int(x.split('.')[0]),'03'), nums))\n",
        "filenames"
      ],
      "metadata": {
        "id": "HP3ld2htTOQc"
      },
      "execution_count": null,
      "outputs": []
    },
    {
      "cell_type": "code",
      "source": [
        "\n",
        "\n",
        "result = list(map(lambda x, y: x+'.'+y.split('.')[1], filenames,nums))\n",
        "print(result)\n",
        "\n",
        "# for i in nums:\n",
        "#     i, ext = i.split('.')\n",
        "#     i = format(int(i),'03')\n",
        "#     res.append(str(i)+'.'+ext)\n",
        "# print(res)\n",
        "# print(format(nums,'03'))\n",
        "# f = open('{0:.3}')"
      ],
      "metadata": {
        "id": "MfuFQ-8ZQTp4"
      },
      "execution_count": null,
      "outputs": []
    },
    {
      "cell_type": "code",
      "source": [
        "n = int(input())\n",
        "def DashInsert(number):\n",
        "    res = ''\n",
        "    compare_data = 0\n",
        "    for i, n in enumerate(str(number)):\n",
        "        n = int(n)\n",
        "        if(i == 0):\n",
        "            compare_data = n\n",
        "            res += str(n)\n",
        "        elif(n % 2 == 0 and compare_data % 2 == 0):\n",
        "            compare_data = n\n",
        "            res += '*'+str(n)\n",
        "        elif(n % 2 == 1 and compare_data % 2 == 1):\n",
        "            compare_data = n\n",
        "            res += '-'+str(n)\n",
        "        else:\n",
        "            compare_data = n\n",
        "            res += str(n)\n",
        "    return res\n",
        "DashInsert(n)"
      ],
      "metadata": {
        "id": "cefJo06zT7sf"
      },
      "execution_count": null,
      "outputs": []
    },
    {
      "cell_type": "code",
      "source": [
        "text = input()\n",
        "count = 1\n",
        "result = ''\n",
        "for i in range(len(text)):\n",
        "    if(result == ''):\n",
        "        result+=text[i]\n",
        "    elif(result[-1] == text[i]):\n",
        "        count += 1\n",
        "    else:\n",
        "        result += str(count) + text[i]\n",
        "        count = 1\n",
        "    if(i == len(text)-1):\n",
        "        result+= str(count)\n",
        "result"
      ],
      "metadata": {
        "id": "kDyPPNibUW42"
      },
      "execution_count": null,
      "outputs": []
    },
    {
      "cell_type": "code",
      "source": [
        "\"36369\".count('2')"
      ],
      "metadata": {
        "id": "zQxk47KpWEIi"
      },
      "execution_count": null,
      "outputs": []
    },
    {
      "cell_type": "code",
      "source": [
        "import random\n",
        "lotto_list = []\n",
        "num = 6\n",
        "def gen_lotto(num):\n",
        "    if num != 0 :\n",
        "        random_x = random.randint(1, 45)\n",
        "        if random_x in lotto_list:\n",
        "            gen_lotto(num)\n",
        "        else:\n",
        "            lotto_list.append(random_x)\n",
        "            num = num -1\n",
        "            gen_lotto(num)\n",
        "    else:\n",
        "        return\n",
        "\n",
        "gen_lotto(num)\n",
        "lotto_list"
      ],
      "metadata": {
        "id": "88h75MssWEz4"
      },
      "execution_count": null,
      "outputs": []
    },
    {
      "cell_type": "code",
      "source": [
        "input_list = input(\"파일명을 입력하세요(띄어쓰기 구분) : \").split(' ')\n",
        "sep = '.'\n",
        "y_file_list = list(map(lambda file: file.split(sep)[0].zfill(3)+sep+file.split(sep)[1], input_list))\n",
        "print(y_file_list)"
      ],
      "metadata": {
        "id": "s_rYJMiBYzqV"
      },
      "execution_count": null,
      "outputs": []
    },
    {
      "cell_type": "code",
      "source": [
        "input_list"
      ],
      "metadata": {
        "id": "nrGPpmRqZIaE"
      },
      "execution_count": null,
      "outputs": []
    },
    {
      "cell_type": "code",
      "source": [
        "'1.jpg'.split(sep)[0].zfill(3)"
      ],
      "metadata": {
        "id": "rsr_Qre0ZVV3"
      },
      "execution_count": null,
      "outputs": []
    },
    {
      "cell_type": "code",
      "source": [
        "# 7  DashInsert 함수\n",
        "# DashInsert 함수는 숫자로 구성된 문자열을 입력받은 뒤 문자열 안에서 홀수가 연속되면 두 수 사이에 - 를 추가하고,\n",
        "# 짝수가 연속되면 * 를 추가하는 기능을 갖고 있다. DashInsert 함수를 완성하시오.\n",
        "\n",
        "# 입력 예시: 4546793\n",
        "# 출력 예시: 454*67-9-3\n",
        "def DashInsert(str_num):#454679151563\n",
        "                        #  45467915156\n",
        "                        #   54679151563\n",
        "                        # symbols=['', '',  '*', ...]\n",
        "    gram_1_list = [int(str_num[i]) for i in range(len(str_num)-1)]\n",
        "    gram_2_list = [int(str_num[i+1]) for i in range(len(str_num)-1)]\n",
        "    for i in gram_2_list:\n",
        "        symbols = list(map(lambda x,y : '-' if x%2==1 and y%2==1 else '*'if x%2==0 and y%2==0 else '',gram_1_list,gram_2_list))\n",
        "    return InsertSymbols(str_num,symbols)\n",
        "\n",
        "def InsertSymbols(str_num,symbols):#454679151563,  ['', '',  '*', ...]\n",
        "    y_str = ''\n",
        "    for i,num in enumerate(str_num):\n",
        "        try:\n",
        "            y_str = y_str+num+symbols[i]\n",
        "        except IndexError:\n",
        "            y_str = y_str+num\n",
        "    return y_str\n",
        "\n",
        "\n",
        "y_str = DashInsert('454679151563')\n",
        "print(y_str)"
      ],
      "metadata": {
        "id": "-Vtcwo-kZkxY"
      },
      "execution_count": null,
      "outputs": []
    },
    {
      "cell_type": "code",
      "source": [
        "# 입력 예시: aaabbcccccca\n",
        "# 출력 예시: a3b2c6a1\n",
        "\n",
        "# def InsertSymbols(str_num,symbols):\n",
        "#     y_str = ''\n",
        "#     for i,num in enumerate(str_num):\n",
        "#         try:\n",
        "#             y_str = y_str+num+str(symbols[i])\n",
        "#         except IndexError:\n",
        "#             y_str = y_str+num\n",
        "#     return y_str\n",
        "\n",
        "input_str = 'aaabbccccccaaaaaaaaaaa'\n",
        "\n",
        "def count_str(input_str):\n",
        "    count_list = []\n",
        "    count = 0\n",
        "    str_one_list = []\n",
        "    current_str=''\n",
        "    for i, x in enumerate(input_str):\n",
        "        if current_str == x:\n",
        "            if i != 0:\n",
        "                count += 1\n",
        "        else:\n",
        "            str_one_list.append(current_str)\n",
        "            count_list.append(count)\n",
        "            current_str = x\n",
        "            count = 1\n",
        "        if i == len(input_str)-1:\n",
        "            str_one_list.append(current_str)\n",
        "            count_list.append(count)\n",
        "        #print('================')\n",
        "\n",
        "    return str_one_list[1:] , count_list[1:]\n",
        "\n",
        "str_one_list, count_list = count_str(input_str)\n",
        "print(InsertSymbols(str_one_list,count_list))"
      ],
      "metadata": {
        "id": "x6RGpdeEdrkP"
      },
      "execution_count": null,
      "outputs": []
    },
    {
      "cell_type": "code",
      "source": [
        "# game_369( [31, 32, 33, 34] )\n",
        "# [\"짝\", \"짝\", \"짝\", \"짝\"]\n",
        "\n",
        "def game_369(lst):\n",
        "  res = []\n",
        "  for n in lst:\n",
        "    if ('3' in str(n)) or ('6' in str(n)) or ('9' in str(n)): #인자에 3or6or9가 잇으면\n",
        "      res.append('짝')\n",
        "    else:\n",
        "      res.append(n)\n",
        "  print(res)\n",
        "\n",
        "num0_99=list(n for n in range(100))    # 0~99숫자\n",
        "game_369(num0_99)"
      ],
      "metadata": {
        "id": "WkvoIJUsfnX2"
      },
      "execution_count": null,
      "outputs": []
    },
    {
      "cell_type": "code",
      "source": [
        "def DashInsert(s): #12211        res:12*21-1\n",
        "  res=''\n",
        "  for i in range(len(s)-1): #i=0 to 3\n",
        "    if eval(s[i])%2==1 and eval(s[i+1])%2==1:   #연속된숫자가 홀수이면\n",
        "      res=res+s[i]+'-'\n",
        "    elif eval(s[i])%2==0 and eval(s[i+1])%2==0:   #연속된숫자가 짝수이면\n",
        "      res=res+s[i]+'*'\n",
        "    else:\n",
        "      res=res+s[i]\n",
        "  return res+s[-1]  #입력된 마지막 숫자를 추가\n",
        "\n",
        "s=str(input('숫자입력'))\n",
        "DashInsert(s)"
      ],
      "metadata": {
        "id": "IVYajG2NgllG"
      },
      "execution_count": null,
      "outputs": []
    },
    {
      "cell_type": "code",
      "source": [
        "# aaabbcccccca\n",
        "# 6\n",
        "# a3b2c6a1\n",
        "\n",
        "data = input()\n",
        "count = 1\n",
        "result = ''\n",
        "\n",
        "for i in range(len(data)-1):\n",
        "  if data[i] ==data[i+1]:\n",
        "    count += 1\n",
        "  else:\n",
        "    result += data[i]+str(count)\n",
        "    count = 1\n",
        "  if(i == len(data)-1):\n",
        "        result+= str(count)\n",
        "print(result)"
      ],
      "metadata": {
        "id": "ZnYhJU4WjQRK"
      },
      "execution_count": null,
      "outputs": []
    },
    {
      "cell_type": "code",
      "source": [
        "s1 = 'aaabbcccccca'\n",
        "s2 = ''\n",
        "count = 0\n",
        "\n",
        "for i in range(len(s1)-1):\n",
        "    tmp=s1[i:i+1]  # 첫 문자 자르기\n",
        "\n",
        "    if tmp == s1[i+1]:\n",
        "        count +=1\n",
        "    else:\n",
        "        if count != 0:\n",
        "            count +=1\n",
        "            s2 += tmp + str(count)\n",
        "        count = 0\n",
        "\n",
        "# 마지막 문자 처리\n",
        "s2 += s1[-1] + str(count+1)\n",
        "\n",
        "print(s2)"
      ],
      "metadata": {
        "id": "RIpJ3HYTj4Gu"
      },
      "execution_count": null,
      "outputs": []
    },
    {
      "cell_type": "code",
      "source": [
        "w=\"\"\"\n",
        "[앵커]\n",
        "날씨는 포근하지만, 하늘이 잔뜩 흐려 있습니다.\n",
        "\n",
        "내일까지 전국 곳곳에 비나 눈이 예보돼 출퇴근길에는 도로 살얼음에 주의해야겠습니다.\n",
        "\n",
        "자세한 날씨 전망은 기상캐스터 연결해 알아보겠습니다. 고은재 캐스터!\n",
        "\n",
        "[캐스터]\n",
        "네, 평화의 공원에 나와 있습니다.\n",
        "\n",
        "[앵커]\n",
        "하늘이 흐려 보이는데요.\n",
        "\n",
        "오늘 비 소식이 있는 지역이 어디입니까?\n",
        "\n",
        "[캐스터]\n",
        "네, 오늘도 날씨는 온화하지만, 보시는 것처럼 서울 하늘이 구름에 가려 어둡습니다.\n",
        "\n",
        "다만 오늘까지는 동해안과 충청 이남 곳곳에만 약한 비나 눈이 지나겠고요.\n",
        "\n",
        "내일은 오전부터 서울을 비롯한 내륙 곳곳에 이어지겠습니다.\n",
        "\n",
        "비와 눈은 특히 오늘 퇴근길과 내일 출근길에 내리는 만큼 교통안전에 주의가 필요하겠습니다.\n",
        "\n",
        "자세한 레이더 화면부터 살펴보겠습니다.\n",
        "\n",
        "현재 동풍의 영향을 받는 동해안 지역, 그리고 제주도에 산발적인 비구름이 지나고 있는 모습인데요.\n",
        "\n",
        "오늘 퇴근길 무렵부터는 충북과 남부 내륙 곳곳에도 약한 비가 시작되겠고,\n",
        "\n",
        "기온이 낮은 산간에는 눈으로 바뀌어 내리는 곳도 있겠습니다.\n",
        "\n",
        "비와 눈은 밤사이 대부분 잦아들었다가, 내일 새벽 내륙 곳곳에서 다시 시작되겠습니다.\n",
        "\n",
        "강원 산간에는 오늘보다 내일 눈발이 더욱 굵어지겠는데요.\n",
        "\n",
        "내일까지 최고 6cm의 눈이 내려 쌓이겠습니다.\n",
        "\n",
        "그 밖의 내륙에 내리는 눈의 양은 1~3cm, 비의 양은 5mm 미만으로 많지 않겠습니다.\n",
        "\n",
        "다만 새벽부터 이어지는 만큼, 내일 출근하실 때는 도로 살얼음으로 인한 미끄럼 사고에 주의하셔야겠습니다.\n",
        "\n",
        "곳곳에 산발적인 비가 내리며 내일 아침 기온은 오늘보다 1~4도가량 낮겠습니다.\n",
        "\n",
        "서울과 대전, 광주와 대구 모두 2도 보이겠고요.\n",
        "\n",
        "내일 낮 기온은 오늘과 비슷하거나 조금 낮겠습니다.\n",
        "\n",
        "서울 8도, 광주 10도, 대구 11도 예상되고요.\n",
        "\n",
        "낮 동안 점차 찬 바람이 불면서 체감온도는 더 낮겠습니다.\n",
        "\n",
        "내일 밤, 비와 눈이 모두 그친 뒤에는 꽃샘추위가 찾아옵니다.\n",
        "\n",
        "주말과 휴일까지 하늘은 계속 맑겠지만 서울 아침 기온이 영하권에 머물겠습니다.\n",
        "\n",
        "오늘 남부 해안가를 중심으로는 바람이 무척 강하게 불겠고,\n",
        "\n",
        "내일까지 동해안에는 너울성 파도가 높게 일겠습니다.\n",
        "\n",
        "해안가 안전사고 발생하지 않도록 각별히 주의해주시기 바랍니다.\n",
        "\n",
        "지금까지 YTN 고은재입니다.\n",
        "\n",
        "\n",
        "\"\"\""
      ],
      "metadata": {
        "id": "jtXONlRXmMRm"
      },
      "execution_count": null,
      "outputs": []
    },
    {
      "cell_type": "code",
      "source": [
        "print(w)"
      ],
      "metadata": {
        "id": "KzLHTWJcnddw"
      },
      "execution_count": null,
      "outputs": []
    },
    {
      "cell_type": "code",
      "source": [
        "#정규표현식(정규식, regular expressions;re) : 복잡한 문자열을 처리\n",
        "import re"
      ],
      "metadata": {
        "id": "lzPr-dZjneMO"
      },
      "execution_count": null,
      "outputs": []
    },
    {
      "cell_type": "code",
      "source": [
        "# hgd 990101-1234567\n",
        "# ...\n",
        "# kgd 950101-1567222\n",
        "# =>\n",
        "# hgd 990101-*******\n",
        "# ...\n",
        "# kgd 950101-*******"
      ],
      "metadata": {
        "id": "BEjDic_uoVVG"
      },
      "execution_count": null,
      "outputs": []
    },
    {
      "cell_type": "code",
      "source": [
        "data=\"\"\"\n",
        "hgd 990101-1234567\n",
        "kgd 950101-1567222\n",
        "kgd 950101-1567222\n",
        "kgd 950101-1567222\n",
        "kgd 950101-1567222\n",
        "\"\"\""
      ],
      "metadata": {
        "id": "6p0MD7Uar1oA"
      },
      "execution_count": null,
      "outputs": []
    },
    {
      "cell_type": "code",
      "source": [
        "import re\n",
        "pat=re.compile(\"(\\d{6})[-]\\d{7}\")\n",
        "print(pat.sub(\"\\g<1>-********\",data))"
      ],
      "metadata": {
        "id": "ODQDfEDKvdVU"
      },
      "execution_count": null,
      "outputs": []
    },
    {
      "cell_type": "code",
      "source": [
        "for line in data.split(\"\\n\"):\n",
        "    for w in line.split(\" \"):\n",
        "        if len(w)==14 and w[:6].isdigit() and w[7:].isdigit():\n",
        "            jumin=w[:6]+\"-\"+\"*******\"\n",
        "            print(jumin)\n",
        ""
      ],
      "metadata": {
        "id": "iGwrzqSJtyuO"
      },
      "execution_count": null,
      "outputs": []
    },
    {
      "cell_type": "code",
      "source": [
        "s_data=data.split(\" \")\n",
        "if len(s_data[1])==14 and s_data[1][:6].isdigit() and s_data[1][7:].isdigit():\n",
        "    jumin=s_data[1][:6]+\"-\"+\"*******\"\n",
        "print(jumin)\n",
        "\n",
        "#s_data[1][:6].isdigit() #숫자인지 아닌지?"
      ],
      "metadata": {
        "id": "hvD215f_r7Q_"
      },
      "execution_count": null,
      "outputs": []
    },
    {
      "cell_type": "code",
      "source": [
        "\"123\".isdigit()\n",
        "\"12a3\".isdigit()"
      ],
      "metadata": {
        "id": "WpVN87XWsV34"
      },
      "execution_count": null,
      "outputs": []
    },
    {
      "cell_type": "code",
      "source": [
        "#re.match(패턴식, 문자열)\n",
        "#문자열의 왼쪽부터 시작하여 패턴이 있는지 판단\n",
        "\n",
        "re.match(\"h\",\"hello\") #hello문자열에 h문자 패턴이 존재합니까?존재한다\n",
        "re.match(\"s\",\"hello\") #hello문자열에 s문자 패턴이 존재합니까?존재하지 않는다\n",
        "re.match(\"e\",\"hello\") #hello문자열에 e문자 패턴이 존재합니까?존재하지 않는다\n",
        "\n",
        "re.match(\"he\",\"hello\")\n",
        "re.match(\"hi\",\"hellohi\")"
      ],
      "metadata": {
        "id": "Tpxy6bpsspXK"
      },
      "execution_count": null,
      "outputs": []
    },
    {
      "cell_type": "code",
      "source": [
        "#re.search(패턴식, 문자열)\n",
        "#문자열의 왼쪽부터 시작하여 패턴이 있는지 판단\n",
        "\n",
        "re.search(\"h\",\"hello\") #hello문자열에 h문자 패턴이 존재합니까?존재한다\n",
        "re.search(\"s\",\"hello\") #hello문자열에 s문자 패턴이 존재합니까?존재하지 않는다\n",
        "re.search(\"e\",\"hello\") #hello문자열에 e문자 패턴이 존재합니까?존재한다\n",
        "re.search(\"e\",\"hellohello\") #hello문자열에 e문자 패턴이 존재합니까?존재한다\n",
        "\n",
        "re.search(\"he\",\"hello\")\n",
        "re.search(\"hi\",\"hellohi\")\n",
        "\n",
        "#^문자열:특정 문자열로 시작, 문자열$:특정 문자열로 끝\n",
        "re.search(\"^he\",\"hello world\")\n",
        "re.search(\"he\",\"hello world\")\n",
        "re.search(\"^he\",\"hi, hello world\")\n",
        "re.search(\"he\",\"hi, hello world\")\n",
        "\n",
        "re.search(\"world$\",\"hi, hello world\")\n",
        "re.search(\"world$\",\"hi, hello world bye\")"
      ],
      "metadata": {
        "id": "XzowHxaNxisI"
      },
      "execution_count": null,
      "outputs": []
    },
    {
      "cell_type": "code",
      "source": [
        "re.match(\"hi|bye\" , \"good bye, hihello\") #| : 여러 패턴 중에 어느 하나의 패턴에 매칭\n",
        "re.search(\"hi|bye\" , \"good bye, hihello\") #| : 여러 패턴 중에 어느 하나의 패턴에 매칭"
      ],
      "metadata": {
        "id": "jA1Z5PqbzdFX"
      },
      "execution_count": null,
      "outputs": []
    },
    {
      "cell_type": "code",
      "source": [
        "#문자열에 숫자 패턴?\n",
        "#[]: '['와 ']'사이의 문자들과 매치\n",
        "\n",
        "re.match(\"h\" ,\"hi\")\n",
        "re.match(\"h\" ,\"hhhi\")\n",
        "re.match(\"[h]\" ,\"hhhi\")\n",
        "\n",
        "re.match(\"hh\" ,\"hhhi\") #문자열에 패턴이 존재하냐?\n",
        "re.match(\"hhh\" ,\"hhhi\") #문자열에 패턴이 존재하냐?\n",
        "\n",
        "#h문자가 1개 이상 있으면 패턴\n",
        "re.match(\"h+\" ,\"hhhi\")\n",
        "re.match(\"h+\" ,\"hhhhhhhhhhhhhhhhi\")"
      ],
      "metadata": {
        "id": "2vIYyPe8Hmyd"
      },
      "execution_count": null,
      "outputs": []
    },
    {
      "cell_type": "code",
      "source": [
        "re.match(\"h+i\" ,\"hhhi\")#h문자가 1개 이상 있으며, 이어서 i문자가 등장하면 패턴 존재\n",
        "re.match(\"h+i\" ,\"hihello\")\n",
        "re.match(\"h+i\" ,\"hhhhhhhhhkhhhhhhihello\")"
      ],
      "metadata": {
        "id": "p6lsKeloIyAr"
      },
      "execution_count": null,
      "outputs": []
    },
    {
      "cell_type": "code",
      "source": [
        "re.match(\"h+i+k\" ,\"hhhiikkk\")\n",
        "re.match(\"h+i+k+\" ,\"hhhiikkk\")"
      ],
      "metadata": {
        "id": "H0rohx7MKT-F"
      },
      "execution_count": null,
      "outputs": []
    },
    {
      "cell_type": "code",
      "source": [
        "#h문자가 0개 이상 있으면 패턴 존재\n",
        "re.match(\"h*\" ,\"hhhi\")\n",
        "re.match(\"h*\" ,\"ahhhi\")\n"
      ],
      "metadata": {
        "id": "zB_qwQ74LDwz"
      },
      "execution_count": null,
      "outputs": []
    },
    {
      "cell_type": "code",
      "source": [
        "re.match(\"a*b\",\"b\")\n",
        "re.match(\"a*b\",\"aabbc\")\n",
        "re.match(\"a*b+\",\"aabbc\")\n",
        "re.match(\"a*b*\",\"aabbc\")"
      ],
      "metadata": {
        "id": "LjNiiz6NLRJD"
      },
      "execution_count": null,
      "outputs": []
    },
    {
      "cell_type": "code",
      "source": [
        "re.match(\"5\",\"5\")\n",
        "re.match(\"5\",\"56\")\n",
        "\n",
        "re.match(\"5\",\"456\")\n",
        "re.match(\"5|4\",\"456\")\n",
        "re.match(\"6|5|4\",\"6456\") #re.match(\"[4-6]\",\"6456\") 같은 의미\n",
        "\n",
        "re.match(\"[0-9]\",\"1234\")\n",
        "re.match(\"[0-9]+\",\"1234\")\n",
        "re.match(\"[0-9]*\",\"1234\")"
      ],
      "metadata": {
        "id": "2pd4BWRLMKb_"
      },
      "execution_count": null,
      "outputs": []
    },
    {
      "cell_type": "code",
      "source": [
        "re.match(\"[0-9]+\",\"abcd\")"
      ],
      "metadata": {
        "id": "4jlz6gQZNK3K"
      },
      "execution_count": null,
      "outputs": []
    },
    {
      "cell_type": "code",
      "source": [
        "re.match(\"[a]\",\"abcd\")\n",
        "re.match(\"a\",\"abcd\")"
      ],
      "metadata": {
        "id": "91bubsc7O3_g"
      },
      "execution_count": null,
      "outputs": []
    },
    {
      "cell_type": "code",
      "source": [
        "re.match(\"a\",\"bcda\")\n",
        "re.match(\"a*\",\"bcda\")\n",
        "\n",
        "re.match(\"a*b\",\"bcda\")\n",
        "re.match(\"a*b+\",\"bcda\")"
      ],
      "metadata": {
        "id": "kNGsF3TvO-lq"
      },
      "execution_count": null,
      "outputs": []
    },
    {
      "cell_type": "code",
      "source": [
        " re.match(\"a*b+c*da\",\"bcda\")"
      ],
      "metadata": {
        "id": "-9GqQcUXPK-6"
      },
      "execution_count": null,
      "outputs": []
    },
    {
      "cell_type": "code",
      "source": [
        "3도 #매치\n",
        "28도 #매치\n",
        "-7도 #매치\n",
        "30mm #매치x"
      ],
      "metadata": {
        "id": "K_7bb8-oPwTy"
      },
      "execution_count": null,
      "outputs": []
    },
    {
      "cell_type": "code",
      "source": [
        "re.match(\"도\", \"3도\")\n",
        "\n",
        "re.match(\"[0-9]도\", \"9도\")\n",
        "\n",
        "\n",
        "re.match(\"[0-9]+도\", \"100도\")\n",
        "re.match(\"[0-9]*도\", \"100도\")"
      ],
      "metadata": {
        "id": "ibjepvXzQLIK"
      },
      "execution_count": null,
      "outputs": []
    },
    {
      "cell_type": "code",
      "source": [
        "re.match(\"[0-9]+도\", \"도둑\")\n",
        "re.match(\"[0-9]*도\", \"도둑\")"
      ],
      "metadata": {
        "id": "xfAxziEzQWH7"
      },
      "execution_count": null,
      "outputs": []
    },
    {
      "cell_type": "code",
      "source": [
        "re.match(\"[0-9]+도 \", \"도둑\")\n",
        "re.match(\"[0-9]+도 \", \"10도둑\")\n",
        "re.match(\"[0-9]+도 \", \"10도 둑\")"
      ],
      "metadata": {
        "id": "XenTnZSURMrS"
      },
      "execution_count": null,
      "outputs": []
    },
    {
      "cell_type": "code",
      "source": [
        "res=re.match(\"코리아\", \"대한민국\")"
      ],
      "metadata": {
        "id": "3CQ77YLtRw7M"
      },
      "execution_count": null,
      "outputs": []
    },
    {
      "cell_type": "code",
      "source": [
        "if res:\n",
        "    print(\"매치됐습니다\")\n",
        "else:\n",
        "    print(\"매치되지 않았습니다\")"
      ],
      "metadata": {
        "id": "IM6JAYg1VITT"
      },
      "execution_count": null,
      "outputs": []
    },
    {
      "cell_type": "code",
      "source": [
        "re.match(\"[가-힣]+\", \"대한민국\")"
      ],
      "metadata": {
        "id": "cdx4aj35VQOk"
      },
      "execution_count": null,
      "outputs": []
    },
    {
      "cell_type": "code",
      "source": [
        "re.match(\"[가-힣ㄱ-ㅎ]+\", \"ㅋㅋㅋ대한민국ㅎㅎ\")"
      ],
      "metadata": {
        "id": "D1WDqDciWH1K"
      },
      "execution_count": null,
      "outputs": []
    },
    {
      "cell_type": "code",
      "source": [],
      "metadata": {
        "id": "-VbZouSSWgle"
      },
      "execution_count": null,
      "outputs": []
    },
    {
      "cell_type": "code",
      "source": [],
      "metadata": {
        "id": "amWtzz2SWgdk"
      },
      "execution_count": null,
      "outputs": []
    },
    {
      "cell_type": "code",
      "source": [
        "re.match(\"[가-힣ㄱ-ㅎa-z]+\", \"ㅋㅋㅋ대한민국ㅎㅎhi\")"
      ],
      "metadata": {
        "id": "47_2zZTcWN88"
      },
      "execution_count": null,
      "outputs": []
    },
    {
      "cell_type": "code",
      "source": [
        "re.match(\"[가-힣ㄱ-ㅎa-zA-Z]+\", \"ㅋㅋㅋ대한민국ㅎㅎhiHELLO\")"
      ],
      "metadata": {
        "id": "IHPx8HgNWeeS"
      },
      "execution_count": null,
      "outputs": []
    },
    {
      "cell_type": "code",
      "source": [
        "re.match(\"[가-힣ㄱ-ㅎa-zA-Z]+\", \"ㅋㅋㅋ대한민국 ㅎㅎhiHELLO\")"
      ],
      "metadata": {
        "id": "X0N6vhF8WjNT"
      },
      "execution_count": null,
      "outputs": []
    },
    {
      "cell_type": "code",
      "source": [
        "re.match(\"[ㄱ-힣a-zA-Z ]+\", \"ㅋㅋㅋ대한민국 ㅎㅎhiHELLO\")"
      ],
      "metadata": {
        "id": "c46yPFvkWqwd"
      },
      "execution_count": null,
      "outputs": []
    },
    {
      "cell_type": "code",
      "source": [
        "re.match(\"[가-힣ㄱ-ㅎa-zA-Z$ ]+\", \"ㅋㅋㅋ대$한$민$국 ㅎㅎhiHELLO\")"
      ],
      "metadata": {
        "id": "lGTPB-IiWuXj"
      },
      "execution_count": null,
      "outputs": []
    },
    {
      "cell_type": "code",
      "source": [
        "re.match(\"[0-9가-힣ㄱ-ㅎa-zA-Z$ ]+\", \"ㅋㅋㅋ대$한$민$국 2024 ㅎㅎhiHELLO\")"
      ],
      "metadata": {
        "id": "u2pYrZxeXMPo"
      },
      "execution_count": null,
      "outputs": []
    },
    {
      "cell_type": "code",
      "source": [
        "# ? : 앞의 문자가 0개 또는 1개 오면 매치\n",
        "# . : .이 있는 위치에 문자(숫자)1개 오면 매치"
      ],
      "metadata": {
        "id": "-BtdhT4ZXaG5"
      },
      "execution_count": null,
      "outputs": []
    },
    {
      "cell_type": "code",
      "source": [
        "re.match(\"abc?d\", \"abd\")"
      ],
      "metadata": {
        "id": "t8cPJ4ZxX0Cq"
      },
      "execution_count": null,
      "outputs": []
    },
    {
      "cell_type": "code",
      "source": [
        "re.match(\"ab[0-9]?c\", \"ab3c\")"
      ],
      "metadata": {
        "id": "3gBu3rVSYEXM"
      },
      "execution_count": null,
      "outputs": []
    },
    {
      "cell_type": "code",
      "source": [
        "re.match(\"ab[0-9]?c\", \"ab34c\")"
      ],
      "metadata": {
        "id": "CjYGk83BYR4h"
      },
      "execution_count": null,
      "outputs": []
    },
    {
      "cell_type": "code",
      "source": [
        "re.match(\"ab.d\", \"abkd\")"
      ],
      "metadata": {
        "id": "cwTvFUu-YXN7"
      },
      "execution_count": null,
      "outputs": []
    },
    {
      "cell_type": "code",
      "source": [
        "re.match(\"ab.d\", \"ab3d\")"
      ],
      "metadata": {
        "id": "ikcao4aNYrRF"
      },
      "execution_count": null,
      "outputs": []
    },
    {
      "cell_type": "code",
      "source": [
        "# 파일명 검증 정규식\n",
        "# 잘못된 경우\n",
        "# abc\n",
        "# 제대로 작성한 경우\n",
        "# abc.def\n",
        "\n",
        "re.match(\"완성\", \"abc.def\") #매치됨\n",
        "re.match(\"완성\", \"abc\") #매치안됨"
      ],
      "metadata": {
        "id": "wAxvlEwsYt9d"
      },
      "execution_count": null,
      "outputs": []
    },
    {
      "cell_type": "code",
      "source": [
        "re.match(\"abc.[a-z]+\", \"abc.def\") #매치됨\n",
        "re.match(\"abc.[a-z]+\", \"abc\") #매치안됨"
      ],
      "metadata": {
        "id": "fYg_d3XratRj"
      },
      "execution_count": null,
      "outputs": []
    },
    {
      "cell_type": "code",
      "source": [
        "re.match(\"abc.[a-z]+\", \"abc2kkk\") #매치안됨"
      ],
      "metadata": {
        "id": "72pDCUgRatye"
      },
      "execution_count": null,
      "outputs": []
    },
    {
      "cell_type": "code",
      "source": [
        "re.match(\"[a-zA-Z0-9가-힣]+[.][a-zA-Z0-9가-힣]+\", \"AAAbbc.abc\") #매치됨\n"
      ],
      "metadata": {
        "id": "J1WY8-ZCa6_0"
      },
      "execution_count": null,
      "outputs": []
    },
    {
      "cell_type": "code",
      "source": [
        "# \".\" : 모든 문자 1개\n",
        "# \"[.]\" : 마침표"
      ],
      "metadata": {
        "id": "6QcojDZ_bRvH"
      },
      "execution_count": null,
      "outputs": []
    },
    {
      "cell_type": "code",
      "source": [
        "#010-1234-5678\n",
        "#3자리-4자리-4자리\n",
        "\n",
        "re.match(\"[0-9]{3}-[0-9]{4}-[0-9]{4}\", \"010-1234-5678\")\n",
        "re.match(\"[0-9]{3}-[0-9]{4}-[0-9]{4}\", \"010-1234-567\")\n",
        "re.match(\"[0-9]{3}-[0-9]{4}-[0-9]{4}\", \"02-1234-5678\")"
      ],
      "metadata": {
        "id": "nZpGRlf7b40a"
      },
      "execution_count": null,
      "outputs": []
    },
    {
      "cell_type": "code",
      "source": [
        "weather=\"\"\"\n",
        "계절은 봄으로 바뀌었지만, 이번 주 내내 흐린 하늘에 눈비 소식이 잦습니다.\n",
        "오늘까지 강원 산간에는 최고 5cm의 눈이 추가로 내려 쌓이겠고요,\n",
        "수도권을 비롯한 중부와 영남 곳곳에도 산발적인 비나 눈이 지나겠습니다.\n",
        "여기에 퇴근길에는 찬 바람이 불면서 다시 추워지겠고, 미끄럼 사고도 우려된다는 점 염두에 두시기 바랍니다.\n",
        "자세한 레이더 화면부터 살펴보겠습니다.\n",
        "강원 산간에는 '대설주의보'가 내려진 가운데, 현재 경기와 강원 지역을 중심으로 비나 눈이 이어지고 있는 모습인데요.\n",
        "앞으로 수도권을 비롯한 그 밖의 중부와 영남에도 비가 지나는 곳이 있겠고, 기온이 낮은 지역에서는 진눈깨비나 눈으로 바뀌어 내리기도 하겠습니다.\n",
        "이미 많은 눈이 쌓인 강원 산간에는 오늘 밤까지 최고 5cm의 눈이 더 내리겠고요,\n",
        "그 밖의 내륙에 내리는 비의 양은 1~5mm, 눈의 양은 1~3cm가 예상됩니다.\n",
        "\"\"\""
      ],
      "metadata": {
        "id": "6OD0h6PrccfM"
      },
      "execution_count": null,
      "outputs": []
    },
    {
      "cell_type": "code",
      "source": [
        "#'비' 또는 '눈' 단어가 존재하면 매치\n",
        "re.search('비|눈',weather)"
      ],
      "metadata": {
        "id": "MTRQAp7BdDc0"
      },
      "execution_count": null,
      "outputs": []
    },
    {
      "cell_type": "code",
      "source": [],
      "metadata": {
        "id": "yBHg6shPdntQ"
      },
      "execution_count": null,
      "outputs": []
    }
  ]
}