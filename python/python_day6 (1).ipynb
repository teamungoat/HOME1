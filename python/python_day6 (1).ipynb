{
  "nbformat": 4,
  "nbformat_minor": 0,
  "metadata": {
    "colab": {
      "private_outputs": true,
      "provenance": []
    },
    "kernelspec": {
      "name": "python3",
      "display_name": "Python 3"
    },
    "language_info": {
      "name": "python"
    }
  },
  "cells": [
    {
      "cell_type": "code",
      "execution_count": null,
      "metadata": {
        "id": "Wpky5VJcEMnK"
      },
      "outputs": [],
      "source": [
        "def star(s):\n",
        "  if s==0:\n",
        "    return\n",
        "  print('*'*(5-s)) #5 -> 4(*) -> 3(**) -> 2(***) -> 1(****) -> 0(ret) ->0(*****)\n",
        "  s-=1\n",
        "  star(s)\n",
        "  print('*'*(5-s))\n",
        "\n",
        "star(5)"
      ]
    },
    {
      "cell_type": "code",
      "source": [
        "rever_star = ['*'*i for i in range(5,0,-1)]\n",
        "common_star = ['*'*(i+1) for i in range(0,5)]\n",
        "total_star = []\n",
        "total_star.extend(rever_star)\n"
      ],
      "metadata": {
        "id": "hAts1OqmISbf"
      },
      "execution_count": null,
      "outputs": []
    },
    {
      "cell_type": "code",
      "source": [
        "total_star.extend(common_star)\n",
        "total_star\n"
      ],
      "metadata": {
        "id": "CMR_fjMoUbfx"
      },
      "execution_count": null,
      "outputs": []
    },
    {
      "cell_type": "code",
      "source": [
        "for i in total_star:\n",
        "  print(i.rjust(5))"
      ],
      "metadata": {
        "id": "K4S9eCP5UYH-"
      },
      "execution_count": null,
      "outputs": []
    },
    {
      "cell_type": "code",
      "source": [
        "gravity = [7, 4, 2, 0, 0, 6, 0, 7, 0]\n",
        "\n",
        "max_fall_distance = 0  # 최대 낙차를 저장할 변수를 초기화합니다.\n",
        "\n",
        "for i in range(len(gravity)-1):#i=0~7(기준층)\n",
        "    fall=0 #기준층에 대한 낙차 초기화\n",
        "    for j in range(i + 1, len(gravity)): #j=1~8(비교층)\n",
        "        if gravity[j] < gravity[i]:\n",
        "            fall+=1\n",
        "    if max_fall_distance<fall:\n",
        "        max_fall_distance=fall\n",
        "\n",
        "print(\"상자의 최대 낙차:\", max_fall_distance)"
      ],
      "metadata": {
        "id": "DS0U38XCUjfy"
      },
      "execution_count": null,
      "outputs": []
    },
    {
      "cell_type": "code",
      "source": [
        "# 특별문제 상자 최대 낙차를 출력\n",
        "gravity = [7, 4, 2, 0, 0, 6, 0, 7, 0]\n",
        "# print(gravity)\n",
        "\n",
        "gravity2 = [[1]*i for i in gravity]\n",
        "print(gravity2)"
      ],
      "metadata": {
        "id": "vrH6zkF7ZkhJ"
      },
      "execution_count": null,
      "outputs": []
    },
    {
      "cell_type": "code",
      "source": [
        "\n",
        "gravity3 = [i + [0]*(7-len(i)) for i in gravity2]\n",
        "print(gravity3)"
      ],
      "metadata": {
        "id": "twoYPDBuZrJo"
      },
      "execution_count": null,
      "outputs": []
    },
    {
      "cell_type": "code",
      "source": [
        "nlist = [[gravity3[i][j] for i in range(len(gravity3))]for j in range(len(gravity3[0]))]\n",
        "nlist"
      ],
      "metadata": {
        "id": "1_QTBpUlZyGw"
      },
      "execution_count": null,
      "outputs": []
    },
    {
      "cell_type": "code",
      "source": [
        "nakcha = [len(gravity)-sum(i) for i in nlist]\n",
        "print(nakcha)\n"
      ],
      "metadata": {
        "id": "FGtkeNSiZ5ie"
      },
      "execution_count": null,
      "outputs": []
    },
    {
      "cell_type": "code",
      "source": [
        "\n",
        "\n",
        "\n",
        "# nlist = [[gravity3[i][j] for i in range(len(gravity3))] for j in range(7)]\n",
        "# print(nlist)\n",
        "\n",
        "\n",
        "# for i in range(len(nakcha)):\n",
        "#     print(f'{i+1}번째 열의 낙차는 {nakcha[i]}입니다.')\n",
        "\n",
        "max_nakcha = max(nakcha)"
      ],
      "metadata": {
        "id": "3MOowTfPW9cK"
      },
      "execution_count": null,
      "outputs": []
    },
    {
      "cell_type": "code",
      "source": [
        "# 23\n",
        "# 리스트에 저장된 수 중에서 짝수들의 합을 출력하라.\n",
        "\n",
        "my_list = [ [20, 38], [41, 50], [2, 4], [3, 4], [5, 8], [9, 10] ]\n",
        "\n",
        "aen_lst = []\n",
        "\n",
        "for i in range(len(my_list)): #6\n",
        "    list(map(lambda number : aen_lst.append(number) if number % 2 == 0 else number, my_list[i]))\n",
        "    # 질문: 순서상 list()함수로 감싸기전에 람다함수 내부에서 append에 의해 aen_lst리스트 안으로 값이 넣어지는데\n",
        "    # 왜 리스트로 변환이 먼저되서 값이 넣어지는지 이해가 안됩니다.\n",
        "print(sum(aen_lst))\n"
      ],
      "metadata": {
        "id": "GnxMZwz_a9jJ"
      },
      "execution_count": null,
      "outputs": []
    },
    {
      "cell_type": "code",
      "source": [
        "aen_lst"
      ],
      "metadata": {
        "id": "RXm0I2bAbASG"
      },
      "execution_count": null,
      "outputs": []
    },
    {
      "cell_type": "code",
      "source": [
        "class Person:\n",
        "    bag=[] #가방은 여러가지 물건들이 저장, 클래스 속성\n",
        "    def put_bag(self, stuff):\n",
        "        #self.bag.append(stuff) #클래스 속성 접근할때는 클래스 이름으로 접근\n",
        "        Person.bag.append(stuff) #클래스 속성 접근할때는 클래스 이름으로 접근"
      ],
      "metadata": {
        "id": "Ifihvt7abZXb"
      },
      "execution_count": null,
      "outputs": []
    },
    {
      "cell_type": "code",
      "source": [
        "Person.bag"
      ],
      "metadata": {
        "id": "7v6qGXX2kXCT"
      },
      "execution_count": null,
      "outputs": []
    },
    {
      "cell_type": "code",
      "source": [
        "hgd=Person()"
      ],
      "metadata": {
        "id": "FlrIELRDhXk8"
      },
      "execution_count": null,
      "outputs": []
    },
    {
      "cell_type": "code",
      "source": [
        "hgd.bag"
      ],
      "metadata": {
        "id": "5amZJFQdiNk7"
      },
      "execution_count": null,
      "outputs": []
    },
    {
      "cell_type": "code",
      "source": [
        "hgd.put_bag(\"지갑\")"
      ],
      "metadata": {
        "id": "4Q_tPPAaiizZ"
      },
      "execution_count": null,
      "outputs": []
    },
    {
      "cell_type": "code",
      "source": [
        "hgd.bag"
      ],
      "metadata": {
        "id": "HIM7emssit3B"
      },
      "execution_count": null,
      "outputs": []
    },
    {
      "cell_type": "code",
      "source": [
        "hgd.put_bag(\"휴대폰\")"
      ],
      "metadata": {
        "id": "tf5deKQJizvi"
      },
      "execution_count": null,
      "outputs": []
    },
    {
      "cell_type": "code",
      "source": [
        "hgd.bag"
      ],
      "metadata": {
        "id": "_7AniI8bi7In"
      },
      "execution_count": null,
      "outputs": []
    },
    {
      "cell_type": "code",
      "source": [
        "lss=Person()"
      ],
      "metadata": {
        "id": "q4Cvafzli97x"
      },
      "execution_count": null,
      "outputs": []
    },
    {
      "cell_type": "code",
      "source": [
        "lss.put_bag(\"칼\")"
      ],
      "metadata": {
        "id": "kcSsH7OwjHkT"
      },
      "execution_count": null,
      "outputs": []
    },
    {
      "cell_type": "code",
      "source": [
        "lss.bag"
      ],
      "metadata": {
        "id": "tp9Ez4mjjNgn"
      },
      "execution_count": null,
      "outputs": []
    },
    {
      "cell_type": "code",
      "source": [
        "#이순신과 홍길동이 가방을 공유하는 문제가 발생\n",
        "#클래스 속성(bag)은 클래스에 속해 있으면서도 모든 객체(이순신,홍길동)가 공유합니다."
      ],
      "metadata": {
        "id": "nQLDEaC-jOhD"
      },
      "execution_count": null,
      "outputs": []
    },
    {
      "cell_type": "code",
      "source": [
        "class Person:\n",
        "    def __init__(self):\n",
        "        self.bag=[]    #인스턴스(객체) 속성\n",
        "    def put_bag(self, stuff):\n",
        "        self.bag.append(stuff) #객체가 가지고 있는 bag에 stuff을 추가"
      ],
      "metadata": {
        "id": "wFLXswiokvtp"
      },
      "execution_count": null,
      "outputs": []
    },
    {
      "cell_type": "code",
      "source": [
        "hgd2=Person()"
      ],
      "metadata": {
        "id": "XcbO1mzNlN06"
      },
      "execution_count": null,
      "outputs": []
    },
    {
      "cell_type": "code",
      "source": [
        "hgd2.put_bag(\"휴대폰\")"
      ],
      "metadata": {
        "id": "AXK-kiCwlW5x"
      },
      "execution_count": null,
      "outputs": []
    },
    {
      "cell_type": "code",
      "source": [
        "hgd2.bag"
      ],
      "metadata": {
        "id": "AXgbWpu_lmRO"
      },
      "execution_count": null,
      "outputs": []
    },
    {
      "cell_type": "code",
      "source": [
        "lss2=Person()"
      ],
      "metadata": {
        "id": "c6DTof9nlqdW"
      },
      "execution_count": null,
      "outputs": []
    },
    {
      "cell_type": "code",
      "source": [
        "lss2.put_bag(\"칼\")"
      ],
      "metadata": {
        "id": "SLocAmgMl1FG"
      },
      "execution_count": null,
      "outputs": []
    },
    {
      "cell_type": "code",
      "source": [
        "lss2.bag"
      ],
      "metadata": {
        "id": "QsaVVKLTl36S"
      },
      "execution_count": null,
      "outputs": []
    },
    {
      "cell_type": "code",
      "source": [
        "#예외(exception) : 코드가 실행중에 발생한 에러"
      ],
      "metadata": {
        "id": "bG6t_jDol7aT"
      },
      "execution_count": null,
      "outputs": []
    },
    {
      "cell_type": "code",
      "source": [
        "def mydiv(a):\n",
        "    try:\n",
        "        return 5/a #예외 발생할 여지가 있는 코드\n",
        "    except: #예외가 발생했을 때 실행\n",
        "        print(\"예외 상황이 발생했습니다. 입력값을 확인해보세요.\")"
      ],
      "metadata": {
        "id": "HpIpzsPYm7lH"
      },
      "execution_count": null,
      "outputs": []
    },
    {
      "cell_type": "code",
      "source": [
        "mydiv(10)"
      ],
      "metadata": {
        "id": "A9exHrIInCYX"
      },
      "execution_count": null,
      "outputs": []
    },
    {
      "cell_type": "code",
      "source": [
        "mydiv(0) #실행중인 코드에서 에러 발생(예외)"
      ],
      "metadata": {
        "id": "uxGfRKeFnEya"
      },
      "execution_count": null,
      "outputs": []
    },
    {
      "cell_type": "code",
      "source": [
        "f=open(\"파일명.txt\",\"r\")"
      ],
      "metadata": {
        "id": "YbGSOXMMnKcJ"
      },
      "execution_count": null,
      "outputs": []
    },
    {
      "cell_type": "code",
      "source": [
        "2/0"
      ],
      "metadata": {
        "id": "99UzTqqw78Kc"
      },
      "execution_count": null,
      "outputs": []
    },
    {
      "cell_type": "code",
      "source": [
        "x=[10,20,30]\n",
        "x[3]"
      ],
      "metadata": {
        "id": "btgL23ID8Ymx"
      },
      "execution_count": null,
      "outputs": []
    },
    {
      "cell_type": "code",
      "source": [
        "try:\n",
        "    2/0\n",
        "except:\n",
        "    print(\"0으로 나누면 안돼요\")"
      ],
      "metadata": {
        "id": "ElSaCYD58mzu"
      },
      "execution_count": null,
      "outputs": []
    },
    {
      "cell_type": "code",
      "source": [
        "try:\n",
        "    print(\"1\")\n",
        "    2/3 #print(\"0으로 나누면 안돼요\")\n",
        "    print(\"2\")\n",
        "    x=[10,20,30]\n",
        "    print(\"3\")\n",
        "    print(x[3])#print(\"인덱스 번호를 확인하세요\")\n",
        "    print(\"4\")\n",
        "except:\n",
        "    print(\"0으로 나누면 안돼요\")"
      ],
      "metadata": {
        "id": "As71DNba9I8c"
      },
      "execution_count": null,
      "outputs": []
    },
    {
      "cell_type": "code",
      "source": [
        "try:\n",
        "    2/0 #print(\"0으로 나누면 안돼요\")\n",
        "except:\n",
        "    print(\"0으로 나누면 안돼요\")\n",
        "\n",
        "try:\n",
        "    x=[10,20,30]\n",
        "    print(x[3])#print(\"인덱스 번호를 확인하세요\")\n",
        "except:\n",
        "    print(\"인덱스 번호를 확인하세요\")\n"
      ],
      "metadata": {
        "id": "6UF5_o4U9ub9"
      },
      "execution_count": null,
      "outputs": []
    },
    {
      "cell_type": "code",
      "source": [
        "try:\n",
        "    print(2/3)\n",
        "    x=[10,20,30]\n",
        "    print(x[3])#print(\"인덱스 번호를 확인하세요\")\n",
        "except ZeroDivisionError as e:\n",
        "    print(\"0으로 나누면 안돼요\")\n",
        "except IndexError as e:\n",
        "    print(\"인덱스 에러 발생\")"
      ],
      "metadata": {
        "id": "ydcPmVb9-tcz"
      },
      "execution_count": null,
      "outputs": []
    },
    {
      "cell_type": "code",
      "source": [
        "try:\n",
        "    age=int(input(\"나이 입력 : \"))\n",
        "except:\n",
        "    print(\"숫자만 입력해주세요. 제발!\")\n",
        "print(\"반갑습니다\")"
      ],
      "metadata": {
        "id": "_g1p0c2j_ZG9"
      },
      "execution_count": null,
      "outputs": []
    },
    {
      "cell_type": "code",
      "source": [
        "try:\n",
        "    age=int(input(\"나이 입력 : \"))\n",
        "except:\n",
        "    print(\"숫자만 입력해주세요. 제발!\")\n",
        "else:\n",
        "    print(\"반갑습니다\")\n",
        "print(\"안녕\")\n",
        "#try문 수행중에 오류 발생->except수행, 그렇지 않으면 else수행"
      ],
      "metadata": {
        "id": "hH0WNHyUAY-c"
      },
      "execution_count": null,
      "outputs": []
    },
    {
      "cell_type": "code",
      "source": [
        "try:\n",
        "    age=int(input(\"나이 입력 : \"))\n",
        "except:\n",
        "    print(\"숫자만 입력해주세요. 제발!\")\n",
        "else:\n",
        "    if 조건식:\n",
        "        print(\"반갑습니다\")\n",
        "    else:\n",
        "        수행문장\n",
        "print(\"안녕\")\n",
        "#try문 수행중에 오류 발생->except수행, 그렇지 않으면 else수행"
      ],
      "metadata": {
        "id": "TxyOVVLeBvZI"
      },
      "execution_count": null,
      "outputs": []
    },
    {
      "cell_type": "code",
      "source": [
        "\"\"\"\n",
        "나이를 입력받는다.\n",
        "나이를 숫자가 아닌 문자로 입력하면 '입력 오류' 출력\n",
        "나이가 18세 이하면 '미성년자'\n",
        "그렇지 않고 18세 초과면 '환영' 출력\n",
        "\"\"\"\n",
        "try:\n",
        "    age=int(input(\"나이 입력 : \"))\n",
        "except:\n",
        "    print(\"입력 오류\")\n",
        "else:\n",
        "    if age<=18:\n",
        "        print(\"미성년자\")\n",
        "    else:\n",
        "        print(\"환영\")"
      ],
      "metadata": {
        "id": "Y-DDVrFFCO7E"
      },
      "execution_count": null,
      "outputs": []
    },
    {
      "cell_type": "code",
      "source": [
        "#finally: 예외 발생 여부와 상관없이 무조건 실행\n",
        "try:\n",
        "    x=int(input())\n",
        "    y=1/x\n",
        "except:\n",
        "    print(\"0으로 나누지 못함\")\n",
        "else:\n",
        "    print(y)\n",
        "print(\"코드 실행 종료\")"
      ],
      "metadata": {
        "id": "9nINFIPoDCW_"
      },
      "execution_count": null,
      "outputs": []
    },
    {
      "cell_type": "code",
      "source": [
        "#finally: 예외 발생 여부와 상관없이 무조건 실행\n",
        "try:\n",
        "    x=int(input())\n",
        "    y=1/x\n",
        "except:\n",
        "    print(\"0으로 나누지 못함\")\n",
        "else:\n",
        "    print(y)\n",
        "finally:\n",
        "    print(\"코드 실행 종료\")"
      ],
      "metadata": {
        "id": "XCFC6hLCEbZj"
      },
      "execution_count": null,
      "outputs": []
    },
    {
      "cell_type": "code",
      "source": [
        "#내장함수 : 기본적으로 메모리에 적재되는 함수\n",
        "#map, filter, max, len...\n",
        "#외장함수 : 메모리에 적재(import)한 다음 사용할 수 있는 함수\n",
        "import random #random 모듈"
      ],
      "metadata": {
        "id": "16ZeQajvEqkz"
      },
      "execution_count": null,
      "outputs": []
    },
    {
      "cell_type": "code",
      "source": [
        "random.random() #random모듈.random함수()\n",
        "모듈?특정 기능과 관련된 함수, 클래스들로 구성된 파일"
      ],
      "metadata": {
        "id": "Ig7PqsvPFVKR"
      },
      "execution_count": null,
      "outputs": []
    },
    {
      "cell_type": "code",
      "source": [
        "print(\"안녕\")\n"
      ],
      "metadata": {
        "id": "hYA_wddDFj1M"
      },
      "execution_count": null,
      "outputs": []
    },
    {
      "cell_type": "code",
      "source": [
        "abs(-5)\n",
        "abs(-1.5)"
      ],
      "metadata": {
        "id": "ZbdicpehGqMr"
      },
      "execution_count": null,
      "outputs": []
    },
    {
      "cell_type": "code",
      "source": [
        "#all:리스트(튜플)의 모든 요소가 true -> true\n",
        "all([10,20])\n",
        "all([10,20,0])"
      ],
      "metadata": {
        "id": "I4BXyG01LNfn"
      },
      "execution_count": null,
      "outputs": []
    },
    {
      "cell_type": "code",
      "source": [
        "#비어있는 리스트 거짓\n",
        "if [0]:\n",
        "    print(\"참\")\n",
        "else:\n",
        "    print(\"거짓\")"
      ],
      "metadata": {
        "id": "fXwBItNhLiAf"
      },
      "execution_count": null,
      "outputs": []
    },
    {
      "cell_type": "code",
      "source": [
        "if 0:\n",
        "    print(\"참\")\n",
        "else:\n",
        "    print(\"거짓\")"
      ],
      "metadata": {
        "id": "e1igapcZLsZo"
      },
      "execution_count": null,
      "outputs": []
    },
    {
      "cell_type": "code",
      "source": [
        "if []:\n",
        "    print(\"참\")\n",
        "else:\n",
        "    print(\"거짓\")"
      ],
      "metadata": {
        "id": "cnABwatRL4tQ"
      },
      "execution_count": null,
      "outputs": []
    },
    {
      "cell_type": "code",
      "source": [
        "#any:리스트(튜플)의 요소 중에서 하나라도 참 -> 참, 모두 거짓->거짓"
      ],
      "metadata": {
        "id": "og2fLcLLL98O"
      },
      "execution_count": null,
      "outputs": []
    },
    {
      "cell_type": "code",
      "source": [
        "any([1,2,0])"
      ],
      "metadata": {
        "id": "ZrkM3X8SMtB3"
      },
      "execution_count": null,
      "outputs": []
    },
    {
      "cell_type": "code",
      "source": [
        "any([0,0,0])"
      ],
      "metadata": {
        "id": "SEGDsNZaMzN3"
      },
      "execution_count": null,
      "outputs": []
    },
    {
      "cell_type": "code",
      "source": [
        "any([0,0,0,''])"
      ],
      "metadata": {
        "id": "s29vbOqnM2dz"
      },
      "execution_count": null,
      "outputs": []
    },
    {
      "cell_type": "code",
      "source": [
        "#chr #유니코드(전세계문자 코드) -> 문자\n",
        "#ord #문자 -> 유니코드(전세계문자 코드)"
      ],
      "metadata": {
        "id": "x0reE-mpM7Ht"
      },
      "execution_count": null,
      "outputs": []
    },
    {
      "cell_type": "code",
      "source": [
        "chr(65)\n",
        "chr(44032)\n",
        "\n",
        "ord('가')\n",
        "ord(\"대\")"
      ],
      "metadata": {
        "id": "gld1eBGxNbw4"
      },
      "execution_count": null,
      "outputs": []
    },
    {
      "cell_type": "code",
      "source": [
        "x=[10,20]"
      ],
      "metadata": {
        "id": "vpz3Dkv3Niep"
      },
      "execution_count": null,
      "outputs": []
    },
    {
      "cell_type": "code",
      "source": [
        "dir(x)\n"
      ],
      "metadata": {
        "id": "GsglpaseOQFX"
      },
      "execution_count": null,
      "outputs": []
    },
    {
      "cell_type": "code",
      "source": [
        "divmod(5,3)"
      ],
      "metadata": {
        "id": "U4SoEyT8OaPV"
      },
      "execution_count": null,
      "outputs": []
    },
    {
      "cell_type": "code",
      "source": [
        "5//3"
      ],
      "metadata": {
        "id": "YfYkJ5TKOtkt"
      },
      "execution_count": null,
      "outputs": []
    },
    {
      "cell_type": "code",
      "source": [
        "5 % 3"
      ],
      "metadata": {
        "id": "qTzUdy7GO7a0"
      },
      "execution_count": null,
      "outputs": []
    },
    {
      "cell_type": "code",
      "source": [
        "for i, n in enumerate(['hi','hello','bye']):\n",
        "    print(i,n)"
      ],
      "metadata": {
        "id": "-m658VvXO8dN"
      },
      "execution_count": null,
      "outputs": []
    },
    {
      "cell_type": "code",
      "source": [
        "for i, n in enumerate(('hi','hello','bye')):\n",
        "    print(i,n)"
      ],
      "metadata": {
        "id": "eP356mMRPcbO"
      },
      "execution_count": null,
      "outputs": []
    },
    {
      "cell_type": "code",
      "source": [
        "for i, n in enumerate(\"multicampus\"):\n",
        "    print(i,n)"
      ],
      "metadata": {
        "id": "GrSzkiHfP8JA"
      },
      "execution_count": null,
      "outputs": []
    },
    {
      "cell_type": "code",
      "source": [
        "#eval()\n",
        "\n",
        "#문자열로된 수식, 함수 등\n",
        "eval(\"1+2\")\n",
        "eval(\"abs(-5)\")\n",
        "\n",
        "'hi'+'hello'\n",
        "eval(\"'hi'+'hello'\")\n",
        "eval(\"divmod(5,3)\")"
      ],
      "metadata": {
        "id": "lKB39EmzQAoG"
      },
      "execution_count": null,
      "outputs": []
    },
    {
      "cell_type": "code",
      "source": [],
      "metadata": {
        "id": "4DAzur1yQZLa"
      },
      "execution_count": null,
      "outputs": []
    },
    {
      "cell_type": "code",
      "source": [
        "x=[1,-2,3,-4,0,5]\n",
        "#x에 저장된 요소들 중에서 양수만 추출 [1,3,5]\n",
        "[n for n in x if n>0]"
      ],
      "metadata": {
        "id": "YQVMs7yqQphZ"
      },
      "execution_count": null,
      "outputs": []
    },
    {
      "cell_type": "code",
      "source": [
        "lst = []\n",
        "for i in x:\n",
        "    if i > 0:\n",
        "       lst.append(i)\n",
        "print(lst)"
      ],
      "metadata": {
        "id": "36pD2wipSciv"
      },
      "execution_count": null,
      "outputs": []
    },
    {
      "cell_type": "code",
      "source": [
        "#filter함수\n",
        "\n",
        "list(filter(lambda k:k>0,x)) #list(filter(함수, 변수))"
      ],
      "metadata": {
        "id": "TEYrd_oKSlO_"
      },
      "execution_count": null,
      "outputs": []
    },
    {
      "cell_type": "code",
      "source": [
        "def f_func(k):#[1,-2,3,-4,0,5]\n",
        "    return k>0 #[True, False, ....True]\n",
        "\n",
        "list(filter(f_func,x)) #x=[1,-2,3,-4,0,5]\n",
        "# x에 저장된 각각의 요소를 f_func함수로 전달하여,\n",
        "# 조건에 부합되는 요소만 추출하시오."
      ],
      "metadata": {
        "id": "3ZXhcHXeTbAG"
      },
      "execution_count": null,
      "outputs": []
    },
    {
      "cell_type": "code",
      "source": [
        "#1~10까지의 수 중에서 4의 배수만 추출하시오."
      ],
      "metadata": {
        "id": "Z2gdndBXUhJg"
      },
      "execution_count": null,
      "outputs": []
    },
    {
      "cell_type": "code",
      "source": [
        "x = [i for i in range(1, 11)]\n",
        "def Drainage(k):\n",
        "    if k % 4 == 0:\n",
        "        return k\n",
        "list(filter(Drainage, x))"
      ],
      "metadata": {
        "id": "Ei5sa3n6U_tX"
      },
      "execution_count": null,
      "outputs": []
    },
    {
      "cell_type": "code",
      "source": [
        "lst = list(range(1, 11))\n",
        "list(filter(lambda x : x % 4 == 0, lst))"
      ],
      "metadata": {
        "id": "bNFHiu2nWR5C"
      },
      "execution_count": null,
      "outputs": []
    },
    {
      "cell_type": "code",
      "source": [
        "x=range(1,11)\n",
        "def f_func(k):\n",
        "    return k%4==0\n",
        "list(filter(f_func,x))"
      ],
      "metadata": {
        "id": "h-kJXuBcWU8G"
      },
      "execution_count": null,
      "outputs": []
    },
    {
      "cell_type": "code",
      "source": [
        "hex(17)\n",
        "hex(255)"
      ],
      "metadata": {
        "id": "JS74Qi_nWZO_"
      },
      "execution_count": null,
      "outputs": []
    },
    {
      "cell_type": "code",
      "source": [
        "max([1,2,3])"
      ],
      "metadata": {
        "id": "qNRkFd32aKWd"
      },
      "execution_count": null,
      "outputs": []
    },
    {
      "cell_type": "code",
      "source": [
        "min([1,2,3])"
      ],
      "metadata": {
        "id": "vZks3Pv1aAHP"
      },
      "execution_count": null,
      "outputs": []
    },
    {
      "cell_type": "code",
      "source": [
        "pow(2,3)"
      ],
      "metadata": {
        "id": "FLW2kORdaQBv"
      },
      "execution_count": null,
      "outputs": []
    },
    {
      "cell_type": "code",
      "source": [
        "2**3"
      ],
      "metadata": {
        "id": "F6A55xkIaV9_"
      },
      "execution_count": null,
      "outputs": []
    },
    {
      "cell_type": "code",
      "source": [
        "12345**100"
      ],
      "metadata": {
        "id": "OudZmw04aXJf"
      },
      "execution_count": null,
      "outputs": []
    },
    {
      "cell_type": "code",
      "source": [
        "round(4.35,1)"
      ],
      "metadata": {
        "id": "qNIiYEiKafIg"
      },
      "execution_count": null,
      "outputs": []
    },
    {
      "cell_type": "code",
      "source": [
        "round(4.36,1)"
      ],
      "metadata": {
        "id": "fnv0cBEqa1_n"
      },
      "execution_count": null,
      "outputs": []
    },
    {
      "cell_type": "code",
      "source": [
        "round(4.78345)"
      ],
      "metadata": {
        "id": "qbVwCOPJa61v"
      },
      "execution_count": null,
      "outputs": []
    },
    {
      "cell_type": "code",
      "source": [
        "sum([1,2,3])"
      ],
      "metadata": {
        "id": "jJcSEQwFbC2f"
      },
      "execution_count": null,
      "outputs": []
    },
    {
      "cell_type": "code",
      "source": [
        "zip([1,2],[3,4],[5,6])"
      ],
      "metadata": {
        "id": "bYSePjC8bLpX"
      },
      "execution_count": null,
      "outputs": []
    },
    {
      "cell_type": "code",
      "source": [
        "list(zip([1,2],[3,4],[5,6]))"
      ],
      "metadata": {
        "id": "MqXH5BkTbSyy"
      },
      "execution_count": null,
      "outputs": []
    },
    {
      "cell_type": "code",
      "source": [
        "list(zip(\"abc\",\"def\"))"
      ],
      "metadata": {
        "id": "gx4BpyssbVBG"
      },
      "execution_count": null,
      "outputs": []
    },
    {
      "cell_type": "code",
      "source": [
        "#2024년 3월 6일 - 2024년 2월 26일\n",
        "#2024년 3월 6일 - 2024년 2월 26일\n",
        "import datetime"
      ],
      "metadata": {
        "id": "ypLDLytgbcZ5"
      },
      "execution_count": null,
      "outputs": []
    },
    {
      "cell_type": "code",
      "source": [
        "d1=datetime.date(2024,3,6)\n",
        "d2=datetime.date(2024,2,26)"
      ],
      "metadata": {
        "id": "Tv3WG1ulcC9l"
      },
      "execution_count": null,
      "outputs": []
    },
    {
      "cell_type": "code",
      "source": [
        "ex_day=d1-d2"
      ],
      "metadata": {
        "id": "pjfsz2fucvsn"
      },
      "execution_count": null,
      "outputs": []
    },
    {
      "cell_type": "code",
      "source": [
        "ex_day.days"
      ],
      "metadata": {
        "id": "VR0GlE1bcymO"
      },
      "execution_count": null,
      "outputs": []
    },
    {
      "cell_type": "code",
      "source": [
        "d3=datetime.date(2024,8,19)"
      ],
      "metadata": {
        "id": "Ly49yQwmdBTX"
      },
      "execution_count": null,
      "outputs": []
    },
    {
      "cell_type": "code",
      "source": [
        "ex_day=d3-d1\n",
        "ex_day.days"
      ],
      "metadata": {
        "id": "ZW0HkPbHdN_b"
      },
      "execution_count": null,
      "outputs": []
    },
    {
      "cell_type": "code",
      "source": [
        "d4=datetime.date(2024,3,6)\n",
        "d4.weekday() #0:월,1:화...6:일"
      ],
      "metadata": {
        "id": "Q7ZYa9MMdTKQ"
      },
      "execution_count": null,
      "outputs": []
    },
    {
      "cell_type": "code",
      "source": [
        "import time"
      ],
      "metadata": {
        "id": "TFfiNlYrdoJY"
      },
      "execution_count": null,
      "outputs": []
    },
    {
      "cell_type": "code",
      "source": [
        "time.time() #1970.1.1~현재까지를 초로 환산"
      ],
      "metadata": {
        "id": "ssnnY_dseDR9"
      },
      "execution_count": null,
      "outputs": []
    },
    {
      "cell_type": "code",
      "source": [
        "time.ctime()"
      ],
      "metadata": {
        "id": "fWP1jDMEeIpC"
      },
      "execution_count": null,
      "outputs": []
    },
    {
      "cell_type": "code",
      "source": [
        "time.localtime(time.time())"
      ],
      "metadata": {
        "id": "Gq1LMa3Yechq"
      },
      "execution_count": null,
      "outputs": []
    },
    {
      "cell_type": "code",
      "source": [
        "time.strftime(\"%c\",time.localtime(time.time()))"
      ],
      "metadata": {
        "id": "jmzae1aketDH"
      },
      "execution_count": null,
      "outputs": []
    },
    {
      "cell_type": "code",
      "source": [
        "time.sleep(1)\n",
        "print(\"1초 쉰 후에 출력\")"
      ],
      "metadata": {
        "id": "4jGnNhume_Nv"
      },
      "execution_count": null,
      "outputs": []
    },
    {
      "cell_type": "code",
      "source": [
        "f=open(\"test1.txt\",\"w\")\n",
        "f.write(\"안녕하세요\")\n",
        "f.close()"
      ],
      "metadata": {
        "id": "819viyudfP4s"
      },
      "execution_count": null,
      "outputs": []
    },
    {
      "cell_type": "code",
      "source": [
        "import shutil"
      ],
      "metadata": {
        "id": "oU_7CLNxfmJ3"
      },
      "execution_count": null,
      "outputs": []
    },
    {
      "cell_type": "code",
      "source": [
        "shutil.copy(\"test1.txt\",\"test2.txt\")"
      ],
      "metadata": {
        "id": "MoTcY92efx7G"
      },
      "execution_count": null,
      "outputs": []
    },
    {
      "cell_type": "code",
      "source": [
        "import glob"
      ],
      "metadata": {
        "id": "-GEBJnvsf-S4"
      },
      "execution_count": null,
      "outputs": []
    },
    {
      "cell_type": "code",
      "source": [
        "#glob.glob(\"c:/\") #c드라이브에 있는 파일/폴더 검색\n",
        "import pickle"
      ],
      "metadata": {
        "id": "DdqqtWUhgTsv"
      },
      "execution_count": null,
      "outputs": []
    },
    {
      "cell_type": "code",
      "source": [
        "f=open(\"test.txt\",\"wb\")\n",
        "data={1:'python',2:'vs'}\n",
        "pickle.dump(data,f)"
      ],
      "metadata": {
        "id": "G5xNhtOCgse_"
      },
      "execution_count": null,
      "outputs": []
    },
    {
      "cell_type": "code",
      "source": [
        "r=open(\"test.txt\",\"rb\")\n",
        "d=pickle.load(r)\n",
        "print(d)"
      ],
      "metadata": {
        "id": "T9QHlUIbg5Re"
      },
      "execution_count": null,
      "outputs": []
    },
    {
      "cell_type": "code",
      "source": [
        "import zipfile"
      ],
      "metadata": {
        "id": "irbGxEZ7hMD6"
      },
      "execution_count": null,
      "outputs": []
    },
    {
      "cell_type": "code",
      "source": [
        "with zipfile.ZipFile(\"ziptext.zip\",\"w\") as zf:\n",
        "    zf.write(\"test.txt\")\n",
        "    zf.write(\"test1.txt\")\n",
        "    zf.write(\"test2.txt\")"
      ],
      "metadata": {
        "id": "hbVufFjshplp"
      },
      "execution_count": null,
      "outputs": []
    },
    {
      "cell_type": "code",
      "source": [
        " with zipfile.ZipFile(\"ziptext.zip\") as mz:\n",
        "    mz.extractall()"
      ],
      "metadata": {
        "id": "0JZmYMLkiCOI"
      },
      "execution_count": null,
      "outputs": []
    },
    {
      "cell_type": "code",
      "source": [],
      "metadata": {
        "id": "BCkbsimxihAg"
      },
      "execution_count": null,
      "outputs": []
    }
  ]
}