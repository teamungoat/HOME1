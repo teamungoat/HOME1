{
  "nbformat": 4,
  "nbformat_minor": 0,
  "metadata": {
    "colab": {
      "private_outputs": true,
      "provenance": []
    },
    "kernelspec": {
      "name": "python3",
      "display_name": "Python 3"
    },
    "language_info": {
      "name": "python"
    }
  },
  "cells": [
    {
      "cell_type": "code",
      "execution_count": null,
      "metadata": {
        "id": "ANbCu4-qMd-K"
      },
      "outputs": [],
      "source": [
        "movie_rank = ['닥터 스트레인지', '슈퍼맨', '스플릿', '배트맨']\n",
        "del movie_rank[2]\n",
        "movie_rank"
      ]
    },
    {
      "cell_type": "code",
      "source": [
        "del movie_rank[2]\n",
        "movie_rank"
      ],
      "metadata": {
        "id": "lZ6LZbOYMkM7"
      },
      "execution_count": null,
      "outputs": []
    },
    {
      "cell_type": "code",
      "source": [
        "movie_rank = ['닥터 스트레인지', '슈퍼맨', '스플릿', '배트맨']\n",
        "del movie_rank[2:4]\n",
        "movie_rank"
      ],
      "metadata": {
        "id": "9vMyPOCPNMtx"
      },
      "execution_count": null,
      "outputs": []
    },
    {
      "cell_type": "code",
      "source": [
        "price = ['20180728', 100, 130, 140, 150, 160, 170]\n",
        "price[1:]\n",
        "del price[0]"
      ],
      "metadata": {
        "id": "dcfJZLk6Nptr"
      },
      "execution_count": null,
      "outputs": []
    },
    {
      "cell_type": "code",
      "source": [
        "price"
      ],
      "metadata": {
        "id": "fKj-CIxQPfRM"
      },
      "execution_count": null,
      "outputs": []
    },
    {
      "cell_type": "code",
      "source": [
        "nums = [1, 2, 3, 4, 5, 6, 7, 8, 9, 10]\n",
        "nums[::2]\n",
        "nums[1::2]"
      ],
      "metadata": {
        "id": "ctnH073YPfwk"
      },
      "execution_count": null,
      "outputs": []
    },
    {
      "cell_type": "code",
      "source": [
        "nums = [1, 2, 3, 4, 5]\n",
        "#nums[::-1]\n",
        "nums.reverse()"
      ],
      "metadata": {
        "id": "zl69x8NmQUL8"
      },
      "execution_count": null,
      "outputs": []
    },
    {
      "cell_type": "code",
      "source": [
        "nums"
      ],
      "metadata": {
        "id": "vtbyl2rpQ3nd"
      },
      "execution_count": null,
      "outputs": []
    },
    {
      "cell_type": "code",
      "source": [
        "company = ['삼성전자', 'LG전자', 'Naver']\n",
        "print(f'{company[0]} {company[2]}')"
      ],
      "metadata": {
        "id": "6gApJjjJRTPe"
      },
      "execution_count": null,
      "outputs": []
    },
    {
      "cell_type": "code",
      "source": [
        "company = ['삼성전자', 'LG전자', 'Naver']\n",
        "print(f'{company[0]} {company[-1]}')"
      ],
      "metadata": {
        "id": "6Yco3geQRyGH"
      },
      "execution_count": null,
      "outputs": []
    },
    {
      "cell_type": "code",
      "source": [
        "interest = ['삼성전자', 'LG전자', 'Naver', 'SK하이닉스', '미래에셋대우']\n",
        "sep = '\\n'\n",
        "print(sep.join(interest))\n",
        "#print(interest)\n",
        "print(\"=\"*50)\n",
        "print(sep.join(interest[1:4]))"
      ],
      "metadata": {
        "id": "o86L6HzkR0WF"
      },
      "execution_count": null,
      "outputs": []
    },
    {
      "cell_type": "code",
      "source": [
        "data = [2, 4, 3, 1, 5, 5, 10, 9]\n",
        "data_set = list(set(data))\n",
        "print(data_set)"
      ],
      "metadata": {
        "id": "chyFrr_ZSf08"
      },
      "execution_count": null,
      "outputs": []
    },
    {
      "cell_type": "code",
      "source": [
        "data = [2, 4, 3, 1, 5, 5, 10, 9]\n",
        "data.sort()"
      ],
      "metadata": {
        "id": "NmzqLtfFTLQs"
      },
      "execution_count": null,
      "outputs": []
    },
    {
      "cell_type": "code",
      "source": [
        "data"
      ],
      "metadata": {
        "id": "yEf4DP43T1cV"
      },
      "execution_count": null,
      "outputs": []
    },
    {
      "cell_type": "code",
      "source": [
        "data = [2, 4, 3, 1, 5, 5, 10, 9]\n",
        "sorted(data)"
      ],
      "metadata": {
        "id": "dPYKPb6OT3Dc"
      },
      "execution_count": null,
      "outputs": []
    },
    {
      "cell_type": "code",
      "source": [
        "data"
      ],
      "metadata": {
        "id": "PYTznObxUAkl"
      },
      "execution_count": null,
      "outputs": []
    },
    {
      "cell_type": "code",
      "source": [
        "pin = '881120-1068234'\n",
        "f_pin, b_pin = pin.split('-')\n",
        "f_year = ['19','20']\n",
        "year_con = 0\n",
        "if int(b_pin[0]) < 3:\n",
        "  year_con = 0\n",
        "else:\n",
        "  year_con = 1\n",
        "print(\"연월일 : \",f_year[year_con]+f_pin)\n",
        "print(\"뒤 숫자 : \",b_pin)"
      ],
      "metadata": {
        "id": "otUHIqj-UFB8"
      },
      "execution_count": null,
      "outputs": []
    },
    {
      "cell_type": "code",
      "source": [
        "pin = '881120-1068234'\n",
        "s_pin =pin.split('-')\n",
        "s_pin[1]"
      ],
      "metadata": {
        "id": "sXa5Jo2wUyH7"
      },
      "execution_count": null,
      "outputs": []
    },
    {
      "cell_type": "code",
      "source": [
        "x_tuple = (1,2,3)"
      ],
      "metadata": {
        "id": "gMis2e0nUzL9"
      },
      "execution_count": null,
      "outputs": []
    },
    {
      "cell_type": "code",
      "source": [
        "y_list = list(x_tuple)\n",
        "y_list.append(4)\n",
        "y_tuple = tuple(y_list)\n",
        "y_tuple"
      ],
      "metadata": {
        "id": "LnVPYPz0ZAba"
      },
      "execution_count": null,
      "outputs": []
    },
    {
      "cell_type": "code",
      "source": [
        "nums = [1, 2, 3, 4, 5]\n",
        "float(sum(nums)/len(nums))"
      ],
      "metadata": {
        "id": "KVDLunO3aKVq"
      },
      "execution_count": null,
      "outputs": []
    },
    {
      "cell_type": "code",
      "source": [
        "hap=0\n",
        "for n in nums:\n",
        "    hap+=n\n",
        "hap/len(nums)"
      ],
      "metadata": {
        "id": "axASzgPdaLDn"
      },
      "execution_count": null,
      "outputs": []
    },
    {
      "cell_type": "code",
      "source": [
        "#sum=100"
      ],
      "metadata": {
        "id": "zy6YjdmdaXAC"
      },
      "execution_count": null,
      "outputs": []
    },
    {
      "cell_type": "code",
      "source": [
        "nums = [1, 2, 3, 4, 5]"
      ],
      "metadata": {
        "id": "CAU_3c4Aam2n"
      },
      "execution_count": null,
      "outputs": []
    },
    {
      "cell_type": "code",
      "source": [
        "sum(nums)"
      ],
      "metadata": {
        "id": "7LXatWvwapMN"
      },
      "execution_count": null,
      "outputs": []
    },
    {
      "cell_type": "code",
      "source": [
        "del sum #사용자 정의 변수를 메모리에서 삭제"
      ],
      "metadata": {
        "id": "MvrU8zPKarnG"
      },
      "execution_count": null,
      "outputs": []
    },
    {
      "cell_type": "code",
      "source": [
        "sum(nums)"
      ],
      "metadata": {
        "id": "JXxWEj2Va_nQ"
      },
      "execution_count": null,
      "outputs": []
    },
    {
      "cell_type": "code",
      "source": [
        "# 18. 리스트의 숫자를 역 방향으로 출력하라.\n",
        "# 실행 예:\n",
        "# [5, 4, 3, 2, 1]\n",
        "nums = [1, 2, 3, 4, 5]\n",
        "print(list(reversed(nums)))"
      ],
      "metadata": {
        "id": "D_1MeZlebAt1"
      },
      "execution_count": null,
      "outputs": []
    },
    {
      "cell_type": "code",
      "source": [
        "reversed(nums)"
      ],
      "metadata": {
        "id": "063clTXgbvpm"
      },
      "execution_count": null,
      "outputs": []
    },
    {
      "cell_type": "code",
      "source": [
        "list(reversed(nums))"
      ],
      "metadata": {
        "id": "mGR1Hh3mbzvX"
      },
      "execution_count": null,
      "outputs": []
    },
    {
      "cell_type": "code",
      "source": [
        "nums"
      ],
      "metadata": {
        "id": "YcjiZUKfb5EC"
      },
      "execution_count": null,
      "outputs": []
    },
    {
      "cell_type": "code",
      "source": [
        "nums.reverse()"
      ],
      "metadata": {
        "id": "e--wXUhFb6mf"
      },
      "execution_count": null,
      "outputs": []
    },
    {
      "cell_type": "code",
      "source": [
        "nums"
      ],
      "metadata": {
        "id": "VHg_a1CYcqOd"
      },
      "execution_count": null,
      "outputs": []
    },
    {
      "cell_type": "code",
      "source": [
        "ice_list = {'메로나':1000,'폴라포':1200,'빵빠레':1800}"
      ],
      "metadata": {
        "id": "ndpYD48Kcq2Z"
      },
      "execution_count": null,
      "outputs": []
    },
    {
      "cell_type": "code",
      "source": [
        "ice_list"
      ],
      "metadata": {
        "id": "zY_QN5aedDKv"
      },
      "execution_count": null,
      "outputs": []
    },
    {
      "cell_type": "code",
      "source": [
        "# ice_list['죠스바']=1200\n",
        "# ice_list['월드콘']=1500\n",
        "\n",
        "ice_list.update({'죠스바':1200,'월드콘':1500})\n",
        "ice_list"
      ],
      "metadata": {
        "id": "YjrG-RTydD-H"
      },
      "execution_count": null,
      "outputs": []
    },
    {
      "cell_type": "code",
      "source": [
        "x = 1\n",
        "multi_list = []\n",
        "while x<=1000:\n",
        "  if x%3==0 and x%7==0:\n",
        "      multi_list.append(x)\n",
        "  x += 1\n",
        "print(multi_list)\n",
        "sum(multi_list)"
      ],
      "metadata": {
        "id": "0_FovwNUdYCH"
      },
      "execution_count": null,
      "outputs": []
    },
    {
      "cell_type": "code",
      "source": [
        "# numbers = [3,5,45,97,32,22,10,19,39,43]\n",
        "# result = []\n",
        "# for number in numbers:\n",
        "#   if number % 2 == 0:\n",
        "#     result.append(number)\n",
        "# print(result)\n",
        "\n",
        "# lst1=[4,54,6,74,104]\n",
        "# lst2=[]\n",
        "numbers = [3,5,45,97,32,22,10,19,39,43]\n",
        "result = [number for number in numbers if number%2==0]\n",
        "print(result)"
      ],
      "metadata": {
        "id": "m5XwQfrueCNM"
      },
      "execution_count": null,
      "outputs": []
    },
    {
      "cell_type": "code",
      "source": [
        "lst1=[4,54,6,74,104]\n",
        "lst2=[]\n",
        "for x in lst1:\n",
        "  lst2.append(x+6)\n",
        "lst2"
      ],
      "metadata": {
        "id": "_hyRiGuzeCJe"
      },
      "execution_count": null,
      "outputs": []
    },
    {
      "cell_type": "code",
      "source": [
        "lst1=[4,54,6,74,104]\n",
        "lst2=[i+6 for i in lst1 ]\n",
        "lst2"
      ],
      "metadata": {
        "id": "gfqtq-OueCFr"
      },
      "execution_count": null,
      "outputs": []
    },
    {
      "cell_type": "code",
      "source": [
        "lst2=[]\n",
        "for x in lst1:\n",
        "  if x**2 > 50:\n",
        "    lst2.append(x)\n",
        "lst2"
      ],
      "metadata": {
        "id": "n5xamXlueCCj"
      },
      "execution_count": null,
      "outputs": []
    },
    {
      "cell_type": "code",
      "source": [
        "lst1=[4,54,6,74,104]\n",
        "lst2=[i for i in lst1 if i**2 > 50]\n",
        "lst2"
      ],
      "metadata": {
        "id": "j3xTI5ireB-I"
      },
      "execution_count": null,
      "outputs": []
    },
    {
      "cell_type": "code",
      "source": [
        "lst1=[4,54,6,74,104]\n",
        "lst2=[i**2 for i in lst1 if i**2 > 50]\n",
        "lst2"
      ],
      "metadata": {
        "id": "cpwsYZsyeB6H"
      },
      "execution_count": null,
      "outputs": []
    },
    {
      "cell_type": "code",
      "source": [],
      "metadata": {
        "id": "65Xl_bzZeB0f"
      },
      "execution_count": null,
      "outputs": []
    },
    {
      "cell_type": "code",
      "source": [
        "import random\n",
        "lotto_lists = []\n",
        "for count in range(6):\n",
        "  lotto_list = []\n",
        "  while len(lotto_list)<6:  #while 6 < 7\n",
        "    number = random.randint(1,45)\n",
        "    if number not in lotto_list:\n",
        "      lotto_list.append(number)\n",
        "  lotto_lists.append(lotto_list)\n",
        "lotto_lists"
      ],
      "metadata": {
        "id": "HRBKx2sheBlH"
      },
      "execution_count": null,
      "outputs": []
    },
    {
      "cell_type": "code",
      "source": [
        "# while len(set([10,30,10,10,20]))!=6\n",
        "# random.randint(1,45)\n",
        "\n",
        "#오늘 오후 추가 문제\n",
        "#로또 문제를 set 자료구조로 구현해보세요"
      ],
      "metadata": {
        "id": "8S0yjqtKf8r0"
      },
      "execution_count": null,
      "outputs": []
    },
    {
      "cell_type": "code",
      "source": [
        "result = 0 # 23688\n",
        "i = 1\n",
        "while True:\n",
        "    if(i%3==0 and i%7==0):\n",
        "        result += i\n",
        "    if(i > 1000):\n",
        "        break\n",
        "    i+=1\n",
        "print(result)"
      ],
      "metadata": {
        "id": "r0LllfXUiD_P"
      },
      "execution_count": null,
      "outputs": []
    },
    {
      "cell_type": "code",
      "source": [
        "# for : 일반적인 반복문, 반복횟수가 일정\n",
        "# while : 반복횟수가 일정치 않을때\n",
        "\n",
        "# while True:\n",
        "#     명령문\n",
        "#     if 끝날상황:\n",
        "#         break\n",
        "#     명령문"
      ],
      "metadata": {
        "id": "7Ydcs71Umu2_"
      },
      "execution_count": null,
      "outputs": []
    },
    {
      "cell_type": "code",
      "source": [
        "import random\n",
        "nums = [random.randint(1,45) for n in range(6)]\n",
        "print(nums)"
      ],
      "metadata": {
        "id": "OLRI-Dq3nd39"
      },
      "execution_count": null,
      "outputs": []
    },
    {
      "cell_type": "code",
      "source": [
        "num = '881120-1068234'\n",
        "print( num[0:num.find('-')], num[num.find('-')+1:len(num)] )"
      ],
      "metadata": {
        "id": "P7iK3hHGp5Wy"
      },
      "execution_count": null,
      "outputs": []
    },
    {
      "cell_type": "code",
      "source": [
        "num[0:6](())"
      ],
      "metadata": {
        "id": "4iv8R3CiqmF6"
      },
      "execution_count": null,
      "outputs": []
    },
    {
      "cell_type": "code",
      "source": [],
      "metadata": {
        "id": "nkWkRolqFW9D"
      },
      "execution_count": null,
      "outputs": []
    },
    {
      "cell_type": "code",
      "source": [
        "#함수 : y=ax+b"
      ],
      "metadata": {
        "id": "wQTgBoRvq3D6"
      },
      "execution_count": null,
      "outputs": []
    },
    {
      "cell_type": "code",
      "source": [
        "def 함수이름():\n",
        "    코드"
      ],
      "metadata": {
        "id": "2I8f4RRYFX2Q"
      },
      "execution_count": null,
      "outputs": []
    },
    {
      "cell_type": "code",
      "source": [
        "#함수 정의\n",
        "def getMsg():\n",
        "    print(\"hi, hello\")\n",
        "    #return"
      ],
      "metadata": {
        "id": "jOx9xxqqG0Vk"
      },
      "execution_count": null,
      "outputs": []
    },
    {
      "cell_type": "code",
      "source": [
        "#함수 호출\n",
        "v=getMsg()\n",
        "print(v)"
      ],
      "metadata": {
        "id": "GdhxcKtuHewD"
      },
      "execution_count": null,
      "outputs": []
    },
    {
      "cell_type": "code",
      "source": [
        "#문장들...\n",
        "def getJuice(s): #매개변수\n",
        "    #mix\n",
        "    return s+\"쥬스\"\n",
        "#문장들..."
      ],
      "metadata": {
        "id": "PZNHkKBxHmcg"
      },
      "execution_count": null,
      "outputs": []
    },
    {
      "cell_type": "code",
      "source": [
        "v=getJuice(\"딸기\") #인수(퍼러미터,parameter,argument)\n",
        "print(v)"
      ],
      "metadata": {
        "id": "1TQt8XAxH_V_"
      },
      "execution_count": null,
      "outputs": []
    },
    {
      "cell_type": "code",
      "source": [
        "def imsiFunc():\n",
        "    pass"
      ],
      "metadata": {
        "id": "Hok0gecUIsuK"
      },
      "execution_count": null,
      "outputs": []
    },
    {
      "cell_type": "code",
      "source": [
        "imsiFunc()"
      ],
      "metadata": {
        "id": "V42kwf5XLgJk"
      },
      "execution_count": null,
      "outputs": []
    },
    {
      "cell_type": "code",
      "source": [
        "def add(a,b):\n",
        "    return a+b"
      ],
      "metadata": {
        "id": "C_eaRPjvLo8-"
      },
      "execution_count": null,
      "outputs": []
    },
    {
      "cell_type": "code",
      "source": [
        "a=1\n",
        "b=2"
      ],
      "metadata": {
        "id": "b94qNKU1Pv8R"
      },
      "execution_count": null,
      "outputs": []
    },
    {
      "cell_type": "code",
      "source": [
        "add(a,b)"
      ],
      "metadata": {
        "id": "1h_ZsvMAPyCM"
      },
      "execution_count": null,
      "outputs": []
    },
    {
      "cell_type": "code",
      "source": [
        "print(add(x,y))"
      ],
      "metadata": {
        "id": "OUEFWrTDP4Mz"
      },
      "execution_count": null,
      "outputs": []
    },
    {
      "cell_type": "code",
      "source": [
        "#함수유형\n",
        "# 입력이 없는 함수\n",
        "# 리턴이 없는 함수\n",
        "# 입력,리턴 모두 없는 함수\n",
        "# 매개변수를 지정하여 호출 하는 함수"
      ],
      "metadata": {
        "id": "zhDEOVAlP6Yy"
      },
      "execution_count": null,
      "outputs": []
    },
    {
      "cell_type": "code",
      "source": [
        "def abc(x,y,z=10):\n",
        "    \"\"\"abc 함수는 세 수를 입력받아 뺄셈 결과를 리턴합니다\"\"\"\n",
        "\n",
        "    \"\"\"\n",
        "    abc 함수는\n",
        "    세 수를 입력받아\n",
        "    뺄셈 결과를\n",
        "    리턴합니다\n",
        "    \"\"\"\n",
        "\n",
        "    return z-x-y"
      ],
      "metadata": {
        "id": "ku_PeaguQxzd"
      },
      "execution_count": null,
      "outputs": []
    },
    {
      "cell_type": "code",
      "source": [
        "abc(y=3,x=1,z=5)"
      ],
      "metadata": {
        "id": "-p5ptF6YRAu0"
      },
      "execution_count": null,
      "outputs": []
    },
    {
      "cell_type": "code",
      "source": [
        "help(abc)"
      ],
      "metadata": {
        "id": "j7povQ5gRKbu"
      },
      "execution_count": null,
      "outputs": []
    },
    {
      "cell_type": "code",
      "source": [
        "def myfunc():\n",
        "    return [100,50,10]"
      ],
      "metadata": {
        "id": "KJ2pT6rmT7X5"
      },
      "execution_count": null,
      "outputs": []
    },
    {
      "cell_type": "code",
      "source": [
        "h=myfunc()\n",
        "print(h[0])"
      ],
      "metadata": {
        "id": "6f1MHMH8USC7"
      },
      "execution_count": null,
      "outputs": []
    },
    {
      "cell_type": "code",
      "source": [
        "def myfunc2(x):\n",
        "    if x==1:\n",
        "        return #함수를 호출한 위치로 되돌아 감\n",
        "    print(x)"
      ],
      "metadata": {
        "id": "nQocOXnoUVw5"
      },
      "execution_count": null,
      "outputs": []
    },
    {
      "cell_type": "code",
      "source": [
        "myfunc2(10)"
      ],
      "metadata": {
        "id": "BA-S9M2kUmrz"
      },
      "execution_count": null,
      "outputs": []
    },
    {
      "cell_type": "code",
      "source": [
        "\"\"\"\n",
        "두 수를 입력하세요 : 3 2\n",
        "합:5\n",
        "차:1\n",
        "곱:6\n",
        "나눔:1.5\n",
        "\"\"\""
      ],
      "metadata": {
        "id": "-y0QB1YhUooh"
      },
      "execution_count": null,
      "outputs": []
    },
    {
      "cell_type": "code",
      "source": [
        "x=3\n",
        "y=2"
      ],
      "metadata": {
        "id": "2Cf3g6ujZLEV"
      },
      "execution_count": null,
      "outputs": []
    },
    {
      "cell_type": "code",
      "source": [
        "def func(a, b):\n",
        "    print(f\"합: {a+b}\")\n",
        "    print(f\"차: {a-b}\")\n",
        "    print(f\"곱: {a*b}\")\n",
        "    print(f\"나눔: {a/b}\")\n",
        "func(x, y)"
      ],
      "metadata": {
        "id": "wNv526dqZHrr"
      },
      "execution_count": null,
      "outputs": []
    },
    {
      "cell_type": "code",
      "source": [
        "def acc(x,y):\n",
        "  hap=f'합:{x+y}'\n",
        "  cha=f'차:{x-y}'\n",
        "  gop=f'곱:{x*y}'\n",
        "  na=f'나눔:{x/y}'\n",
        "  print(hap,cha,gop,na, sep='\\n')\n",
        "  return\n",
        "a,b=map(int,input('두수를 입력하세요 :').split())\n",
        "acc(a,b)"
      ],
      "metadata": {
        "id": "bHcvK1tNZO2W"
      },
      "execution_count": null,
      "outputs": []
    },
    {
      "cell_type": "code",
      "source": [
        "input('두수를 입력하세요 :').split() #\"3 2\" -> split -> ['3','2'] -> map(int,['3','2']) -> 3, 2"
      ],
      "metadata": {
        "id": "5Pr58Pk9ZkcO"
      },
      "execution_count": null,
      "outputs": []
    },
    {
      "cell_type": "code",
      "source": [
        "def add(*v): #(1, 2, 3, 4)\n",
        "    print(v)\n",
        "    res=0\n",
        "    for i in v:\n",
        "        res+=i\n",
        "    return res"
      ],
      "metadata": {
        "id": "-8R9jvhxZqBN"
      },
      "execution_count": null,
      "outputs": []
    },
    {
      "cell_type": "code",
      "source": [
        "print(add(1,2,3))"
      ],
      "metadata": {
        "id": "leo98TNwfd07"
      },
      "execution_count": null,
      "outputs": []
    },
    {
      "cell_type": "code",
      "source": [
        "def addOrSub(op, *v): #(1, 2, 3, 4)\n",
        "    res=0\n",
        "    if op=='add':\n",
        "        for i in v:\n",
        "            res+=i\n",
        "    elif op=='sub':\n",
        "        for i in v:\n",
        "            res-=i\n",
        "    return res"
      ],
      "metadata": {
        "id": "u1trv-bYfg5c"
      },
      "execution_count": null,
      "outputs": []
    },
    {
      "cell_type": "code",
      "source": [
        "addOrSub('add',10,20,1,2,3,4)"
      ],
      "metadata": {
        "id": "4zCWsVfSgtQe"
      },
      "execution_count": null,
      "outputs": []
    },
    {
      "cell_type": "code",
      "source": [
        "addOrSub('sub',1,2,1,2,3,4)"
      ],
      "metadata": {
        "id": "vQMN4KnhhNw5"
      },
      "execution_count": null,
      "outputs": []
    },
    {
      "cell_type": "code",
      "source": [
        "def myfunc2(n, a, man=True):\n",
        "    print(\"이름 : %s\" %n)\n",
        "    print(\"나이 : %d\" %a)\n",
        "    if man:\n",
        "        print(\"남\")\n",
        "    else:\n",
        "        print(\"여\")"
      ],
      "metadata": {
        "id": "qmKgad0whP-9"
      },
      "execution_count": null,
      "outputs": []
    },
    {
      "cell_type": "code",
      "source": [
        "myfunc2(\"홍길동\",20)\n",
        "myfunc2(\"홍길동\",20,True)\n",
        "myfunc2(\"홍길순\",20,False)"
      ],
      "metadata": {
        "id": "T6Kto1PYh7-B"
      },
      "execution_count": null,
      "outputs": []
    },
    {
      "cell_type": "code",
      "source": [
        "def myfunc3(n, a, man=True, addr='Seoul'):\n",
        "    print(\"이름 : %s\" %n)\n",
        "    print(\"나이 : %d\" %a)\n",
        "    if man:\n",
        "        print(\"남\")\n",
        "    else:\n",
        "        print(\"여\")"
      ],
      "metadata": {
        "id": "yO_a5ykAiEEs"
      },
      "execution_count": null,
      "outputs": []
    },
    {
      "cell_type": "code",
      "source": [
        "myfunc3(\"홍길동\",20)"
      ],
      "metadata": {
        "id": "Q5sfGeuKim2U"
      },
      "execution_count": null,
      "outputs": []
    },
    {
      "cell_type": "code",
      "source": [
        "def prn_nums(a,b,c):\n",
        "    print(a)\n",
        "    print(b)\n",
        "    print(c)"
      ],
      "metadata": {
        "id": "Y7v3AGIniphV"
      },
      "execution_count": null,
      "outputs": []
    },
    {
      "cell_type": "code",
      "source": [
        "prn_nums(1,2,3)"
      ],
      "metadata": {
        "id": "Xr25CfizjffO"
      },
      "execution_count": null,
      "outputs": []
    },
    {
      "cell_type": "code",
      "source": [],
      "metadata": {
        "id": "mVFq_PdZjhde"
      },
      "execution_count": null,
      "outputs": []
    },
    {
      "cell_type": "code",
      "source": [
        "#n=[1,2,3]\n",
        "n=(1,2,3)"
      ],
      "metadata": {
        "id": "tlTA3wC5jxKg"
      },
      "execution_count": null,
      "outputs": []
    },
    {
      "cell_type": "code",
      "source": [
        "prn_nums(*n) # *리스트, *튜플"
      ],
      "metadata": {
        "id": "8KRhpu0pj5Zm"
      },
      "execution_count": null,
      "outputs": []
    },
    {
      "cell_type": "code",
      "source": [
        "prn_nums(*[1,2,3])"
      ],
      "metadata": {
        "id": "cSQVNyF6j9K9"
      },
      "execution_count": null,
      "outputs": []
    },
    {
      "cell_type": "code",
      "source": [
        "prn_nums(*[1,2])"
      ],
      "metadata": {
        "id": "yztt9T6MkgnX"
      },
      "execution_count": null,
      "outputs": []
    },
    {
      "cell_type": "code",
      "source": [
        "def myfunc(st, *n):\n",
        "    res = 0\n",
        "    if st == \"add\":\n",
        "        for i in n:\n",
        "            res += i\n",
        "    if st == \"sub\":\n",
        "        for i in n:\n",
        "            res -= i\n",
        "    return res\n",
        "myfunc(\"add\", 1, 2, 3)\n",
        "myfunc(\"sub\", 1, 2, 3, 4)"
      ],
      "metadata": {
        "id": "gv_PyTyuknJH"
      },
      "execution_count": null,
      "outputs": []
    },
    {
      "cell_type": "code",
      "source": [
        "myfunc(\"add\",1,2,3) #6\n",
        "myfunc(\"sub\",1,2,3,4) #-10 (=0-1-2-3-4)"
      ],
      "metadata": {
        "id": "mxgDaXa5lR-5"
      },
      "execution_count": null,
      "outputs": []
    },
    {
      "cell_type": "code",
      "source": [
        "#딕셔너리\n",
        "def per(n, a, addr):\n",
        "    print('이름',n)\n",
        "    print('나이',a)\n",
        "    print('주소',addr)"
      ],
      "metadata": {
        "id": "i2BO6AJ6mx1p"
      },
      "execution_count": null,
      "outputs": []
    },
    {
      "cell_type": "code",
      "source": [
        "dic={'n':'홍길동','a':20,'addr':'서울'}"
      ],
      "metadata": {
        "id": "fuQik7zZm8g4"
      },
      "execution_count": null,
      "outputs": []
    },
    {
      "cell_type": "code",
      "source": [
        "per(**dic)"
      ],
      "metadata": {
        "id": "XMHMbeM4nLEx"
      },
      "execution_count": null,
      "outputs": []
    },
    {
      "cell_type": "code",
      "source": [
        "per(**{'n':'홍길동','a':20,'addr':'서울'})"
      ],
      "metadata": {
        "id": "-kIBDiNVnOJn"
      },
      "execution_count": null,
      "outputs": []
    },
    {
      "cell_type": "code",
      "source": [],
      "metadata": {
        "id": "dI7R9Johnbhn"
      },
      "execution_count": null,
      "outputs": []
    }
  ]
}