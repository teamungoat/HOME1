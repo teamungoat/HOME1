{
  "nbformat": 4,
  "nbformat_minor": 0,
  "metadata": {
    "colab": {
      "private_outputs": true,
      "provenance": []
    },
    "kernelspec": {
      "name": "python3",
      "display_name": "Python 3"
    },
    "language_info": {
      "name": "python"
    }
  },
  "cells": [
    {
      "cell_type": "code",
      "execution_count": null,
      "metadata": {
        "id": "aVTyown4JGej"
      },
      "outputs": [],
      "source": [
        "count = 0\n",
        "for i in range(10000):\n",
        "    for j in str(i):\n",
        "        if(j == '8'):\n",
        "            count += 1\n",
        "            break\n",
        "\n",
        "print(10000-count)"
      ]
    },
    {
      "cell_type": "code",
      "source": [
        "count=0\n",
        "for j in str(1888):\n",
        "    if(j == '8'):\n",
        "        count += 1\n",
        "print(count)"
      ],
      "metadata": {
        "id": "Pf50A4h6JJjJ"
      },
      "execution_count": null,
      "outputs": []
    },
    {
      "cell_type": "code",
      "source": [
        "# 1\n",
        "# 0부터 9999까지 8을 포함하지 않는 수는 총 몇개일까?\n",
        "# 8, 108, 888, 9998 등은 8을 포함하고 있는 수입니다.\n",
        "#111, 299, 4 등과 같은 수는 8을 포함하지 않는 수 입니다.\n",
        "\n",
        "count = 0\n",
        "for i in range(10000): #889\n",
        "    for j in str(i): # 888 -> \"888\"\n",
        "        if(j == '8'):\n",
        "            count += 1\n",
        "            break\n",
        "\n",
        "print(10000-count)"
      ],
      "metadata": {
        "id": "zm3y8c4RJUhO"
      },
      "execution_count": null,
      "outputs": []
    },
    {
      "cell_type": "code",
      "source": [
        "data = int(input())\n",
        "print(f'{len(str(data))}자리수')"
      ],
      "metadata": {
        "id": "pBAS7ZIPOhUA"
      },
      "execution_count": null,
      "outputs": []
    },
    {
      "cell_type": "code",
      "source": [
        "data = input()\n",
        "print(f'{len(data)}자리수')"
      ],
      "metadata": {
        "id": "94DCBs6lOh59"
      },
      "execution_count": null,
      "outputs": []
    },
    {
      "cell_type": "code",
      "source": [
        "from datetime import datetime\n",
        "date_form = \"%H:%M:%S\"\n",
        "datas = ['09:12:23', '11:14:35',\n",
        "        '10:34:01', '13:23:40',\n",
        "        '10:34:31', '11:20:10']"
      ],
      "metadata": {
        "id": "SdSrHvZUPIbl"
      },
      "execution_count": null,
      "outputs": []
    },
    {
      "cell_type": "code",
      "source": [
        "input_time = datetime.strptime(input(), date_form) #\"11:05:20\" -> datetime.datetime(1900, 1, 1, 11, 5, 20)\n",
        "#11:05:20"
      ],
      "metadata": {
        "id": "WbIPwwBkPYgd"
      },
      "execution_count": null,
      "outputs": []
    },
    {
      "cell_type": "code",
      "source": [
        "people = 0\n",
        "for i in range(0,len(datas),2):\n",
        "    datas_i = datetime.strptime(datas[i], date_form)\n",
        "    datas_j = datetime.strptime(datas[i+1], date_form)\n",
        "    if(datas_i < input_time < datas_j):\n",
        "        people += 1\n",
        "\n",
        "print(people)"
      ],
      "metadata": {
        "id": "W4TmgHH4Ol-h"
      },
      "execution_count": null,
      "outputs": []
    },
    {
      "cell_type": "code",
      "source": [
        "import re\n",
        "emails = ['python@mail.example.com', 'python+kr@example.com',              # 올바른 형식\n",
        "          'python-test@example.co.kr', 'python_10@example.info',         # 올바른 형식\n",
        "          'python.test@e-xample.com',                                    # 올바른 형식\n",
        "          '@example.com', 'python@example', 'python@example-com']          # 잘못된 형식\n",
        "emails_true = []\n",
        "emails_false = []\n",
        "for i in emails:\n",
        "    res = re.match(\"[A-z+-_.]+@[A-z.-]+[.][A-z]+\", i)\n",
        "    if res:\n",
        "        emails_true.append(i)\n",
        "    else:\n",
        "        emails_false.append(i)\n",
        "print(\"올바른 형식: {0}\\n잘못된 형식: {1}\".format(emails_true, emails_false))"
      ],
      "metadata": {
        "id": "GjUBD1CNPHHY"
      },
      "execution_count": null,
      "outputs": []
    },
    {
      "cell_type": "code",
      "source": [
        "num0_9999 = ''          # num0_9999 문자열에 모든 수를 넣음.\n",
        "for i in range(10000):\n",
        "  num0_9999+= str(i)+' '\n",
        "num0_9999"
      ],
      "metadata": {
        "id": "0MTM1VkESFCF"
      },
      "execution_count": null,
      "outputs": []
    },
    {
      "cell_type": "code",
      "source": [
        "num0_9999 = ''          # num0_9999 문자열에 모든 수를 넣음.\n",
        "for i in range(10000):\n",
        "  num0_9999+= str(i)+' '\n",
        "\n",
        "import re\n",
        "res = re.findall(\"[8]+\", num0_9999)     # 8이 들어간 수를 찾아서 리스트에 넣어줌.\n",
        "num8x=10000-len(res)\n",
        "print('0부터 9999까지 8을 포함하지 않는 수는 총 {}개이다.'.format(num8x))\n"
      ],
      "metadata": {
        "id": "Vop_Az3JQ5kj"
      },
      "execution_count": null,
      "outputs": []
    },
    {
      "cell_type": "code",
      "source": [
        "num0_9999"
      ],
      "metadata": {
        "id": "KUzNBGlYSzTS"
      },
      "execution_count": null,
      "outputs": []
    },
    {
      "cell_type": "code",
      "source": [
        "re.findall(\"[8]+\", \"8 88 188 818 1800 3848\")"
      ],
      "metadata": {
        "id": "yukrbG9VTGLm"
      },
      "execution_count": null,
      "outputs": []
    },
    {
      "cell_type": "code",
      "source": [
        "len(re.findall(\"[8]+\", num0_9999))\n",
        "a"
      ],
      "metadata": {
        "id": "wKg7vjqgS3UU"
      },
      "execution_count": null,
      "outputs": []
    },
    {
      "cell_type": "code",
      "source": [],
      "metadata": {
        "id": "3lL9CpIuS7jb"
      },
      "execution_count": null,
      "outputs": []
    },
    {
      "cell_type": "code",
      "source": [
        "count = 0\n",
        "for i in range(10000):\n",
        "    for j in str(i):\n",
        "        if(j == '8'):\n",
        "            count += 1\n",
        "            break\n",
        "\n",
        "print(10000-count)"
      ],
      "metadata": {
        "id": "AcwPc5FrRymn"
      },
      "execution_count": null,
      "outputs": []
    },
    {
      "cell_type": "code",
      "source": [
        "num0_9999 = [str(num)for num in range(10000)]          # num0_9999 문자열에 모든 수를 넣음.\n",
        "num8=[]\n",
        "for num in num0_9999:\n",
        "  if re.findall('[8]',num):\n",
        "    num8.append(num)\n",
        "len(num8)\n",
        "10000-len(num8)"
      ],
      "metadata": {
        "id": "7OWellWVR2WG"
      },
      "execution_count": null,
      "outputs": []
    },
    {
      "cell_type": "code",
      "source": [
        "count=0\n",
        "for x in range(0,10000):\n",
        "    if '8' in str(x):\n",
        "       count+=1\n",
        "print(10000-count)"
      ],
      "metadata": {
        "id": "ITKs_HrtXrOJ"
      },
      "execution_count": null,
      "outputs": []
    },
    {
      "cell_type": "code",
      "source": [
        "import math\n",
        "x,y=map(int,input(\"밑변과 높이길이를 써주세요\").split())\n",
        "def Pita(x,y):\n",
        "    C=math.pow(x,2)+math.pow(y,2)\n",
        "    #C=(x**2)+(y**2)\n",
        "    c=math.sqrt(C)\n",
        "    return c\n",
        "Z=Pita(x,y)\n",
        "print(Z)"
      ],
      "metadata": {
        "id": "brDxLtSLZDx5"
      },
      "execution_count": null,
      "outputs": []
    },
    {
      "cell_type": "code",
      "source": [
        "\n",
        "X=input(\"숫자를 입력하세요\").split()#0123456789, 01234567890 -> 0123456789\n",
        "a=[]\n",
        "for x in X:\n",
        "    #print(x)\n",
        "     if len(set(x))==10 and len(x)==10:\n",
        "         a.append(\"true\")\n",
        "     else:\n",
        "         a.append(\"false\")\n",
        "\n",
        "print(a)"
      ],
      "metadata": {
        "id": "IM1unhtaaBgk"
      },
      "execution_count": null,
      "outputs": []
    },
    {
      "cell_type": "code",
      "source": [
        "x=\"0123456789\"\n",
        "set(x)"
      ],
      "metadata": {
        "id": "fL3E_Xpzamwy"
      },
      "execution_count": null,
      "outputs": []
    },
    {
      "cell_type": "code",
      "source": [
        "X=input(\"숫자를 입력하세요\").split()\n",
        "a=[]\n",
        "for x in X:\n",
        "\n",
        "    if len(set(x))==len(x) and len(x)==10:\n",
        "        a.append(\"true\")\n",
        "    else:\n",
        "        a.append(\"false\")\n",
        "\n",
        "print(a)\n"
      ],
      "metadata": {
        "id": "baLWkKc2bL5V"
      },
      "execution_count": null,
      "outputs": []
    },
    {
      "cell_type": "code",
      "source": [
        "len(set(\"0123456789\"))"
      ],
      "metadata": {
        "id": "asrO9I7Wcs0H"
      },
      "execution_count": null,
      "outputs": []
    },
    {
      "cell_type": "code",
      "source": [
        "log_lst =\"\"\"\n",
        "09:12:23 11:14:35\n",
        "10:34:01 13:23:40\n",
        "10:34:31 11:20:10\n",
        "\"\"\"\n",
        "\n",
        "log_lst = log_lst.split()\n",
        "log_lst = [list(map(int, i.split(\":\"))) for i in log_lst] # 시, 분, 초 단위로 스플릿\n",
        "#                        [[09,12,23], [11, 14, 35],...,[11, 20, 10]]\n",
        "log_lst\n",
        "in_lst = log_lst[::2] # 출근 시간들 저장\n",
        "out_lst = log_lst[1::2] # 퇴근 시간들 저장\n"
      ],
      "metadata": {
        "id": "ToHNbcnZewj-"
      },
      "execution_count": null,
      "outputs": []
    },
    {
      "cell_type": "code",
      "source": [
        "in_lst\n",
        "out_lst"
      ],
      "metadata": {
        "id": "M7wro67SfpNw"
      },
      "execution_count": null,
      "outputs": []
    },
    {
      "cell_type": "code",
      "source": [
        "input_time = list(map(int, input(\"시간 입력: \").split(\":\"))) # 입력 시간 시, 분, 초 단위로 스플릿\n"
      ],
      "metadata": {
        "id": "uD7LE0c3fwl_"
      },
      "execution_count": null,
      "outputs": []
    },
    {
      "cell_type": "code",
      "source": [
        "input_time"
      ],
      "metadata": {
        "id": "IdqymbP4fzzH"
      },
      "execution_count": null,
      "outputs": []
    },
    {
      "cell_type": "code",
      "source": [
        "a# 6. A사무실에는 특정일자의 출퇴근 시간이 기록된 거대한 로그파일이 있다고 한다.\n",
        "\n",
        "# 파일의 형식은 다음과 같다. (한 라인에서 앞부분은 출근시간(HH:MM:SS), 뒷부분은 퇴근시간이다)\n",
        "\n",
        "# 특정시간을 입력(예:11:05:20)으로 주었을 때 그 시간에 총 몇 명이 사무실에 있었는지 알려주는 함수를 작성하시오.\n",
        "\n",
        "\n",
        "# 근무자 수 = 입력한 시간보다 빠르거나 같은 출근 시간 개수 - 입력한 시간보다 빠르거나 같은 퇴근 시간 개수\n",
        "\n",
        "# 입력: 11:05:20\n",
        "\n",
        "\n",
        "\n",
        "\n",
        "def compare_time(time, compare_lst):\n",
        "    count = 0 # 사람 수\n",
        "    for j in compare_lst: # 출근 or 퇴근 시간 리스트의 인덱스를 기준으로 입력한 시간과 비교합니다.\n",
        "        if j[0] == time[0]: # '시'가 같은지\n",
        "            if j[1] == time[1]: # '분'도 같은지\n",
        "                if j[2] <= time[2]: # '초'도 같거나 더 빠른지\n",
        "                    count += 1 # 사람 수 추가\n",
        "            elif j[1] < time[1]: # '시'가 같을때 '분'이 더 빠른지\n",
        "                count += 1 # 사람 수 추가\n",
        "        elif j[0] < time[0]: # '시'가 더 빠른지\n",
        "            count += 1 # 사람 수 추가\n",
        "    return count\n",
        "\n",
        "in_worker = compare_time(input_time, in_lst) # 출근자 수\n",
        "out_worker = compare_time(input_time, out_lst) # 퇴근자 수\n",
        "print(in_worker - out_worker) # 남은 근무자 수"
      ],
      "metadata": {
        "id": "rOC_Kdz4ceZX"
      },
      "execution_count": null,
      "outputs": []
    },
    {
      "cell_type": "code",
      "source": [
        "count = 0\n",
        "for i in range(10000):\n",
        "  if '8' not in str(i):\n",
        "    count += 1\n",
        "print(count)\n"
      ],
      "metadata": {
        "id": "_OWZM_6CjnUm"
      },
      "execution_count": null,
      "outputs": []
    },
    {
      "cell_type": "code",
      "source": [
        "def check_numbers(number_string):\n",
        "  return len(set(number_string)) == 10 and number_string.isdigit() and len(number_string)==10#isdigit 모든수 체크\n",
        "number = input('숫자를 입력하세요.')\n",
        "if check_numbers(number):\n",
        "  print('True')\n",
        "else:\n",
        "  print('False')"
      ],
      "metadata": {
        "id": "-tyd5m64jn6e"
      },
      "execution_count": null,
      "outputs": []
    },
    {
      "cell_type": "code",
      "source": [
        "0123456789 01234 01234567890 6789012345 012322456789"
      ],
      "metadata": {
        "id": "Fl8nWzPckDPd"
      },
      "execution_count": null,
      "outputs": []
    },
    {
      "cell_type": "code",
      "source": [
        "# ex4 0~9까지의 문자로 된 숫자를 입력 받았을 때, 이 입력 값이 0~9까지의 숫자가 각각 한 번 씩만 사용된 것인지 확인하는 함수를 구하시오.\n",
        "\n",
        "# sample inputs: 0123456789 01234 01234567890 6789012345 012322456789\n",
        "# sample outputs: true false false true false\n",
        "def num_check(n):\n",
        "    nlist = n.split(' ')\n",
        "    # print(nlist)\n",
        "    res = []    # 결과값\n",
        "    for i in nlist:\n",
        "        if len(i) == len(set(i)) and len(i)==10:   # set으로 중복 제거후 길이 비교\n",
        "            res.append('True')\n",
        "        else:\n",
        "            res.append('False')\n",
        "    print(res)\n",
        "\n",
        "num_check('0123456789 01234 01234567890 6789012345 012322456789')"
      ],
      "metadata": {
        "id": "j79ftg0VlVJ-"
      },
      "execution_count": null,
      "outputs": []
    },
    {
      "cell_type": "code",
      "source": [
        "# ex1 0부터 9999까지 8을 포함하지 않는 수는 총 몇개일까?\n",
        "# 8, 108, 888, 9998 등은 8을 포함하고 있는 수입니다.\n",
        "# 111, 299, 4 등과 같은 수는 8을 포함하지 않는 수 입니다.\n",
        "\n",
        "#8의 갯수 세기\n",
        "''.join(str(x) for x in range(0,10000)).count('8')\n"
      ],
      "metadata": {
        "id": "ZI7PbhJrlWGt"
      },
      "execution_count": null,
      "outputs": []
    },
    {
      "cell_type": "code",
      "source": [
        "count=0\n",
        "for x in range(0,10000):\n",
        "    if '8' in str(x):\n",
        "       count+=1\n",
        "print(10000-count)"
      ],
      "metadata": {
        "id": "xylFr3Wwmbsg"
      },
      "execution_count": null,
      "outputs": []
    },
    {
      "cell_type": "code",
      "source": [
        "'8' in \"888\""
      ],
      "metadata": {
        "id": "ZL-0_-exnOcI"
      },
      "execution_count": null,
      "outputs": []
    },
    {
      "cell_type": "code",
      "source": [
        "data=input()\n",
        "print('true' if len(data)==len(set(data))==10 else 'false')"
      ],
      "metadata": {
        "id": "KRdPibJDnR5Z"
      },
      "execution_count": null,
      "outputs": []
    },
    {
      "cell_type": "code",
      "source": [
        "log_lst =\"\"\"09:12:23 11:14:35\n",
        "10:34:01 13:23:40\n",
        "10:34:31 11:20:10\"\"\""
      ],
      "metadata": {
        "id": "ZurLr8tTnzlR"
      },
      "execution_count": null,
      "outputs": []
    },
    {
      "cell_type": "code",
      "source": [],
      "metadata": {
        "id": "-NEJhRRAoJ62"
      },
      "execution_count": null,
      "outputs": []
    },
    {
      "cell_type": "code",
      "source": [],
      "metadata": {
        "id": "SoeIQpNJoRbM"
      },
      "execution_count": null,
      "outputs": []
    },
    {
      "cell_type": "code",
      "source": [
        "baseTime=\"11:05:20\"\n",
        "remainCnt=0\n",
        "logs=log_lst.split(\"\\n\")\n",
        "for log in logs:\n",
        "    log=log.split()\n",
        "    if log[0] < baseTime < log[1]:\n",
        "        remainCnt+=1\n",
        "print(remainCnt)"
      ],
      "metadata": {
        "id": "ZnwXTV6AohQD"
      },
      "execution_count": null,
      "outputs": []
    },
    {
      "cell_type": "code",
      "source": [
        "'09:12:23'\n",
        "\"11:05:20\"\n",
        "'11:14:35'"
      ],
      "metadata": {
        "id": "zliFz5DFojEo"
      },
      "execution_count": null,
      "outputs": []
    },
    {
      "cell_type": "code",
      "source": [],
      "metadata": {
        "id": "REuCgvLgpJj3"
      },
      "execution_count": null,
      "outputs": []
    },
    {
      "cell_type": "code",
      "source": [
        "'09:12:23' < '11:05:20'\n",
        "48 57 .... < 49 49 ...\n",
        "'11:05:20' < '11:14:35'"
      ],
      "metadata": {
        "id": "32H5usU2pF6c"
      },
      "execution_count": null,
      "outputs": []
    },
    {
      "cell_type": "code",
      "source": [
        "'0':48, '1':49, ..., '9':57"
      ],
      "metadata": {
        "id": "LMhDhQfppJAb"
      },
      "execution_count": null,
      "outputs": []
    },
    {
      "cell_type": "code",
      "source": [
        "baseTime"
      ],
      "metadata": {
        "id": "d55l5iCzqGnU"
      },
      "execution_count": null,
      "outputs": []
    },
    {
      "cell_type": "code",
      "source": [
        "def retSec(t):\n",
        "    hh, mm, ss = t.split(\":\")\n",
        "    return int(hh)*60*60+int(mm)*60+int(ss)"
      ],
      "metadata": {
        "id": "0qYdJb1hqH5L"
      },
      "execution_count": null,
      "outputs": []
    },
    {
      "cell_type": "code",
      "source": [
        "inTime=retSec('09:12:23')\n",
        "baseTime=retSec(baseTime)\n",
        "outTime=retSec('11:14:35')\n",
        "if inTime<baseTime<outTime:\n",
        "    cnt+=1"
      ],
      "metadata": {
        "id": "k3jRkRg6quMy"
      },
      "execution_count": null,
      "outputs": []
    },
    {
      "cell_type": "code",
      "source": [
        "'09:12:23' < '11:05:20'\n",
        "'11:05:20' < '11:14:35'"
      ],
      "metadata": {
        "id": "wqfwE1ObqMVH"
      },
      "execution_count": null,
      "outputs": []
    },
    {
      "cell_type": "code",
      "source": [
        "\"hello\" > \"hi\""
      ],
      "metadata": {
        "id": "b1k0j_CNrqUS"
      },
      "execution_count": null,
      "outputs": []
    },
    {
      "cell_type": "code",
      "source": [
        "\"123\" < \"023\""
      ],
      "metadata": {
        "id": "vDGAJXy7rsCL"
      },
      "execution_count": null,
      "outputs": []
    },
    {
      "cell_type": "code",
      "source": [
        "\"70\" > \"123\""
      ],
      "metadata": {
        "id": "rRyhsf-jrzHn"
      },
      "execution_count": null,
      "outputs": []
    },
    {
      "cell_type": "code",
      "source": [],
      "metadata": {
        "id": "SsdOEuLQr46l"
      },
      "execution_count": null,
      "outputs": []
    }
  ]
}