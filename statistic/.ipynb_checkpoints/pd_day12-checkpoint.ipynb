{
 "cells": [
  {
   "cell_type": "code",
   "execution_count": null,
   "metadata": {},
   "outputs": [],
   "source": [
    "# 머신러닝은 다음주면 끝난다고 하심\n",
    "# 담주 월요일 오후쯤 캐글에 들어가서 도전해볼 것임. 답안 제출 및 점수 확인을 할 것임."
   ]
  },
  {
   "cell_type": "code",
   "execution_count": 2,
   "metadata": {},
   "outputs": [],
   "source": [
    "import pandas as pd\n",
    "import numpy as np\n",
    "import matplotlib.pyplot as plt\n",
    "import seaborn as sns"
   ]
  },
  {
   "cell_type": "code",
   "execution_count": 4,
   "metadata": {},
   "outputs": [
    {
     "data": {
      "text/html": [
       "<div>\n",
       "<style scoped>\n",
       "    .dataframe tbody tr th:only-of-type {\n",
       "        vertical-align: middle;\n",
       "    }\n",
       "\n",
       "    .dataframe tbody tr th {\n",
       "        vertical-align: top;\n",
       "    }\n",
       "\n",
       "    .dataframe thead th {\n",
       "        text-align: right;\n",
       "    }\n",
       "</style>\n",
       "<table border=\"1\" class=\"dataframe\">\n",
       "  <thead>\n",
       "    <tr style=\"text-align: right;\">\n",
       "      <th></th>\n",
       "      <th>X</th>\n",
       "      <th>Y</th>\n",
       "    </tr>\n",
       "  </thead>\n",
       "  <tbody>\n",
       "    <tr>\n",
       "      <th>0</th>\n",
       "      <td>-6</td>\n",
       "      <td>-3</td>\n",
       "    </tr>\n",
       "    <tr>\n",
       "      <th>1</th>\n",
       "      <td>-4</td>\n",
       "      <td>-1</td>\n",
       "    </tr>\n",
       "    <tr>\n",
       "      <th>2</th>\n",
       "      <td>-2</td>\n",
       "      <td>-3</td>\n",
       "    </tr>\n",
       "    <tr>\n",
       "      <th>3</th>\n",
       "      <td>0</td>\n",
       "      <td>1</td>\n",
       "    </tr>\n",
       "    <tr>\n",
       "      <th>4</th>\n",
       "      <td>2</td>\n",
       "      <td>2</td>\n",
       "    </tr>\n",
       "  </tbody>\n",
       "</table>\n",
       "</div>"
      ],
      "text/plain": [
       "   X  Y\n",
       "0 -6 -3\n",
       "1 -4 -1\n",
       "2 -2 -3\n",
       "3  0  1\n",
       "4  2  2"
      ]
     },
     "execution_count": 4,
     "metadata": {},
     "output_type": "execute_result"
    }
   ],
   "source": [
    "col = ['X','Y']\n",
    "data1 = [[-6,-3],[-4,-1],[-2,-3],[0,1],[2,2]]\n",
    "data2 = [[7,-4],[4,-1],[2,0],[-1,3],[-4,9]]\n",
    "data3 = [[3,-4],[3,-1],[3,0],[3,3],[3,9]]\n",
    "df1 = pd.DataFrame(data=data1, columns=col)\n",
    "df2 = pd.DataFrame(data=data2, columns=col)\n",
    "df3 = pd.DataFrame(data=data3, columns=col)\n",
    "df1"
   ]
  },
  {
   "cell_type": "code",
   "execution_count": 7,
   "metadata": {},
   "outputs": [
    {
     "data": {
      "text/html": [
       "<div>\n",
       "<style scoped>\n",
       "    .dataframe tbody tr th:only-of-type {\n",
       "        vertical-align: middle;\n",
       "    }\n",
       "\n",
       "    .dataframe tbody tr th {\n",
       "        vertical-align: top;\n",
       "    }\n",
       "\n",
       "    .dataframe thead th {\n",
       "        text-align: right;\n",
       "    }\n",
       "</style>\n",
       "<table border=\"1\" class=\"dataframe\">\n",
       "  <thead>\n",
       "    <tr style=\"text-align: right;\">\n",
       "      <th></th>\n",
       "      <th>X</th>\n",
       "      <th>Y</th>\n",
       "    </tr>\n",
       "  </thead>\n",
       "  <tbody>\n",
       "    <tr>\n",
       "      <th>X</th>\n",
       "      <td>10.0</td>\n",
       "      <td>6.0</td>\n",
       "    </tr>\n",
       "    <tr>\n",
       "      <th>Y</th>\n",
       "      <td>6.0</td>\n",
       "      <td>5.2</td>\n",
       "    </tr>\n",
       "  </tbody>\n",
       "</table>\n",
       "</div>"
      ],
      "text/plain": [
       "      X    Y\n",
       "X  10.0  6.0\n",
       "Y   6.0  5.2"
      ]
     },
     "execution_count": 7,
     "metadata": {},
     "output_type": "execute_result"
    }
   ],
   "source": [
    "# 공분산은 양, 음의 상관관계를 알 수 있는 값임\n",
    "df1.cov() # 판다스 공분산( covariance ) 구하기"
   ]
  },
  {
   "cell_type": "code",
   "execution_count": 8,
   "metadata": {},
   "outputs": [
    {
     "data": {
      "text/html": [
       "<div>\n",
       "<style scoped>\n",
       "    .dataframe tbody tr th:only-of-type {\n",
       "        vertical-align: middle;\n",
       "    }\n",
       "\n",
       "    .dataframe tbody tr th {\n",
       "        vertical-align: top;\n",
       "    }\n",
       "\n",
       "    .dataframe thead th {\n",
       "        text-align: right;\n",
       "    }\n",
       "</style>\n",
       "<table border=\"1\" class=\"dataframe\">\n",
       "  <thead>\n",
       "    <tr style=\"text-align: right;\">\n",
       "      <th></th>\n",
       "      <th>X</th>\n",
       "      <th>Y</th>\n",
       "    </tr>\n",
       "  </thead>\n",
       "  <tbody>\n",
       "    <tr>\n",
       "      <th>X</th>\n",
       "      <td>18.30</td>\n",
       "      <td>-20.55</td>\n",
       "    </tr>\n",
       "    <tr>\n",
       "      <th>Y</th>\n",
       "      <td>-20.55</td>\n",
       "      <td>24.30</td>\n",
       "    </tr>\n",
       "  </tbody>\n",
       "</table>\n",
       "</div>"
      ],
      "text/plain": [
       "       X      Y\n",
       "X  18.30 -20.55\n",
       "Y -20.55  24.30"
      ]
     },
     "execution_count": 8,
     "metadata": {},
     "output_type": "execute_result"
    }
   ],
   "source": [
    "df2.cov() # 음의 상관관계가 있음"
   ]
  },
  {
   "cell_type": "code",
   "execution_count": 23,
   "metadata": {},
   "outputs": [
    {
     "data": {
      "text/html": [
       "<div>\n",
       "<style scoped>\n",
       "    .dataframe tbody tr th:only-of-type {\n",
       "        vertical-align: middle;\n",
       "    }\n",
       "\n",
       "    .dataframe tbody tr th {\n",
       "        vertical-align: top;\n",
       "    }\n",
       "\n",
       "    .dataframe thead th {\n",
       "        text-align: right;\n",
       "    }\n",
       "</style>\n",
       "<table border=\"1\" class=\"dataframe\">\n",
       "  <thead>\n",
       "    <tr style=\"text-align: right;\">\n",
       "      <th></th>\n",
       "      <th>col1</th>\n",
       "      <th>col2</th>\n",
       "      <th>col3</th>\n",
       "    </tr>\n",
       "  </thead>\n",
       "  <tbody>\n",
       "    <tr>\n",
       "      <th>0</th>\n",
       "      <td>-9</td>\n",
       "      <td>0.405491</td>\n",
       "      <td>-6</td>\n",
       "    </tr>\n",
       "    <tr>\n",
       "      <th>1</th>\n",
       "      <td>-5</td>\n",
       "      <td>-0.924948</td>\n",
       "      <td>-5</td>\n",
       "    </tr>\n",
       "    <tr>\n",
       "      <th>2</th>\n",
       "      <td>-1</td>\n",
       "      <td>1.538280</td>\n",
       "      <td>-4</td>\n",
       "    </tr>\n",
       "    <tr>\n",
       "      <th>3</th>\n",
       "      <td>-1</td>\n",
       "      <td>-0.168515</td>\n",
       "      <td>-3</td>\n",
       "    </tr>\n",
       "    <tr>\n",
       "      <th>4</th>\n",
       "      <td>0</td>\n",
       "      <td>-0.263531</td>\n",
       "      <td>-2</td>\n",
       "    </tr>\n",
       "    <tr>\n",
       "      <th>5</th>\n",
       "      <td>0</td>\n",
       "      <td>-0.612875</td>\n",
       "      <td>-1</td>\n",
       "    </tr>\n",
       "    <tr>\n",
       "      <th>6</th>\n",
       "      <td>0</td>\n",
       "      <td>-1.797360</td>\n",
       "      <td>0</td>\n",
       "    </tr>\n",
       "    <tr>\n",
       "      <th>7</th>\n",
       "      <td>0</td>\n",
       "      <td>0.649812</td>\n",
       "      <td>1</td>\n",
       "    </tr>\n",
       "    <tr>\n",
       "      <th>8</th>\n",
       "      <td>0</td>\n",
       "      <td>-0.039483</td>\n",
       "      <td>2</td>\n",
       "    </tr>\n",
       "    <tr>\n",
       "      <th>9</th>\n",
       "      <td>1</td>\n",
       "      <td>-1.685579</td>\n",
       "      <td>3</td>\n",
       "    </tr>\n",
       "    <tr>\n",
       "      <th>10</th>\n",
       "      <td>1</td>\n",
       "      <td>-0.040045</td>\n",
       "      <td>4</td>\n",
       "    </tr>\n",
       "    <tr>\n",
       "      <th>11</th>\n",
       "      <td>5</td>\n",
       "      <td>-1.138290</td>\n",
       "      <td>5</td>\n",
       "    </tr>\n",
       "    <tr>\n",
       "      <th>12</th>\n",
       "      <td>9</td>\n",
       "      <td>0.204205</td>\n",
       "      <td>6</td>\n",
       "    </tr>\n",
       "  </tbody>\n",
       "</table>\n",
       "</div>"
      ],
      "text/plain": [
       "    col1      col2  col3\n",
       "0     -9  0.405491    -6\n",
       "1     -5 -0.924948    -5\n",
       "2     -1  1.538280    -4\n",
       "3     -1 -0.168515    -3\n",
       "4      0 -0.263531    -2\n",
       "5      0 -0.612875    -1\n",
       "6      0 -1.797360     0\n",
       "7      0  0.649812     1\n",
       "8      0 -0.039483     2\n",
       "9      1 -1.685579     3\n",
       "10     1 -0.040045     4\n",
       "11     5 -1.138290     5\n",
       "12     9  0.204205     6"
      ]
     },
     "execution_count": 23,
     "metadata": {},
     "output_type": "execute_result"
    }
   ],
   "source": [
    "# https://m.blog.naver.com/angryking/222372538669 여기 참고로 보면 좋을 듯\n",
    "# 첨도(kurtosis, kurt) : 데이터 분포의 뾰족한 정도\n",
    "# 첨도가 0보다 작으면 넓게 퍼지고 크면 위로 점점 뾰족한 모습을 보임\n",
    "# 정규분포 : 평균이 0에 가까운 데이터 분포를 보여줌\n",
    "l = [-9,-5,-1,-1,0,0,0,0,0,1,1,5,9] \n",
    "m = np.random.normal(0,1,13) \n",
    "p = [-6,-5,-4,-3,-2,-1,0,1,2,3,4,5,6] \n",
    "data = {\"col1\":l,\"col2\":m,\"col3\":p}\n",
    "df = pd.DataFrame(data)\n",
    "df\n",
    "# 왜도(skewness) : 좌우 비대칭 정도\n",
    "# 정규분포 = 왜도 = 0, 왼쪽으로 치우치면 왜도>0, 오른쪽으로 치우치면 왜도<0. 즉 정규분포는 좌우 대칭인 것"
   ]
  },
  {
   "cell_type": "code",
   "execution_count": 13,
   "metadata": {},
   "outputs": [
    {
     "data": {
      "text/plain": [
       "2.190460157126824"
      ]
     },
     "execution_count": 13,
     "metadata": {},
     "output_type": "execute_result"
    }
   ],
   "source": [
    "df['col1'].kurt() # 많이 뾰족하다고 하심"
   ]
  },
  {
   "cell_type": "code",
   "execution_count": 15,
   "metadata": {},
   "outputs": [
    {
     "data": {
      "text/plain": [
       "4.242640687119285"
      ]
     },
     "execution_count": 15,
     "metadata": {},
     "output_type": "execute_result"
    }
   ],
   "source": [
    "df['col1'].mean()# 평균 0\n",
    "df['col1'].std() # 표준편차 4.2"
   ]
  },
  {
   "cell_type": "code",
   "execution_count": 21,
   "metadata": {},
   "outputs": [
    {
     "data": {
      "text/plain": [
       "0.1089634800071182"
      ]
     },
     "execution_count": 21,
     "metadata": {},
     "output_type": "execute_result"
    }
   ],
   "source": [
    "df['col2'].mean() # 0.08\n",
    "df['col2'].std() # 1.39\n",
    "# 위는 첨도가 0에 가깝게 나올 것임\n",
    "df['col2'].kurt() # 0.10"
   ]
  },
  {
   "cell_type": "code",
   "execution_count": 26,
   "metadata": {},
   "outputs": [
    {
     "data": {
      "text/plain": [
       "0.0"
      ]
     },
     "execution_count": 26,
     "metadata": {},
     "output_type": "execute_result"
    }
   ],
   "source": [
    "df.col2.skew()"
   ]
  },
  {
   "cell_type": "code",
   "execution_count": 28,
   "metadata": {},
   "outputs": [
    {
     "data": {
      "text/html": [
       "<div>\n",
       "<style scoped>\n",
       "    .dataframe tbody tr th:only-of-type {\n",
       "        vertical-align: middle;\n",
       "    }\n",
       "\n",
       "    .dataframe tbody tr th {\n",
       "        vertical-align: top;\n",
       "    }\n",
       "\n",
       "    .dataframe thead th {\n",
       "        text-align: right;\n",
       "    }\n",
       "</style>\n",
       "<table border=\"1\" class=\"dataframe\">\n",
       "  <thead>\n",
       "    <tr style=\"text-align: right;\">\n",
       "      <th></th>\n",
       "      <th>col1</th>\n",
       "      <th>col2</th>\n",
       "      <th>col3</th>\n",
       "    </tr>\n",
       "  </thead>\n",
       "  <tbody>\n",
       "    <tr>\n",
       "      <th>0</th>\n",
       "      <td>-5</td>\n",
       "      <td>-3</td>\n",
       "      <td>-2</td>\n",
       "    </tr>\n",
       "    <tr>\n",
       "      <th>1</th>\n",
       "      <td>-4</td>\n",
       "      <td>-2</td>\n",
       "      <td>-1</td>\n",
       "    </tr>\n",
       "    <tr>\n",
       "      <th>2</th>\n",
       "      <td>-3</td>\n",
       "      <td>-1</td>\n",
       "      <td>-1</td>\n",
       "    </tr>\n",
       "    <tr>\n",
       "      <th>3</th>\n",
       "      <td>-3</td>\n",
       "      <td>-1</td>\n",
       "      <td>-1</td>\n",
       "    </tr>\n",
       "    <tr>\n",
       "      <th>4</th>\n",
       "      <td>-2</td>\n",
       "      <td>-1</td>\n",
       "      <td>0</td>\n",
       "    </tr>\n",
       "    <tr>\n",
       "      <th>5</th>\n",
       "      <td>-2</td>\n",
       "      <td>-1</td>\n",
       "      <td>0</td>\n",
       "    </tr>\n",
       "    <tr>\n",
       "      <th>6</th>\n",
       "      <td>-1</td>\n",
       "      <td>0</td>\n",
       "      <td>0</td>\n",
       "    </tr>\n",
       "    <tr>\n",
       "      <th>7</th>\n",
       "      <td>-1</td>\n",
       "      <td>0</td>\n",
       "      <td>0</td>\n",
       "    </tr>\n",
       "    <tr>\n",
       "      <th>8</th>\n",
       "      <td>-1</td>\n",
       "      <td>0</td>\n",
       "      <td>0</td>\n",
       "    </tr>\n",
       "    <tr>\n",
       "      <th>9</th>\n",
       "      <td>0</td>\n",
       "      <td>0</td>\n",
       "      <td>1</td>\n",
       "    </tr>\n",
       "    <tr>\n",
       "      <th>10</th>\n",
       "      <td>0</td>\n",
       "      <td>0</td>\n",
       "      <td>1</td>\n",
       "    </tr>\n",
       "    <tr>\n",
       "      <th>11</th>\n",
       "      <td>0</td>\n",
       "      <td>0</td>\n",
       "      <td>1</td>\n",
       "    </tr>\n",
       "    <tr>\n",
       "      <th>12</th>\n",
       "      <td>0</td>\n",
       "      <td>1</td>\n",
       "      <td>2</td>\n",
       "    </tr>\n",
       "    <tr>\n",
       "      <th>13</th>\n",
       "      <td>0</td>\n",
       "      <td>1</td>\n",
       "      <td>2</td>\n",
       "    </tr>\n",
       "    <tr>\n",
       "      <th>14</th>\n",
       "      <td>1</td>\n",
       "      <td>1</td>\n",
       "      <td>3</td>\n",
       "    </tr>\n",
       "    <tr>\n",
       "      <th>15</th>\n",
       "      <td>1</td>\n",
       "      <td>1</td>\n",
       "      <td>3</td>\n",
       "    </tr>\n",
       "    <tr>\n",
       "      <th>16</th>\n",
       "      <td>1</td>\n",
       "      <td>2</td>\n",
       "      <td>4</td>\n",
       "    </tr>\n",
       "    <tr>\n",
       "      <th>17</th>\n",
       "      <td>2</td>\n",
       "      <td>3</td>\n",
       "      <td>5</td>\n",
       "    </tr>\n",
       "  </tbody>\n",
       "</table>\n",
       "</div>"
      ],
      "text/plain": [
       "    col1  col2  col3\n",
       "0     -5    -3    -2\n",
       "1     -4    -2    -1\n",
       "2     -3    -1    -1\n",
       "3     -3    -1    -1\n",
       "4     -2    -1     0\n",
       "5     -2    -1     0\n",
       "6     -1     0     0\n",
       "7     -1     0     0\n",
       "8     -1     0     0\n",
       "9      0     0     1\n",
       "10     0     0     1\n",
       "11     0     0     1\n",
       "12     0     1     2\n",
       "13     0     1     2\n",
       "14     1     1     3\n",
       "15     1     1     3\n",
       "16     1     2     4\n",
       "17     2     3     5"
      ]
     },
     "execution_count": 28,
     "metadata": {},
     "output_type": "execute_result"
    }
   ],
   "source": [
    "a = [-5,-4,-3,-3,-2,-2,-1,-1,-1,0,0,0,0,0,1,1,1,2]\n",
    "b = [-3,-2,-1,-1,-1,-1,0,0,0,0,0,0,1,1,1,1,2,3]\n",
    "c = [-2,-1,-1,-1,0,0,0,0,0,1,1,1,2,2,3,3,4,5,]\n",
    "data = {\"col1\":a,\"col2\":b,\"col3\":c}\n",
    "df = pd.DataFrame(data)\n",
    "df"
   ]
  },
  {
   "cell_type": "code",
   "execution_count": 30,
   "metadata": {},
   "outputs": [
    {
     "data": {
      "text/plain": [
       "-0.6157739556801386"
      ]
     },
     "execution_count": 30,
     "metadata": {},
     "output_type": "execute_result"
    }
   ],
   "source": [
    "# 최빈값이 우측으로 치우침\n",
    "df.col1.skew()"
   ]
  },
  {
   "cell_type": "code",
   "execution_count": 33,
   "metadata": {},
   "outputs": [
    {
     "data": {
      "text/plain": [
       "0.0"
      ]
     },
     "execution_count": 33,
     "metadata": {},
     "output_type": "execute_result"
    }
   ],
   "source": [
    "df.col2.mean()\n",
    "df.col2.skew() # 정규분포(대칭구조), 왜도 =0 "
   ]
  },
  {
   "cell_type": "code",
   "execution_count": 34,
   "metadata": {},
   "outputs": [
    {
     "data": {
      "text/plain": [
       "0.6157739556801384"
      ]
     },
     "execution_count": 34,
     "metadata": {},
     "output_type": "execute_result"
    }
   ],
   "source": [
    "df.col3.mean() # 평균 0.94, 최반값이 좌측으로 치우쳐있음 왜도>0\n",
    "df.col3.skew()"
   ]
  },
  {
   "cell_type": "code",
   "execution_count": 36,
   "metadata": {},
   "outputs": [
    {
     "data": {
      "text/plain": [
       "'\\n상관계수\\n1) 피어슨 상관계수 : 두 변수가 연속형, 몸무게와 키간의 상관관계, 딥러닝 점수와 데이터분석 점수의 상관관계\\n단 전제는 정규분포를 따라야 함. 연속형 자료가 정규분포를 다른다고 가정(모수적 추론 기법)하는 전제가 되어야 피어슨 상관계수를 구할 수 있음\\n2) 스피어만 상관계수 : 순위가 있는 서열척도간의 상관관계, 딥러닝 등수와 데이터분석 등수의 상관관계\\n'"
      ]
     },
     "execution_count": 36,
     "metadata": {},
     "output_type": "execute_result"
    }
   ],
   "source": [
    "'''\n",
    "상관계수\n",
    "1) 피어슨 상관계수 : 두 변수가 연속형, 몸무게와 키간의 상관관계, 딥러닝 점수와 데이터분석 점수의 상관관계\n",
    "단 전제는 정규분포를 따라야 함. 연속형 자료가 정규분포를 다른다고 가정(모수적 추론 기법)하는 전제가 되어야 피어슨 상관계수를 구할 수 있음\n",
    "2) 스피어만 상관계수 : 순위가 있는 서열척도간의 상관관계, 딥러닝 등수와 데이터분석 등수의 상관관계\n",
    "두 변수 간의 관계가 비선형적일 때 사용가능\n",
    "3) 켄달(kendall)의 타우(tau) : 두 변수 간의 관계가 비선형적이거나 서열척도의 변수일 때, 표본이 작을 때 사용이 용이\n",
    "스피어만 상관계수와 켄달은 비슷하므로 데이터의 개수에 따라서 적용하면 됨\n",
    "기준은 데이터가 30건 이하이면 켄달, 그 이상이면 스피어만으로 사용하면 좋다는 듯함(명확하진 않음)\n",
    "'''\n",
    "# https://upload.wikimedia.org/wikipedia/commons/thumb/3/34/Correlation_coefficient.png/400px-Correlation_coefficient.png\n",
    "# 위 주소에 들어가면 피어슨 상관계수를 표현한 그림이 있음"
   ]
  },
  {
   "cell_type": "code",
   "execution_count": null,
   "metadata": {},
   "outputs": [],
   "source": [
    "'''\n",
    "Phi 상관계수, Cramer's 상관계수 : 범주형 변수간 상관관계\n",
    "1) Phi 상관계수(변수가 갖는 범주가 2개일 때)\n",
    "ex) 성별 : 남/여, 합격여부 : 합/불\n",
    "성별과 합격여부와의 상관관계가 궁금함 - Phi 상관계수\n",
    "위 예시에서는 남자 컬럼, 여자 컬럼인데 남자 컬럼에 합/불 2가지 범주가 있으므로 Phi 범주를 가지므로 사용가능\n",
    "2) Cramer's 상관계수(변수가 갖는 값의 범주가 3개 이상)\n",
    "ex) 나이대 : 10/20/30/40대, 거주형태 : 단독/빌라/아파트/복합\n",
    "나이대와 거주형태간의 관계가 궁금함 - Cramer's 상관계수\n",
    "\n",
    "위의 계산 기능은 scipy의 stats 기능으로 얻을 수 있음\n",
    "'''"
   ]
  },
  {
   "cell_type": "code",
   "execution_count": null,
   "metadata": {},
   "outputs": [],
   "source": [
    "'''\n",
    "Point biseral 상관계수 : 연속형 변수와 범주형 변수간 상관관계\n",
    "ex) 성별과 시험점수간의 상관관계\n",
    "'''"
   ]
  },
  {
   "cell_type": "code",
   "execution_count": 39,
   "metadata": {},
   "outputs": [
    {
     "data": {
      "text/plain": [
       "0.0"
      ]
     },
     "execution_count": 39,
     "metadata": {},
     "output_type": "execute_result"
    }
   ],
   "source": [
    "z = [-3, -2, -1, 0, 1, 2, 3]\n",
    "w = [9, 4, 1, 0, 1, 4, 9]\n",
    "\n",
    "np.corrcoef(z, w)[0, 1] # w = z**2, 비선형이기 때문에 피어슨 상관관계를 사용할 수 없음\n",
    "# 이와 같은 데이터에 대해서는 스피어만 상관계수를 이용함"
   ]
  },
  {
   "cell_type": "code",
   "execution_count": 44,
   "metadata": {},
   "outputs": [],
   "source": [
    "# 아래 데이터를 순위라고 가정\n",
    "x = [8, 3, 6, 6, 9, 4, 3, 9, 3, 4]\n",
    "y = [6, 2, 4, 6, 10, 5, 1, 8, 4, 5]"
   ]
  },
  {
   "cell_type": "code",
   "execution_count": 47,
   "metadata": {},
   "outputs": [
    {
     "data": {
      "text/plain": [
       "0.9000703207408192"
      ]
     },
     "execution_count": 47,
     "metadata": {},
     "output_type": "execute_result"
    }
   ],
   "source": [
    "import scipy.stats as ss\n",
    "ss.spearmanr(x,y).correlation # 스피어만 상관계수"
   ]
  },
  {
   "cell_type": "code",
   "execution_count": 57,
   "metadata": {},
   "outputs": [
    {
     "data": {
      "text/html": [
       "<div>\n",
       "<style scoped>\n",
       "    .dataframe tbody tr th:only-of-type {\n",
       "        vertical-align: middle;\n",
       "    }\n",
       "\n",
       "    .dataframe tbody tr th {\n",
       "        vertical-align: top;\n",
       "    }\n",
       "\n",
       "    .dataframe thead th {\n",
       "        text-align: right;\n",
       "    }\n",
       "</style>\n",
       "<table border=\"1\" class=\"dataframe\">\n",
       "  <thead>\n",
       "    <tr style=\"text-align: right;\">\n",
       "      <th></th>\n",
       "      <th>col1</th>\n",
       "      <th>col2</th>\n",
       "      <th>col3</th>\n",
       "    </tr>\n",
       "  </thead>\n",
       "  <tbody>\n",
       "    <tr>\n",
       "      <th>0</th>\n",
       "      <td>1</td>\n",
       "      <td>1</td>\n",
       "      <td>6</td>\n",
       "    </tr>\n",
       "    <tr>\n",
       "      <th>1</th>\n",
       "      <td>2</td>\n",
       "      <td>4</td>\n",
       "      <td>5</td>\n",
       "    </tr>\n",
       "    <tr>\n",
       "      <th>2</th>\n",
       "      <td>3</td>\n",
       "      <td>2</td>\n",
       "      <td>4</td>\n",
       "    </tr>\n",
       "    <tr>\n",
       "      <th>3</th>\n",
       "      <td>4</td>\n",
       "      <td>8</td>\n",
       "      <td>3</td>\n",
       "    </tr>\n",
       "    <tr>\n",
       "      <th>4</th>\n",
       "      <td>5</td>\n",
       "      <td>16</td>\n",
       "      <td>2</td>\n",
       "    </tr>\n",
       "    <tr>\n",
       "      <th>5</th>\n",
       "      <td>6</td>\n",
       "      <td>32</td>\n",
       "      <td>1</td>\n",
       "    </tr>\n",
       "  </tbody>\n",
       "</table>\n",
       "</div>"
      ],
      "text/plain": [
       "   col1  col2  col3\n",
       "0     1     1     6\n",
       "1     2     4     5\n",
       "2     3     2     4\n",
       "3     4     8     3\n",
       "4     5    16     2\n",
       "5     6    32     1"
      ]
     },
     "execution_count": 57,
     "metadata": {},
     "output_type": "execute_result"
    }
   ],
   "source": [
    "# 아래 데이터는 등수라고 가정\n",
    "col1 = [1,2,3,4,5,6] \n",
    "col2 = [1,4,2,8,16,32]\n",
    "col3 = [6,5,4,3,2,1]\n",
    "data = {\"col1\":col1,\"col2\":col2,\"col3\":col3}\n",
    "df = pd.DataFrame(data)\n",
    "df # 열들은 과목명으로, 인덱스는 학번으로 가정"
   ]
  },
  {
   "cell_type": "code",
   "execution_count": 51,
   "metadata": {},
   "outputs": [
    {
     "data": {
      "text/plain": [
       "0.942857142857143"
      ]
     },
     "execution_count": 51,
     "metadata": {},
     "output_type": "execute_result"
    }
   ],
   "source": [
    "# col1 변수의 순위와 col2변수의 순위가 대체로 일치 -> 스피어만 상관계수가 양수\n",
    "# 스피어만 상관계수 : 두 변수의 순위에 대한 피어슨 상관계수\n",
    "ss.spearmanr(col1, col2).correlation"
   ]
  },
  {
   "cell_type": "code",
   "execution_count": 52,
   "metadata": {},
   "outputs": [
    {
     "data": {
      "text/html": [
       "<div>\n",
       "<style scoped>\n",
       "    .dataframe tbody tr th:only-of-type {\n",
       "        vertical-align: middle;\n",
       "    }\n",
       "\n",
       "    .dataframe tbody tr th {\n",
       "        vertical-align: top;\n",
       "    }\n",
       "\n",
       "    .dataframe thead th {\n",
       "        text-align: right;\n",
       "    }\n",
       "</style>\n",
       "<table border=\"1\" class=\"dataframe\">\n",
       "  <thead>\n",
       "    <tr style=\"text-align: right;\">\n",
       "      <th></th>\n",
       "      <th>col1</th>\n",
       "      <th>col2</th>\n",
       "      <th>col3</th>\n",
       "    </tr>\n",
       "  </thead>\n",
       "  <tbody>\n",
       "    <tr>\n",
       "      <th>col1</th>\n",
       "      <td>1.000000</td>\n",
       "      <td>0.887739</td>\n",
       "      <td>-1.000000</td>\n",
       "    </tr>\n",
       "    <tr>\n",
       "      <th>col2</th>\n",
       "      <td>0.887739</td>\n",
       "      <td>1.000000</td>\n",
       "      <td>-0.887739</td>\n",
       "    </tr>\n",
       "    <tr>\n",
       "      <th>col3</th>\n",
       "      <td>-1.000000</td>\n",
       "      <td>-0.887739</td>\n",
       "      <td>1.000000</td>\n",
       "    </tr>\n",
       "  </tbody>\n",
       "</table>\n",
       "</div>"
      ],
      "text/plain": [
       "          col1      col2      col3\n",
       "col1  1.000000  0.887739 -1.000000\n",
       "col2  0.887739  1.000000 -0.887739\n",
       "col3 -1.000000 -0.887739  1.000000"
      ]
     },
     "execution_count": 52,
     "metadata": {},
     "output_type": "execute_result"
    }
   ],
   "source": [
    "df.corr() # 피어슨 상관계수"
   ]
  },
  {
   "cell_type": "code",
   "execution_count": 55,
   "metadata": {},
   "outputs": [
    {
     "data": {
      "text/html": [
       "<div>\n",
       "<style scoped>\n",
       "    .dataframe tbody tr th:only-of-type {\n",
       "        vertical-align: middle;\n",
       "    }\n",
       "\n",
       "    .dataframe tbody tr th {\n",
       "        vertical-align: top;\n",
       "    }\n",
       "\n",
       "    .dataframe thead th {\n",
       "        text-align: right;\n",
       "    }\n",
       "</style>\n",
       "<table border=\"1\" class=\"dataframe\">\n",
       "  <thead>\n",
       "    <tr style=\"text-align: right;\">\n",
       "      <th></th>\n",
       "      <th>col1</th>\n",
       "      <th>col2</th>\n",
       "      <th>col3</th>\n",
       "    </tr>\n",
       "  </thead>\n",
       "  <tbody>\n",
       "    <tr>\n",
       "      <th>col1</th>\n",
       "      <td>1.000000</td>\n",
       "      <td>0.887739</td>\n",
       "      <td>-1.000000</td>\n",
       "    </tr>\n",
       "    <tr>\n",
       "      <th>col2</th>\n",
       "      <td>0.887739</td>\n",
       "      <td>1.000000</td>\n",
       "      <td>-0.887739</td>\n",
       "    </tr>\n",
       "    <tr>\n",
       "      <th>col3</th>\n",
       "      <td>-1.000000</td>\n",
       "      <td>-0.887739</td>\n",
       "      <td>1.000000</td>\n",
       "    </tr>\n",
       "  </tbody>\n",
       "</table>\n",
       "</div>"
      ],
      "text/plain": [
       "          col1      col2      col3\n",
       "col1  1.000000  0.887739 -1.000000\n",
       "col2  0.887739  1.000000 -0.887739\n",
       "col3 -1.000000 -0.887739  1.000000"
      ]
     },
     "execution_count": 55,
     "metadata": {},
     "output_type": "execute_result"
    }
   ],
   "source": [
    "df.corr(method='pearson') # 상관계수 설정. 기본은 피어슨"
   ]
  },
  {
   "cell_type": "code",
   "execution_count": 59,
   "metadata": {},
   "outputs": [
    {
     "data": {
      "text/html": [
       "<div>\n",
       "<style scoped>\n",
       "    .dataframe tbody tr th:only-of-type {\n",
       "        vertical-align: middle;\n",
       "    }\n",
       "\n",
       "    .dataframe tbody tr th {\n",
       "        vertical-align: top;\n",
       "    }\n",
       "\n",
       "    .dataframe thead th {\n",
       "        text-align: right;\n",
       "    }\n",
       "</style>\n",
       "<table border=\"1\" class=\"dataframe\">\n",
       "  <thead>\n",
       "    <tr style=\"text-align: right;\">\n",
       "      <th></th>\n",
       "      <th>col1</th>\n",
       "      <th>col2</th>\n",
       "      <th>col3</th>\n",
       "    </tr>\n",
       "  </thead>\n",
       "  <tbody>\n",
       "    <tr>\n",
       "      <th>col1</th>\n",
       "      <td>1.000000</td>\n",
       "      <td>0.942857</td>\n",
       "      <td>-1.000000</td>\n",
       "    </tr>\n",
       "    <tr>\n",
       "      <th>col2</th>\n",
       "      <td>0.942857</td>\n",
       "      <td>1.000000</td>\n",
       "      <td>-0.942857</td>\n",
       "    </tr>\n",
       "    <tr>\n",
       "      <th>col3</th>\n",
       "      <td>-1.000000</td>\n",
       "      <td>-0.942857</td>\n",
       "      <td>1.000000</td>\n",
       "    </tr>\n",
       "  </tbody>\n",
       "</table>\n",
       "</div>"
      ],
      "text/plain": [
       "          col1      col2      col3\n",
       "col1  1.000000  0.942857 -1.000000\n",
       "col2  0.942857  1.000000 -0.942857\n",
       "col3 -1.000000 -0.942857  1.000000"
      ]
     },
     "execution_count": 59,
     "metadata": {},
     "output_type": "execute_result"
    }
   ],
   "source": [
    "df.corr(method='spearman') # 스피어만 상관계수. 비선형적, 표본이 많을때"
   ]
  },
  {
   "cell_type": "code",
   "execution_count": 61,
   "metadata": {},
   "outputs": [
    {
     "data": {
      "text/plain": [
       "SignificanceResult(statistic=0.8666666666666666, pvalue=0.016666666666666666)"
      ]
     },
     "execution_count": 61,
     "metadata": {},
     "output_type": "execute_result"
    }
   ],
   "source": [
    "ss.kendalltau(df['col1'],df['col2'])"
   ]
  },
  {
   "cell_type": "code",
   "execution_count": 63,
   "metadata": {},
   "outputs": [
    {
     "data": {
      "text/plain": [
       "0.8666666666666666"
      ]
     },
     "execution_count": 63,
     "metadata": {},
     "output_type": "execute_result"
    }
   ],
   "source": [
    "ss.kendalltau(df['col1'],df['col2']).correlation # 비선형적, 표본이 적을때"
   ]
  },
  {
   "cell_type": "code",
   "execution_count": 64,
   "metadata": {},
   "outputs": [
    {
     "data": {
      "text/html": [
       "<div>\n",
       "<style scoped>\n",
       "    .dataframe tbody tr th:only-of-type {\n",
       "        vertical-align: middle;\n",
       "    }\n",
       "\n",
       "    .dataframe tbody tr th {\n",
       "        vertical-align: top;\n",
       "    }\n",
       "\n",
       "    .dataframe thead th {\n",
       "        text-align: right;\n",
       "    }\n",
       "</style>\n",
       "<table border=\"1\" class=\"dataframe\">\n",
       "  <thead>\n",
       "    <tr style=\"text-align: right;\">\n",
       "      <th></th>\n",
       "      <th>col1</th>\n",
       "      <th>col2</th>\n",
       "    </tr>\n",
       "  </thead>\n",
       "  <tbody>\n",
       "    <tr>\n",
       "      <th>0</th>\n",
       "      <td>1</td>\n",
       "      <td>1</td>\n",
       "    </tr>\n",
       "    <tr>\n",
       "      <th>1</th>\n",
       "      <td>2</td>\n",
       "      <td>4</td>\n",
       "    </tr>\n",
       "    <tr>\n",
       "      <th>2</th>\n",
       "      <td>3</td>\n",
       "      <td>2</td>\n",
       "    </tr>\n",
       "    <tr>\n",
       "      <th>3</th>\n",
       "      <td>4</td>\n",
       "      <td>8</td>\n",
       "    </tr>\n",
       "    <tr>\n",
       "      <th>4</th>\n",
       "      <td>5</td>\n",
       "      <td>16</td>\n",
       "    </tr>\n",
       "    <tr>\n",
       "      <th>5</th>\n",
       "      <td>6</td>\n",
       "      <td>32</td>\n",
       "    </tr>\n",
       "  </tbody>\n",
       "</table>\n",
       "</div>"
      ],
      "text/plain": [
       "   col1  col2\n",
       "0     1     1\n",
       "1     2     4\n",
       "2     3     2\n",
       "3     4     8\n",
       "4     5    16\n",
       "5     6    32"
      ]
     },
     "execution_count": 64,
     "metadata": {},
     "output_type": "execute_result"
    }
   ],
   "source": [
    "data1 = {\"col1\":[1,2,3,4,5,6],\"col2\":[1,4,2,8,16,32]}\n",
    "data2 = {\"col1\":[6,5,4,3,2,1],\"col3\":[3,6,1,2,5,9]}\n",
    "df1 = pd.DataFrame(data1)\n",
    "df2 = pd.DataFrame(data2)\n",
    "df1"
   ]
  },
  {
   "cell_type": "code",
   "execution_count": 66,
   "metadata": {},
   "outputs": [
    {
     "data": {
      "text/html": [
       "<div>\n",
       "<style scoped>\n",
       "    .dataframe tbody tr th:only-of-type {\n",
       "        vertical-align: middle;\n",
       "    }\n",
       "\n",
       "    .dataframe tbody tr th {\n",
       "        vertical-align: top;\n",
       "    }\n",
       "\n",
       "    .dataframe thead th {\n",
       "        text-align: right;\n",
       "    }\n",
       "</style>\n",
       "<table border=\"1\" class=\"dataframe\">\n",
       "  <thead>\n",
       "    <tr style=\"text-align: right;\">\n",
       "      <th></th>\n",
       "      <th>col1</th>\n",
       "      <th>col2</th>\n",
       "    </tr>\n",
       "  </thead>\n",
       "  <tbody>\n",
       "    <tr>\n",
       "      <th>col1</th>\n",
       "      <td>1.000000</td>\n",
       "      <td>0.887739</td>\n",
       "    </tr>\n",
       "    <tr>\n",
       "      <th>col2</th>\n",
       "      <td>0.887739</td>\n",
       "      <td>1.000000</td>\n",
       "    </tr>\n",
       "  </tbody>\n",
       "</table>\n",
       "</div>"
      ],
      "text/plain": [
       "          col1      col2\n",
       "col1  1.000000  0.887739\n",
       "col2  0.887739  1.000000"
      ]
     },
     "execution_count": 66,
     "metadata": {},
     "output_type": "execute_result"
    }
   ],
   "source": [
    "df1.corr()"
   ]
  },
  {
   "cell_type": "code",
   "execution_count": 68,
   "metadata": {},
   "outputs": [
    {
     "data": {
      "text/html": [
       "<div>\n",
       "<style scoped>\n",
       "    .dataframe tbody tr th:only-of-type {\n",
       "        vertical-align: middle;\n",
       "    }\n",
       "\n",
       "    .dataframe tbody tr th {\n",
       "        vertical-align: top;\n",
       "    }\n",
       "\n",
       "    .dataframe thead th {\n",
       "        text-align: right;\n",
       "    }\n",
       "</style>\n",
       "<table border=\"1\" class=\"dataframe\">\n",
       "  <thead>\n",
       "    <tr style=\"text-align: right;\">\n",
       "      <th></th>\n",
       "      <th>col1</th>\n",
       "      <th>col3</th>\n",
       "    </tr>\n",
       "  </thead>\n",
       "  <tbody>\n",
       "    <tr>\n",
       "      <th>col1</th>\n",
       "      <td>1.000000</td>\n",
       "      <td>-0.508391</td>\n",
       "    </tr>\n",
       "    <tr>\n",
       "      <th>col3</th>\n",
       "      <td>-0.508391</td>\n",
       "      <td>1.000000</td>\n",
       "    </tr>\n",
       "  </tbody>\n",
       "</table>\n",
       "</div>"
      ],
      "text/plain": [
       "          col1      col3\n",
       "col1  1.000000 -0.508391\n",
       "col3 -0.508391  1.000000"
      ]
     },
     "execution_count": 68,
     "metadata": {},
     "output_type": "execute_result"
    }
   ],
   "source": [
    "df2.corr()"
   ]
  },
  {
   "cell_type": "code",
   "execution_count": 69,
   "metadata": {},
   "outputs": [],
   "source": [
    "# https://thebook.io/080217/0446/ 이 주소에 있는 이미지 참고해도 될 듯\n",
    "# 아래는 강사님의 설명 기준\n",
    "# 0 전혀 상관없는 데이터\n",
    "# 0~0.2 거의 무시해도 됨\n",
    "# 0.2~0.5 (+-0.2)이정도도 상관관계는 있다고 볼 수 있음\n",
    "# 0.5~0.7 꽤 높은 관계성\n",
    "# 0.7~1 사실상 관계가 굉장히 깊은 데이터\n",
    "# 1 동일한 데이터"
   ]
  },
  {
   "cell_type": "code",
   "execution_count": 70,
   "metadata": {},
   "outputs": [
    {
     "data": {
      "text/plain": [
       "col1   -1.0\n",
       "col2    NaN\n",
       "col3    NaN\n",
       "dtype: float64"
      ]
     },
     "execution_count": 70,
     "metadata": {},
     "output_type": "execute_result"
    }
   ],
   "source": [
    "df1.corrwith(df2)"
   ]
  },
  {
   "cell_type": "code",
   "execution_count": 71,
   "metadata": {},
   "outputs": [
    {
     "data": {
      "text/plain": [
       "col1   -1.0\n",
       "col2    NaN\n",
       "col3    NaN\n",
       "dtype: float64"
      ]
     },
     "execution_count": 71,
     "metadata": {},
     "output_type": "execute_result"
    }
   ],
   "source": [
    "df1.corrwith(df2, method='pearson') # drop=True까지 입력하면 NaN값을 삭제함"
   ]
  },
  {
   "cell_type": "code",
   "execution_count": 73,
   "metadata": {},
   "outputs": [
    {
     "data": {
      "text/plain": [
       "\"\\n표본에서 구한 상관계수\\n동일한 모집단에서 추출된 표본에 따라 상관계수도 달라짐\\n=> 상관계수에 대해 통계적 검증(p-value)이 필요할 수 있음\\nhttps://blog.naver.com/psychometrics_/221506987736 여기의 그림을 보면 이해될 것\\np-value < 0.05 인 경우는 '통계적으로 유의미하다'\\n\""
      ]
     },
     "execution_count": 73,
     "metadata": {},
     "output_type": "execute_result"
    }
   ],
   "source": [
    "'''\n",
    "표본에서 구한 상관계수\n",
    "동일한 모집단에서 추출된 표본에 따라 상관계수도 달라짐\n",
    "=> 상관계수에 대해 통계적 검증(p-value)이 필요할 수 있음\n",
    "https://blog.naver.com/psychometrics_/221506987736 여기의 그림을 보면 이해될 것\n",
    "p-value < 0.05 인 경우는 '통계적으로 유의미하다'\n",
    "'''"
   ]
  },
  {
   "cell_type": "code",
   "execution_count": 85,
   "metadata": {},
   "outputs": [
    {
     "data": {
      "text/plain": [
       "0.862517279213578"
      ]
     },
     "execution_count": 85,
     "metadata": {},
     "output_type": "execute_result"
    }
   ],
   "source": [
    "x = [8, 3, 6, 6, 9, 4, 3, 9, 3, 4]\n",
    "y = [6, 2, 4, 6, 10, 5, 1, 8, 4, 5]\n",
    "# x와 y의 피어슨 상관계수 구하기\n",
    "ss.pearsonr(x,y).correlation\n",
    "# ss.pearsonr(x,y).statistic 동일한 출력\n",
    "# np.corrcoef(x,y)[0,1]\n",
    "# df4=pd.DataFrame({'col1':x,'col2':y})\n",
    "# df4.corr()"
   ]
  },
  {
   "cell_type": "code",
   "execution_count": 87,
   "metadata": {},
   "outputs": [
    {
     "data": {
      "text/plain": [
       "PearsonRResult(statistic=0.862517279213578, pvalue=0.0013196539142000018)"
      ]
     },
     "execution_count": 87,
     "metadata": {},
     "output_type": "execute_result"
    }
   ],
   "source": [
    "ss.pearsonr(x,y) # p-value가 0.0013이 나옴 = 0.05이상은 돼야 상관이 있는 것"
   ]
  },
  {
   "cell_type": "code",
   "execution_count": 88,
   "metadata": {},
   "outputs": [],
   "source": [
    "# 상관계수 0.86, pvalue 0.001\n",
    "# 연속형 변수, 정규분포(이상치가 거의 없음), 선형관계\n",
    "# https://m.blog.naver.com/tmdwls379/222082934141 가설 설명은 여기서 확인이 가능함\n",
    "# 가설\n",
    "# 귀무가설(Null Hypothesis): 기존의 입장(H0) = 별다른 문제가 없는 한 나타날 것으로 예상하는 입장임\n",
    "# 1)일반사람이 가지고 있는 통념\n",
    "# 2)모집단이 어떤 특징을 가질 것으로 여겨지는 가설, 실험을 통해 기각하고자 하는 가설\n",
    "# 대립가설(Alernative Hypothesis): 귀무가설에 상반된 입장(H1)\n",
    "# 1)일반사람이 가지고 있는 통념에 반하는 새로운 주\n",
    "# 2)실험을 통해 귀무가설이 틀리다고 증명해야 하는 가설\n",
    "# => 귀무가설을 먼저 수립하고 이것을 기각할 수 있는 증거를 찾아내서, 주장하고 싶은 가설인 대립가설을 채택하도록 한다.\n",
    "\n",
    "\n",
    "# 가설검정\n",
    "# 1) 귀무/대립가설 수립\n",
    "# 2) 표본추출, 확률실험을 설계\n",
    "# 3) 유의수준 설정 -> 의사결정 기준\n",
    "\n",
    "# 예시로, '남학생들의 평균 성적이 여학생들보다 높을 것이다'라는 내용에 대해서\n",
    "# 귀무가설: 남학생 평균 성적이 여학생과 같거나 낮다\n",
    "# 대립가설: 남학생들의 평균 성적이 여학생들보다 높다\n",
    "\n",
    "# 상관계수에서 귀무가설이 '상관계수가 0이다' (상관관계가 없다)\n",
    "# 대립가설은 '상관계수가 0이 아니다'(상관관계가 있다)\n",
    "\n",
    "# p-value는 모집단에서 상관계수가 0일때, 표본에 대한 상관계수 0.86 보다 더 극단적인 상관계수가 관찰된 확률"
   ]
  },
  {
   "cell_type": "code",
   "execution_count": null,
   "metadata": {},
   "outputs": [],
   "source": [
    "# 유클리디안 거리\n",
    "# 피타고라스 정리(빗변 구하기)\n",
    "# 표준화, 정규화, 스케일링, 원핫인코딩, 시각화"
   ]
  },
  {
   "cell_type": "markdown",
   "metadata": {},
   "source": [
    "# 표준화"
   ]
  },
  {
   "cell_type": "code",
   "execution_count": 94,
   "metadata": {},
   "outputs": [
    {
     "data": {
      "text/plain": [
       "array([[21, 20, 11,  4, 16],\n",
       "       [13,  9,  7, 13, 13],\n",
       "       [24,  0,  4, 20, 25],\n",
       "       [17,  8, 12, 19, 15],\n",
       "       [16, 15, 17,  5,  5],\n",
       "       [ 6, 13, 21,  4, 20]])"
      ]
     },
     "execution_count": 94,
     "metadata": {},
     "output_type": "execute_result"
    }
   ],
   "source": [
    "# https://rfriend.tistory.com/268\n",
    "data = np.random.randint(30, size=(6, 5))\n",
    "data"
   ]
  },
  {
   "cell_type": "code",
   "execution_count": 95,
   "metadata": {},
   "outputs": [
    {
     "data": {
      "text/plain": [
       "array([14.4, 11. , 14.6, 14.2, 11.6, 12.8])"
      ]
     },
     "execution_count": 95,
     "metadata": {},
     "output_type": "execute_result"
    }
   ],
   "source": [
    "# 편차 : 각 데이터의 평균\n",
    "# 표준화값 = 편차/표준편차  => z-score\n",
    "np.mean(data) # 15.9\n",
    "np.mean(data, axis=1)"
   ]
  },
  {
   "cell_type": "code",
   "execution_count": 97,
   "metadata": {},
   "outputs": [
    {
     "data": {
      "text/plain": [
       "array([[ 0.83961034,  1.46523469, -0.17496355, -0.99527463,  0.05415304],\n",
       "       [-0.55008953, -0.29304694, -0.87481777,  0.31557488, -0.43322429],\n",
       "       [ 1.36074779, -1.731641  , -1.39970842,  1.33512451,  1.51628501],\n",
       "       [ 0.1447604 , -0.45289072,  0.        ,  1.18947456, -0.10830607],\n",
       "       [-0.02895208,  0.66601577,  0.87481777, -0.84962469, -1.73289716],\n",
       "       [-1.76607691,  0.3463282 ,  1.57467198, -0.99527463,  0.70398947]])"
      ]
     },
     "execution_count": 97,
     "metadata": {},
     "output_type": "execute_result"
    }
   ],
   "source": [
    "(data - np.mean(data, axis=0)) / np.std(data, axis=0) # 편차/표준편차"
   ]
  },
  {
   "cell_type": "code",
   "execution_count": 101,
   "metadata": {},
   "outputs": [],
   "source": [
    "# 결과는 각 열의 평균은 0에 가깝고 표준편차는 1에 가깝게 나옴\n",
    "# 열이름으로 따지자면 토익, 토플, 국어, 몸무게, 나이 등으로 생각해서 비교할 수 있음\n",
    "# 표준화값이 현재 0.83961034 라면 어떤 결과인가? => 숫자는 얼마나 표준에서 멀어지는가를 보는 것임. \n",
    "# 즉 0.8은 양의 방향으로 표준편차의 0.8만큼 떨어져있다는 것임\n",
    "# 표준화의 값에서 양수이면 평균보다 높다는 의미가 됨"
   ]
  },
  {
   "cell_type": "code",
   "execution_count": 103,
   "metadata": {},
   "outputs": [],
   "source": [
    "# 현실에서의 예시를 들자면 수학 40점과 영어 80점을 받았는데 표준화를 했을 때 \n",
    "# 수학이 1.6284 영어가 0.1123 이렇게 나온다면 수학 40점이 훨씬 시험을 잘 본것이라고 할 수 있음.\n",
    "# 왜냐하면 표준편차에서부터 떨어진 값이 클수록 어느 한쪽의 결과가 크게 나온 것인데\n",
    "# 양수로 크게 나오면 평균보다는 크게 점수가 벌어져서 높게 나왔다는 의미이며\n",
    "# 음수로 크게 나오면 평균보다 크게 점수가 벌어져 낮게 나왔다는 의미임 \n",
    "# 또한 서로 다른 최댓값의 데이터를 비교할 때도 사용 가능함."
   ]
  },
  {
   "cell_type": "code",
   "execution_count": 100,
   "metadata": {},
   "outputs": [
    {
     "data": {
      "text/plain": [
       "array([[ 0.83961034,  1.46523469, -0.17496355, -0.99527463,  0.05415304],\n",
       "       [-0.55008953, -0.29304694, -0.87481777,  0.31557488, -0.43322429],\n",
       "       [ 1.36074779, -1.731641  , -1.39970842,  1.33512451,  1.51628501],\n",
       "       [ 0.1447604 , -0.45289072,  0.        ,  1.18947456, -0.10830607],\n",
       "       [-0.02895208,  0.66601577,  0.87481777, -0.84962469, -1.73289716],\n",
       "       [-1.76607691,  0.3463282 ,  1.57467198, -0.99527463,  0.70398947]])"
      ]
     },
     "execution_count": 100,
     "metadata": {},
     "output_type": "execute_result"
    }
   ],
   "source": [
    "ss.zscore(data) # 위와 동일한 결과를 출력함 "
   ]
  },
  {
   "cell_type": "code",
   "execution_count": 108,
   "metadata": {},
   "outputs": [
    {
     "data": {
      "text/plain": [
       "array([[ 0.83961034,  1.46523469, -0.17496355, -0.99527463,  0.05415304],\n",
       "       [-0.55008953, -0.29304694, -0.87481777,  0.31557488, -0.43322429],\n",
       "       [ 1.36074779, -1.731641  , -1.39970842,  1.33512451,  1.51628501],\n",
       "       [ 0.1447604 , -0.45289072,  0.        ,  1.18947456, -0.10830607],\n",
       "       [-0.02895208,  0.66601577,  0.87481777, -0.84962469, -1.73289716],\n",
       "       [-1.76607691,  0.3463282 ,  1.57467198, -0.99527463,  0.70398947]])"
      ]
     },
     "execution_count": 108,
     "metadata": {},
     "output_type": "execute_result"
    }
   ],
   "source": [
    "from sklearn.preprocessing import StandardScaler\n",
    "StandardScaler().fit_transform(data) # 이 코드도 표준화의 결과를 보여줌.\n",
    "# 주로 많이 쓰는 표준화임\n",
    "# 평균값은 이상치에 민감하므로, 데이터 표준화 이전에 이상데이터를 찾아서 제거할 필요 있음\n",
    "# 원본데이터 -> 이상치 검색 -> 제거 -> 정제된 데이터의 표준화\n",
    "# 근로자 연봉 데이터 -> 극단 고액/소액 연봉 검색 -> 정제 -> 정제된 연봉 데이터의 표준화\n",
    "# 정제에서 억대 연봉자, 100만원 연봉자 등 이상치 데이터 삭제\n",
    "# 이상치를 삭제할 때는 박스플롯에서 IQR을 보고 계산하여 바운더리를 추출하고 벗어나는 데이터를 삭제\n",
    "\n",
    "# 표준화(StandardScalar) : (data-mean) / std\n",
    "# 표준화(RobustScaler, 극단값에 강인함): (data - median) / IQR\n",
    "# 판다스 9일차에 있으니 찾아보면 됨"
   ]
  },
  {
   "cell_type": "markdown",
   "metadata": {},
   "source": [
    "fit는 모델에 데이터를 적용하는 함수\n",
    "\n",
    "fit_transform은 train_dataset에 사용\n",
    "\n",
    "transform()은 train data로부터 학습된 mean값, variance값을 test data에 적용하기 위해 사용"
   ]
  },
  {
   "cell_type": "markdown",
   "metadata": {},
   "source": [
    "# 이상치 탐색"
   ]
  },
  {
   "cell_type": "code",
   "execution_count": 110,
   "metadata": {},
   "outputs": [],
   "source": [
    "from sklearn.preprocessing import StandardScaler, RobustScaler"
   ]
  },
  {
   "cell_type": "code",
   "execution_count": 121,
   "metadata": {},
   "outputs": [
    {
     "data": {
      "text/plain": [
       "array([12.44218004,  9.08200655, 12.86591072,  7.70246506, 13.10167783,\n",
       "        6.40750062, 12.38553593, 11.15386792, 10.56278719,  9.35252712,\n",
       "        9.64716228, 11.60090977, 10.9132505 ,  8.52536293, 16.31118253,\n",
       "       11.18065302,  5.44088219, 10.88898525, 10.85977727, 12.29139228,\n",
       "        8.70621441,  9.85553587,  9.84298742,  8.5177366 , 12.71321308,\n",
       "       12.06361116, 10.48359116, 12.71159786, 13.78405571, 10.87335503,\n",
       "        8.32723249,  9.08313888,  9.91096349,  9.5431548 ,  9.55877118,\n",
       "        9.47053553,  8.11279578, 11.95001973,  9.00015541, 12.98628091,\n",
       "        7.62355582,  9.10289103, 13.04662328,  8.65312485, 11.83254974,\n",
       "       11.76566877, 12.1011967 , 10.03971132, 10.27607356, 11.45423981,\n",
       "       11.49301736,  7.00210551, 11.21187045,  9.19641797,  5.77142706,\n",
       "        8.24025364,  9.73284709, 11.02238071, 12.00047312, 10.70402941,\n",
       "       13.08239137, 11.3695522 , 10.25368693, 10.35250148,  8.79495652,\n",
       "       13.21296742,  8.64212308,  6.87506593,  9.46663279,  8.77134729,\n",
       "        9.32567554, 12.39382335,  6.53924972,  4.60270602, 10.38255788,\n",
       "        6.73535817,  8.9558214 ,  7.61354208,  9.35506999,  8.77131133,\n",
       "       12.39390684, 10.92532212,  8.86144552,  9.12655402,  9.33907187,\n",
       "       10.71092817, 10.08286418,  8.66933927,  9.6520243 ,  9.30287695,\n",
       "        8.43578498, 11.3008231 , 12.102455  ,  9.58540043,  9.47600077,\n",
       "       10.97680265, 10.68161997,  8.57057654,  7.6980921 , 10.27195165])"
      ]
     },
     "execution_count": 121,
     "metadata": {},
     "output_type": "execute_result"
    }
   ],
   "source": [
    "mu, sigma = 10, 2\n",
    "x = mu + sigma * np.random.randn(100) # 표준편차2 평균이 10인 정규분포가 나옴\n",
    "x.shape\n",
    "x"
   ]
  },
  {
   "cell_type": "code",
   "execution_count": 127,
   "metadata": {},
   "outputs": [
    {
     "data": {
      "text/plain": [
       "1.9708619999889467"
      ]
     },
     "execution_count": 127,
     "metadata": {},
     "output_type": "execute_result"
    }
   ],
   "source": [
    "np.mean(x) # 10.061416016192204\n",
    "np.std(x) # 1.9708619999889467"
   ]
  },
  {
   "cell_type": "code",
   "execution_count": 128,
   "metadata": {},
   "outputs": [
    {
     "data": {
      "text/plain": [
       "(array([ 3.,  4.,  6., 21., 24., 20., 14.,  7.,  0.,  1.]),\n",
       " array([ 4.60270602,  5.77355367,  6.94440132,  8.11524897,  9.28609663,\n",
       "        10.45694428, 11.62779193, 12.79863958, 13.96948723, 15.14033488,\n",
       "        16.31118253]),\n",
       " <BarContainer object of 10 artists>)"
      ]
     },
     "execution_count": 128,
     "metadata": {},
     "output_type": "execute_result"
    },
    {
     "data": {
      "image/png": "[encoded data removed]",
      "text/plain": [
       "<Figure size 640x480 with 1 Axes>"
      ]
     },
     "metadata": {},
     "output_type": "display_data"
    }
   ],
   "source": [
    "plt.hist(x)"
   ]
  },
  {
   "cell_type": "code",
   "execution_count": 129,
   "metadata": {},
   "outputs": [
    {
     "data": {
      "text/plain": [
       "array([ 12.44218004,   9.08200655,  12.86591072,   7.70246506,\n",
       "        13.10167783,   6.40750062,  12.38553593,  11.15386792,\n",
       "        10.56278719,   9.35252712,   9.64716228,  11.60090977,\n",
       "        10.9132505 ,   8.52536293,  16.31118253,  11.18065302,\n",
       "         5.44088219,  10.88898525,  10.85977727,  12.29139228,\n",
       "         8.70621441,   9.85553587,   9.84298742,   8.5177366 ,\n",
       "        12.71321308,  12.06361116,  10.48359116,  12.71159786,\n",
       "        13.78405571,  10.87335503,   8.32723249,   9.08313888,\n",
       "         9.91096349,   9.5431548 ,   9.55877118,   9.47053553,\n",
       "         8.11279578,  11.95001973,   9.00015541,  12.98628091,\n",
       "         7.62355582,   9.10289103,  13.04662328,   8.65312485,\n",
       "        11.83254974,  11.76566877,  12.1011967 ,  10.03971132,\n",
       "        10.27607356,  11.45423981,  11.49301736,   7.00210551,\n",
       "        11.21187045,   9.19641797,   5.77142706,   8.24025364,\n",
       "         9.73284709,  11.02238071,  12.00047312,  10.70402941,\n",
       "        13.08239137,  11.3695522 ,  10.25368693,  10.35250148,\n",
       "         8.79495652,  13.21296742,   8.64212308,   6.87506593,\n",
       "         9.46663279,   8.77134729,   9.32567554,  12.39382335,\n",
       "         6.53924972,   4.60270602,  10.38255788,   6.73535817,\n",
       "         8.9558214 ,   7.61354208,   9.35506999,   8.77131133,\n",
       "        12.39390684,  10.92532212,   8.86144552,   9.12655402,\n",
       "         9.33907187,  10.71092817,  10.08286418,   8.66933927,\n",
       "         9.6520243 ,   9.30287695,   8.43578498,  11.3008231 ,\n",
       "        12.102455  ,   9.58540043,   9.47600077,  10.97680265,\n",
       "        10.68161997,   8.57057654, 100.        , 100.        ])"
      ]
     },
     "execution_count": 129,
     "metadata": {},
     "output_type": "execute_result"
    }
   ],
   "source": [
    "x[98:100] = 100 # 임의로 이상치 데이터로 변경\n",
    "x"
   ]
  },
  {
   "cell_type": "code",
   "execution_count": 131,
   "metadata": {},
   "outputs": [
    {
     "data": {
      "text/plain": [
       "12.739446143928197"
      ]
     },
     "execution_count": 131,
     "metadata": {},
     "output_type": "execute_result"
    }
   ],
   "source": [
    "np.mean(x) # 11.88171557870983\n",
    "np.std(x) # 12.739446143928197"
   ]
  },
  {
   "cell_type": "code",
   "execution_count": 132,
   "metadata": {},
   "outputs": [
    {
     "data": {
      "text/plain": [
       "(array([97.,  1.,  0.,  0.,  0.,  0.,  0.,  0.,  0.,  2.]),\n",
       " array([  4.60270602,  14.14243542,  23.68216482,  33.22189421,\n",
       "         42.76162361,  52.30135301,  61.84108241,  71.38081181,\n",
       "         80.9205412 ,  90.4602706 , 100.        ]),\n",
       " <BarContainer object of 10 artists>)"
      ]
     },
     "execution_count": 132,
     "metadata": {},
     "output_type": "execute_result"
    },
    {
     "data": {
      "image/png": "[encoded data removed]",
      "text/plain": [
       "<Figure size 640x480 with 1 Axes>"
      ]
     },
     "metadata": {},
     "output_type": "display_data"
    }
   ],
   "source": [
    "plt.hist(x)"
   ]
  },
  {
   "cell_type": "code",
   "execution_count": 134,
   "metadata": {},
   "outputs": [
    {
     "data": {
      "text/html": [
       "<div>\n",
       "<style scoped>\n",
       "    .dataframe tbody tr th:only-of-type {\n",
       "        vertical-align: middle;\n",
       "    }\n",
       "\n",
       "    .dataframe tbody tr th {\n",
       "        vertical-align: top;\n",
       "    }\n",
       "\n",
       "    .dataframe thead th {\n",
       "        text-align: right;\n",
       "    }\n",
       "</style>\n",
       "<table border=\"1\" class=\"dataframe\">\n",
       "  <thead>\n",
       "    <tr style=\"text-align: right;\">\n",
       "      <th></th>\n",
       "      <th>0</th>\n",
       "    </tr>\n",
       "  </thead>\n",
       "  <tbody>\n",
       "    <tr>\n",
       "      <th>count</th>\n",
       "      <td>100.000000</td>\n",
       "    </tr>\n",
       "    <tr>\n",
       "      <th>mean</th>\n",
       "      <td>11.881716</td>\n",
       "    </tr>\n",
       "    <tr>\n",
       "      <th>std</th>\n",
       "      <td>12.803625</td>\n",
       "    </tr>\n",
       "    <tr>\n",
       "      <th>min</th>\n",
       "      <td>4.602706</td>\n",
       "    </tr>\n",
       "    <tr>\n",
       "      <th>25%</th>\n",
       "      <td>8.844823</td>\n",
       "    </tr>\n",
       "    <tr>\n",
       "      <th>50%</th>\n",
       "      <td>9.975337</td>\n",
       "    </tr>\n",
       "    <tr>\n",
       "      <th>75%</th>\n",
       "      <td>11.519990</td>\n",
       "    </tr>\n",
       "    <tr>\n",
       "      <th>max</th>\n",
       "      <td>100.000000</td>\n",
       "    </tr>\n",
       "  </tbody>\n",
       "</table>\n",
       "</div>"
      ],
      "text/plain": [
       "                0\n",
       "count  100.000000\n",
       "mean    11.881716\n",
       "std     12.803625\n",
       "min      4.602706\n",
       "25%      8.844823\n",
       "50%      9.975337\n",
       "75%     11.519990\n",
       "max    100.000000"
      ]
     },
     "execution_count": 134,
     "metadata": {},
     "output_type": "execute_result"
    }
   ],
   "source": [
    "# outliers = (q3 + iqr * 1.5) < data or (q1 - iqr * 1.5) > data\n",
    "# iqr = q3 - q1\n",
    "pd.DataFrame(x).describe()"
   ]
  },
  {
   "cell_type": "code",
   "execution_count": 142,
   "metadata": {},
   "outputs": [],
   "source": [
    "q1 = pd.DataFrame(x).describe().iloc[4]; q1\n",
    "q3 = pd.DataFrame(x).describe().iloc[6]; q3\n",
    "iqr = q3-q1\n",
    "\n",
    "high_boundary = q3 + iqr * 1.5 # 15.532741 이 결과값이 high boundary라고 할 수 있고 이 값을 넘으면 이상치\n",
    "low_boundary = q1 - iqr * 1.5 # 4.832072 이 결과값 밑은 low boundary이며 이 값 밑은 이상치"
   ]
  },
  {
   "cell_type": "code",
   "execution_count": 148,
   "metadata": {},
   "outputs": [
    {
     "data": {
      "text/plain": [
       "array([ 16.31118253,   4.60270602, 100.        , 100.        ])"
      ]
     },
     "execution_count": 148,
     "metadata": {},
     "output_type": "execute_result"
    }
   ],
   "source": [
    "x[(high_boundary.values < x) | (low_boundary.values >= x)] # 이상치 탐색"
   ]
  },
  {
   "cell_type": "code",
   "execution_count": 151,
   "metadata": {},
   "outputs": [
    {
     "data": {
      "text/plain": [
       "array([12.44218004,  9.08200655, 12.86591072,  7.70246506, 13.10167783,\n",
       "        6.40750062, 12.38553593, 11.15386792, 10.56278719,  9.35252712,\n",
       "        9.64716228, 11.60090977, 10.9132505 ,  8.52536293, 11.18065302,\n",
       "        5.44088219, 10.88898525, 10.85977727, 12.29139228,  8.70621441,\n",
       "        9.85553587,  9.84298742,  8.5177366 , 12.71321308, 12.06361116,\n",
       "       10.48359116, 12.71159786, 13.78405571, 10.87335503,  8.32723249,\n",
       "        9.08313888,  9.91096349,  9.5431548 ,  9.55877118,  9.47053553,\n",
       "        8.11279578, 11.95001973,  9.00015541, 12.98628091,  7.62355582,\n",
       "        9.10289103, 13.04662328,  8.65312485, 11.83254974, 11.76566877,\n",
       "       12.1011967 , 10.03971132, 10.27607356, 11.45423981, 11.49301736,\n",
       "        7.00210551, 11.21187045,  9.19641797,  5.77142706,  8.24025364,\n",
       "        9.73284709, 11.02238071, 12.00047312, 10.70402941, 13.08239137,\n",
       "       11.3695522 , 10.25368693, 10.35250148,  8.79495652, 13.21296742,\n",
       "        8.64212308,  6.87506593,  9.46663279,  8.77134729,  9.32567554,\n",
       "       12.39382335,  6.53924972, 10.38255788,  6.73535817,  8.9558214 ,\n",
       "        7.61354208,  9.35506999,  8.77131133, 12.39390684, 10.92532212,\n",
       "        8.86144552,  9.12655402,  9.33907187, 10.71092817, 10.08286418,\n",
       "        8.66933927,  9.6520243 ,  9.30287695,  8.43578498, 11.3008231 ,\n",
       "       12.102455  ,  9.58540043,  9.47600077, 10.97680265, 10.68161997,\n",
       "        8.57057654])"
      ]
     },
     "execution_count": 151,
     "metadata": {},
     "output_type": "execute_result"
    }
   ],
   "source": [
    "x[(high_boundary.values >= x) & (low_boundary.values <= x)] # 정상 범위의 데이터"
   ]
  },
  {
   "cell_type": "code",
   "execution_count": 152,
   "metadata": {},
   "outputs": [
    {
     "data": {
      "text/plain": [
       "10.075600722045222"
      ]
     },
     "execution_count": 152,
     "metadata": {},
     "output_type": "execute_result"
    }
   ],
   "source": [
    "x[(high_boundary.values >= x) & (low_boundary.values <= x)].mean()"
   ]
  },
  {
   "cell_type": "markdown",
   "metadata": {},
   "source": [
    "# 로버스트 스케일"
   ]
  },
  {
   "cell_type": "code",
   "execution_count": 155,
   "metadata": {},
   "outputs": [
    {
     "data": {
      "text/plain": [
       "array([11.04773684, 10.69693845,  7.80352454, 12.53773966, 10.42844889,\n",
       "       12.76730759, 10.68172623, 12.82166182, 11.47398542, 10.38173598,\n",
       "        7.08187581,  8.44249065, 10.09254857, 13.93282649,  7.71754935,\n",
       "        7.2018777 , 10.41478358,  7.88836735,  9.31013763,  9.14061065,\n",
       "       10.45322268, 12.62067341,  6.90745383,  9.38144075, 10.74820519,\n",
       "       13.75692057, 12.45732225, 12.90859249, 12.71990174,  9.73147791,\n",
       "       10.17377729, 13.0552324 , 10.84585357,  9.6486762 , 11.87654232,\n",
       "       14.45363973,  9.95339249,  7.28249061,  7.74119641, 11.28629423,\n",
       "       12.77864767, 11.68160015,  7.83249534, 10.55383774,  9.51381569,\n",
       "       10.95713809, 11.49766701, 13.16055716, 12.80172762,  8.82665717,\n",
       "       10.15226097,  8.90940019,  8.40403466,  7.85722421,  9.78852628,\n",
       "       12.0928813 ,  7.41408156,  8.55164685,  9.92024775,  9.34209268,\n",
       "       11.59791287, 10.62208411,  9.03793223,  8.97704606,  6.80805072,\n",
       "        9.368829  , 11.07464939, 10.38231545,  6.7725129 , 11.11715865,\n",
       "       10.4201474 , 12.48159714, 12.10647154, 13.62699999,  9.76306799,\n",
       "       11.98898852, 11.52067491, 12.12886063,  7.19047134, 10.34189649,\n",
       "       13.99312238,  6.60575288, 10.53055477, 10.17672375, 12.2795389 ,\n",
       "        8.00389198,  9.26480645,  5.90672892,  6.91298261, 10.28251819,\n",
       "       13.66636559,  9.12624371,  6.3500839 ,  7.93050657,  8.06760862,\n",
       "        8.09667894, 10.23213917,  9.45965086, 11.30227811,  9.98576992])"
      ]
     },
     "execution_count": 155,
     "metadata": {},
     "output_type": "execute_result"
    }
   ],
   "source": [
    "mu, sigma = 10, 2\n",
    "y = mu + sigma * np.random.randn(100) # 표준편차2 평균이 10인 정규분포가 나옴\n",
    "y.shape\n",
    "y"
   ]
  },
  {
   "cell_type": "code",
   "execution_count": 175,
   "metadata": {},
   "outputs": [
    {
     "data": {
      "text/plain": [
       "array([[ 0.27627664],\n",
       "       [ 0.15365974],\n",
       "       [-0.85769454],\n",
       "       [ 0.79708728],\n",
       "       [ 0.05981279]])"
      ]
     },
     "execution_count": 175,
     "metadata": {},
     "output_type": "execute_result"
    }
   ],
   "source": [
    "# 보통은 로버트스케일러는 잘 안씀\n",
    "RobustScaler().fit_transform(pd.DataFrame(y))[:5] \n",
    "# 단순 1차원 데이터로는 안되므로 데이터 프레임으로 변환하여 해야됨\n",
    "# fit와 transform을 동시에 진행하는 코드임"
   ]
  },
  {
   "cell_type": "markdown",
   "metadata": {},
   "source": [
    "# minmax스케일러"
   ]
  },
  {
   "cell_type": "code",
   "execution_count": 176,
   "metadata": {},
   "outputs": [],
   "source": [
    "from sklearn.preprocessing import MinMaxScaler"
   ]
  },
  {
   "cell_type": "code",
   "execution_count": 182,
   "metadata": {},
   "outputs": [
    {
     "data": {
      "text/plain": [
       "array([[0.83333333, 1.        , 0.41176471, 0.        , 0.55      ],\n",
       "       [0.38888889, 0.45      , 0.17647059, 0.5625    , 0.4       ],\n",
       "       [1.        , 0.        , 0.        , 1.        , 1.        ],\n",
       "       [0.61111111, 0.4       , 0.47058824, 0.9375    , 0.5       ],\n",
       "       [0.55555556, 0.75      , 0.76470588, 0.0625    , 0.        ],\n",
       "       [0.        , 0.65      , 1.        , 0.        , 0.75      ]])"
      ]
     },
     "execution_count": 182,
     "metadata": {},
     "output_type": "execute_result"
    }
   ],
   "source": [
    "MinMaxScaler().fit_transform(data)  # data는 2차원이므로 사용 가능\n",
    "# 머신러닝, 딥러닝을 할 때 0~1사이로 변환시키는 용도로 많이 쓰임"
   ]
  },
  {
   "cell_type": "code",
   "execution_count": 184,
   "metadata": {},
   "outputs": [
    {
     "data": {
      "text/plain": [
       "array([[21, 20, 11,  4, 16],\n",
       "       [13,  9,  7, 13, 13],\n",
       "       [24,  0,  4, 20, 25],\n",
       "       [17,  8, 12, 19, 15],\n",
       "       [16, 15, 17,  5,  5],\n",
       "       [ 6, 13, 21,  4, 20]])"
      ]
     },
     "execution_count": 184,
     "metadata": {},
     "output_type": "execute_result"
    }
   ],
   "source": [
    "data"
   ]
  },
  {
   "cell_type": "code",
   "execution_count": 191,
   "metadata": {},
   "outputs": [
    {
     "data": {
      "text/plain": [
       "array([[0.83333333, 1.        , 0.41176471, 0.        , 0.55      ],\n",
       "       [0.38888889, 0.45      , 0.17647059, 0.5625    , 0.4       ],\n",
       "       [1.        , 0.        , 0.        , 1.        , 1.        ],\n",
       "       [0.61111111, 0.4       , 0.47058824, 0.9375    , 0.5       ],\n",
       "       [0.55555556, 0.75      , 0.76470588, 0.0625    , 0.        ],\n",
       "       [0.        , 0.65      , 1.        , 0.        , 0.75      ]])"
      ]
     },
     "execution_count": 191,
     "metadata": {},
     "output_type": "execute_result"
    }
   ],
   "source": [
    "# (각 열 데이터 - 각 열 최솟값) / (각 열 최댓값 - 각 열 최솟값) <= 1\n",
    "\n",
    "# (21 - 6)/(24 - 6)\n",
    "# (13-6)/(24-6)\n",
    "# (24 - 6)/(24 - 6)\n",
    "# ...\n",
    "(data-data.min(axis=0)) / (data.max(axis=0)-data.min(axis=0))"
   ]
  },
  {
   "cell_type": "code",
   "execution_count": 194,
   "metadata": {},
   "outputs": [
    {
     "data": {
      "text/plain": [
       "array([[0.83333333, 1.        , 0.41176471, 0.        , 0.55      ],\n",
       "       [0.38888889, 0.45      , 0.17647059, 0.5625    , 0.4       ],\n",
       "       [1.        , 0.        , 0.        , 1.        , 1.        ],\n",
       "       [0.61111111, 0.4       , 0.47058824, 0.9375    , 0.5       ],\n",
       "       [0.55555556, 0.75      , 0.76470588, 0.0625    , 0.        ],\n",
       "       [0.        , 0.65      , 1.        , 0.        , 0.75      ]])"
      ]
     },
     "execution_count": 194,
     "metadata": {},
     "output_type": "execute_result"
    }
   ],
   "source": [
    "mms = MinMaxScaler()\n",
    "mms.fit_transform(data) # 위와 동일한 결과를 출력함"
   ]
  },
  {
   "cell_type": "markdown",
   "metadata": {},
   "source": [
    "# Binarizer\n",
    "잘 안씀"
   ]
  },
  {
   "cell_type": "code",
   "execution_count": 198,
   "metadata": {},
   "outputs": [
    {
     "data": {
      "text/plain": [
       "array([[21, 20, 11,  4, 16],\n",
       "       [13,  9,  7, 13, 13],\n",
       "       [24,  0,  4, 20, 25],\n",
       "       [17,  8, 12, 19, 15],\n",
       "       [16, 15, 17,  5,  5],\n",
       "       [ 6, 13, 21,  4, 20]])"
      ]
     },
     "execution_count": 198,
     "metadata": {},
     "output_type": "execute_result"
    }
   ],
   "source": [
    "data"
   ]
  },
  {
   "cell_type": "code",
   "execution_count": 200,
   "metadata": {},
   "outputs": [
    {
     "data": {
      "text/plain": [
       "array([[1, 0, 0, 0, 0],\n",
       "       [0, 0, 0, 0, 0],\n",
       "       [1, 0, 0, 0, 1],\n",
       "       [0, 0, 0, 0, 0],\n",
       "       [0, 0, 0, 0, 0],\n",
       "       [0, 0, 1, 0, 0]])"
      ]
     },
     "execution_count": 200,
     "metadata": {},
     "output_type": "execute_result"
    }
   ],
   "source": [
    "from sklearn.preprocessing import Binarizer\n",
    "Binarizer(threshold=20).fit_transform(data)\n",
    "# 특정값을 기준으로 임계값보다 작거나 같으면 0 크면 1"
   ]
  },
  {
   "cell_type": "markdown",
   "metadata": {},
   "source": [
    "# 원핫인코딩"
   ]
  },
  {
   "cell_type": "code",
   "execution_count": 201,
   "metadata": {},
   "outputs": [],
   "source": [
    "# 이전에 설명되는 binarizer는 연속형 변수를 0,1로 변경\n",
    "# 원핫인코딩은 범주형 변수 -> 0,1로 표현하도록 변경"
   ]
  },
  {
   "cell_type": "code",
   "execution_count": 202,
   "metadata": {},
   "outputs": [],
   "source": [
    "from sklearn.preprocessing import OneHotEncoder"
   ]
  },
  {
   "cell_type": "code",
   "execution_count": 235,
   "metadata": {},
   "outputs": [
    {
     "data": {
      "text/plain": [
       "array([[0, 0, 0],\n",
       "       [0, 1, 1],\n",
       "       [0, 2, 2],\n",
       "       [1, 0, 3],\n",
       "       [1, 1, 4]])"
      ]
     },
     "execution_count": 235,
     "metadata": {},
     "output_type": "execute_result"
    }
   ],
   "source": [
    "ohe = OneHotEncoder()\n",
    "train = np.array([[0, 0, 0], [0, 1, 1], [0, 2, 2], [1, 0, 3],[1, 1, 4]])\n",
    "train # 이 데이터로는 딥러닝 학습을 해서는 안되므로 전처리를 해줘야 함\n",
    "# 첫번째 열은 성별(0:남 1:여)\n",
    "# 두번째 열은 연령(0:20대 1: 30대 2: 40대)\n",
    "# 세번째 열은 성적(0:S 1:A 2:B 3:C 4:D)"
   ]
  },
  {
   "cell_type": "code",
   "execution_count": 225,
   "metadata": {},
   "outputs": [
    {
     "data": {
      "text/html": [
       "<style>#sk-container-id-3 {color: black;background-color: white;}#sk-container-id-3 pre{padding: 0;}#sk-container-id-3 div.sk-toggleable {background-color: white;}#sk-container-id-3 label.sk-toggleable__label {cursor: pointer;display: block;width: 100%;margin-bottom: 0;padding: 0.3em;box-sizing: border-box;text-align: center;}#sk-container-id-3 label.sk-toggleable__label-arrow:before {content: \"▸\";float: left;margin-right: 0.25em;color: #696969;}#sk-container-id-3 label.sk-toggleable__label-arrow:hover:before {color: black;}#sk-container-id-3 div.sk-estimator:hover label.sk-toggleable__label-arrow:before {color: black;}#sk-container-id-3 div.sk-toggleable__content {max-height: 0;max-width: 0;overflow: hidden;text-align: left;background-color: #f0f8ff;}#sk-container-id-3 div.sk-toggleable__content pre {margin: 0.2em;color: black;border-radius: 0.25em;background-color: #f0f8ff;}#sk-container-id-3 input.sk-toggleable__control:checked~div.sk-toggleable__content {max-height: 200px;max-width: 100%;overflow: auto;}#sk-container-id-3 input.sk-toggleable__control:checked~label.sk-toggleable__label-arrow:before {content: \"▾\";}#sk-container-id-3 div.sk-estimator input.sk-toggleable__control:checked~label.sk-toggleable__label {background-color: #d4ebff;}#sk-container-id-3 div.sk-label input.sk-toggleable__control:checked~label.sk-toggleable__label {background-color: #d4ebff;}#sk-container-id-3 input.sk-hidden--visually {border: 0;clip: rect(1px 1px 1px 1px);clip: rect(1px, 1px, 1px, 1px);height: 1px;margin: -1px;overflow: hidden;padding: 0;position: absolute;width: 1px;}#sk-container-id-3 div.sk-estimator {font-family: monospace;background-color: #f0f8ff;border: 1px dotted black;border-radius: 0.25em;box-sizing: border-box;margin-bottom: 0.5em;}#sk-container-id-3 div.sk-estimator:hover {background-color: #d4ebff;}#sk-container-id-3 div.sk-parallel-item::after {content: \"\";width: 100%;border-bottom: 1px solid gray;flex-grow: 1;}#sk-container-id-3 div.sk-label:hover label.sk-toggleable__label {background-color: #d4ebff;}#sk-container-id-3 div.sk-serial::before {content: \"\";position: absolute;border-left: 1px solid gray;box-sizing: border-box;top: 0;bottom: 0;left: 50%;z-index: 0;}#sk-container-id-3 div.sk-serial {display: flex;flex-direction: column;align-items: center;background-color: white;padding-right: 0.2em;padding-left: 0.2em;position: relative;}#sk-container-id-3 div.sk-item {position: relative;z-index: 1;}#sk-container-id-3 div.sk-parallel {display: flex;align-items: stretch;justify-content: center;background-color: white;position: relative;}#sk-container-id-3 div.sk-item::before, #sk-container-id-3 div.sk-parallel-item::before {content: \"\";position: absolute;border-left: 1px solid gray;box-sizing: border-box;top: 0;bottom: 0;left: 50%;z-index: -1;}#sk-container-id-3 div.sk-parallel-item {display: flex;flex-direction: column;z-index: 1;position: relative;background-color: white;}#sk-container-id-3 div.sk-parallel-item:first-child::after {align-self: flex-end;width: 50%;}#sk-container-id-3 div.sk-parallel-item:last-child::after {align-self: flex-start;width: 50%;}#sk-container-id-3 div.sk-parallel-item:only-child::after {width: 0;}#sk-container-id-3 div.sk-dashed-wrapped {border: 1px dashed gray;margin: 0 0.4em 0.5em 0.4em;box-sizing: border-box;padding-bottom: 0.4em;background-color: white;}#sk-container-id-3 div.sk-label label {font-family: monospace;font-weight: bold;display: inline-block;line-height: 1.2em;}#sk-container-id-3 div.sk-label-container {text-align: center;}#sk-container-id-3 div.sk-container {/* jupyter's `normalize.less` sets `[hidden] { display: none; }` but bootstrap.min.css set `[hidden] { display: none !important; }` so we also need the `!important` here to be able to override the default hidden behavior on the sphinx rendered scikit-learn.org. See: https://github.com/scikit-learn/scikit-learn/issues/21755 */display: inline-block !important;position: relative;}#sk-container-id-3 div.sk-text-repr-fallback {display: none;}</style><div id=\"sk-container-id-3\" class=\"sk-top-container\"><div class=\"sk-text-repr-fallback\"><pre>OneHotEncoder()</pre><b>In a Jupyter environment, please rerun this cell to show the HTML representation or trust the notebook. <br />On GitHub, the HTML representation is unable to render, please try loading this page with nbviewer.org.</b></div><div class=\"sk-container\" hidden><div class=\"sk-item\"><div class=\"sk-estimator sk-toggleable\"><input class=\"sk-toggleable__control sk-hidden--visually\" id=\"sk-estimator-id-3\" type=\"checkbox\" checked><label for=\"sk-estimator-id-3\" class=\"sk-toggleable__label sk-toggleable__label-arrow\">OneHotEncoder</label><div class=\"sk-toggleable__content\"><pre>OneHotEncoder()</pre></div></div></div></div></div>"
      ],
      "text/plain": [
       "OneHotEncoder()"
      ]
     },
     "execution_count": 225,
     "metadata": {},
     "output_type": "execute_result"
    }
   ],
   "source": [
    "ohe.fit(train) # 범주형 변수 -> 이항변"
   ]
  },
  {
   "cell_type": "code",
   "execution_count": 226,
   "metadata": {},
   "outputs": [
    {
     "data": {
      "text/plain": [
       "[array([0, 1]), array([0, 1, 2]), array([0, 1, 2, 3, 4])]"
      ]
     },
     "execution_count": 226,
     "metadata": {},
     "output_type": "execute_result"
    }
   ],
   "source": [
    "ohe.categories_ # 내용 확인"
   ]
  },
  {
   "cell_type": "code",
   "execution_count": 228,
   "metadata": {},
   "outputs": [
    {
     "data": {
      "text/plain": [
       "3"
      ]
     },
     "execution_count": 228,
     "metadata": {},
     "output_type": "execute_result"
    }
   ],
   "source": [
    "ohe.n_features_in_ # 3개의 피처들"
   ]
  },
  {
   "cell_type": "code",
   "execution_count": 234,
   "metadata": {},
   "outputs": [
    {
     "data": {
      "text/plain": [
       "array([[1., 0., 1., 0., 0., 1., 0., 0., 0., 0.],\n",
       "       [1., 0., 0., 1., 0., 0., 1., 0., 0., 0.],\n",
       "       [1., 0., 0., 0., 1., 0., 0., 1., 0., 0.],\n",
       "       [0., 1., 1., 0., 0., 0., 0., 0., 1., 0.],\n",
       "       [0., 1., 0., 1., 0., 0., 0., 0., 0., 1.]])"
      ]
     },
     "execution_count": 234,
     "metadata": {},
     "output_type": "execute_result"
    }
   ],
   "source": [
    "ohe.transform(train).toarray() # 원핫인코딩의 결과 확인"
   ]
  },
  {
   "cell_type": "code",
   "execution_count": 236,
   "metadata": {},
   "outputs": [],
   "source": [
    "# 다음주 오전은 캐글"
   ]
  },
  {
   "cell_type": "code",
   "execution_count": null,
   "metadata": {},
   "outputs": [],
   "source": [
    "# 2~3시간을 들여 등수를 매기는 작업을 할 것임\n",
    "# 화수목금은 머신러닝을 하며 등수를 계속 올리는 작업할 것임\n",
    "# 캐글에서 등수가 높으면 기업에서 연락이 오기도 함\n",
    "# active competition에서 순위에 들면 좋음"
   ]
  },
  {
   "cell_type": "markdown",
   "metadata": {},
   "source": [
    "https://www.tableau.com/ko-kr/products/tableau#content-551774\n",
    "태블로 데모 영상"
   ]
  }
 ],
 "metadata": {
  "kernelspec": {
   "display_name": "Python 3",
   "language": "python",
   "name": "python3"
  },
  "language_info": {
   "codemirror_mode": {
    "name": "ipython",
    "version": 3
   },
   "file_extension": ".py",
   "mimetype": "text/x-python",
   "name": "python",
   "nbconvert_exporter": "python",
   "pygments_lexer": "ipython3",
   "version": "3.10.9"
  }
 },
 "nbformat": 4,
 "nbformat_minor": 2
}
