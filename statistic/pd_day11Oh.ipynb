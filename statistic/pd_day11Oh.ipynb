{
 "cells": [
  {
   "cell_type": "code",
   "execution_count": 1,
   "id": "379f39e2-7c02-47b1-895b-3b616637330b",
   "metadata": {},
   "outputs": [],
   "source": [
    "import pandas as pd\n",
    "import numpy as np\n",
    "import matplotlib.pyplot as plt\n",
    "import seaborn as sns"
   ]
  },
  {
   "cell_type": "code",
   "execution_count": 2,
   "id": "863eab5d-ffaf-4b59-970e-ac0853015a5b",
   "metadata": {},
   "outputs": [],
   "source": [
    "blood = ['A', 'A', 'A', 'B', 'B', 'AB', 'O']"
   ]
  },
  {
   "cell_type": "code",
   "execution_count": 4,
   "id": "d75efb67-3753-4dc9-a254-63747303ed7f",
   "metadata": {},
   "outputs": [
    {
     "data": {
      "text/plain": [
       "(array(['A', 'AB', 'B', 'O'], dtype='<U2'), array([3, 1, 2, 1], dtype=int64))"
      ]
     },
     "execution_count": 4,
     "metadata": {},
     "output_type": "execute_result"
    }
   ],
   "source": [
    "np.unique(blood)\n",
    "np.unique(blood, return_counts=True)"
   ]
  },
  {
   "cell_type": "code",
   "execution_count": 6,
   "id": "512b3056-ce5b-41a7-8163-97ba26d4fc62",
   "metadata": {},
   "outputs": [
    {
     "name": "stderr",
     "output_type": "stream",
     "text": [
      "C:\\Users\\OH\\AppData\\Local\\Temp\\ipykernel_24124\\3281061454.py:1: FutureWarning: pandas.value_counts is deprecated and will be removed in a future version. Use pd.Series(obj).value_counts() instead.\n",
      "  pd.value_counts(blood)\n",
      "C:\\Users\\OH\\AppData\\Local\\Temp\\ipykernel_24124\\3281061454.py:1: FutureWarning: value_counts with argument that is not not a Series, Index, ExtensionArray, or np.ndarray is deprecated and will raise in a future version.\n",
      "  pd.value_counts(blood)\n"
     ]
    },
    {
     "data": {
      "text/plain": [
       "A     3\n",
       "B     2\n",
       "AB    1\n",
       "O     1\n",
       "Name: count, dtype: int64"
      ]
     },
     "execution_count": 6,
     "metadata": {},
     "output_type": "execute_result"
    }
   ],
   "source": [
    "pd.value_counts(blood)"
   ]
  },
  {
   "cell_type": "code",
   "execution_count": 10,
   "id": "0824b12c-a44c-46cc-95b5-8fc525627105",
   "metadata": {},
   "outputs": [
    {
     "name": "stderr",
     "output_type": "stream",
     "text": [
      "C:\\Users\\Oh\\anaconda3\\Lib\\site-packages\\seaborn\\_oldcore.py:1765: FutureWarning: unique with argument that is not not a Series, Index, ExtensionArray, or np.ndarray is deprecated and will raise in a future version.\n",
      "  order = pd.unique(vector)\n"
     ]
    },
    {
     "data": {
      "text/plain": [
       "<Axes: ylabel='count'>"
      ]
     },
     "execution_count": 10,
     "metadata": {},
     "output_type": "execute_result"
    },
    {
     "data": {
      "image/png": "[encoded data removed]",
      "text/plain": [
       "<Figure size 640x480 with 1 Axes>"
      ]
     },
     "metadata": {},
     "output_type": "display_data"
    }
   ],
   "source": [
    "sns.countplot(x=blood)"
   ]
  },
  {
   "cell_type": "code",
   "execution_count": 8,
   "id": "c4f09bf5-f6b9-4551-a72d-a31db83ab849",
   "metadata": {},
   "outputs": [],
   "source": [
    "x = [1, 1, 1, 2, 3, 5, 5, 7, 8, 9]"
   ]
  },
  {
   "cell_type": "code",
   "execution_count": 12,
   "id": "79756bb9-59ed-4af2-bd89-a3c5e26d1120",
   "metadata": {},
   "outputs": [],
   "source": [
    "hist,edge=np.histogram(x, 4)"
   ]
  },
  {
   "cell_type": "code",
   "execution_count": 13,
   "id": "3aa815be-6858-49eb-a657-ae5ae1ec0dd8",
   "metadata": {},
   "outputs": [
    {
     "data": {
      "text/plain": [
       "array([4, 1, 2, 3], dtype=int64)"
      ]
     },
     "execution_count": 13,
     "metadata": {},
     "output_type": "execute_result"
    }
   ],
   "source": [
    "hist"
   ]
  },
  {
   "cell_type": "code",
   "execution_count": 14,
   "id": "4ab78c71-32d4-4666-b766-b1691a9bfc19",
   "metadata": {},
   "outputs": [
    {
     "data": {
      "text/plain": [
       "array([1., 3., 5., 7., 9.])"
      ]
     },
     "execution_count": 14,
     "metadata": {},
     "output_type": "execute_result"
    }
   ],
   "source": [
    "edge"
   ]
  },
  {
   "cell_type": "code",
   "execution_count": 15,
   "id": "912ddc74-582c-473d-a7d7-c8a1629a0706",
   "metadata": {},
   "outputs": [],
   "source": [
    "x = [100, 100, 200, 400, 500]"
   ]
  },
  {
   "cell_type": "code",
   "execution_count": 16,
   "id": "8b03f50b-928c-489e-bc51-b54301c9fe36",
   "metadata": {},
   "outputs": [
    {
     "data": {
      "text/plain": [
       "260.0"
      ]
     },
     "execution_count": 16,
     "metadata": {},
     "output_type": "execute_result"
    }
   ],
   "source": [
    "np.mean(x)"
   ]
  },
  {
   "cell_type": "code",
   "execution_count": 17,
   "id": "471b6b6f-78bc-4ae8-a6b6-c8454e42f5bc",
   "metadata": {},
   "outputs": [
    {
     "data": {
      "text/plain": [
       "200.0"
      ]
     },
     "execution_count": 17,
     "metadata": {},
     "output_type": "execute_result"
    }
   ],
   "source": [
    "np.median(x)"
   ]
  },
  {
   "cell_type": "code",
   "execution_count": 18,
   "id": "25e4e1d3-7ecf-4e42-89b6-c30557aca180",
   "metadata": {},
   "outputs": [],
   "source": [
    "from scipy.stats import mode"
   ]
  },
  {
   "cell_type": "code",
   "execution_count": 19,
   "id": "b3500fa4-bb4a-4f8c-bd89-40c0513b9629",
   "metadata": {},
   "outputs": [],
   "source": [
    "x = [1, 1, 2, 3, 3, 3, 4, 5, 5, 7]"
   ]
  },
  {
   "cell_type": "code",
   "execution_count": 21,
   "id": "4d50e15b-97f3-40cf-8366-3e58b4b14cc2",
   "metadata": {},
   "outputs": [
    {
     "data": {
      "text/plain": [
       "ModeResult(mode=3, count=3)"
      ]
     },
     "execution_count": 21,
     "metadata": {},
     "output_type": "execute_result"
    }
   ],
   "source": [
    "mode(x)"
   ]
  },
  {
   "cell_type": "code",
   "execution_count": 20,
   "id": "a1d9d90a-11b8-464a-8fa9-42d43a8920e0",
   "metadata": {},
   "outputs": [
    {
     "data": {
      "text/plain": [
       "6"
      ]
     },
     "execution_count": 20,
     "metadata": {},
     "output_type": "execute_result"
    }
   ],
   "source": [
    "np.min(x)\n",
    "np.max(x)\n",
    "np.max(x)-np.min(x)"
   ]
  },
  {
   "cell_type": "code",
   "execution_count": 22,
   "id": "67244e82-f03e-43ae-a37f-e33dea64c9c5",
   "metadata": {},
   "outputs": [
    {
     "data": {
      "text/plain": [
       "3.2399999999999998"
      ]
     },
     "execution_count": 22,
     "metadata": {},
     "output_type": "execute_result"
    }
   ],
   "source": [
    "np.var(x)"
   ]
  },
  {
   "cell_type": "code",
   "execution_count": 23,
   "id": "3661174a-8eda-45aa-a12c-478531d5fd7e",
   "metadata": {},
   "outputs": [
    {
     "data": {
      "text/plain": [
       "3.4"
      ]
     },
     "execution_count": 23,
     "metadata": {},
     "output_type": "execute_result"
    }
   ],
   "source": [
    "np.mean(x)"
   ]
  },
  {
   "cell_type": "code",
   "execution_count": 30,
   "id": "72d83449-f467-44f5-89e4-8d3c6317d937",
   "metadata": {},
   "outputs": [
    {
     "data": {
      "text/plain": [
       "3.2399999999999998"
      ]
     },
     "execution_count": 30,
     "metadata": {},
     "output_type": "execute_result"
    }
   ],
   "source": [
    "s=0\n",
    "for i in x:\n",
    "    s+=(i-np.mean(x))**2\n",
    "s/len(x)"
   ]
  },
  {
   "cell_type": "code",
   "execution_count": 29,
   "id": "69598130-1cba-4cb8-a320-501d73914f04",
   "metadata": {},
   "outputs": [
    {
     "data": {
      "text/plain": [
       "3.2399999999999998"
      ]
     },
     "execution_count": 29,
     "metadata": {},
     "output_type": "execute_result"
    }
   ],
   "source": [
    "summation = 0\n",
    "for n in x:\n",
    "    summation+=(n-np.mean(x))**2\n",
    "summation/len(x)"
   ]
  },
  {
   "cell_type": "code",
   "execution_count": 31,
   "id": "b56e5ce7-2600-4119-b269-99dea2b6f5e3",
   "metadata": {},
   "outputs": [],
   "source": [
    "x = [8, 3, 6, 6, 9, 4, 3, 9, 3, 4]\n",
    "y = [6, 2, 4, 6, 10, 5, 1, 8, 4, 5]"
   ]
  },
  {
   "cell_type": "code",
   "execution_count": 32,
   "id": "ff873674-9474-463d-ad3a-d21c10bcafc4",
   "metadata": {},
   "outputs": [
    {
     "data": {
      "text/plain": [
       "[<matplotlib.lines.Line2D at 0x21728887410>]"
      ]
     },
     "execution_count": 32,
     "metadata": {},
     "output_type": "execute_result"
    },
    {
     "data": {
      "image/png": "[encoded data removed]",
      "text/plain": [
       "<Figure size 640x480 with 1 Axes>"
      ]
     },
     "metadata": {},
     "output_type": "display_data"
    }
   ],
   "source": [
    "plt.plot(x,y,'o')"
   ]
  },
  {
   "cell_type": "code",
   "execution_count": 33,
   "id": "885ee271-b44c-4a09-b9c3-78eaf51581c0",
   "metadata": {},
   "outputs": [
    {
     "data": {
      "text/plain": [
       "array([[6.05555556, 5.61111111],\n",
       "       [5.61111111, 6.98888889]])"
      ]
     },
     "execution_count": 33,
     "metadata": {},
     "output_type": "execute_result"
    }
   ],
   "source": [
    "np.cov(x,y)"
   ]
  },
  {
   "cell_type": "code",
   "execution_count": 34,
   "id": "a0587202-77c0-4ee3-b1e9-4e1657e45ccc",
   "metadata": {},
   "outputs": [
    {
     "data": {
      "text/plain": [
       "5.611111111111111"
      ]
     },
     "execution_count": 34,
     "metadata": {},
     "output_type": "execute_result"
    }
   ],
   "source": [
    "np.cov(x,y)[0,1]"
   ]
  },
  {
   "cell_type": "code",
   "execution_count": 35,
   "id": "616b9373-5462-4956-bac4-516aae0ba611",
   "metadata": {},
   "outputs": [],
   "source": [
    "z = [-3, -2, -1, 0, 1, 2, 3]\n",
    "w = [9, 4, 1, 0, 1, 4, 9]"
   ]
  },
  {
   "cell_type": "code",
   "execution_count": 36,
   "id": "2ec67373-ad9d-46cf-a5d1-80748df7b044",
   "metadata": {},
   "outputs": [
    {
     "data": {
      "text/plain": [
       "[<matplotlib.lines.Line2D at 0x2172a6175d0>]"
      ]
     },
     "execution_count": 36,
     "metadata": {},
     "output_type": "execute_result"
    },
    {
     "data": {
      "image/png": "[encoded data removed]",
      "text/plain": [
       "<Figure size 640x480 with 1 Axes>"
      ]
     },
     "metadata": {},
     "output_type": "display_data"
    }
   ],
   "source": [
    "plt.plot(z,w,'o')"
   ]
  },
  {
   "cell_type": "code",
   "execution_count": 39,
   "id": "85f45bdc-8e94-4d99-8a32-f61b61e72d8f",
   "metadata": {},
   "outputs": [
    {
     "data": {
      "text/plain": [
       "0.862517279213578"
      ]
     },
     "execution_count": 39,
     "metadata": {},
     "output_type": "execute_result"
    }
   ],
   "source": [
    "np.corrcoef(x,y)[0,1] #상관계수"
   ]
  },
  {
   "cell_type": "code",
   "execution_count": 40,
   "id": "d21d009e-f820-4f61-b64b-b1ae6614db76",
   "metadata": {},
   "outputs": [],
   "source": [
    "np.cov(x,y)[0,1]\n",
    "xsd=np.std(x,ddof=1)\n",
    "ysd=np.std(y,ddof=1)"
   ]
  },
  {
   "cell_type": "code",
   "execution_count": 43,
   "id": "8a0cde89-c769-44b9-acef-79e81357a331",
   "metadata": {},
   "outputs": [
    {
     "data": {
      "text/plain": [
       "0.8625172792135779"
      ]
     },
     "execution_count": 43,
     "metadata": {},
     "output_type": "execute_result"
    }
   ],
   "source": [
    "np.cov(x,y)[0,1]/(xsd*ysd)"
   ]
  },
  {
   "cell_type": "code",
   "execution_count": 50,
   "id": "b94cced0-b04f-453a-8fa9-37ae6aaa7374",
   "metadata": {
    "scrolled": true
   },
   "outputs": [
    {
     "ename": "NameError",
     "evalue": "name 'df' is not defined",
     "output_type": "error",
     "traceback": [
      "\u001b[1;31m---------------------------------------------------------------------------\u001b[0m",
      "\u001b[1;31mNameError\u001b[0m                                 Traceback (most recent call last)",
      "Cell \u001b[1;32mIn[50], line 2\u001b[0m\n\u001b[0;32m      1\u001b[0m pd\u001b[38;5;241m.\u001b[39mread_csv(\u001b[38;5;124m'\u001b[39m\u001b[38;5;124mwdbc.data\u001b[39m\u001b[38;5;124m'\u001b[39m, header\u001b[38;5;241m=\u001b[39m\u001b[38;5;28;01mNone\u001b[39;00m)\n\u001b[1;32m----> 2\u001b[0m df\u001b[38;5;241m.\u001b[39mcolumns \u001b[38;5;241m=\u001b[39m [\u001b[38;5;124m'\u001b[39m\u001b[38;5;124mradius\u001b[39m\u001b[38;5;124m'\u001b[39m, \u001b[38;5;124m'\u001b[39m\u001b[38;5;124mtexture\u001b[39m\u001b[38;5;124m'\u001b[39m, \u001b[38;5;124m'\u001b[39m\u001b[38;5;124mperimeter\u001b[39m\u001b[38;5;124m'\u001b[39m,\u001b[38;5;124m'\u001b[39m\u001b[38;5;124marea\u001b[39m\u001b[38;5;124m'\u001b[39m, \u001b[38;5;124m'\u001b[39m\u001b[38;5;124msmoothness\u001b[39m\u001b[38;5;124m'\u001b[39m,\u001b[38;5;124m'\u001b[39m\u001b[38;5;124mcompactness\u001b[39m\u001b[38;5;124m'\u001b[39m,\u001b[38;5;124m'\u001b[39m\u001b[38;5;124mconcavity\u001b[39m\u001b[38;5;124m'\u001b[39m,\u001b[38;5;124m'\u001b[39m\u001b[38;5;124mconcave_points\u001b[39m\u001b[38;5;124m'\u001b[39m,\u001b[38;5;124m'\u001b[39m\u001b[38;5;124msymmetry\u001b[39m\u001b[38;5;124m'\u001b[39m,\u001b[38;5;124m'\u001b[39m\u001b[38;5;124mfractal_dimension\u001b[39m\u001b[38;5;124m'\u001b[39m]\n\u001b[0;32m      3\u001b[0m df\u001b[38;5;241m.\u001b[39mhead()\n",
      "\u001b[1;31mNameError\u001b[0m: name 'df' is not defined"
     ]
    }
   ],
   "source": [
    "pd.read_csv('wdbc.data', header=None)\n",
    "df.columns = ['radius', 'texture', 'perimeter','area', 'smoothness','compactness','concavity','concave_points','symmetry','fractal_dimension']\n",
    "df.head()"
   ]
  },
  {
   "cell_type": "code",
   "execution_count": null,
   "id": "51677ee2-b064-46f3-9e11-8fbf8a61082a",
   "metadata": {},
   "outputs": [],
   "source": []
  }
 ],
 "metadata": {
  "kernelspec": {
   "display_name": "Python 3 (ipykernel)",
   "language": "python",
   "name": "python3"
  },
  "language_info": {
   "codemirror_mode": {
    "name": "ipython",
    "version": 3
   },
   "file_extension": ".py",
   "mimetype": "text/x-python",
   "name": "python",
   "nbconvert_exporter": "python",
   "pygments_lexer": "ipython3",
   "version": "3.11.7"
  }
 },
 "nbformat": 4,
 "nbformat_minor": 5
}
