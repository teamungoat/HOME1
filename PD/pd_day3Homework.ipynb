{
 "cells": [
  {
   "cell_type": "code",
   "execution_count": null,
   "id": "7096c45c-e910-4f01-b8a0-f4a3908c0f4c",
   "metadata": {},
   "outputs": [],
   "source": [
    "import pandas as pd\n",
    "import numpy as np"
   ]
  },
  {
   "cell_type": "code",
   "execution_count": null,
   "id": "5678e562-b8d4-472d-aac9-0637c01887b5",
   "metadata": {},
   "outputs": [],
   "source": [
    "df=pd.read_csv(\"gapminder.tsv\",sep=\"\\t\")\n",
    "df"
   ]
  },
  {
   "cell_type": "code",
   "execution_count": null,
   "id": "286837d5-db5f-45a5-87e3-33e0b8479f63",
   "metadata": {},
   "outputs": [],
   "source": [
    "# 1) iloc 속성으로 행 데이터 추출하기\n",
    "df.iloc[1]\n",
    "df.iloc[-1]\n",
    "df.iloc[-1,1]\n",
    "df.iloc[-1][2]\n",
    "df.iloc[0:10]\n",
    "df.iloc[:,1:4]"
   ]
  },
  {
   "cell_type": "code",
   "execution_count": null,
   "id": "a2d4c708-509f-43cb-9123-7cf56d594042",
   "metadata": {},
   "outputs": [],
   "source": [
    "# 2) loc 속성으로 행 단위 데이터 추출하기\n",
    "df.loc[3]\n",
    "df.loc[3:5]\n",
    "df.loc[:][df['continent']=='Asia']\n",
    "df.loc[:,'continent']\n",
    "df.loc[:,['pop','year','continent']]\n",
    "df.loc[df['year']>1960]\n"
   ]
  },
  {
   "cell_type": "code",
   "execution_count": null,
   "id": "09143f7d-44c5-4abb-8808-2fea40c07d0a",
   "metadata": {},
   "outputs": [],
   "source": [
    "# 3) 열 단위로 데이터 추출하기\n",
    "df['country']\n",
    "df[:][['country','year']]"
   ]
  },
  {
   "cell_type": "code",
   "execution_count": null,
   "id": "7db30ccc-2f9a-4067-8ac9-4040d090e171",
   "metadata": {},
   "outputs": [],
   "source": [
    "# 4) 'year', 'pop' 데이터 추출하기\n",
    "df[['year','pop']]"
   ]
  },
  {
   "cell_type": "code",
   "execution_count": null,
   "id": "188b979e-ffba-456b-b6d3-275c7be4bd67",
   "metadata": {},
   "outputs": [],
   "source": [
    "# 5) country continent  year 데이터 추출하기\n",
    "df[['country','continent','year']]\n",
    "df[:][['country','continent','year']]"
   ]
  },
  {
   "cell_type": "code",
   "execution_count": null,
   "id": "5a4ad3cf-91ca-4ace-a8cc-84c653ec6d7d",
   "metadata": {},
   "outputs": [],
   "source": [
    "# 6) country  year       pop 데이터 추출하기\n",
    "df[['country','year','pop']]"
   ]
  },
  {
   "cell_type": "code",
   "execution_count": null,
   "id": "2cd26662-8674-45a5-929e-a6c2820e258e",
   "metadata": {},
   "outputs": [],
   "source": [
    "# 7) loc, iloc 속성 자유자재로 사용하기\n",
    "df.iloc[[0,99,999]][['country','year','gdpPercap']]\n",
    "df.loc[[0,99,999],['country','year','gdpPercap']]\n",
    "df[['country', 'lifeExp', 'gdpPercap']].loc[[0,99,999]]\n",
    "df[['country', 'lifeExp', 'gdpPercap']].iloc[10:14]"
   ]
  },
  {
   "cell_type": "code",
   "execution_count": null,
   "id": "7831a63c-8aa8-4fb7-b8fa-faaf607ca696",
   "metadata": {},
   "outputs": [],
   "source": [
    "# 2. 행과 열에 라벨을 가지는 5 x 5 이상의 크기를 가지는 데이터프레임을 만든다.\n",
    "# - 10가지 이상의 방법으로 특정한 행과 열을 선택한다.\n",
    "\n",
    "fr=pd.DataFrame({'바나나':[300,400,500,600,700],\n",
    "                 '사과':[800,900,1000,1100,1200],\n",
    "                 '청포도':[1300,1400,1500,1600,1700],\n",
    "                 '참외':[2000,2100,2200,2300,2400],\n",
    "                 '멜론':[10000,11000,12000,9000,6000]},\n",
    "                index=['1월','2월','3월','4월','5월'])\n",
    "fr\n",
    "            \n",
    "\n",
    "# 1) 콜론의 합\n",
    "def hap(x):\n",
    "    return x.max()\n",
    "hap(fr)\n",
    "\n",
    "# 2) 정렬\n",
    "fr.sort_index()\n",
    "fr.sort_index(axis='columns',ascending=False)\n",
    "fr.sort_values('멜론')\n",
    "\n",
    "# 3) 랭크\n",
    "fr.rank(method='first')\n",
    "fr.rank(axis=1)\n",
    "\n",
    "# 4) 데이타 인포\n",
    "fr.info()\n",
    "\n",
    "# 5) describe\n",
    "fr.describe()\n",
    "\n",
    "# 6) 데이터 추가\n",
    "fr['수박']=np.nan\n",
    "fr\n",
    "\n",
    "# 7)데이터 삭제\n",
    "# fr.drop(['수박'],axis=1,inplace=True)\n",
    "fr\n",
    "\n",
    "# 7) 상승률\n",
    "def growth_rate(df):\n",
    "    growth_rate_df = df.pct_change() * 100\n",
    "    return growth_rate_df\n",
    "growth_rate(fr)\n",
    "gr=growth_rate(fr)\n",
    "gr\n",
    "\n",
    "# 8) NaN 없애기\n",
    "gr.fillna('없음')\n",
    "\n",
    "# 9) 사과와 청포도의 상승률 추출\n",
    "gr.loc[:][['청포도','사과']]\n",
    "\n",
    "# 10) 청포도,사과 상승률 중 3,4월 추출\n",
    "gr.loc[['3월','4월'],['청포도','사과']]"
   ]
  },
  {
   "cell_type": "code",
   "execution_count": null,
   "id": "0e6481bc-99d8-4cf4-83d5-6e644d4b3d87",
   "metadata": {},
   "outputs": [],
   "source": []
  }
 ],
 "metadata": {
  "kernelspec": {
   "display_name": "Python 3 (ipykernel)",
   "language": "python",
   "name": "python3"
  },
  "language_info": {
   "codemirror_mode": {
    "name": "ipython",
    "version": 3
   },
   "file_extension": ".py",
   "mimetype": "text/x-python",
   "name": "python",
   "nbconvert_exporter": "python",
   "pygments_lexer": "ipython3",
   "version": "3.11.7"
  }
 },
 "nbformat": 4,
 "nbformat_minor": 5
}
