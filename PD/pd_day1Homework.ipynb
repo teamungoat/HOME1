{
 "cells": [
  {
   "cell_type": "code",
   "execution_count": 4,
   "id": "81b1d6d6-a888-48bd-946f-28ab083495d0",
   "metadata": {},
   "outputs": [
    {
     "data": {
      "text/plain": [
       "array([1, 0, 1, 0, 1, 0, 1, 1, 0, 0, 1, 0, 0, 0, 1, 1, 0, 0, 1, 1])"
      ]
     },
     "execution_count": 4,
     "metadata": {},
     "output_type": "execute_result"
    }
   ],
   "source": [
    "# 1. 동전을 20번 던져 앞면(숫자 1)과 뒷면(숫자 0)이 나오는 실험을 파이썬으로 작성하여 출력해보자(numpy)\n",
    "import numpy as np\n",
    "result = np.random.choice([0,1],size=20)\n",
    "result"
   ]
  },
  {
   "cell_type": "code",
   "execution_count": 6,
   "id": "ec44a377-4fc7-4b3d-bd5f-9f105ee8261d",
   "metadata": {},
   "outputs": [
    {
     "data": {
      "text/plain": [
       "3.9682"
      ]
     },
     "execution_count": 6,
     "metadata": {},
     "output_type": "execute_result"
    }
   ],
   "source": [
    "# 2. 주사위를 10000번 던져서 나오는 숫자의 평균을 구하라.(numpy)\n",
    "dice_result = np.random.choice([1,7], size=10000)\n",
    "np.mean(dice_result)"
   ]
  },
  {
   "cell_type": "code",
   "execution_count": 12,
   "id": "34243ac6-b3de-443d-b0e2-d795d47bd999",
   "metadata": {},
   "outputs": [
    {
     "data": {
      "text/plain": [
       "-1.8481194237369423"
      ]
     },
     "execution_count": 12,
     "metadata": {},
     "output_type": "execute_result"
    }
   ],
   "source": [
    "# 3. 난수로 이루어진 4 x 5 형태의 데이터 행렬을 만들고 이 데이터에 대해 다음과 같은 값을 구한다.(numpy)\n",
    "nansu=np.random.standard_normal((4,5))\n",
    "nansu.max()\n",
    "nansu.sum()\n",
    "nansu.mean()\n",
    "nansu.min()"
   ]
  },
  {
   "cell_type": "code",
   "execution_count": 16,
   "id": "41985423-189a-4cba-bb06-1efd96f2988d",
   "metadata": {},
   "outputs": [
    {
     "data": {
      "text/plain": [
       "서울    1000\n",
       "부산     300\n",
       "인천     200\n",
       "광주     100\n",
       "dtype: int64"
      ]
     },
     "execution_count": 16,
     "metadata": {},
     "output_type": "execute_result"
    }
   ],
   "source": [
    "# 4.  다음 데이터를 시리즈 구조로 정의하고 '광주' 도시의 인구를 참조하시오\n",
    "import pandas as pd\n",
    "pd.Series([1000,300,200,100], index = ['서울','부산','인천','광주'])"
   ]
  },
  {
   "cell_type": "code",
   "execution_count": 19,
   "id": "d861997f-700a-4195-8df0-fc9a96336570",
   "metadata": {},
   "outputs": [
    {
     "data": {
      "text/plain": [
       "가    10\n",
       "나    20\n",
       "다    30\n",
       "라    40\n",
       "마    50\n",
       "dtype: int64"
      ]
     },
     "execution_count": 19,
     "metadata": {},
     "output_type": "execute_result"
    }
   ],
   "source": [
    "# 5. 다음의 Series를 생성하고 sample 변수에 대입하고 출력하세요\n",
    "sample=pd.Series([10,20,30,40,50], index = ['가','나','다','라','마'], dtype='int64')\n",
    "sample"
   ]
  },
  {
   "cell_type": "code",
   "execution_count": 26,
   "id": "f222b16d-a489-49d7-8d2f-e0ad0c6a2ba2",
   "metadata": {},
   "outputs": [
    {
     "data": {
      "text/plain": [
       "라    40\n",
       "마    50\n",
       "dtype: int64"
      ]
     },
     "execution_count": 26,
     "metadata": {},
     "output_type": "execute_result"
    }
   ],
   "source": [
    "# 6. sample중 '나'와 '라' 데이터를 조회하세요\n",
    "sample[3:5]\n",
    "sample.iloc[[3,4]]\n",
    "sample[['라','마']]"
   ]
  },
  {
   "cell_type": "code",
   "execution_count": 27,
   "id": "b129010c-1ad4-4ac1-8c37-47aabb33b480",
   "metadata": {},
   "outputs": [
    {
     "data": {
      "text/plain": [
       "0     199\n",
       "1     190\n",
       "2     115\n",
       "3     195\n",
       "4     128\n",
       "5     190\n",
       "6     109\n",
       "7     120\n",
       "8     175\n",
       "9     122\n",
       "10    171\n",
       "11    134\n",
       "12    196\n",
       "13    140\n",
       "14    185\n",
       "dtype: int32"
      ]
     },
     "execution_count": 27,
     "metadata": {},
     "output_type": "execute_result"
    }
   ],
   "source": [
    "np.random.seed(20)\n",
    "sample2 = pd.Series(np.random.randint(100, 200, size=(15,)))\n",
    "sample2"
   ]
  },
  {
   "cell_type": "code",
   "execution_count": 28,
   "id": "9a29b537-fe85-4c80-97e3-11373ae3b5b5",
   "metadata": {},
   "outputs": [
    {
     "data": {
      "text/plain": [
       "2     115\n",
       "4     128\n",
       "6     109\n",
       "7     120\n",
       "9     122\n",
       "11    134\n",
       "13    140\n",
       "dtype: int32"
      ]
     },
     "execution_count": 28,
     "metadata": {},
     "output_type": "execute_result"
    }
   ],
   "source": [
    "# 7. sample2 중 160 이하인 데이터만 필터하세요\n",
    "sample2[sample2<160]"
   ]
  },
  {
   "cell_type": "code",
   "execution_count": 32,
   "id": "fe81bdf0-c902-4c45-9eef-c65a021856d6",
   "metadata": {},
   "outputs": [
    {
     "data": {
      "text/plain": [
       "11    134\n",
       "13    140\n",
       "dtype: int32"
      ]
     },
     "execution_count": 32,
     "metadata": {},
     "output_type": "execute_result"
    }
   ],
   "source": [
    "# 8. sample2 중 130 이상 170 이하인 데이터만 필터하세요\n",
    "sample2[(sample2>=130) & (sample2<=170)]"
   ]
  },
  {
   "cell_type": "code",
   "execution_count": 37,
   "id": "99072f2d-3b12-4fe7-b806-1aef1879ac42",
   "metadata": {},
   "outputs": [
    {
     "data": {
      "text/plain": [
       "가     apple\n",
       "나       NaN\n",
       "다    banana\n",
       "라      kiwi\n",
       "마    gubong\n",
       "dtype: object"
      ]
     },
     "execution_count": 37,
     "metadata": {},
     "output_type": "execute_result"
    }
   ],
   "source": [
    "# 9.다음과 같은 Series를 생성해 주세요\n",
    "# [출력]\n",
    "# 가     apple\n",
    "# 나       NaN\n",
    "# 다    banana\n",
    "# 라      kiwi\n",
    "# 마    gubong\n",
    "# dtype: object\n",
    "pd.Series(['apple', 'NaN','banana','kiwi','gubong'], index=['가','나','다','라','마'])"
   ]
  },
  {
   "cell_type": "code",
   "execution_count": 46,
   "id": "1a5d0651-6bef-4f34-9e3f-e49cb0579c64",
   "metadata": {},
   "outputs": [
    {
     "data": {
      "text/plain": [
       "array([ 5,  9, 17, 20, 17, 11,  7, 10,  1, 13])"
      ]
     },
     "execution_count": 46,
     "metadata": {},
     "output_type": "execute_result"
    }
   ],
   "source": [
    "# 10. \n",
    "# - 숫자로 이루어진 리스트에서 사용자가 입력한 숫자를 검색하는 모듈을 다음 요건에 따라 만들어 보자\n",
    "# - 검색 모듈은 선형 검색 알고리즘을 이용하자\n",
    "# - 리스트는 1부터 20까지의 정수 중에서 난수 10개를 이용한다.\n",
    "# -검색에 성공하면 해당 정수의 인덱스를 출력하고, 검색 결과가 없다면 -1을 출력하자\n",
    "num_list = np.random.randint(1,21,size=10)\n",
    "num_list"
   ]
  },
  {
   "cell_type": "code",
   "execution_count": 52,
   "id": "6066d6f2-0cf5-4873-ae14-adfa9cb3f375",
   "metadata": {},
   "outputs": [
    {
     "name": "stdin",
     "output_type": "stream",
     "text": [
      "숫자를 입력하시오 6\n"
     ]
    },
    {
     "name": "stdout",
     "output_type": "stream",
     "text": [
      "-1\n"
     ]
    }
   ],
   "source": [
    "your_num=int(input('숫자를 입력하시오'))\n",
    "for i in range(len(num_list)):\n",
    "    if num_list[i]== your_num:\n",
    "        print(num_list[i])\n",
    "        break\n",
    "if your_num not in num_list:\n",
    "    print(-1)"
   ]
  },
  {
   "cell_type": "code",
   "execution_count": null,
   "id": "0c8af4ad-ab80-4a52-a6b3-cb54473f03c2",
   "metadata": {},
   "outputs": [],
   "source": []
  }
 ],
 "metadata": {
  "kernelspec": {
   "display_name": "Python 3 (ipykernel)",
   "language": "python",
   "name": "python3"
  },
  "language_info": {
   "codemirror_mode": {
    "name": "ipython",
    "version": 3
   },
   "file_extension": ".py",
   "mimetype": "text/x-python",
   "name": "python",
   "nbconvert_exporter": "python",
   "pygments_lexer": "ipython3",
   "version": "3.11.7"
  }
 },
 "nbformat": 4,
 "nbformat_minor": 5
}
