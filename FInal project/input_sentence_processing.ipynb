{
 "cells": [
  {
   "cell_type": "code",
   "execution_count": 82,
   "metadata": {},
   "outputs": [],
   "source": [
    "import re\n",
    "from konlpy.tag import Okt\n",
    "import spacy\n",
    "import pandas as pd\n",
    "okt = Okt()"
   ]
  },
  {
   "cell_type": "code",
   "execution_count": null,
   "metadata": {},
   "outputs": [],
   "source": []
  },
  {
   "cell_type": "code",
   "execution_count": 73,
   "metadata": {},
   "outputs": [],
   "source": [
    "recommend_stop_words = set(['은', '는', '이', '가', '하', '아', '것', '들','의', '있', '되', '수', '보', '주', '등', '한', '해주다', '과', '영화', '출연', '등장', '하다'])\n",
    "\n",
    "def preprocessing(review, okt, remove_stopwords = False, stop_words = []):\n",
    "    review_text = re.sub(\"[^가-힣ㄱ-ㅎㅏ-ㅣ\\\\sSFsf]\", \"\", review)\n",
    "    word_review = okt.morphs(review_text, stem=True)\n",
    "    if remove_stopwords:\n",
    "        word_review = [token for token in word_review if not token in stop_words]\n",
    "    return word_review"
   ]
  },
  {
   "cell_type": "code",
   "execution_count": 81,
   "metadata": {},
   "outputs": [
    {
     "name": "stdout",
     "output_type": "stream",
     "text": [
      "['유아인', '범죄', '추천']\n",
      "['오달수', '코미디', '추천']\n",
      "['마동석', '유아인', '액션', '추천']\n",
      "['로버트', '다우니', '주니어', 'sf', 'SF', '추천']\n",
      "['다크', '판타지', '추천']\n",
      "['베드', '엔딩', '추천']\n",
      "['마동석', '않다', '액션', '추천']\n",
      "['실화', '기반', '추천']\n"
     ]
    }
   ],
   "source": [
    "review1 = \"유아인이 등장하는 범죄 영화 추천해줘\"\n",
    "review2 = \"오달수가 등장하는 코미디 영화 추천해줘\"\n",
    "review3 = \"마동석과 유아인이 등장하는 액션 영화 추천해줘\"\n",
    "review4 = \"로버트 다우니 주니어가 등장하는 sf SF 영화 추천해줘\"\n",
    "review5 = \"다크 판타지 영화 추천해줘\"\n",
    "review6 = \"베드 엔딩 영화 추천해줘\"\n",
    "review7 = \"마동석이 등장하지 않는 액션 영화 추천해줘\"\n",
    "review8 = \"실화 기반 영화 추천해줘\"\n",
    "\n",
    "print(preprocessing(review1, okt, True, recommend_stop_words))\n",
    "print(preprocessing(review2, okt, True, recommend_stop_words))\n",
    "print(preprocessing(review3, okt, True, recommend_stop_words))\n",
    "print(preprocessing(review4, okt, True, recommend_stop_words))\n",
    "print(preprocessing(review5, okt, True, recommend_stop_words))\n",
    "print(preprocessing(review6, okt, True, recommend_stop_words))\n",
    "print(preprocessing(review7, okt, True, recommend_stop_words))\n",
    "print(preprocessing(review8, okt, True, recommend_stop_words))"
   ]
  },
  {
   "cell_type": "code",
   "execution_count": 69,
   "metadata": {},
   "outputs": [
    {
     "data": {
      "text/plain": [
       "['로버트', '다우니', '주니어', 'sf', 'SF', '추천']"
      ]
     },
     "execution_count": 69,
     "metadata": {},
     "output_type": "execute_result"
    }
   ],
   "source": [
    "preprocessing(review, okt, True, recommend_stop_words)"
   ]
  },
  {
   "cell_type": "code",
   "execution_count": 71,
   "metadata": {},
   "outputs": [
    {
     "data": {
      "text/plain": [
       "['다크', '판타지', '추천']"
      ]
     },
     "execution_count": 71,
     "metadata": {},
     "output_type": "execute_result"
    }
   ],
   "source": [
    "preprocessing(review, okt, True, recommend_stop_words)"
   ]
  },
  {
   "cell_type": "code",
   "execution_count": 74,
   "metadata": {},
   "outputs": [
    {
     "data": {
      "text/plain": [
       "['베드', '엔딩', '추천']"
      ]
     },
     "execution_count": 74,
     "metadata": {},
     "output_type": "execute_result"
    }
   ],
   "source": [
    "preprocessing(review, okt, True, recommend_stop_words)"
   ]
  },
  {
   "cell_type": "code",
   "execution_count": 76,
   "metadata": {},
   "outputs": [
    {
     "data": {
      "text/plain": [
       "['마동석', '않다', '액션', '추천']"
      ]
     },
     "execution_count": 76,
     "metadata": {},
     "output_type": "execute_result"
    }
   ],
   "source": [
    "preprocessing(review, okt, True, recommend_stop_words)"
   ]
  },
  {
   "cell_type": "code",
   "execution_count": 25,
   "metadata": {},
   "outputs": [],
   "source": [
    "# 문장에서 키워드 추출\n",
    "nlp = spacy.load(\"ko_core_news_sm\")\n",
    "# 장르 동의어 정의\n",
    "genre_synonyms_ko = {\n",
    "    \"액션\": [\"액션\", \"격투\", \"무협\"],\n",
    "    \"코미디\": [\"코미디\", \"웃음\", \"유머\"],\n",
    "    \"드라마\": [\"드라마\", \"극\"],\n",
    "    \"공포\": [\"공포\", \"호러\", \"무서운\"],\n",
    "    \"로맨스\": [\"로맨스\", \"멜로\"],\n",
    "    \"SF\": [\"SF\", \"과학\", \"공상 과학\"],\n",
    "    \"스릴러\": [\"스릴러\", \"긴장\", \"서스펜스\"],\n",
    "    \"판타지\": [\"판타지\", \"환상\"],\n",
    "    \"애니메이션\": [\"애니메이션\", \"만화\"]\n",
    "}\n",
    "stop_words = set(['은', '는', '이', '가', '하', '아', '것', '들','의', '있', '되', '수', '보', '주', '등', '한'])\n",
    "\n",
    "def extract_keywords(sentence):\n",
    "    doc = nlp(sentence)\n",
    "    keywords = [token.text.strip() for token in doc if token.text.strip() not in stop_words and token.pos_ in ['NOUN', 'ADJ', 'VERB']]\n",
    "\n",
    "    # 이름 옆의 불용어 처리\n",
    "    cleaned_keywords = []\n",
    "    for keyword in keywords:\n",
    "        if any(word in keyword for word in stop_words):\n",
    "            # 공백으로 나누고, 불용어 제거\n",
    "            parts = re.split(r'\\s+', keyword)\n",
    "            cleaned_parts = [part for part in parts if part not in stop_words]\n",
    "            cleaned_keyword = ' '.join(cleaned_parts)\n",
    "            cleaned_keywords.append(cleaned_keyword)\n",
    "        else:\n",
    "            cleaned_keywords.append(keyword)\n",
    "\n",
    "    return cleaned_keywords"
   ]
  },
  {
   "cell_type": "code",
   "execution_count": 28,
   "metadata": {},
   "outputs": [],
   "source": [
    "# user_input = \"유아인이 등장하는 범죄 영화 추천해줘\"\n",
    "# user_input = \"오달수가 등장하는 코미디 영화 추천해줘\"\n",
    "# user_input = \"마동석과 유아인이 등장하는 액션 영화 추천해줘\"\n",
    "user_input = \"마동석이 등장하지 않는 액션 영화 추천해줘\""
   ]
  },
  {
   "cell_type": "code",
   "execution_count": 62,
   "metadata": {},
   "outputs": [
    {
     "name": "stdout",
     "output_type": "stream",
     "text": [
      "로버트 다우니 주니어\n",
      "['로버트', '다우니']\n"
     ]
    }
   ],
   "source": [
    "# 사용자 입력 처리 및 영화 추천\n",
    "stop_words = {\"및\", \"도\", \"에\", \"의\", \"가\", \"이\", \"은\", \"는\", \"을\", \"를\", \"에서\", \"로\", \"과\", \"와\", \"한\", \"그\", \"이\", \"하\", \"여\", \"속\", \"전\", \"자\"}\n",
    "# user_input = input(\"영화 제목, 원하는 장르, 감독 또는 출연 배우를 입력하세요 (예: 공포, 액션, 멜로, 서부, 로버트 다우니 주니어): \")\n",
    "user_input = \"공포 장르 영화 추천해줘\"\n",
    "user_input = \"로버트 다우니 주니어\"\n",
    "# user_input = \"백승기 감독의 영화 추천해줘\"\n",
    "# user_input = \"유아인 배우가 출연한 영화추천해줘\"\n",
    "# user_input = \"유아인이 출연한 범죄 영화 추천해줘\" 이건 추가한 거\n",
    "\n",
    "# 키워드 추출 및 출력\n",
    "keywords = extract_keywords(user_input)\n",
    "print(keywords)"
   ]
  },
  {
   "cell_type": "code",
   "execution_count": null,
   "metadata": {},
   "outputs": [],
   "source": [
    "import pandas as pd\n",
    "import spacy\n",
    "import re\n",
    "\n",
    "# CSV 파일을 Pandas DataFrame으로 불러오기\n",
    "file_path = '/content/movie_data'\n",
    "data = pd.read_csv(file_path)\n",
    "\n",
    "# 'Unnamed: 0' 열 제거\n",
    "data = data.drop(columns=['Unnamed: 0'])\n",
    "\n",
    "# 열 이름을 한국어로 설정\n",
    "data.columns = ['영화명', '평점', '연도', '상영시간', '연령', '감독', '출연진', '줄거리', '장르']\n",
    "\n",
    "# spaCy 한국어 모델 로드\n",
    "nlp = spacy.load(\"ko_core_news_sm\")\n",
    "\n",
    "# 불용어 정의 (이름이나 중요한 용어는 제외)\n",
    "stop_words = {\"및\", \"도\", \"에\", \"의\", \"가\", \"이\", \"은\", \"는\", \"을\", \"를\", \"에서\", \"로\", \"과\", \"와\", \"한\", \"그\", \"이\", \"하\", \"여\", \"속\", \"전\", \"자\"}\n",
    "\n",
    "# 장르 동의어 정의\n",
    "genre_synonyms_ko = {\n",
    "    \"액션\": [\"액션\", \"격투\", \"무협\"],\n",
    "    \"코미디\": [\"코미디\", \"웃음\", \"유머\"],\n",
    "    \"드라마\": [\"드라마\", \"극\"],\n",
    "    \"공포\": [\"공포\", \"호러\", \"무서운\"],\n",
    "    \"로맨스\": [\"로맨스\", \"멜로\"],\n",
    "    \"SF\": [\"SF\", \"과학\", \"공상 과학\"],\n",
    "    \"스릴러\": [\"스릴러\", \"긴장\", \"서스펜스\"],\n",
    "    \"판타지\": [\"판타지\", \"환상\"],\n",
    "    \"애니메이션\": [\"애니메이션\", \"만화\"]\n",
    "}\n",
    "\n",
    "# 장르 정규화 함수\n",
    "def normalize_genre_from_synonyms_ko(keyword):\n",
    "    keyword = keyword.strip().lower()\n",
    "    for genre, synonyms in genre_synonyms_ko.items():\n",
    "        if keyword in [synonym.lower() for synonym in synonyms]:\n",
    "            return genre\n",
    "    return keyword\n",
    "\n",
    "# 장르 텍스트 정규화\n",
    "def normalize_genre(text):\n",
    "    if pd.isna(text):\n",
    "        return ''\n",
    "    # 슬래시를 쉼표로 변경하고, 불필요한 공백 제거\n",
    "    text = re.sub(r'\\s*\\(/?\\s*|\\s*/\\s*|\\s*\\)\\s*', ',', text)\n",
    "    text = re.sub(r'\\s+', ' ', text)\n",
    "    genres = [normalize_genre_from_synonyms_ko(genre.strip()) for genre in text.split(',')]\n",
    "    return ','.join(sorted(set(genres)))\n",
    "\n",
    "# 문장에서 키워드 추출\n",
    "def extract_keywords(sentence):\n",
    "    doc = nlp(sentence)\n",
    "    keywords = [token.text.strip() for token in doc if token.text.strip() not in stop_words and token.pos_ in ['NOUN', 'ADJ', 'VERB']]\n",
    "\n",
    "    # 이름 옆의 불용어 처리\n",
    "    cleaned_keywords = []\n",
    "    for keyword in keywords:\n",
    "        if any(word in keyword for word in stop_words):\n",
    "            # 공백으로 나누고, 불용어 제거\n",
    "            parts = re.split(r'\\s+', keyword)\n",
    "            cleaned_parts = [part for part in parts if part not in stop_words]\n",
    "            cleaned_keyword = ' '.join(cleaned_parts)\n",
    "            cleaned_keywords.append(cleaned_keyword)\n",
    "        else:\n",
    "            cleaned_keywords.append(keyword)\n",
    "\n",
    "    return cleaned_keywords\n",
    "\n",
    "# 영화 정보 딕셔너리 생성\n",
    "movie_info = {}\n",
    "for i, row in data.iterrows():\n",
    "    movie_id = i\n",
    "    content = row.to_dict()\n",
    "    movie_info[movie_id] = content\n",
    "\n",
    "# 영화 제목과 정보를 매핑하는 새로운 DataFrame 생성\n",
    "movie_titles = data[['영화명']].rename(columns={'영화명': '제목'})\n",
    "movie_titles['info'] = movie_titles.index.map(lambda x: movie_info[x])\n",
    "\n",
    "# DataFrame의 장르 정규화\n",
    "movie_titles['info'] = movie_titles['info'].apply(lambda x: {**x, '장르': normalize_genre(x['장르'])})\n",
    "\n",
    "# 장르로 영화 추천\n",
    "def recommend_movies_by_genre(genre):\n",
    "    normalized_genre = normalize_genre_from_synonyms_ko(genre)\n",
    "    recommended_movies = movie_titles[movie_titles['info'].apply(lambda x: '장르' in x and normalized_genre in x['장르'])]\n",
    "    return recommended_movies[['제목', 'info']]\n",
    "\n",
    "# 감독 또는 출연 배우로 영화 추천\n",
    "def recommend_movies_by_person(person_name):\n",
    "    person_name = person_name.strip()\n",
    "    recommended_movies = movie_titles[movie_titles['info'].apply(\n",
    "        lambda x: '감독' in x and person_name in x['감독']\n",
    "    ) | movie_titles['info'].apply(\n",
    "        lambda x: '출연진' in x and person_name in x['출연진']\n",
    "    )]\n",
    "    return recommended_movies[['제목', 'info']]\n",
    "\n",
    "# 장르 목록을 가져오는 함수\n",
    "def get_genres():\n",
    "    genres = set()\n",
    "    for info in movie_titles['info']:\n",
    "        if '장르' in info:\n",
    "            text = info['장르']\n",
    "            genres.update([normalize_genre_from_synonyms_ko(genre.strip()) for genre in text.split(',')])\n",
    "    return sorted(genres)\n",
    "\n",
    "# 영화 제목으로 정보를 가져오는 함수\n",
    "def get_movie_info(title):\n",
    "    filtered_title = title.strip()\n",
    "    matching_titles = movie_titles[movie_titles['제목'].str.contains(filtered_title, na=False)]\n",
    "\n",
    "    if matching_titles.empty:\n",
    "        return f\"영화를 찾지 못했습니다: {title}\"\n",
    "\n",
    "    movie_id = matching_titles.index[0]\n",
    "    return movie_titles[movie_titles.index == movie_id]['info'].iloc[0]\n",
    "\n",
    "# 사용자 입력 처리 및 영화 추천\n",
    "user_input = input(\"영화 제목, 원하는 장르, 감독 또는 출연 배우를 입력하세요 (예: 공포, 액션, 멜로, 서부, 로버트 다우니 주니어): \")\n",
    "\n",
    "# 키워드 추출 및 출력\n",
    "keywords = extract_keywords(user_input)\n",
    "\n",
    "# 감독 및 출연 배우 목록\n",
    "directors = data['감독'].dropna().apply(lambda x: x.split(', ')).explode().unique()\n",
    "cast_members = data['출연진'].dropna().apply(lambda x: x.split(', ')).explode().unique()\n",
    "\n",
    "# 장르와 인물 찾기\n",
    "genres = get_genres()\n",
    "\n",
    "genre_found = next((genre for genre in genres if genre in keywords), None)\n",
    "person_found = next((keyword for keyword in keywords if keyword in directors or keyword in cast_members), None)\n",
    "\n",
    "if genre_found:\n",
    "    recommended_movies = recommend_movies_by_genre(genre_found)\n",
    "    if not recommended_movies.empty:\n",
    "        result = \"\"\n",
    "        for _, row in recommended_movies.iterrows():\n",
    "            for kind, content in row['info'].items():\n",
    "                result += f\"{kind}: {content}\\n\"\n",
    "            result += \"-\" * 50 + \"\\n\"\n",
    "    else:\n",
    "        result = f\"추천할 {genre_found} 영화가 없습니다.\"\n",
    "elif person_found:\n",
    "    recommended_movies = recommend_movies_by_person(person_found)\n",
    "    if not recommended_movies.empty:\n",
    "        result = \"\"\n",
    "        for _, row in recommended_movies.iterrows():\n",
    "            for kind, content in row['info'].items():\n",
    "                result += f\"{kind}: {content}\\n\"\n",
    "            result += \"-\" * 50 + \"\\n\"\n",
    "    else:\n",
    "        result = f\"{person_found} 관련 영화를 찾지 못했습니다.\"\n",
    "else:\n",
    "    movie_info = get_movie_info(user_input)\n",
    "    if \"영화를 찾지 못했습니다\" not in movie_info:\n",
    "        result = \"영화 정보:\\n\"\n",
    "        for kind, content in movie_info.items():\n",
    "            result += f\"{kind}: {content}\\n\"\n",
    "    else:\n",
    "        result = movie_info\n",
    "\n",
    "print(result)\n"
   ]
  }
 ],
 "metadata": {
  "kernelspec": {
   "display_name": "Python 3",
   "language": "python",
   "name": "python3"
  },
  "language_info": {
   "codemirror_mode": {
    "name": "ipython",
    "version": 3
   },
   "file_extension": ".py",
   "mimetype": "text/x-python",
   "name": "python",
   "nbconvert_exporter": "python",
   "pygments_lexer": "ipython3",
   "version": "3.10.9"
  }
 },
 "nbformat": 4,
 "nbformat_minor": 2
}
