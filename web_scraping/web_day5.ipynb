{
 "cells": [
  {
   "cell_type": "code",
   "execution_count": null,
   "id": "fe8ae428-3180-43d7-b005-977599ef45f1",
   "metadata": {},
   "outputs": [],
   "source": [
    "from selenium import webdriver\n",
    "from bs4 import BeautifulSoup\n",
    "import pandas as pd"
   ]
  },
  {
   "cell_type": "code",
   "execution_count": null,
   "id": "282ccdb7-e311-4184-b4a2-2ad1b9315cd9",
   "metadata": {},
   "outputs": [],
   "source": [
    "driver = webdriver.Chrome()"
   ]
  },
  {
   "cell_type": "code",
   "execution_count": null,
   "id": "9d4a9edc-9e5e-456c-a2d7-fce4ad3752d7",
   "metadata": {},
   "outputs": [],
   "source": [
    "url = \"https://www.starbucks.co.kr/store/store_map.do?disp=locale\""
   ]
  },
  {
   "cell_type": "code",
   "execution_count": null,
   "id": "24e9bd34-226f-429e-b3d2-a87753bc979c",
   "metadata": {},
   "outputs": [],
   "source": [
    "driver.get(url)"
   ]
  },
  {
   "cell_type": "code",
   "execution_count": null,
   "id": "166d332e-b4dd-4fb1-b115-d96cb445ae4b",
   "metadata": {},
   "outputs": [],
   "source": [
    "jeju_btn=\"#container > div > form > fieldset > div > section > article.find_store_cont > article > article:nth-child(4) > div.loca_step1 > div.loca_step1_cont > ul > li:nth-child(16) > a\""
   ]
  },
  {
   "cell_type": "code",
   "execution_count": null,
   "id": "4c9189d7-5253-4035-ab57-ecca17fdbff6",
   "metadata": {},
   "outputs": [],
   "source": [
    "seoul_btn=\"#container > div > form > fieldset > div > section > article.find_store_cont > article > article:nth-child(4) > div.loca_step1 > div.loca_step1_cont > ul > li:nth-child(1) > a\""
   ]
  },
  {
   "cell_type": "code",
   "execution_count": null,
   "id": "13e31d8f-355c-4a20-bf1a-cdb4524e6617",
   "metadata": {},
   "outputs": [],
   "source": [
    "driver.find_element(\"css selector\",jeju_btn).click()"
   ]
  },
  {
   "cell_type": "code",
   "execution_count": null,
   "id": "d92bced1-0409-4b16-bebc-60d2df4459a6",
   "metadata": {},
   "outputs": [],
   "source": [
    "all_btn=\"#mCSB_2_container > ul > li:nth-child(1) > a\""
   ]
  },
  {
   "cell_type": "code",
   "execution_count": null,
   "id": "e8f7c96c-9fcf-4d86-b66f-4cbd2aada0c4",
   "metadata": {},
   "outputs": [],
   "source": [
    "driver.find_element(\"css selector\",all_btn).click()"
   ]
  },
  {
   "cell_type": "code",
   "execution_count": null,
   "id": "0bd36052-1848-4265-82c1-8432e044a70c",
   "metadata": {},
   "outputs": [],
   "source": [
    "#mCSB_3_container > ul > li:nth-child(1)"
   ]
  },
  {
   "cell_type": "code",
   "execution_count": null,
   "id": "58b5c1ee-9c04-4d3c-8e73-aca41b8f090f",
   "metadata": {},
   "outputs": [],
   "source": [
    "#mCSB_3_container > ul > li:nth-child(2)"
   ]
  },
  {
   "cell_type": "code",
   "execution_count": null,
   "id": "0ed23fbd-277f-419f-a283-5903ffb17e6f",
   "metadata": {},
   "outputs": [],
   "source": [
    "html=driver.page_source"
   ]
  },
  {
   "cell_type": "code",
   "execution_count": null,
   "id": "43aa8639-e7b1-41a5-973c-ecf97576ef6b",
   "metadata": {},
   "outputs": [],
   "source": [
    "soup=BeautifulSoup(html, 'html.parser')"
   ]
  },
  {
   "cell_type": "code",
   "execution_count": null,
   "id": "d4a06063-faae-4d16-845d-736a165fc1b4",
   "metadata": {},
   "outputs": [],
   "source": [
    "starbucks_list=soup.select(\"#mCSB_3_container > ul > li\")"
   ]
  },
  {
   "cell_type": "code",
   "execution_count": 167,
   "id": "ee911ee4-8131-48fc-95b9-22b65f749095",
   "metadata": {
    "scrolled": true
   },
   "outputs": [
    {
     "data": {
      "text/plain": [
       "[<li class=\"quickResultLstCon\" data-code=\"3532\" data-hlytag=\"null\" data-index=\"0\" data-lat=\"33.306608\" data-long=\"126.316714\" data-name=\"제주신화월드R\" data-storecd=\"1318\" style=\"background:#fff\"> <strong data-my_siren_order_store_yn=\"N\" data-name=\"제주신화월드R\" data-store=\"1318\" data-yn=\"N\">제주신화월드R  </strong> <p class=\"result_details\">제주특별자치도 서귀포시 안덕면 신화역사로304번길 38 B1-29<br/>1522-3232</p> <i class=\"pin_reserve\">리저브 매장 2번</i></li>,\n",
       " <li class=\"quickResultLstCon\" data-code=\"3375\" data-hlytag=\"null\" data-index=\"1\" data-lat=\"33.291788\" data-long=\"126.284407\" data-name=\"제주에듀시티\" data-storecd=\"1229\" style=\"background:#fff\"> <strong data-my_siren_order_store_yn=\"N\" data-name=\"제주에듀시티\" data-store=\"1229\" data-yn=\"N\">제주에듀시티  </strong> <p class=\"result_details\">제주특별자치도 서귀포시 대정읍 에듀시티로 36 <br/>1522-3232</p> <i class=\"pin_general\">리저브 매장 2번</i></li>,\n",
       " <li class=\"quickResultLstCon\" data-code=\"3274\" data-hlytag=\"null\" data-index=\"2\" data-lat=\"33.449980\" data-long=\"126.920605\" data-name=\"제주성산DT\" data-storecd=\"1197\" style=\"background:#fff\"> <strong data-my_siren_order_store_yn=\"N\" data-name=\"제주성산DT\" data-store=\"1197\" data-yn=\"N\">제주성산DT  </strong> <p class=\"result_details\">제주특별자치도 서귀포시 성산읍 일출로 80 <br/>1522-3232</p> <i class=\"pin_generalDT\">리저브 매장 2번</i></li>,\n",
       " <li class=\"quickResultLstCon\" data-code=\"3115\" data-hlytag=\"null\" data-index=\"3\" data-lat=\"33.2549983\" data-long=\"126.41590589999998\" data-name=\"제주중문DT\" data-storecd=\"950\" style=\"background:#fff\"> <strong data-my_siren_order_store_yn=\"N\" data-name=\"제주중문DT\" data-store=\"950\" data-yn=\"N\">제주중문DT  </strong> <p class=\"result_details\">제주특별자치도 서귀포시 천제연로 95(색달동)<br/>1522-3232</p> <i class=\"pin_generalDT\">리저브 매장 2번</i></li>,\n",
       " <li class=\"quickResultLstCon\" data-code=\"9931\" data-hlytag=\"null\" data-index=\"4\" data-lat=\"33.206799\" data-long=\"126.290035\" data-name=\"제주송악산\" data-storecd=\"748\" style=\"background:#fff\"> <strong data-my_siren_order_store_yn=\"N\" data-name=\"제주송악산\" data-store=\"748\" data-yn=\"N\">제주송악산  </strong> <p class=\"result_details\">제주특별자치도 서귀포시 대정읍 형제해안로 322<br/>1522-3232</p> <i class=\"pin_general\">리저브 매장 2번</i></li>,\n",
       " <li class=\"quickResultLstCon\" data-code=\"3143\" data-hlytag=\"null\" data-index=\"5\" data-lat=\"33.2492775\" data-long=\"126.50652289999993\" data-name=\"서귀포DT\" data-storecd=\"972\" style=\"background:#fff\"> <strong data-my_siren_order_store_yn=\"N\" data-name=\"서귀포DT\" data-store=\"972\" data-yn=\"N\">서귀포DT  </strong> <p class=\"result_details\">제주특별자치도 서귀포시 일주서로 11 (강정동)<br/>1522-3232</p> <i class=\"pin_generalDT\">리저브 매장 2번</i></li>,\n",
       " <li class=\"quickResultLstCon\" data-code=\"9735\" data-hlytag=\"null\" data-index=\"6\" data-lat=\"33.462865\" data-long=\"126.935544\" data-name=\"성산일출봉\" data-storecd=\"547\" style=\"background:#fff\"> <strong data-my_siren_order_store_yn=\"N\" data-name=\"성산일출봉\" data-store=\"547\" data-yn=\"N\">성산일출봉  </strong> <p class=\"result_details\">제주특별자치도 서귀포시 성산읍 일출로 284-5 1,2층<br/>1522-3232</p> <i class=\"pin_general\">리저브 매장 2번</i></li>,\n",
       " <li class=\"quickResultLstCon\" data-code=\"9710\" data-hlytag=\"null\" data-index=\"7\" data-lat=\"33.251128\" data-long=\"126.412752\" data-name=\"제주중문\" data-storecd=\"521\" style=\"background:#fff\"> <strong data-my_siren_order_store_yn=\"N\" data-name=\"제주중문\" data-store=\"521\" data-yn=\"N\">제주중문  </strong> <p class=\"result_details\">제주특별자치도 서귀포시 중문관광로110번길 32 (색달동)<br/>1522-3232</p> <i class=\"pin_general\">리저브 매장 2번</i></li>,\n",
       " <li class=\"quickResultLstCon\" data-code=\"4149\" data-hlytag=\"null\" data-index=\"8\" data-lat=\"33.2483024645772\" data-long=\"126.563777617613\" data-name=\"서귀포올레\" data-storecd=\"1935\" style=\"background:#fff\"> <strong data-my_siren_order_store_yn=\"N\" data-name=\"서귀포올레\" data-store=\"1935\" data-yn=\"N\">서귀포올레  </strong> <p class=\"result_details\">제주특별자치도 서귀포시 중정로 69 (서귀동)<br/>1522-3232</p> <i class=\"pin_general\">리저브 매장 2번</i></li>,\n",
       " <li class=\"quickResultLstCon\" data-code=\"4150\" data-hlytag=\"null\" data-index=\"9\" data-lat=\"33.2828825\" data-long=\"126.718877\" data-name=\"제주서귀포남원DT\" data-storecd=\"2124\" style=\"background:#fff\"> <strong data-my_siren_order_store_yn=\"N\" data-name=\"제주서귀포남원DT\" data-store=\"2124\" data-yn=\"N\">제주서귀포남원DT  </strong> <p class=\"result_details\">제주특별자치도 서귀포시 남원읍 일주동로 7129 <br/>1522-3232</p> <i class=\"pin_generalDT\">리저브 매장 2번</i></li>,\n",
       " <li class=\"quickResultLstCon\" data-code=\"3712\" data-hlytag=\"null\" data-index=\"10\" data-lat=\"33.480565\" data-long=\"126.523646\" data-name=\"제주도남DT\" data-storecd=\"1581\" style=\"background:#fff\"> <strong data-my_siren_order_store_yn=\"N\" data-name=\"제주도남DT\" data-store=\"1581\" data-yn=\"N\">제주도남DT  </strong> <p class=\"result_details\">제주특별자치도 제주시 연북로 394 (도남동)<br/>1522-3232</p> <i class=\"pin_generalDT\">리저브 매장 2번</i></li>,\n",
       " <li class=\"quickResultLstCon\" data-code=\"3829\" data-hlytag=\"null\" data-index=\"11\" data-lat=\"33.393839\" data-long=\"126.24049\" data-name=\"제주협재\" data-storecd=\"1578\" style=\"background:#fff\"> <strong data-my_siren_order_store_yn=\"N\" data-name=\"제주협재\" data-store=\"1578\" data-yn=\"N\">제주협재  </strong> <p class=\"result_details\">제주특별자치도 제주시 한림읍 한림로 337 <br/>1522-3232</p> <i class=\"pin_general\">리저브 매장 2번</i></li>,\n",
       " <li class=\"quickResultLstCon\" data-code=\"3708\" data-hlytag=\"null\" data-index=\"12\" data-lat=\"33.492554\" data-long=\"126.427169\" data-name=\"제주외도DT\" data-storecd=\"1567\" style=\"background:#fff\"> <strong data-my_siren_order_store_yn=\"N\" data-name=\"제주외도DT\" data-store=\"1567\" data-yn=\"N\">제주외도DT  </strong> <p class=\"result_details\">제주특별자치도 제주시 일주서로 7300 (외도일동)<br/>1522-3232</p> <i class=\"pin_generalDT\">리저브 매장 2번</i></li>,\n",
       " <li class=\"quickResultLstCon\" data-code=\"3720\" data-hlytag=\"null\" data-index=\"13\" data-lat=\"33.5117687\" data-long=\"126.5804734\" data-name=\"제주삼화DT\" data-storecd=\"1592\" style=\"background:#fff\"> <strong data-my_siren_order_store_yn=\"N\" data-name=\"제주삼화DT\" data-store=\"1592\" data-yn=\"N\">제주삼화DT  </strong> <p class=\"result_details\">제주특별자치도 제주시 연삼로 884 (도련일동)<br/>1522-3232</p> <i class=\"pin_generalDT\">리저브 매장 2번</i></li>,\n",
       " <li class=\"quickResultLstCon\" data-code=\"3511\" data-hlytag=\"null\" data-index=\"14\" data-lat=\"33.500516\" data-long=\"126.529711\" data-name=\"제주시청\" data-storecd=\"1363\" style=\"background:#fff\"> <strong data-my_siren_order_store_yn=\"N\" data-name=\"제주시청\" data-store=\"1363\" data-yn=\"N\">제주시청  </strong> <p class=\"result_details\">제주특별자치도 제주시 중앙로 215 (이도이동)<br/>1522-3232</p> <i class=\"pin_general\">리저브 매장 2번</i></li>,\n",
       " <li class=\"quickResultLstCon\" data-code=\"3538\" data-hlytag=\"null\" data-index=\"15\" data-lat=\"33.542511\" data-long=\"126.668567\" data-name=\"제주함덕\" data-storecd=\"1360\" style=\"background:#fff\"> <strong data-my_siren_order_store_yn=\"N\" data-name=\"제주함덕\" data-store=\"1360\" data-yn=\"N\">제주함덕  </strong> <p class=\"result_details\">제주특별자치도 제주시 조천읍 조함해안로 522 <br/>1522-3232</p> <i class=\"pin_general\">리저브 매장 2번</i></li>,\n",
       " <li class=\"quickResultLstCon\" data-code=\"3273\" data-hlytag=\"null\" data-index=\"16\" data-lat=\"33.47278\" data-long=\"126.348739\" data-name=\"제주애월DT\" data-storecd=\"1138\" style=\"background:#fff\"> <strong data-my_siren_order_store_yn=\"N\" data-name=\"제주애월DT\" data-store=\"1138\" data-yn=\"N\">제주애월DT  </strong> <p class=\"result_details\">제주특별자치도 제주시 애월읍 애월해안로 376 <br/>1522-3232</p> <i class=\"pin_generalDT\">리저브 매장 2번</i></li>,\n",
       " <li class=\"quickResultLstCon\" data-code=\"3092\" data-hlytag=\"null\" data-index=\"17\" data-lat=\"33.513349\" data-long=\"126.5252435\" data-name=\"제주칠성\" data-storecd=\"912\" style=\"background:#fff\"> <strong data-my_siren_order_store_yn=\"N\" data-name=\"제주칠성\" data-store=\"912\" data-yn=\"N\">제주칠성  </strong> <p class=\"result_details\">제주특별자치도 제주시 관덕로 55 (일도일동)<br/>1522-3232</p> <i class=\"pin_general\">리저브 매장 2번</i></li>,\n",
       " <li class=\"quickResultLstCon\" data-code=\"3114\" data-hlytag=\"null\" data-index=\"18\" data-lat=\"33.4878111\" data-long=\"126.4818612\" data-name=\"제주노형\" data-storecd=\"933\" style=\"background:#fff\"> <strong data-my_siren_order_store_yn=\"N\" data-name=\"제주노형\" data-store=\"933\" data-yn=\"N\">제주노형  </strong> <p class=\"result_details\">제주특별자치도 제주시 도령로 27 (노형동)<br/>1522-3232</p> <i class=\"pin_general\">리저브 매장 2번</i></li>,\n",
       " <li class=\"quickResultLstCon\" data-code=\"3017\" data-hlytag=\"null\" data-index=\"19\" data-lat=\"33.512345\" data-long=\"126.484564\" data-name=\"제주용담DT\" data-storecd=\"833\" style=\"background:#fff\"> <strong data-my_siren_order_store_yn=\"N\" data-name=\"제주용담DT\" data-store=\"833\" data-yn=\"N\">제주용담DT  </strong> <p class=\"result_details\">제주특별자치도 제주시 서해안로 380 (용담삼동) 화이트하우스<br/>1522-3232</p> <i class=\"pin_generalDT\">리저브 매장 2번</i></li>,\n",
       " <li class=\"quickResultLstCon\" data-code=\"9857\" data-hlytag=\"null\" data-index=\"20\" data-lat=\"33.484959\" data-long=\"126.480478\" data-name=\"신제주이마트\" data-storecd=\"664\" style=\"background:#fff\"> <strong data-my_siren_order_store_yn=\"N\" data-name=\"신제주이마트\" data-store=\"664\" data-yn=\"N\">신제주이마트  </strong> <p class=\"result_details\">제주특별자치도 제주시 1100로 3348, 신제주이마트 1층 (노형동)<br/>1522-3232</p> <i class=\"pin_general\">리저브 매장 2번</i></li>,\n",
       " <li class=\"quickResultLstCon\" data-code=\"4389\" data-hlytag=\"null\" data-index=\"21\" data-lat=\"33.522979308914\" data-long=\"126.8534175496\" data-name=\"제주세화DT\" data-storecd=\"2206\" style=\"background:#fff\"> <strong data-my_siren_order_store_yn=\"N\" data-name=\"제주세화DT\" data-store=\"2206\" data-yn=\"N\">제주세화DT  </strong> <p class=\"result_details\">제주특별자치도 제주시 구좌읍 일주동로 3121 <br/>1522-3232</p> <i class=\"pin_generalDT\">리저브 매장 2번</i></li>,\n",
       " <li class=\"quickResultLstCon\" data-code=\"4401\" data-hlytag=\"null\" data-index=\"22\" data-lat=\"33.4834410103164\" data-long=\"126.476159449097\" data-name=\"제주노형로\" data-storecd=\"2075\" style=\"background:#fff\"> <strong data-my_siren_order_store_yn=\"N\" data-name=\"제주노형로\" data-store=\"2075\" data-yn=\"N\">제주노형로  </strong> <p class=\"result_details\">제주특별자치도 제주시 노형로 376 (노형동)<br/>1522-3232</p> <i class=\"pin_general\">리저브 매장 2번</i></li>,\n",
       " <li class=\"quickResultLstCon\" data-code=\"4133\" data-hlytag=\"null\" data-index=\"23\" data-lat=\"33.4908499861488\" data-long=\"126.474278374413\" data-name=\"제주노형DT\" data-storecd=\"2034\" style=\"background:#fff\"> <strong data-my_siren_order_store_yn=\"N\" data-name=\"제주노형DT\" data-store=\"2034\" data-yn=\"N\">제주노형DT  </strong> <p class=\"result_details\">제주특별자치도 제주시 월랑로 68 (노형동)<br/>1522-3232</p> <i class=\"pin_generalDT\">리저브 매장 2번</i></li>,\n",
       " <li class=\"quickResultLstCon\" data-code=\"4261\" data-hlytag=\"null\" data-index=\"24\" data-lat=\"33.4690200090396\" data-long=\"126.484585553868\" data-name=\"제주한라수목원DT\" data-storecd=\"2126\" style=\"background:#fff\"> <strong data-my_siren_order_store_yn=\"N\" data-name=\"제주한라수목원DT\" data-store=\"2126\" data-yn=\"N\">제주한라수목원DT  </strong> <p class=\"result_details\">제주특별자치도 제주시 수목원서길 3-5 (노형동)<br/>1522-3232</p> <i class=\"pin_generalDT\">리저브 매장 2번</i></li>,\n",
       " <li class=\"quickResultLstCon\" data-code=\"3803\" data-hlytag=\"null\" data-index=\"25\" data-lat=\"33.5167857\" data-long=\"126.5035553\" data-name=\"제주서해안로DT\" data-storecd=\"1746\" style=\"background:#fff\"> <strong data-my_siren_order_store_yn=\"N\" data-name=\"제주서해안로DT\" data-store=\"1746\" data-yn=\"N\">제주서해안로DT  </strong> <p class=\"result_details\">제주특별자치도 제주시 서해안로 624 (용담삼동)<br/>1522-3232</p> <i class=\"pin_generalDT\">리저브 매장 2번</i></li>,\n",
       " <li class=\"quickResultLstCon\" data-code=\"3707\" data-hlytag=\"null\" data-index=\"26\" data-lat=\"33.5073284\" data-long=\"126.5408980\" data-name=\"제주일도DT\" data-storecd=\"1708\" style=\"background:#fff\"> <strong data-my_siren_order_store_yn=\"N\" data-name=\"제주일도DT\" data-store=\"1708\" data-yn=\"N\">제주일도DT  </strong> <p class=\"result_details\">제주특별자치도 제주시 동광로 130 (일도이동)<br/>1522-3232</p> <i class=\"pin_generalDT\">리저브 매장 2번</i></li>,\n",
       " <li class=\"quickResultLstCon\" data-code=\"3997\" data-hlytag=\"null\" data-index=\"27\" data-lat=\"33.5005664\" data-long=\"126.5054842\" data-name=\"제주공항DT\" data-storecd=\"1971\" style=\"background:#fff\"> <strong data-my_siren_order_store_yn=\"N\" data-name=\"제주공항DT\" data-store=\"1971\" data-yn=\"N\">제주공항DT  </strong> <p class=\"result_details\">제주특별자치도 제주시 월성로 42 (용담이동)<br/>1522-3232</p> <i class=\"pin_generalDT\">리저브 매장 2번</i></li>,\n",
       " <li class=\"quickResultLstCon\" data-code=\"4304\" data-hlytag=\"null\" data-index=\"28\" data-lat=\"33.4362649647325\" data-long=\"126.731232423627\" data-name=\"더제주송당파크R\" data-storecd=\"2198\" style=\"background:#fff\"> <strong data-my_siren_order_store_yn=\"N\" data-name=\"더제주송당파크R\" data-store=\"2198\" data-yn=\"N\">더제주송당파크R  </strong> <p class=\"result_details\">제주특별자치도 제주시 구좌읍 비자림로 1189 <br/>1522-3232</p> <i class=\"pin_reserve\">리저브 매장 2번</i></li>,\n",
       " <li class=\"quickResultLstCon\" data-code=\"4120\" data-hlytag=\"null\" data-index=\"29\" data-lat=\"33.46329278001417\" data-long=\"126.45099791468475\" data-name=\"제주평화로DT\" data-storecd=\"2170\" style=\"background:#fff\"> <strong data-my_siren_order_store_yn=\"N\" data-name=\"제주평화로DT\" data-store=\"2170\" data-yn=\"N\">제주평화로DT  </strong> <p class=\"result_details\">제주특별자치도 제주시 노형로 37 (해안동)<br/>1522-3232</p> <i class=\"pin_generalDT\">리저브 매장 2번</i></li>]"
      ]
     },
     "execution_count": 167,
     "metadata": {},
     "output_type": "execute_result"
    }
   ],
   "source": [
    "starbucks_list"
   ]
  },
  {
   "cell_type": "code",
   "execution_count": null,
   "id": "8ec2437f-93c2-4e9d-aa7f-a7f190667e12",
   "metadata": {},
   "outputs": [],
   "source": [
    "starbucks_list[0]"
   ]
  },
  {
   "cell_type": "code",
   "execution_count": null,
   "id": "312d6faa-be75-4c68-85f3-47e1049bc535",
   "metadata": {},
   "outputs": [],
   "source": [
    "starbucks_list_con=soup.select(\"li.quickResultLstCon\")\n",
    "len(starbucks_list_con)"
   ]
  },
  {
   "cell_type": "code",
   "execution_count": null,
   "id": "6665acd4-3fcd-4417-a768-db4cac43882c",
   "metadata": {},
   "outputs": [],
   "source": [
    "starbucks_list[0].attrs[\"data-lat\"]"
   ]
  },
  {
   "cell_type": "code",
   "execution_count": null,
   "id": "d11665dc-f16f-4fad-aff9-7fcda5f2cf72",
   "metadata": {},
   "outputs": [],
   "source": [
    "starbucks_list[0].attrs[\"data-long\"]"
   ]
  },
  {
   "cell_type": "code",
   "execution_count": null,
   "id": "7634814f-3ed4-447e-b7a1-76de5a8c1398",
   "metadata": {},
   "outputs": [],
   "source": [
    "starbucks_list[0].select('strong')[0].string.strip()"
   ]
  },
  {
   "cell_type": "code",
   "execution_count": null,
   "id": "76fafd4d-ef1f-4822-862b-9f6a1cd079a8",
   "metadata": {},
   "outputs": [],
   "source": [
    "starbucks_list[0].select('i')[0].attrs['class'][0][4:]"
   ]
  },
  {
   "cell_type": "code",
   "execution_count": null,
   "id": "ec043bc2-c8e8-4bbc-a06b-29fbcd9dcc5d",
   "metadata": {},
   "outputs": [],
   "source": [
    "starbucks_list[0].select('p')[0].text[:-9]"
   ]
  },
  {
   "cell_type": "code",
   "execution_count": null,
   "id": "c22679eb-bfa4-42ad-96fc-c697d426d444",
   "metadata": {},
   "outputs": [],
   "source": [
    "starbucks_list[0].select('p')[0].text[-9:]"
   ]
  },
  {
   "cell_type": "code",
   "execution_count": null,
   "id": "3cf67ebd-aab4-41e7-b79c-690d979fa428",
   "metadata": {},
   "outputs": [],
   "source": [
    "starbucks_list[0].select('p')[0]"
   ]
  },
  {
   "cell_type": "code",
   "execution_count": null,
   "id": "f092610b-7b07-42c9-ad10-70d6de1ea2f6",
   "metadata": {},
   "outputs": [],
   "source": [
    "str(starbucks_list[0].select('p')[0]).split(\"<br/>\")[1].split(\"<\")[0]"
   ]
  },
  {
   "cell_type": "code",
   "execution_count": null,
   "id": "64aefa0a-f9c2-4e56-a43b-33471e810193",
   "metadata": {},
   "outputs": [],
   "source": [
    "str(starbucks_list[0].select(\"p\")[0]).split(\"<br/>\")[0].split(\">\")[1]"
   ]
  },
  {
   "cell_type": "code",
   "execution_count": null,
   "id": "114463a4-e576-4026-9f55-e62e2aa89a38",
   "metadata": {},
   "outputs": [],
   "source": [
    "starbucks_list_all=[]\n",
    "for item in starbucks_list:\n",
    "    name=item.select('strong')[0].text.strip()\n",
    "    lat=item.attrs['data-lat']\n",
    "    lng=item.attrs['data-long']\n",
    "    addr=str(item.select(\"p\")[0]).split(\"<br/>\")[0].split(\">\")[1]\n",
    "    tel=str(item.select(\"p\")[0]).split(\"<br/>\")[1].split(\"<\")[0]\n",
    "    starbucks_list_all.append([name, lat, lng, addr, tel])    \n",
    "#print(len(starbucks_list))"
   ]
  },
  {
   "cell_type": "code",
   "execution_count": null,
   "id": "331f5f12-3258-4678-81ea-15cad090feaa",
   "metadata": {},
   "outputs": [],
   "source": [
    "starbucks_list_all\n",
    "sb_df=pd.DataFrame(starbucks_list_all,columns=['매장명','위도','경도','주소','전화번호'])\n",
    "sb_df"
   ]
  },
  {
   "cell_type": "code",
   "execution_count": null,
   "id": "b200a9cc-456a-4e14-a111-fc6ff311cbb1",
   "metadata": {},
   "outputs": [],
   "source": []
  },
  {
   "cell_type": "code",
   "execution_count": null,
   "id": "901f8d05-4b17-44f9-989f-af57aee7acde",
   "metadata": {},
   "outputs": [],
   "source": [
    "starbucks_Jeju_list = soup.select(\"#mCSB_3_container\")\n",
    "starbucks_Jeju_list"
   ]
  },
  {
   "cell_type": "code",
   "execution_count": null,
   "id": "d58b5aa6-b7d5-4019-b61e-c277c777eb73",
   "metadata": {
    "scrolled": true
   },
   "outputs": [],
   "source": [
    "import time\n",
    "driver = webdriver.Chrome()\n",
    "url = 'https://www.starbucks.co.kr/store/store_map.do?disp=locale'\n",
    "driver.get(url)\n",
    "time.sleep(5)\n",
    "jeju_btn = '#container > div > form > fieldset > div > section > article.find_store_cont > article > article:nth-child(4) > div.loca_step1 > div.loca_step1_cont > ul > li:nth-child(16) > a'\n",
    "driver.find_element('css selector', jeju_btn).click()\n",
    "jeju_all_btn = '#mCSB_2_container > ul > li:nth-child(1) > a'\n",
    "driver.find_element('css selector', jeju_all_btn).click()\n",
    "html = driver.page_source\n",
    "soup = BeautifulSoup(html, 'html.parser')\n",
    "jeju_data = soup.select('li.quickResultLstCon')\n",
    "jeju_list = []\n",
    "for i in range(len(jeju_data)):\n",
    "    name = jeju_data[0].select('strong')[0].text.strip()\n",
    "    addr = str(jeju_data[i].select('p')[0]).split('<br/>')[0].split('>')[1]\n",
    "    call = str(jeju_data[i].select('p')[0]).split('<br/>')[1].split('<')[0]\n",
    "    lng = jeju_data[i].attrs['data-long']\n",
    "    lat = jeju_data[i].attrs['data-lat']\n",
    "    jeju_list.append([name, lat, lng, addr, call])\n",
    "jeju_list\n",
    "sb_jeju_df = pd.DataFrame(starbucks_list_all, columns=['매장명', '위도', '경도', '주소', '전화번호'])\n",
    "sb_jeju_df\n",
    "sb_jeju_df.to_excel('sb_jeju_df.xlsx', index=False)\n",
    "\n",
    "df = pd.read_excel('sb_jeju_df.xlsx')\n",
    "df"
   ]
  },
  {
   "cell_type": "code",
   "execution_count": null,
   "id": "159216e6-6215-47ae-9d91-60a4d2d3ec25",
   "metadata": {},
   "outputs": [],
   "source": [
    "#인스타그램 -> 울릉도 맛집 검색 -> 텍스트 수집"
   ]
  },
  {
   "cell_type": "code",
   "execution_count": null,
   "id": "d17b274f-49f9-42de-8b60-a220de367d06",
   "metadata": {},
   "outputs": [],
   "source": [
    "from selenium import webdriver"
   ]
  },
  {
   "cell_type": "code",
   "execution_count": null,
   "id": "5024cb42-9343-4350-ae7c-5b0a0703f234",
   "metadata": {},
   "outputs": [],
   "source": [
    "driver = webdriver.Chrome()"
   ]
  },
  {
   "cell_type": "code",
   "execution_count": null,
   "id": "60fc478f-1630-4ee2-8e89-ece4c5dbd6e6",
   "metadata": {},
   "outputs": [],
   "source": [
    "import time"
   ]
  },
  {
   "cell_type": "code",
   "execution_count": null,
   "id": "e0204a9f-ea14-4f6b-ac2e-22fae3b92199",
   "metadata": {
    "scrolled": true
   },
   "outputs": [],
   "source": [
    "driver.get(\"https://www.instagram.com/\")\n",
    "time.sleep(2)"
   ]
  },
  {
   "cell_type": "code",
   "execution_count": null,
   "id": "11e183f3-22ea-4ca1-a871-3490c4a9f68c",
   "metadata": {},
   "outputs": [],
   "source": [
    "input_id = driver.find_element('css selector', \"#loginForm > div > div:nth-child(1) > div > label > input\")\n",
    "#loginForm > div > div:nth-child(1) > div > label > input"
   ]
  },
  {
   "cell_type": "code",
   "execution_count": null,
   "id": "3ddff9bb-9b4d-4096-bffe-98888098c1c7",
   "metadata": {},
   "outputs": [],
   "source": [
    "input_pw=driver.find_element('css selector', '#loginForm > div > div:nth-child(2) > div > label > input')"
   ]
  },
  {
   "cell_type": "code",
   "execution_count": null,
   "id": "d5f92481-82ce-42d0-8441-9be08acd612f",
   "metadata": {},
   "outputs": [],
   "source": [
    "input_id.send_keys(\"ohg77777@naver.com\")"
   ]
  },
  {
   "cell_type": "code",
   "execution_count": null,
   "id": "ce4a95c0-ba6f-446c-8d75-1a2a28ab41f0",
   "metadata": {},
   "outputs": [],
   "source": [
    "input_pw.send_keys(\"tmdwnemdtls!1\")"
   ]
  },
  {
   "cell_type": "code",
   "execution_count": null,
   "id": "52190ccd-a952-4768-86d4-6aa955ad6869",
   "metadata": {},
   "outputs": [],
   "source": [
    "input_pw.submit()"
   ]
  },
  {
   "cell_type": "code",
   "execution_count": null,
   "id": "df2013c9-06b7-4651-a491-9c78514d3ddf",
   "metadata": {},
   "outputs": [],
   "source": [
    "time.sleep(3)"
   ]
  },
  {
   "cell_type": "code",
   "execution_count": null,
   "id": "5d00694f-9777-4a01-87d2-885a84e51be3",
   "metadata": {},
   "outputs": [],
   "source": [
    "#driver.get(\"https://www.instagram.com/explore/tags/%EC%9A%B8%EB%A6%89%EB%8F%84%EB%A7%9B%EC%A7%91/\")"
   ]
  },
  {
   "cell_type": "code",
   "execution_count": null,
   "id": "28dab5d8-708b-40d5-a017-a6686888235f",
   "metadata": {},
   "outputs": [],
   "source": [
    "def insta_func(word):\n",
    "    url=\"https://www.instagram.com/explore/tags/\"+word\n",
    "    return url"
   ]
  },
  {
   "cell_type": "code",
   "execution_count": null,
   "id": "8f657c5a-c060-44fe-b597-cf8d9ba9a6cf",
   "metadata": {},
   "outputs": [],
   "source": [
    "word = \"제주도맛집\"\n",
    "url= insta_func(word)\n",
    "driver.get(url)"
   ]
  },
  {
   "cell_type": "code",
   "execution_count": null,
   "id": "6deae748-bf11-45ed-aedb-47b5c195eb7f",
   "metadata": {},
   "outputs": [],
   "source": [
    "first=driver.find_element(\"css selector\",\"#mount_0_0_C2 > div > div > div.x9f619.x1n2onr6.x1ja2u2z > div > div > div.x78zum5.xdt5ytf.x1t2pt76.x1n2onr6.x1ja2u2z.x10cihs4 > div.x9f619.xvbhtw8.x78zum5.x168nmei.x13lgxp2.x5pf9jr.xo71vjh.x1uhb9sk.x1plvlek.xryxfnj.x1c4vz4f.x2lah0s.xdt5ytf.xqjyukv.x1qjc9v5.x1oa3qoh.x1qughib > div.x1gryazu.xh8yej3.x10o80wk.x14k21rp.x17snn68.x6osk4m.x1porb0y > section > main > article > div > div > div > div:nth-child(1) > div:nth-child(1) > a > div._aagu > div._aagw\")\n",
    "first.click()"
   ]
  },
  {
   "cell_type": "code",
   "execution_count": null,
   "id": "cb0bff23-5624-49b1-b02c-b3a2dd844920",
   "metadata": {},
   "outputs": [],
   "source": [
    "html=driver.page_source\n",
    "soup=BeautifulSoup(html,'html.parser')"
   ]
  },
  {
   "cell_type": "code",
   "execution_count": null,
   "id": "c962debb-4e4d-4717-bc43-9e9fdf034d8e",
   "metadata": {},
   "outputs": [],
   "source": [
    "soup"
   ]
  },
  {
   "cell_type": "code",
   "execution_count": null,
   "id": "54518b59-d231-46b4-a109-a4a18aef2606",
   "metadata": {},
   "outputs": [],
   "source": [
    "soup.select('#mount_0_0_C2 > div > div > div.x9f619.x1n2onr6.x1ja2u2z > div > div > div.x78zum5.xdt5ytf.x1t2pt76.x1n2onr6.x1ja2u2z.x10cihs4 > div.x9f619.xvbhtw8.x78zum5.x168nmei.x13lgxp2.x5pf9jr.xo71vjh.x1uhb9sk.x1plvlek.xryxfnj.x1c4vz4f.x2lah0s.xdt5ytf.xqjyukv.x1qjc9v5.x1oa3qoh.x1qughib > div.x1gryazu.xh8yej3.x10o80wk.x14k21rp.x17snn68.x6osk4m.x1porb0y > section > main > div > div:nth-child(2) > div:nth-child(3) > div > div:nth-child(2) > div > span:nth-child(3) > div > h1')[0].text"
   ]
  },
  {
   "cell_type": "code",
   "execution_count": null,
   "id": "a4f3471c-39ef-487a-a2ef-1b421d7792a6",
   "metadata": {},
   "outputs": [],
   "source": [
    "driver.page_source"
   ]
  },
  {
   "cell_type": "code",
   "execution_count": null,
   "id": "8dec04e2-a793-4e8e-a6c8-50b577663fdd",
   "metadata": {},
   "outputs": [],
   "source": []
  },
  {
   "cell_type": "code",
   "execution_count": null,
   "id": "b40329b5-9307-4c6e-96df-5a5e01a57ec6",
   "metadata": {},
   "outputs": [],
   "source": []
  },
  {
   "cell_type": "code",
   "execution_count": null,
   "id": "42287b07-2fc8-410b-ba5e-c9eea4f34a43",
   "metadata": {},
   "outputs": [],
   "source": [
    "driver.find_element('css selector', '#mount_0_0_KN > div > div > div.x9f619.x1n2onr6.x1ja2u2z > div > div > div.x78zum5.xdt5ytf.x1t2pt76.x1n2onr6.x1ja2u2z.x10cihs4 > div.x9f619.xvbhtw8.x78zum5.x168nmei.x13lgxp2.x5pf9jr.xo71vjh.x1uhb9sk.x1plvlek.xryxfnj.x1c4vz4f.x2lah0s.x1q0g3np.xqjyukv.x1qjc9v5.x1oa3qoh.x1qughib > div.x1gryazu.xh8yej3.x10o80wk.x14k21rp.x17snn68.x6osk4m.x1porb0y > section > main > article > div > div > div > div:nth-child(1) > div:nth-child(2) > a > div._aagu > div._aagw').click()"
   ]
  },
  {
   "cell_type": "code",
   "execution_count": null,
   "id": "b9d7b462-3165-4f32-876e-fcc9a05e36da",
   "metadata": {},
   "outputs": [],
   "source": [
    "html=driver.page_source\n",
    "soup=BeautifulSoup(html, 'html.parser')\n",
    "soup\n",
    "\n",
    "#driver.find_element(div._a9zs > h1"
   ]
  },
  {
   "cell_type": "code",
   "execution_count": null,
   "id": "a8fc5352-ea75-4d9b-8771-e83d9f52be03",
   "metadata": {},
   "outputs": [],
   "source": [
    "title = soup.select('body > div.x1n2onr6.xzkaem6 > div.x9f619.x1n2onr6.x1ja2u2z > div > div.x1uvtmcs.x4k7w5x.x1h91t0o.x1beo9mf.xaigb6o.x12ejxvf.x3igimt.xarpa2k.xedcshv.x1lytzrv.x1t2pt76.x7ja8zs.x1n2onr6.x1qrby5j.x1jfb8zj > div > div > div > div > div.xb88tzc.xw2csxc.x1odjw0f.x5fp0pe.x1qjc9v5.xjbqb8w.x1lcm9me.x1yr5g0i.xrt01vj.x10y3i5r.xr1yuqi.xkrivgy.x4ii5y1.x1gryazu.x15h9jz8.x47corl.xh8yej3.xir0mxb.x1juhsu6 > div > article > div > div.x1qjc9v5.x972fbf.xcfux6l.x1qhh985.xm0m39n.x9f619.x78zum5.xdt5ytf.x1iyjqo2.x5wqa0o.xln7xf2.xk390pu.xdj266r.x11i5rnm.xat24cr.x1mh8g0r.x65f84u.x1vq45kp.xexx8yu.x4uap5.x18d9i69.xkhd6sd.x1n2onr6.x11njtxf > div > div > div.x78zum5.xdt5ytf.x1q2y9iw.x1n2onr6.xh8yej3.x9f619.x1iyjqo2.x18l3tf1.x26u7qi.xy80clv.xexx8yu.x4uap5.x18d9i69.xkhd6sd > div.x78zum5.xdt5ytf.x1iyjqo2.xs83m0k.x2lwn1j.x1odjw0f.x1n2onr6.x9ek82g.x6ikm8r.xdj266r.x11i5rnm.x4ii5y1.x1mh8g0r.xexx8yu.x1pi30zi.x18d9i69.x1swvt13 > ul > div.x1qjc9v5.x972fbf.xcfux6l.x1qhh985.xm0m39n.x9f619.x78zum5.xdt5ytf.x2lah0s.xk390pu.xdj266r.x11i5rnm.xat24cr.x1mh8g0r.xexx8yu.x4uap5.x18d9i69.xkhd6sd.x1n2onr6.xggy1nq.x11njtxf > li > div > div > div._a9zr')\n",
    "title[0].text"
   ]
  },
  {
   "cell_type": "code",
   "execution_count": null,
   "id": "2dca2e72-9f6e-4f9f-9530-ca02789979e3",
   "metadata": {},
   "outputs": [],
   "source": [
    "#1)driver.get(\"사이트주소\")\n",
    "#2-1)driver.find_element('css selector', \"추출 대상 셀렉터\")\n",
    "#2-2)driver.page_source\n",
    "#3)BeautifulSoup()\n",
    "#4)select, ..."
   ]
  },
  {
   "cell_type": "code",
   "execution_count": null,
   "id": "c545c5ed-0636-48a3-8170-a28439099d88",
   "metadata": {},
   "outputs": [],
   "source": [
    "next_btn = driver.find_element('css selector', 'body > div.x1n2onr6.xzkaem6 > div.x9f619.x1n2onr6.x1ja2u2z > div > div.x1uvtmcs.x4k7w5x.x1h91t0o.x1beo9mf.xaigb6o.x12ejxvf.x3igimt.xarpa2k.xedcshv.x1lytzrv.x1t2pt76.x7ja8zs.x1n2onr6.x1qrby5j.x1jfb8zj > div > div > div > div > div:nth-child(1) > div > div > div._aaqg._aaqh > button')\n",
    "next_btn.click()"
   ]
  },
  {
   "cell_type": "code",
   "execution_count": null,
   "id": "0cd493dc-c6c6-4456-a106-65cc45569353",
   "metadata": {},
   "outputs": [],
   "source": [
    "pre_btn = driver.find_element('css selector', 'body > div.x1n2onr6.xzkaem6 > div.x9f619.x1n2onr6.x1ja2u2z > div > div.x1uvtmcs.x4k7w5x.x1h91t0o.x1beo9mf.xaigb6o.x12ejxvf.x3igimt.xarpa2k.xedcshv.x1lytzrv.x1t2pt76.x7ja8zs.x1n2onr6.x1qrby5j.x1jfb8zj > div > div > div > div > div:nth-child(1) > div > div > div._aaqf._aaqh > button')\n",
    "pre_btn.click()"
   ]
  },
  {
   "cell_type": "code",
   "execution_count": null,
   "id": "373eaa4a-5eb9-4902-b67c-cb105c1ba95c",
   "metadata": {},
   "outputs": [],
   "source": []
  }
 ],
 "metadata": {
  "kernelspec": {
   "display_name": "Python 3 (ipykernel)",
   "language": "python",
   "name": "python3"
  },
  "language_info": {
   "codemirror_mode": {
    "name": "ipython",
    "version": 3
   },
   "file_extension": ".py",
   "mimetype": "text/x-python",
   "name": "python",
   "nbconvert_exporter": "python",
   "pygments_lexer": "ipython3",
   "version": "3.11.7"
  }
 },
 "nbformat": 4,
 "nbformat_minor": 5
}
