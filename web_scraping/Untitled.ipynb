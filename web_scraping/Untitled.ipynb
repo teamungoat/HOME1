{
 "cells": [
  {
   "cell_type": "code",
   "execution_count": null,
   "id": "ec0567ad-5cd9-4db7-8622-dd83842d6688",
   "metadata": {},
   "outputs": [],
   "source": [
    "html = \"\"\"\n",
    "<ul>\n",
    "  <li><a href=\"hoge.html\">hoge</li>\n",
    "  <li><a href=\"https://example.com/fuga\">fuga*</li>\n",
    "  <li><a href=\"https://example.com/foo\">foo*</li>\n",
    "  <li><a href=\"http://example.com/aaa\">aaa</li>\n",
    "</ul>\n",
    "\"\"\""
   ]
  },
  {
   "cell_type": "code",
   "execution_count": null,
   "id": "37578ab7-659f-45a5-aa6a-070dba5c75d5",
   "metadata": {},
   "outputs": [],
   "source": [
    "#a 태그로 묶여져 있는 href 속성값을 모두 출력하시오"
   ]
  },
  {
   "cell_type": "code",
   "execution_count": null,
   "id": "8cac9705-325b-4f38-badf-cc3bb76582e0",
   "metadata": {},
   "outputs": [],
   "source": []
  },
  {
   "cell_type": "code",
   "execution_count": null,
   "id": "b938cea2-259e-4b20-ad24-2116067b4e10",
   "metadata": {},
   "outputs": [],
   "source": [
    "from bs4 import BeautifulSoup\n",
    "import re\n",
    "soup=BeautifulSoup(html, 'html.parser')"
   ]
  },
  {
   "cell_type": "code",
   "execution_count": null,
   "id": "dc019080-df9c-499e-9524-af76adc1420c",
   "metadata": {},
   "outputs": [],
   "source": [
    "soup.find_all(href=re.compile(\"^http\"))"
   ]
  },
  {
   "cell_type": "code",
   "execution_count": null,
   "id": "2368c6e4-2ad9-471d-b8c8-7eafb68c62cc",
   "metadata": {},
   "outputs": [],
   "source": [
    "pat=re.compile(\"[a-z]+\")\n",
    "pat.match(\"python\")"
   ]
  },
  {
   "cell_type": "code",
   "execution_count": null,
   "id": "7c34782a-0310-4696-95b0-d0c84d167da6",
   "metadata": {},
   "outputs": [],
   "source": [
    "#soup.find_all(href=re.compile(\"^http\"))\n",
    "li=soup.find_all(href=re.compile(\"^https\"))\n",
    "li"
   ]
  },
  {
   "cell_type": "code",
   "execution_count": null,
   "id": "46359e3e-8862-43c4-a438-ab3f55a83c76",
   "metadata": {},
   "outputs": [],
   "source": [
    "for a in li:\n",
    "    print(a.attrs['href'])"
   ]
  },
  {
   "cell_type": "code",
   "execution_count": null,
   "id": "26e19f75-1626-47f4-bda0-fa50c52fb5af",
   "metadata": {
    "scrolled": true
   },
   "outputs": [],
   "source": [
    "pip list"
   ]
  },
  {
   "cell_type": "code",
   "execution_count": null,
   "id": "7972e3c7-c673-4b2f-8e0a-b0178f3093dc",
   "metadata": {},
   "outputs": [],
   "source": [
    "pip install selenium"
   ]
  },
  {
   "cell_type": "code",
   "execution_count": null,
   "id": "b1b715a7-c743-41c6-8213-ce30f1af0ba5",
   "metadata": {},
   "outputs": [],
   "source": [
    "from selenium import webdriver"
   ]
  },
  {
   "cell_type": "code",
   "execution_count": null,
   "id": "3008e4bc-664e-46d3-85cb-0e739c6298ce",
   "metadata": {},
   "outputs": [],
   "source": [
    "driver=webdriver.Chrome()"
   ]
  },
  {
   "cell_type": "code",
   "execution_count": null,
   "id": "bf7bdfa5-a6e1-425e-8b82-d0bd518c6838",
   "metadata": {},
   "outputs": [],
   "source": [
    "driver.get(\"https://www.naver.com\")"
   ]
  },
  {
   "cell_type": "code",
   "execution_count": null,
   "id": "b8d644b5-36d3-4014-a1a3-f1e3796f7d83",
   "metadata": {
    "scrolled": true
   },
   "outputs": [],
   "source": [
    "html=driver.page_source\n",
    "html"
   ]
  },
  {
   "cell_type": "code",
   "execution_count": null,
   "id": "88218568-d2f1-4f2f-bf67-8c8ea90f25d4",
   "metadata": {},
   "outputs": [],
   "source": [
    "html = '''\n",
    "<html>\n",
    "    <head>\n",
    "    </head>\n",
    "    <body>\n",
    "        <h1> 우리동네시장</h1>\n",
    "            <div class = 'sale'>\n",
    "                <p id='fruits1' class='fruits'>\n",
    "                    <span class = 'name'> 바나나 </span>\n",
    "                    <span class = 'price'> 3000원 </span>\n",
    "                    <span class = 'inventory'> 500개 </span>\n",
    "                    <span class = 'store'> 가나다상회 </span>\n",
    "                    <a href = 'http://bit.ly/forPlaywithData' > 홈페이지 </a>\n",
    "                </p>\n",
    "            </div>\n",
    "            <div class = 'prepare'>\n",
    "                <p id='fruits2' class='fruits'>\n",
    "                    <span class ='name'> 파인애플 </span>\n",
    "                </p>\n",
    "            </div>\n",
    "    </body>\n",
    "</html>\n",
    "'''"
   ]
  },
  {
   "cell_type": "code",
   "execution_count": null,
   "id": "be8bd2d3-b683-44df-a7d9-604f57ffebab",
   "metadata": {},
   "outputs": [],
   "source": [
    "from bs4 import BeautifulSoup\n",
    "soup = BeautifulSoup(html, \"html.parser\")\n",
    "soup"
   ]
  },
  {
   "cell_type": "code",
   "execution_count": null,
   "id": "900e000e-32c1-4640-9e01-acd0c8359e77",
   "metadata": {},
   "outputs": [],
   "source": [
    "soup.select(\"h1\")"
   ]
  },
  {
   "cell_type": "code",
   "execution_count": null,
   "id": "396a4218-89fd-4cbe-95d7-e41ef54f9aac",
   "metadata": {},
   "outputs": [],
   "source": [
    "soup.find_all(class_='fruits')"
   ]
  },
  {
   "cell_type": "code",
   "execution_count": null,
   "id": "1d498da5-e4af-498f-b7ee-e4089270a5b7",
   "metadata": {},
   "outputs": [],
   "source": [
    "soup.find_all(id='fruits1')"
   ]
  },
  {
   "cell_type": "code",
   "execution_count": null,
   "id": "45fe1d6c-a0ff-4be5-a05d-be167a7cfdd2",
   "metadata": {},
   "outputs": [],
   "source": [
    "soup.select('h1')\n",
    "soup.select('html > body .fruits')\n",
    "soup.find(id = 'fruits1') #soup.select(\"#fruits1\")\n",
    "soup.select('.fruits')"
   ]
  },
  {
   "cell_type": "code",
   "execution_count": null,
   "id": "790e93d3-9041-4fd0-84a9-6db2acd00e7d",
   "metadata": {},
   "outputs": [],
   "source": [
    "soup"
   ]
  },
  {
   "cell_type": "code",
   "execution_count": null,
   "id": "93e83f74-54bf-4b3b-8520-933d26d964fe",
   "metadata": {},
   "outputs": [],
   "source": [
    "soup.select('span')"
   ]
  },
  {
   "cell_type": "code",
   "execution_count": null,
   "id": "69c1ca58-d5e6-422d-8eee-91e406a7a15a",
   "metadata": {},
   "outputs": [],
   "source": [
    "soup.select('span')[1].string"
   ]
  },
  {
   "cell_type": "code",
   "execution_count": null,
   "id": "f7770b31-de0b-4d7a-871e-273d07b49b26",
   "metadata": {},
   "outputs": [],
   "source": [
    "soup.select(\"span\")[1].string\n",
    "soup.select(\"span\")[1].text\n",
    "soup.select(\"span\")[1].text.strip()"
   ]
  },
  {
   "cell_type": "code",
   "execution_count": null,
   "id": "64558c52-834d-4a49-9eee-21f96de9565c",
   "metadata": {},
   "outputs": [],
   "source": [
    "soup.select(\"span.name\")"
   ]
  },
  {
   "cell_type": "code",
   "execution_count": null,
   "id": "076ea0eb-6deb-470b-a59e-8ac4c7c035dd",
   "metadata": {},
   "outputs": [],
   "source": [
    "soup.select(\"#fruits1\")"
   ]
  },
  {
   "cell_type": "code",
   "execution_count": null,
   "id": "62b76ede-ca49-4b79-8f23-e2a63eac5173",
   "metadata": {},
   "outputs": [],
   "source": [
    "soup.select(\"#fruits1 > span.name\")"
   ]
  },
  {
   "cell_type": "code",
   "execution_count": null,
   "id": "63910f83-f474-4c2f-bf79-db5afcaf3474",
   "metadata": {},
   "outputs": [],
   "source": [
    "soup"
   ]
  },
  {
   "cell_type": "code",
   "execution_count": null,
   "id": "54f2ea73-4a9c-456a-9e7b-96708a901388",
   "metadata": {},
   "outputs": [],
   "source": [
    "soup.select(\"div.sale >#fruits1 > span.name\")"
   ]
  },
  {
   "cell_type": "code",
   "execution_count": null,
   "id": "b19f03e4-5f95-4661-a123-0aef5477957e",
   "metadata": {},
   "outputs": [],
   "source": [
    "soup.select(\"div  span.store\")"
   ]
  },
  {
   "cell_type": "code",
   "execution_count": null,
   "id": "717388f2-4bb0-416f-b765-3914070000fd",
   "metadata": {},
   "outputs": [],
   "source": [
    "url=\"https://www.melon.com/chart/index.htm\"\n",
    "driver.get(url)"
   ]
  },
  {
   "cell_type": "code",
   "execution_count": null,
   "id": "2eba446b-569e-42f2-93c5-51a31cadf9ec",
   "metadata": {},
   "outputs": [],
   "source": [
    "html=driver.page_source\n",
    "html"
   ]
  },
  {
   "cell_type": "code",
   "execution_count": null,
   "id": "95d3aeb4-e222-49a1-8e25-df7744f108b1",
   "metadata": {},
   "outputs": [],
   "source": [
    "soup=BeautifulSoup(html, 'html.parser')"
   ]
  },
  {
   "cell_type": "code",
   "execution_count": null,
   "id": "19829796-2d53-4b01-8bc0-f3f347eacfb3",
   "metadata": {},
   "outputs": [],
   "source": [
    "soup"
   ]
  },
  {
   "cell_type": "code",
   "execution_count": null,
   "id": "3b7c524e-9149-4fb8-b100-5c422b462940",
   "metadata": {},
   "outputs": [],
   "source": [
    "soup.select(\"#conts_section\")"
   ]
  },
  {
   "cell_type": "code",
   "execution_count": null,
   "id": "e37548c2-13f2-4a3c-80aa-c1dbb01afda2",
   "metadata": {},
   "outputs": [],
   "source": [
    "songs = soup.select(\"tr\")"
   ]
  },
  {
   "cell_type": "code",
   "execution_count": null,
   "id": "df367734-0b79-412d-8563-5e541f93e986",
   "metadata": {},
   "outputs": [],
   "source": [
    "songs"
   ]
  },
  {
   "cell_type": "code",
   "execution_count": null,
   "id": "ab008250-61f3-4d7f-9884-1367763e3cd1",
   "metadata": {},
   "outputs": [],
   "source": [
    "songs[0]"
   ]
  },
  {
   "cell_type": "code",
   "execution_count": null,
   "id": "950243a1-a9b5-46d4-b4e1-d52bad4df8ec",
   "metadata": {},
   "outputs": [],
   "source": [
    "songs[1]"
   ]
  },
  {
   "cell_type": "code",
   "execution_count": null,
   "id": "8bbb2ec9-66a8-47f2-b99d-bd5c98eebab4",
   "metadata": {},
   "outputs": [],
   "source": [
    "songs[100]"
   ]
  },
  {
   "cell_type": "code",
   "execution_count": null,
   "id": "91e4d545-268a-48b4-aba9-fb1ac47fa30d",
   "metadata": {},
   "outputs": [],
   "source": [
    "songs= songs[1:]"
   ]
  },
  {
   "cell_type": "code",
   "execution_count": null,
   "id": "fa875261-9734-4a62-9bae-353720ac7cac",
   "metadata": {},
   "outputs": [],
   "source": [
    "songs"
   ]
  },
  {
   "cell_type": "code",
   "execution_count": null,
   "id": "77f6c309-6bc2-4646-a320-143335466045",
   "metadata": {},
   "outputs": [],
   "source": [
    "songs[0]"
   ]
  },
  {
   "cell_type": "code",
   "execution_count": null,
   "id": "446b2938-98ff-4ea0-940b-7caf0c46ec13",
   "metadata": {},
   "outputs": [],
   "source": [
    "song=songs[0]"
   ]
  },
  {
   "cell_type": "code",
   "execution_count": null,
   "id": "01a592bc-2371-4484-b616-2583b1ccc2bc",
   "metadata": {},
   "outputs": [],
   "source": [
    "song"
   ]
  },
  {
   "cell_type": "code",
   "execution_count": null,
   "id": "44bf68d1-956a-4177-b3cf-655be4d349da",
   "metadata": {},
   "outputs": [],
   "source": [
    "song.select('td > div.wrap.t_right')"
   ]
  },
  {
   "cell_type": "code",
   "execution_count": null,
   "id": "591619b4-8415-4f8a-8f23-cf145e34c3fd",
   "metadata": {},
   "outputs": [],
   "source": [
    "song.select(\"div.ellipsis.rank01\")"
   ]
  },
  {
   "cell_type": "code",
   "execution_count": null,
   "id": "2664b6f8-0fcf-47e7-b283-9510a51dbd03",
   "metadata": {},
   "outputs": [],
   "source": [
    "song.select(\"div.ellipsis.rank01 > span > a\")[0].string"
   ]
  },
  {
   "cell_type": "code",
   "execution_count": null,
   "id": "d4e365bc-7589-4f01-9387-751e489042bd",
   "metadata": {},
   "outputs": [],
   "source": [
    "song_data=[]\n",
    "rank=1\n",
    "for song in songs:\n",
    "    title=song.select(\"div.ellipsis.rank01 > span > a\")[0].text\n",
    "    singer=song.select(\"div.ellipsis.rank02 > span > a\")[0].text\n",
    "    song_data.append(['Melon',rank, title, singer]) #  [[  , ,  ], [  ], ... ,[  ]]\n",
    "    print(rank, title, singer, sep=\" | \")\n",
    "    rank+=1"
   ]
  },
  {
   "cell_type": "code",
   "execution_count": null,
   "id": "d077bd4d-53bb-42e8-974b-10e244711d59",
   "metadata": {},
   "outputs": [],
   "source": []
  },
  {
   "cell_type": "code",
   "execution_count": null,
   "id": "2e31ffd2-9c66-462f-b627-86c517aebe2f",
   "metadata": {},
   "outputs": [],
   "source": [
    "df=pd.DataFrame(song_data, columns=['서비스', '순위', '제목', '가수명'])\n",
    "df.to_excel(\"melon.xlsx\", index=False)"
   ]
  },
  {
   "cell_type": "code",
   "execution_count": null,
   "id": "bcfd066f-98b9-4f52-a412-ddd727417f14",
   "metadata": {},
   "outputs": [],
   "source": [
    "import time\n",
    "print(\"안녕\")\n",
    "print(\"1초 후에 실행됩니다\")\n",
    "time.sleep(1)\n",
    "print(\"하세요\")"
   ]
  },
  {
   "cell_type": "code",
   "execution_count": null,
   "id": "649fc02c-f21b-423d-9d19-9493a794dcd0",
   "metadata": {},
   "outputs": [],
   "source": [
    "#youtube-rank.com"
   ]
  },
  {
   "cell_type": "code",
   "execution_count": null,
   "id": "9dec7f8f-3b47-465f-9b7e-b81746f1f4ff",
   "metadata": {},
   "outputs": [],
   "source": [
    "for i in range(1,50):\n",
    "    print(\"https://youtube-rank.com/board/bbs/board.php?bo_table=youtube&page=\"+str(i))"
   ]
  },
  {
   "cell_type": "code",
   "execution_count": null,
   "id": "ff4cd663-29a1-4e4c-8fc9-215453c9f182",
   "metadata": {},
   "outputs": [],
   "source": [
    "#유튜부 량캉 순위"
   ]
  },
  {
   "cell_type": "code",
   "execution_count": null,
   "id": "c0664b13-a300-4428-bda0-0b3c59d4589a",
   "metadata": {},
   "outputs": [],
   "source": [
    "url = \"https://youtube-rank.com/board/bbs/board.php?bo_table=youtube\"\n",
    "driver.get(url)"
   ]
  },
  {
   "cell_type": "code",
   "execution_count": null,
   "id": "ee28d7b1-b710-426b-b3d0-9ce0e9264f14",
   "metadata": {},
   "outputs": [],
   "source": [
    "html=driver.page_source"
   ]
  },
  {
   "cell_type": "code",
   "execution_count": null,
   "id": "49ef974f-fdb9-4b2c-9e4d-014108927f5b",
   "metadata": {},
   "outputs": [],
   "source": [
    "html"
   ]
  },
  {
   "cell_type": "code",
   "execution_count": null,
   "id": "299669f8-3a75-4e3b-910d-e680b6147854",
   "metadata": {},
   "outputs": [],
   "source": [
    "soup=BeautifulSoup(html, 'html.parser')"
   ]
  },
  {
   "cell_type": "code",
   "execution_count": null,
   "id": "85ba6ac3-f0aa-4671-a912-97dc4ac3fe02",
   "metadata": {},
   "outputs": [],
   "source": [
    "soup"
   ]
  },
  {
   "cell_type": "code",
   "execution_count": null,
   "id": "161f6b96-8e94-404f-ab59-7c8ca240e8f9",
   "metadata": {},
   "outputs": [],
   "source": [
    "channel_list=soup.select(\"tr\")"
   ]
  },
  {
   "cell_type": "code",
   "execution_count": null,
   "id": "5cbb1218-4773-4102-93dc-6dcc74d1e523",
   "metadata": {},
   "outputs": [],
   "source": [
    "channel_list"
   ]
  },
  {
   "cell_type": "code",
   "execution_count": null,
   "id": "66c37872-f70d-4c47-9271-68d79528b89d",
   "metadata": {},
   "outputs": [],
   "source": [
    "channel_list[0]\n",
    "channel_list[1]\n",
    "channel_list[101]\n",
    "channel_list[100]"
   ]
  },
  {
   "cell_type": "code",
   "execution_count": null,
   "id": "20159881-8573-4b46-aed8-f3b1c7c8119d",
   "metadata": {},
   "outputs": [],
   "source": [
    "channel=channel_list[1:-1]"
   ]
  },
  {
   "cell_type": "code",
   "execution_count": null,
   "id": "1998540c-f518-481e-90de-f06bc15e7293",
   "metadata": {},
   "outputs": [],
   "source": [
    "channel[0]"
   ]
  },
  {
   "cell_type": "code",
   "execution_count": null,
   "id": "b100c936-be39-4a0a-a26b-04ccb321d46a",
   "metadata": {},
   "outputs": [],
   "source": [
    "channel[0].select('p.category')[0].string.strip()"
   ]
  },
  {
   "cell_type": "code",
   "execution_count": null,
   "id": "645e285e-8ca0-47d3-9cb7-71cf12cd87da",
   "metadata": {},
   "outputs": [],
   "source": [
    "channel[0].select('a')[1].string.strip()"
   ]
  },
  {
   "cell_type": "code",
   "execution_count": null,
   "id": "53735d71-56d7-432c-9593-5dc7d65aa7a9",
   "metadata": {},
   "outputs": [],
   "source": [
    "channel[0].select(\"p\")"
   ]
  },
  {
   "cell_type": "code",
   "execution_count": null,
   "id": "8d07a391-5eb2-4faa-8d96-61e26ffb1e1a",
   "metadata": {},
   "outputs": [],
   "source": [
    "channel[0].select(\"p\")[1]"
   ]
  },
  {
   "cell_type": "code",
   "execution_count": null,
   "id": "cd55d586-e5fb-49fa-b1f1-cf87149d6d12",
   "metadata": {},
   "outputs": [],
   "source": [
    "channel[0].select('.category')[0]"
   ]
  },
  {
   "cell_type": "code",
   "execution_count": null,
   "id": "a290419c-e43b-4ac0-94ba-0f554aea493a",
   "metadata": {
    "scrolled": true
   },
   "outputs": [],
   "source": [
    "channel[0].select(\".subscriber_cnt\")[0].string"
   ]
  },
  {
   "cell_type": "code",
   "execution_count": null,
   "id": "1987540a-4238-4b29-9a43-406003cc4e5e",
   "metadata": {},
   "outputs": [],
   "source": [
    "channel[0].select(\".view_cnt\")[0].string"
   ]
  },
  {
   "cell_type": "code",
   "execution_count": null,
   "id": "56e3a50e-d9ec-4dbd-b957-019bee8dc2e6",
   "metadata": {},
   "outputs": [],
   "source": [
    "channel[0].select(\".video_cnt\")[0].string"
   ]
  },
  {
   "cell_type": "code",
   "execution_count": null,
   "id": "a42b1093-3093-43ba-b0b2-3dcf09bce279",
   "metadata": {},
   "outputs": [],
   "source": [
    "channel[0].select(\".hit\")[0].text.strip().split(\"\\n\")[0]"
   ]
  },
  {
   "cell_type": "code",
   "execution_count": null,
   "id": "72c4c22c-4dcf-4167-af49-7ede70ecec5b",
   "metadata": {},
   "outputs": [],
   "source": []
  }
 ],
 "metadata": {
  "kernelspec": {
   "display_name": "Python 3 (ipykernel)",
   "language": "python",
   "name": "python3"
  },
  "language_info": {
   "codemirror_mode": {
    "name": "ipython",
    "version": 3
   },
   "file_extension": ".py",
   "mimetype": "text/x-python",
   "name": "python",
   "nbconvert_exporter": "python",
   "pygments_lexer": "ipython3",
   "version": "3.11.7"
  }
 },
 "nbformat": 4,
 "nbformat_minor": 5
}
